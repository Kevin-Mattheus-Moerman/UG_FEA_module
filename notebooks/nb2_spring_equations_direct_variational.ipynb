{
 "cells": [
  {
   "cell_type": "markdown",
   "metadata": {
    "slideshow": {
     "slide_type": "slide"
    }
   },
   "source": [
    "[**Dr. Kevin M. Moerman**](mailto:kevin.moerman@nuigalway.ie), _Lecturer in Biomedical Engineering_   \n",
    "\n",
    "National University of Ireland Galway.   \n",
    "\n",
    "---"
   ]
  },
  {
   "cell_type": "markdown",
   "metadata": {
    "slideshow": {
     "slide_type": "skip"
    }
   },
   "source": [
    "\\newpage"
   ]
  },
  {
   "cell_type": "markdown",
   "metadata": {
    "slideshow": {
     "slide_type": "slide"
    }
   },
   "source": [
    "# Learning objectives\n",
    "At the end of this lecture you should be able to:   \n",
    "\n",
    "* Formulate Hooke's law in **matrix form**\n",
    "* Derive spring equations using the **direct method**\n",
    "* Derive spring equations using a **variational method**"
   ]
  },
  {
   "cell_type": "code",
   "execution_count": 13,
   "metadata": {
    "slideshow": {
     "slide_type": "skip"
    }
   },
   "outputs": [],
   "source": [
    "# Loading required packages (may take some time)\n",
    "# Re-execute with Ctrl-Enter to suppress command window output (may interfere with PDF export)\n",
    "using Pkg;\n",
    "Pkg.add(\"Plots\");\n",
    "using Plots;"
   ]
  },
  {
   "cell_type": "markdown",
   "metadata": {
    "slideshow": {
     "slide_type": "slide"
    }
   },
   "source": [
    "# Hooke's law\n",
    "$$F=ku$$   \n",
    "  \n",
    "$F$: Force   \n",
    "$k$: Spring stiffness constant   \n",
    "$u$: Spring extension (displacement of end point)   \n",
    "\n",
    "![](HOOKE_LAW.png)"
   ]
  },
  {
   "cell_type": "markdown",
   "metadata": {
    "slideshow": {
     "slide_type": "slide"
    }
   },
   "source": [
    "## Hooke's law in matrix form\n",
    "A two node spring system:   \n",
    "![spring](spring_2Node.png)  \n",
    "The force components at node 1 and 2 can be written:\n",
    "$$f_{1x}=k(u_1-u_2)$$\n",
    "$$f_{2x}=k(u_2-u_1)=-k(u_1-u_2)$$"
   ]
  },
  {
   "cell_type": "markdown",
   "metadata": {
    "slideshow": {
     "slide_type": "slide"
    }
   },
   "source": [
    "It is conventient to use matrix notation allowing one to write the above as:\n",
    "$$\\begin{Bmatrix} f_{1x} \\\\ f_{2x} \\end{Bmatrix}=\\begin{bmatrix} k & -k \\\\ -k & k\\end{bmatrix}\\begin{Bmatrix} u_1 \\\\ u_2\\end{Bmatrix}$$\n",
    "Which in short form is written:\n",
    "$$\\begin{Bmatrix} F\\end{Bmatrix}=\\begin{bmatrix} K \\end{bmatrix}\\begin{Bmatrix} u\\end{Bmatrix}$$\n",
    "This introduces the notation $\\begin{Bmatrix} \\end{Bmatrix}$ and $\\begin{bmatrix} \\end{bmatrix}$, which represent a column array and a square array respectively."
   ]
  },
  {
   "cell_type": "markdown",
   "metadata": {},
   "source": [
    "## Methods for derivation of the finite element equations\n",
    "\n",
    "* The key finite element equation:\n",
    "$$\\begin{Bmatrix} F\\end{Bmatrix}=\\begin{bmatrix} K \\end{bmatrix}\\begin{Bmatrix} u\\end{Bmatrix}$$\n",
    "* There are three main types of methods to do so:   \n",
    "    * The **direct** (equilibrium) method   \n",
    "        * Simple, intuitive\n",
    "        * 1D problems\n",
    "    * **Variational** methods\n",
    "        * More general\n",
    "        * Requires existance of a functional to minimize\n",
    "    * **Weighted residual** methods (e.g. Galerkin)\n",
    "        * Most general \n",
    "        * No functional for minization required\n",
    "* The direct and variational method are presented in this course"
   ]
  },
  {
   "cell_type": "markdown",
   "metadata": {
    "slideshow": {
     "slide_type": "slide"
    }
   },
   "source": [
    "## Matrix multiplication in finite element analysis (FEA)\n",
    "* Multiplication of two rectangular matrices (summation implied over repeated indices):\n",
    "$$c_{ij}=a_{ik}b_{kj}$$\n",
    "* In FEA \n",
    "$$\\begin{Bmatrix} F\\end{Bmatrix}=\\begin{bmatrix} K \\end{bmatrix}\\begin{Bmatrix} u\\end{Bmatrix}$$\n",
    "* Involves multiplication of a $n\\times p$ matrix and a $n\\times1$ array:\n",
    "$$f_{i}=k_{ip}u_{p}$$\n",
    "* Quasi-mnemonic to get $f_{i}$ \"keep up\" $\\rightarrow k_{ip}u_{p}$"
   ]
  },
  {
   "cell_type": "markdown",
   "metadata": {
    "slideshow": {
     "slide_type": "slide"
    }
   },
   "source": [
    "# Introduction to direct methods\n",
    "* Direct methods use equilibrium conditions to directly assemble stiffness matrices and get to the form: $\\begin{Bmatrix} F\\end{Bmatrix}=\\begin{bmatrix} K \\end{bmatrix}\\begin{Bmatrix} u\\end{Bmatrix}$. \n",
    "* Althought intuitive, this method is limited to 1D problems (springs, bars, trusses)\n"
   ]
  },
  {
   "cell_type": "markdown",
   "metadata": {
    "slideshow": {
     "slide_type": "slide"
    }
   },
   "source": [
    "## Example: A single spring system and a known force\n",
    "Consider a single spring with a spring constant $k_1=100$ and a force of 12 N at one end. Compute the displacement of node 2. \n",
    "\n",
    "![spring force image](spring1_force_2.png)   \n",
    "\n",
    "Once could directly use Hooke's law for a linear elastic spring in this case and simply state $F=ku$, leading to $12=100u$, and therefore $u=0.12$. However, below we shall use the finite element method for solving this problem (which is \"overkill\" in this case), just to familiarize ourselves with the process and notation.  \n"
   ]
  },
  {
   "cell_type": "markdown",
   "metadata": {
    "slideshow": {
     "slide_type": "fragment"
    }
   },
   "source": [
    "1. **Formulate the element stiffness matrix**. Using Hooke's law and force balance principles we can write $f_{1x}=k(u_1-u_2)$ and $f_{2x}=-k(u_1-u_2)$ and cast this in matrix form as:  \n",
    "\n",
    "$$\\begin{bmatrix} K^{(1)} \\end{bmatrix} = k_1 \\begin{bmatrix} 1 & -1 \\\\ -1 & 1 \\end{bmatrix}$$\n"
   ]
  },
  {
   "cell_type": "markdown",
   "metadata": {
    "slideshow": {
     "slide_type": "fragment"
    }
   },
   "source": [
    "2. **Formulate the element level equations**\n",
    "$$\\begin{Bmatrix} F^{(1)} \\end{Bmatrix}=\\begin{bmatrix} K^{(1)}\\end{bmatrix}\\begin{Bmatrix} u^{(1)} \\end{Bmatrix}$$\n",
    "\n",
    "$$\\begin{Bmatrix} f_{1x} \\\\ f_{2x} \\end{Bmatrix}=\\begin{bmatrix} k_1 & -k_1 \\\\ -k_1 & k_1\\end{bmatrix}\\begin{Bmatrix} u_{1x} \\\\ u_{2x}\\end{Bmatrix}$$\n"
   ]
  },
  {
   "cell_type": "markdown",
   "metadata": {
    "slideshow": {
     "slide_type": "fragment"
    }
   },
   "source": [
    "3. **Formulate the global stiffness matrix**. The global equations gather and represent contributions from all elements in the system. In this case, since there is only 1 element, the global stiffness matrix is the same as the element stiffness matrix, and superposition directly maps $\\begin{bmatrix} K^{1} \\end{bmatrix}$ to $\\begin{bmatrix} K \\end{bmatrix}$ :\n",
    "\n",
    "$$\\begin{Bmatrix} F \\end{Bmatrix}=\\begin{bmatrix} K \\end{bmatrix} \\begin{Bmatrix} u \\end{Bmatrix}$$\n",
    "\n",
    "$$\\begin{Bmatrix} F_{1x} \\\\ F_{2x} \\end{Bmatrix}=\\begin{bmatrix} k_1 & -k_1 \\\\ -k_1 & k_1\\end{bmatrix}\\begin{Bmatrix} u_{1x} \\\\ u_{2x}\\end{Bmatrix}$$\n"
   ]
  },
  {
   "cell_type": "markdown",
   "metadata": {
    "slideshow": {
     "slide_type": "fragment"
    }
   },
   "source": [
    "4. **Apply boundary conditions information**, i.e. $F_{2x}=12$ and $u_{1x}=0$\n",
    "\n",
    "$$\\begin{Bmatrix} F_{1x} \\\\ 12 \\end{Bmatrix}=\\begin{bmatrix} 100 & -100 \\\\ -100 & 100\\end{bmatrix}\\begin{Bmatrix} 0 \\\\ u_{2x}\\end{Bmatrix}$$\n"
   ]
  },
  {
   "cell_type": "markdown",
   "metadata": {
    "slideshow": {
     "slide_type": "fragment"
    }
   },
   "source": [
    "5. **Solve the system of equations**. Many methods exist for solving for the unknown quantities. Here a manual process is used. \n",
    "\n",
    "* 5a) First we isolate the equation for the known force $F_{2x}$ to solve for $u_2$ (recalling $f_i=K_{ip}u_{p}$): \n",
    "\n",
    "$$F_{2x} = 12 =K_{21}u_1+K_{22}u_2=-100*0+100u_2=100u_2 \\rightarrow u_2=\\frac{12}{100}=0.12$$\n"
   ]
  },
  {
   "cell_type": "markdown",
   "metadata": {
    "slideshow": {
     "slide_type": "fragment"
    }
   },
   "source": [
    "* 5b) Now we formally solve for the remaining unknown quantity $F_{1x}$ (although balance principles already dictate it should equal $-F_{2x}$), using: \n",
    "$$\\begin{Bmatrix} F_{1x} \\\\ 12 \\end{Bmatrix}=\\begin{bmatrix} 100 & -100 \\\\ -100 & 100\\end{bmatrix}\\begin{Bmatrix} 0 \\\\ \\frac{12}{100}\\end{Bmatrix}$$\n",
    "we obtain\n",
    "$$F_{1x} = K_{11}u_1+K_{12}u_2=100*0-100u_2=-100u_2=-100*0.12=-12$$"
   ]
  },
  {
   "cell_type": "markdown",
   "metadata": {
    "slideshow": {
     "slide_type": "slide"
    }
   },
   "source": [
    "## Example: A three spring system and a known force\n",
    "Consider the three spring system below*:   \n",
    "![3 spring example](springSet_3.png)   \n",
    "The system consists of 3 spring \"elements\" and 4 nodes. Node 1 and 4 are constrained from moving. A force of 25 kN is applied to node 3 in the positive x-direction. The spring stiffnesses are:    \n",
    "\n",
    "$k_1=200$, $k_2=400$, and $k_3=600$\n",
    "        \n",
    "\\*Based on example 2.1 of: Daryl Logan, _\"A First Course in the Finite Element Methods\"_ (page 44 in the 6th edition, page 46 in the 5th edition)"
   ]
  },
  {
   "cell_type": "markdown",
   "metadata": {
    "slideshow": {
     "slide_type": "slide"
    }
   },
   "source": [
    "# Setting up the element stiffness matrices\n",
    "Each element matrix is formed using:\n",
    "$$K^{(i)}=\\begin{bmatrix} k_i & -k_i \\\\ -k_i & k_i\\end{bmatrix} $$\n",
    "\n",
    "Leading to:   \n",
    "$K^{(1)}=\\begin{bmatrix} 200 & -200 \\\\ -200 & 200\\end{bmatrix}$, $K^{(2)}=\\begin{bmatrix} 400 & -400 \\\\ -400 & 400\\end{bmatrix}$, and $K^{(3)}=\\begin{bmatrix} 600 & -600 \\\\ -600 & 600\\end{bmatrix}$ "
   ]
  },
  {
   "cell_type": "code",
   "execution_count": 14,
   "metadata": {
    "slideshow": {
     "slide_type": "fragment"
    }
   },
   "outputs": [
    {
     "data": {
      "text/plain": [
       "2×2 Matrix{Int64}:\n",
       "  200  -200\n",
       " -200   200"
      ]
     },
     "metadata": {},
     "output_type": "display_data"
    },
    {
     "data": {
      "text/plain": [
       "2×2 Matrix{Int64}:\n",
       "  400  -400\n",
       " -400   400"
      ]
     },
     "metadata": {},
     "output_type": "display_data"
    },
    {
     "data": {
      "text/plain": [
       "2×2 Matrix{Int64}:\n",
       "  600  -600\n",
       " -600   600"
      ]
     },
     "metadata": {},
     "output_type": "display_data"
    }
   ],
   "source": [
    "kSet=[200 400 600]; # The spring stiffness value set\n",
    "I=[1 -1; -1 1]; # Array for spawning stiffness matrices\n",
    "k1=kSet[1]*I; # Element stiffness matrix 1\n",
    "k2=kSet[2]*I; # Element stiffness matrix 2\n",
    "k3=kSet[3]*I; # Element stiffness matrix 3\n",
    "display(k1)\n",
    "display(k2)\n",
    "display(k3)"
   ]
  },
  {
   "cell_type": "markdown",
   "metadata": {
    "slideshow": {
     "slide_type": "slide"
    }
   },
   "source": [
    "### Superposition to assemble global stiffness matrix\n",
    "Through superposition the global stiffness matrix can be assembled. The superposition is often written as:\n",
    "$$K=\\sum_{i=1}^{3} K^{(i)}$$\n",
    "However, it should be noted this is not a summation. The below numerical implementation illustrates how **the indices of the nodes involved are used as indices into matrix $K$**, leading to:\n",
    "$$\\begin{bmatrix} K \\end{bmatrix}=\\begin{bmatrix} 200 & -200 & 0 & 0 \\\\ -200 & 600 & -400 & 0  \\\\ 0 & -400 & 1000 & -600 \\\\ 0 & 0 & -600 & 600 \\end{bmatrix}$$"
   ]
  },
  {
   "cell_type": "code",
   "execution_count": 15,
   "metadata": {
    "slideshow": {
     "slide_type": "fragment"
    }
   },
   "outputs": [
    {
     "ename": "LoadError",
     "evalue": "syntax: extra token \"]\" after end of expression",
     "output_type": "error",
     "traceback": [
      "syntax: extra token \"]\" after end of expression",
      "",
      "Stacktrace:",
      " [1] top-level scope",
      "   @ In[15]:5",
      " [2] eval",
      "   @ ./boot.jl:360 [inlined]",
      " [3] include_string(mapexpr::typeof(REPL.softscope), mod::Module, code::String, filename::String)",
      "   @ Base ./loading.jl:1094"
     ]
    }
   ],
   "source": [
    "K=zeros(4,4); #Initialize stiffness aray with all zeros\n",
    "K[[1,2],[1,2]] .= K[[1,2],[1,2]] .+ k1; #Add element 1 contribution\n",
    "K[[2,3],[2,3]] .= K[[2,3],[2,3]] .+ k2; #Add element 2 contribution\n",
    "K[[3,4],[3,4]] .= K[[3,4],[3,4]] .+ k3; #Add element 3 contribution\n",
    "display(K)]"
   ]
  },
  {
   "cell_type": "markdown",
   "metadata": {
    "slideshow": {
     "slide_type": "slide"
    }
   },
   "source": [
    "### Solving the system\n",
    "Following derivation of the global stiffness matrix the total system now becomes:\n",
    "$$\\begin{Bmatrix} F_1 \\\\ F_2 \\\\ F_3 \\\\ F_4 \\end{Bmatrix}=\\begin{bmatrix} 200 & -200 & 0 & 0 \\\\ -200 & 600 & -400 & 0  \\\\ 0 & -400 & 1000 & -600 \\\\ 0 & 0 & -600 & 600 \\end{bmatrix}\\begin{Bmatrix} u_1 \\\\ u_2 \\\\ u_3 \\\\ u_4\\end{Bmatrix}$$\n",
    "To solve this system we can use the boundary conditions. Using $u_1=u_4=0$ the \"sub-system\" for nodes 2 and 3 can be isolated. Furthermore the known forces at nodes 2 and 3 can be substituted, -> $F_2=0$, and $F_3=25000$:\n",
    "\n",
    "$$\\begin{Bmatrix} 0 \\\\ 25000 \\end{Bmatrix}=\\begin{bmatrix} 600 & -400 \\\\ -400 & 1000 \\end{bmatrix}\\begin{Bmatrix} u_2 \\\\ u_3 \\end{Bmatrix}\\rightarrow \\begin{Bmatrix} u_2 \\\\ u_3 \\end{Bmatrix}=\\begin{Bmatrix} \\frac{250}{11} \\\\ \\frac{375}{11} \\end{Bmatrix}$$"
   ]
  },
  {
   "cell_type": "code",
   "execution_count": 16,
   "metadata": {
    "slideshow": {
     "slide_type": "fragment"
    }
   },
   "outputs": [
    {
     "data": {
      "text/plain": [
       "2×2 Matrix{Float64}:\n",
       "  600.0  -400.0\n",
       " -400.0  1000.0"
      ]
     },
     "metadata": {},
     "output_type": "display_data"
    },
    {
     "data": {
      "text/plain": [
       "2-element Vector{Float64}:\n",
       " 22.72727272727273\n",
       " 34.09090909090909"
      ]
     },
     "metadata": {},
     "output_type": "display_data"
    }
   ],
   "source": [
    "F23=[0; 25000]; #Force array for node 2 and 3\n",
    "k23=K[[2,3],[2,3]]; #Sub-stiffness matrix for 2-3 system\n",
    "u23=k23\\F23 #Displacement array for node 2 and 3\n",
    "display(k23)\n",
    "display(u23)"
   ]
  },
  {
   "cell_type": "markdown",
   "metadata": {
    "slideshow": {
     "slide_type": "slide"
    }
   },
   "source": [
    "### Compute force array F\n",
    "Since all nodal diplacements are now known the full force array can now be computed from:\n",
    "$$\\begin{Bmatrix} F_1 \\\\ F_2 \\\\ F_3 \\\\ F_4 \\end{Bmatrix}=\\begin{bmatrix} 200 & -200 & 0 & 0 \\\\ -200 & 600 & -400 & 0  \\\\ 0 & -400 & 1000 & -600 \\\\ 0 & 0 & -600 & 600 \\end{bmatrix}\\begin{Bmatrix} 0 \\\\ \\frac{250}{11} \\\\ \\frac{375}{11} \\\\ 0\\end{Bmatrix}=\\begin{Bmatrix} -\\frac{50000}{11} \\\\ 0 \\\\ 25000 \\\\ -\\frac{225}{11} \\end{Bmatrix}$$"
   ]
  },
  {
   "cell_type": "code",
   "execution_count": 17,
   "metadata": {
    "slideshow": {
     "slide_type": "fragment"
    }
   },
   "outputs": [
    {
     "data": {
      "text/plain": [
       "4-element Vector{Float64}:\n",
       "  -4545.454545454546\n",
       "      0.0\n",
       "  25000.000000000004\n",
       " -20454.545454545456"
      ]
     },
     "execution_count": 17,
     "metadata": {},
     "output_type": "execute_result"
    }
   ],
   "source": [
    "U=[0; u23[1]; u23[2]; 0] #Full displacement array\n",
    "F=K*U #Compute force array"
   ]
  },
  {
   "cell_type": "markdown",
   "metadata": {
    "slideshow": {
     "slide_type": "slide"
    }
   },
   "source": [
    "### Computing element forces\n",
    "The element force data can now be computed too from:\n",
    "$$\\begin{Bmatrix} F^{(i)} \\end{Bmatrix}=\\begin{bmatrix} k^{(i)}\\end{bmatrix}\\begin{Bmatrix} u^{(i)} \\end{Bmatrix}$$\n",
    "E.g.:\n",
    "$$\\begin{Bmatrix} f_{1x} \\\\ f_{2x} \\end{Bmatrix}=\\begin{bmatrix} k_1 & -k_1 \\\\ -k_1 & k_1\\end{bmatrix}\\begin{Bmatrix} u_1 \\\\ u_2\\end{Bmatrix}$$"
   ]
  },
  {
   "cell_type": "code",
   "execution_count": 18,
   "metadata": {
    "slideshow": {
     "slide_type": "fragment"
    }
   },
   "outputs": [
    {
     "data": {
      "text/plain": [
       "2-element Vector{Float64}:\n",
       " -4545.454545454546\n",
       "  4545.454545454546"
      ]
     },
     "metadata": {},
     "output_type": "display_data"
    },
    {
     "data": {
      "text/plain": [
       "2-element Vector{Float64}:\n",
       " -4545.454545454546\n",
       "  4545.454545454546"
      ]
     },
     "metadata": {},
     "output_type": "display_data"
    },
    {
     "data": {
      "text/plain": [
       "2-element Vector{Float64}:\n",
       "  20454.545454545456\n",
       " -20454.545454545456"
      ]
     },
     "metadata": {},
     "output_type": "display_data"
    }
   ],
   "source": [
    "f1=k1*U[[1,2]]; #Element 1 forces\n",
    "f2=k2*U[[2,3]]; #Element 2 forces\n",
    "f3=k3*U[[3,4]]; #Element 3 forces\n",
    "display(f1)\n",
    "display(f2)\n",
    "display(f3)"
   ]
  },
  {
   "cell_type": "markdown",
   "metadata": {
    "slideshow": {
     "slide_type": "slide"
    }
   },
   "source": [
    "## Example: A 3 spring system and a known displacement\n",
    "Consider the three spring system below*:   \n",
    "![sprin set image](springSet_3_disp.png)   \n",
    "The system consists of 3 spring \"elements\" and 4 nodes. Node 1 is constrained from moving. A displacement of 0.2 m is applied to node 4 in the positive x-direction. The spring stiffnesses are:    \n",
    "\n",
    "$k_1=k_2=k_3=200$\n",
    "        \n",
    "\\*Based on example 2.2 of: Daryl Logan, _\"A First Course in the Finite Element Methods\"_ (page 48 in the 6th edition, page 49 in the 5th edition)"
   ]
  },
  {
   "cell_type": "markdown",
   "metadata": {
    "slideshow": {
     "slide_type": "slide"
    }
   },
   "source": [
    "### Superposition to form the global stiffness matrix\n",
    "$$K=\\sum_{i=1}^{3} K^{(i)}$$\n",
    "All element stiffness matrices now are of the form: \n",
    "$$K^{(i)}=\\begin{bmatrix} 200 & -200 \\\\ -200 & 200\\end{bmatrix}$$ "
   ]
  },
  {
   "cell_type": "code",
   "execution_count": 19,
   "metadata": {
    "slideshow": {
     "slide_type": "fragment"
    }
   },
   "outputs": [
    {
     "data": {
      "text/plain": [
       "2×2 Matrix{Int64}:\n",
       "  200  -200\n",
       " -200   200"
      ]
     },
     "metadata": {},
     "output_type": "display_data"
    },
    {
     "data": {
      "text/plain": [
       "2×2 Matrix{Int64}:\n",
       "  200  -200\n",
       " -200   200"
      ]
     },
     "metadata": {},
     "output_type": "display_data"
    },
    {
     "data": {
      "text/plain": [
       "2×2 Matrix{Int64}:\n",
       "  200  -200\n",
       " -200   200"
      ]
     },
     "metadata": {},
     "output_type": "display_data"
    }
   ],
   "source": [
    "kSet=[200 200 200]; # The spring stiffness value set\n",
    "I=[1 -1;-1 1]; # Array for spawning stiffness matrices\n",
    "k1=kSet[1]*I; # Element stiffness matrix 1\n",
    "k2=kSet[2]*I; # Element stiffness matrix 2\n",
    "k3=kSet[3]*I; # Element stiffness matrix 3\n",
    "display(k1)\n",
    "display(k2)\n",
    "display(k3)"
   ]
  },
  {
   "cell_type": "markdown",
   "metadata": {
    "slideshow": {
     "slide_type": "slide"
    }
   },
   "source": [
    "leading to:\n",
    "$$\\begin{bmatrix} K \\end{bmatrix}=\\begin{bmatrix} 200 & -200 & 0 & 0 \\\\ -200 & 400 & -200 & 0  \\\\ 0 & -200 & 400 & -200 \\\\ 0 & 0 & -200 & 200 \\end{bmatrix}$$"
   ]
  },
  {
   "cell_type": "code",
   "execution_count": 20,
   "metadata": {
    "slideshow": {
     "slide_type": "fragment"
    }
   },
   "outputs": [
    {
     "data": {
      "text/plain": [
       "4×4 Matrix{Float64}:\n",
       "  200.0  -200.0     0.0     0.0\n",
       " -200.0   400.0  -200.0     0.0\n",
       "    0.0  -200.0   400.0  -200.0\n",
       "    0.0     0.0  -200.0   200.0"
      ]
     },
     "metadata": {},
     "output_type": "display_data"
    }
   ],
   "source": [
    "# K=[200 -200 0 0; -200 600 -400 0; 0 -400 1000 600; 0 0 -600 600]\n",
    "K=zeros(4,4); #Initialize stiffness aray with all zeros\n",
    "K[[1,2],[1,2]] .= K[[1,2],[1,2]] .+ k1; #Add element 1 contribution\n",
    "K[[2,3],[2,3]] .= K[[2,3],[2,3]] .+ k2; #Add element 2 contribution\n",
    "K[[3,4],[3,4]] .= K[[3,4],[3,4]] .+ k3; #Add element 3 contribution\n",
    "display(K)"
   ]
  },
  {
   "cell_type": "markdown",
   "metadata": {
    "slideshow": {
     "slide_type": "slide"
    }
   },
   "source": [
    "### Solving for unknown displacements\n",
    "* Considering the known global forces $F_{2x}=F_{3x}=0$, and using the known displacement $u_1=0$ and $u_4=0.2$, one can write:\n",
    "$$\\begin{Bmatrix} F_{1x} \\\\0 \\\\ 0 \\\\ F_{4x}\\end{Bmatrix}=\\begin{bmatrix} 200 & -200 & 0 & 0 \\\\ -200 & 400 & -200 & 0  \\\\ 0 & -200 & 400 & -200 \\\\ 0 & 0 & -200 & 200 \\end{bmatrix}\\begin{Bmatrix} 0 \\\\ u_2 \\\\ u_3 \\\\ 0.2\\end{Bmatrix}$$\n",
    "$$\\rightarrow\\begin{Bmatrix} 0 \\\\ 0 \\end{Bmatrix}=\\begin{bmatrix} -200 & 400 & -200 & 0 \\\\ 0 & -200  & 400  & -200\\end{bmatrix}\\begin{Bmatrix}0 \\\\ u_2 \\\\ u_3 \\\\ 0.2\\end{Bmatrix}$$\n",
    "* To consider only the 2-3 node system, the contribution one would \"ignore\" ($-200*0.2=-40$) should be added/accounted for:\n",
    "$$\\begin{Bmatrix} 0 \\\\ 40 \\end{Bmatrix}=\\begin{bmatrix} 400 & -200 \\\\ -200  & 400\\end{bmatrix}\\begin{Bmatrix} u_2 \\\\ u_3 \\end{Bmatrix}$$\n",
    "* To solve this system compute the inverse of the square matrix or use something like the eliminaton method:\n",
    " $$\\begin{cases} 400 u_2 - 200 u_3 = 0 & \\downarrow +\\times 2 \n",
    "             \\\\ -200 u_2 + 400 u_3 = 40 & \\end{cases}$$\n",
    "             \n",
    " $$\\rightarrow  \\begin{cases} 400 u_2 - 200 u_3 = 0 \n",
    "                          \\\\  600 u_2  = 40  \\end{cases} \\rightarrow u_2 =\\frac{40}{600}=\\frac{1}{15}\n",
    "                                                         \\rightarrow u_3 =\\frac{2}{15}$$"
   ]
  },
  {
   "cell_type": "markdown",
   "metadata": {
    "slideshow": {
     "slide_type": "slide"
    }
   },
   "source": [
    "#### Numerical implementation"
   ]
  },
  {
   "cell_type": "code",
   "execution_count": 21,
   "metadata": {
    "slideshow": {
     "slide_type": "fragment"
    }
   },
   "outputs": [
    {
     "data": {
      "text/plain": [
       "2×4 Matrix{Float64}:\n",
       " -200.0   400.0  -200.0     0.0\n",
       "    0.0  -200.0   400.0  -200.0"
      ]
     },
     "metadata": {},
     "output_type": "display_data"
    },
    {
     "data": {
      "text/plain": [
       "40.0"
      ]
     },
     "metadata": {},
     "output_type": "display_data"
    }
   ],
   "source": [
    "u4=0.2; \n",
    "K_sub=K[[2,3],:];\n",
    "f=-sum(u4*K_sub[:,4]);\n",
    "display(K_sub)\n",
    "display(f)"
   ]
  },
  {
   "cell_type": "code",
   "execution_count": 22,
   "metadata": {
    "slideshow": {
     "slide_type": "fragment"
    }
   },
   "outputs": [
    {
     "data": {
      "text/plain": [
       "2×1 Matrix{Float64}:\n",
       " 0.06666666666666667\n",
       " 0.13333333333333333"
      ]
     },
     "execution_count": 22,
     "metadata": {},
     "output_type": "execute_result"
    }
   ],
   "source": [
    "F23=[0 f]'; #lobal forces for nodes 2 and 3\n",
    "K23=K[[2,3],[2,3]]; #Stiffness matrix for 2-3 node system\n",
    "u23=K23\\F23 #Displacement array node 2-3 node system"
   ]
  },
  {
   "cell_type": "markdown",
   "metadata": {
    "slideshow": {
     "slide_type": "slide"
    }
   },
   "source": [
    "### Compute global force array using derived and known displacements\n",
    "\n",
    "$$\\begin{Bmatrix} F \\end{Bmatrix}=\\begin{bmatrix} 200 & -200 & 0 & 0 \\\\ -200 & 400 & -200 & 0  \\\\ 0 & -200 & 400 & -200 \\\\ 0 & 0 & -200 & 200 \\end{bmatrix}\\begin{Bmatrix} 0 \\\\ 0.0667 \\\\ 0.1333 \\\\ 0.2\\end{Bmatrix}=\\begin{Bmatrix} -13.3333 \\\\ 0 \\\\ 0 \\\\ 13.3333\\end{Bmatrix}$$\n"
   ]
  },
  {
   "cell_type": "markdown",
   "metadata": {
    "slideshow": {
     "slide_type": "fragment"
    }
   },
   "source": [
    "#### Numerical implementation"
   ]
  },
  {
   "cell_type": "code",
   "execution_count": 23,
   "metadata": {
    "slideshow": {
     "slide_type": "fragment"
    }
   },
   "outputs": [
    {
     "data": {
      "text/plain": [
       "4×1 Matrix{Float64}:\n",
       " -13.333333333333334\n",
       "   1.5543122344752192e-15\n",
       "  -2.220446049250313e-15\n",
       "  13.333333333333334"
      ]
     },
     "execution_count": 23,
     "metadata": {},
     "output_type": "execute_result"
    }
   ],
   "source": [
    "U=[0 u23[1] u23[2] 0.2]'; #Full displacement array\n",
    "F=K*U #Global force array"
   ]
  },
  {
   "cell_type": "markdown",
   "metadata": {
    "slideshow": {
     "slide_type": "slide"
    }
   },
   "source": [
    "# The variational method based on potential energy minimization\n",
    "* Variation methods uses minimisation of some functional, e.g. potential energy, to get to the form: $\\begin{Bmatrix} F\\end{Bmatrix}=\\begin{bmatrix} K \\end{bmatrix}\\begin{Bmatrix} u\\end{Bmatrix}$\n",
    "* Generally applies 1D, 2D, and 3D elements"
   ]
  },
  {
   "cell_type": "markdown",
   "metadata": {
    "slideshow": {
     "slide_type": "slide"
    }
   },
   "source": [
    "## Deriving a potential energy functional for minimization\n",
    "The potential energy of a system can be expressed as:\n",
    "$$\\Pi=\\Lambda-W$$\n",
    "$\\Pi$ : Potential energy of the system   \n",
    "$\\Lambda$ : The sum of internal strain energy   \n",
    "$W$ : Work done by external forces\n",
    "\n",
    "## Example: Potential energy minimisation in a single spring\\*\n",
    "Consider a single spring with a force at one end:   \n",
    "![spring force image](spring1_force.png)   \n",
    "The internal strain energy $\\Lambda$ is the area under the force-displacement graph (with $F=ku$):    \n",
    "$$\\Lambda=\\frac{1}{2}Fu=\\frac{1}{2}ku^2 \\\\ W=Fu$$\n",
    "Leading to:\n",
    "$$\\Pi=\\frac{1}{2}ku^2-Fu$$\n",
    "\n",
    "To obtain the minimum we solve: \n",
    "$$\\frac{\\partial\\Pi}{\\partial u}=ku-F=0$$\n",
    "\n",
    "\\*Based on example 2.4 of: Daryl Logan, _\"A First Course in the Finite Element Methods\"_ (page 60 in the 6th edition, page 60 in the 5th edition)"
   ]
  },
  {
   "cell_type": "markdown",
   "metadata": {},
   "source": [
    "Assuming a spring constant $k=12.5$, and applied force $F=500$, one would be able to derive the displacement from Hooke's law which would give: \n",
    "$$u=\\frac{F}{k}=40$$\n",
    "However, let's instead use the principle of potential energy minimization. First we specify $\\Pi$:\n",
    "$$\\Pi=\\frac{1}{2}ku^2-Fu$$\n",
    "Minimization provides:\n",
    "$$\\frac{\\partial\\Pi}{\\partial u}=ku-F=12.5u-5000=0 \\rightarrow u=40$$"
   ]
  },
  {
   "cell_type": "code",
   "execution_count": 24,
   "metadata": {
    "slideshow": {
     "slide_type": "fragment"
    }
   },
   "outputs": [
    {
     "data": {
      "image/svg+xml": [
       "<?xml version=\"1.0\" encoding=\"utf-8\"?>\n",
       "<svg xmlns=\"http://www.w3.org/2000/svg\" xmlns:xlink=\"http://www.w3.org/1999/xlink\" width=\"150\" height=\"100\" viewBox=\"0 0 600 400\">\n",
       "<defs>\n",
       "  <clipPath id=\"clip150\">\n",
       "    <rect x=\"0\" y=\"0\" width=\"600\" height=\"400\"/>\n",
       "  </clipPath>\n",
       "</defs>\n",
       "<path clip-path=\"url(#clip150)\" d=\"\n",
       "M0 400 L600 400 L600 0 L0 0  Z\n",
       "  \" fill=\"#ffffff\" fill-rule=\"evenodd\" fill-opacity=\"1\"/>\n",
       "<defs>\n",
       "  <clipPath id=\"clip151\">\n",
       "    <rect x=\"120\" y=\"0\" width=\"421\" height=\"400\"/>\n",
       "  </clipPath>\n",
       "</defs>\n",
       "<path clip-path=\"url(#clip150)\" d=\"\n",
       "M87.2986 355.795 L588.189 355.795 L588.189 11.811 L87.2986 11.811  Z\n",
       "  \" fill=\"#ffffff\" fill-rule=\"evenodd\" fill-opacity=\"1\"/>\n",
       "<defs>\n",
       "  <clipPath id=\"clip152\">\n",
       "    <rect x=\"87\" y=\"11\" width=\"502\" height=\"345\"/>\n",
       "  </clipPath>\n",
       "</defs>\n",
       "<polyline clip-path=\"url(#clip152)\" style=\"stroke:#000000; stroke-width:0.5; stroke-opacity:0.1; fill:none\" points=\"\n",
       "  148.729,355.795 148.729,11.811 \n",
       "  \"/>\n",
       "<polyline clip-path=\"url(#clip152)\" style=\"stroke:#000000; stroke-width:0.5; stroke-opacity:0.1; fill:none\" points=\"\n",
       "  243.236,355.795 243.236,11.811 \n",
       "  \"/>\n",
       "<polyline clip-path=\"url(#clip152)\" style=\"stroke:#000000; stroke-width:0.5; stroke-opacity:0.1; fill:none\" points=\"\n",
       "  337.744,355.795 337.744,11.811 \n",
       "  \"/>\n",
       "<polyline clip-path=\"url(#clip152)\" style=\"stroke:#000000; stroke-width:0.5; stroke-opacity:0.1; fill:none\" points=\"\n",
       "  432.251,355.795 432.251,11.811 \n",
       "  \"/>\n",
       "<polyline clip-path=\"url(#clip152)\" style=\"stroke:#000000; stroke-width:0.5; stroke-opacity:0.1; fill:none\" points=\"\n",
       "  526.759,355.795 526.759,11.811 \n",
       "  \"/>\n",
       "<polyline clip-path=\"url(#clip150)\" style=\"stroke:#000000; stroke-width:1; stroke-opacity:1; fill:none\" points=\"\n",
       "  87.2986,355.795 588.189,355.795 \n",
       "  \"/>\n",
       "<polyline clip-path=\"url(#clip150)\" style=\"stroke:#000000; stroke-width:1; stroke-opacity:1; fill:none\" points=\"\n",
       "  148.729,355.795 148.729,351.667 \n",
       "  \"/>\n",
       "<polyline clip-path=\"url(#clip150)\" style=\"stroke:#000000; stroke-width:1; stroke-opacity:1; fill:none\" points=\"\n",
       "  243.236,355.795 243.236,351.667 \n",
       "  \"/>\n",
       "<polyline clip-path=\"url(#clip150)\" style=\"stroke:#000000; stroke-width:1; stroke-opacity:1; fill:none\" points=\"\n",
       "  337.744,355.795 337.744,351.667 \n",
       "  \"/>\n",
       "<polyline clip-path=\"url(#clip150)\" style=\"stroke:#000000; stroke-width:1; stroke-opacity:1; fill:none\" points=\"\n",
       "  432.251,355.795 432.251,351.667 \n",
       "  \"/>\n",
       "<polyline clip-path=\"url(#clip150)\" style=\"stroke:#000000; stroke-width:1; stroke-opacity:1; fill:none\" points=\"\n",
       "  526.759,355.795 526.759,351.667 \n",
       "  \"/>\n",
       "<path clip-path=\"url(#clip150)\" d=\"M 0 0 M148.729 363.093 Q147.826 363.093 147.369 363.984 Q146.917 364.869 146.917 366.652 Q146.917 368.428 147.369 369.319 Q147.826 370.205 148.729 370.205 Q149.637 370.205 150.088 369.319 Q150.546 368.428 150.546 366.652 Q150.546 364.869 150.088 363.984 Q149.637 363.093 148.729 363.093 M148.729 362.167 Q150.181 362.167 150.945 363.318 Q151.715 364.464 151.715 366.652 Q151.715 368.833 150.945 369.985 Q150.181 371.131 148.729 371.131 Q147.276 371.131 146.506 369.985 Q145.742 368.833 145.742 366.652 Q145.742 364.464 146.506 363.318 Q147.276 362.167 148.729 362.167 Z\" fill=\"#000000\" fill-rule=\"evenodd\" fill-opacity=\"1\" /><path clip-path=\"url(#clip150)\" d=\"M 0 0 M238.523 369.979 L242.602 369.979 L242.602 370.963 L237.116 370.963 L237.116 369.979 Q237.782 369.291 238.928 368.133 Q240.079 366.97 240.374 366.634 Q240.936 366.003 241.156 365.569 Q241.381 365.13 241.381 364.707 Q241.381 364.019 240.895 363.585 Q240.415 363.151 239.64 363.151 Q239.09 363.151 238.476 363.341 Q237.869 363.532 237.174 363.92 L237.174 362.74 Q237.88 362.456 238.494 362.311 Q239.107 362.167 239.616 362.167 Q240.959 362.167 241.758 362.838 Q242.556 363.509 242.556 364.632 Q242.556 365.164 242.354 365.645 Q242.157 366.119 241.63 366.767 Q241.486 366.935 240.71 367.74 Q239.935 368.538 238.523 369.979 Z\" fill=\"#000000\" fill-rule=\"evenodd\" fill-opacity=\"1\" /><path clip-path=\"url(#clip150)\" d=\"M 0 0 M246.37 363.093 Q245.467 363.093 245.01 363.984 Q244.558 364.869 244.558 366.652 Q244.558 368.428 245.01 369.319 Q245.467 370.205 246.37 370.205 Q247.278 370.205 247.73 369.319 Q248.187 368.428 248.187 366.652 Q248.187 364.869 247.73 363.984 Q247.278 363.093 246.37 363.093 M246.37 362.167 Q247.822 362.167 248.586 363.318 Q249.356 364.464 249.356 366.652 Q249.356 368.833 248.586 369.985 Q247.822 371.131 246.37 371.131 Q244.917 371.131 244.148 369.985 Q243.384 368.833 243.384 366.652 Q243.384 364.464 244.148 363.318 Q244.917 362.167 246.37 362.167 Z\" fill=\"#000000\" fill-rule=\"evenodd\" fill-opacity=\"1\" /><path clip-path=\"url(#clip150)\" d=\"M 0 0 M335.119 363.341 L332.168 367.954 L335.119 367.954 L335.119 363.341 M334.813 362.323 L336.283 362.323 L336.283 367.954 L337.515 367.954 L337.515 368.926 L336.283 368.926 L336.283 370.963 L335.119 370.963 L335.119 368.926 L331.219 368.926 L331.219 367.797 L334.813 362.323 Z\" fill=\"#000000\" fill-rule=\"evenodd\" fill-opacity=\"1\" /><path clip-path=\"url(#clip150)\" d=\"M 0 0 M341.283 363.093 Q340.38 363.093 339.923 363.984 Q339.471 364.869 339.471 366.652 Q339.471 368.428 339.923 369.319 Q340.38 370.205 341.283 370.205 Q342.191 370.205 342.642 369.319 Q343.1 368.428 343.1 366.652 Q343.1 364.869 342.642 363.984 Q342.191 363.093 341.283 363.093 M341.283 362.167 Q342.735 362.167 343.499 363.318 Q344.269 364.464 344.269 366.652 Q344.269 368.833 343.499 369.985 Q342.735 371.131 341.283 371.131 Q339.83 371.131 339.06 369.985 Q338.296 368.833 338.296 366.652 Q338.296 364.464 339.06 363.318 Q339.83 362.167 341.283 362.167 Z\" fill=\"#000000\" fill-rule=\"evenodd\" fill-opacity=\"1\" /><path clip-path=\"url(#clip150)\" d=\"M 0 0 M428.976 366.177 Q428.189 366.177 427.726 366.715 Q427.269 367.253 427.269 368.191 Q427.269 369.123 427.726 369.667 Q428.189 370.205 428.976 370.205 Q429.763 370.205 430.22 369.667 Q430.683 369.123 430.683 368.191 Q430.683 367.253 430.22 366.715 Q429.763 366.177 428.976 366.177 M431.297 362.514 L431.297 363.579 Q430.857 363.37 430.405 363.26 Q429.96 363.151 429.52 363.151 Q428.363 363.151 427.749 363.932 Q427.141 364.713 427.055 366.293 Q427.396 365.789 427.911 365.523 Q428.426 365.251 429.045 365.251 Q430.347 365.251 431.1 366.044 Q431.858 366.831 431.858 368.191 Q431.858 369.522 431.071 370.326 Q430.284 371.131 428.976 371.131 Q427.477 371.131 426.684 369.985 Q425.891 368.833 425.891 366.652 Q425.891 364.603 426.864 363.388 Q427.836 362.167 429.474 362.167 Q429.913 362.167 430.359 362.254 Q430.81 362.34 431.297 362.514 Z\" fill=\"#000000\" fill-rule=\"evenodd\" fill-opacity=\"1\" /><path clip-path=\"url(#clip150)\" d=\"M 0 0 M435.625 363.093 Q434.722 363.093 434.265 363.984 Q433.814 364.869 433.814 366.652 Q433.814 368.428 434.265 369.319 Q434.722 370.205 435.625 370.205 Q436.534 370.205 436.985 369.319 Q437.442 368.428 437.442 366.652 Q437.442 364.869 436.985 363.984 Q436.534 363.093 435.625 363.093 M435.625 362.167 Q437.078 362.167 437.842 363.318 Q438.611 364.464 438.611 366.652 Q438.611 368.833 437.842 369.985 Q437.078 371.131 435.625 371.131 Q434.173 371.131 433.403 369.985 Q432.639 368.833 432.639 366.652 Q432.639 364.464 433.403 363.318 Q434.173 362.167 435.625 362.167 Z\" fill=\"#000000\" fill-rule=\"evenodd\" fill-opacity=\"1\" /><path clip-path=\"url(#clip150)\" d=\"M 0 0 M523.382 366.86 Q522.549 366.86 522.069 367.306 Q521.594 367.751 521.594 368.532 Q521.594 369.314 522.069 369.759 Q522.549 370.205 523.382 370.205 Q524.216 370.205 524.696 369.759 Q525.176 369.308 525.176 368.532 Q525.176 367.751 524.696 367.306 Q524.221 366.86 523.382 366.86 M522.213 366.362 Q521.461 366.177 521.039 365.662 Q520.622 365.147 520.622 364.406 Q520.622 363.37 521.357 362.769 Q522.098 362.167 523.382 362.167 Q524.673 362.167 525.408 362.769 Q526.143 363.37 526.143 364.406 Q526.143 365.147 525.72 365.662 Q525.304 366.177 524.557 366.362 Q525.402 366.559 525.871 367.132 Q526.345 367.705 526.345 368.532 Q526.345 369.788 525.576 370.459 Q524.812 371.131 523.382 371.131 Q521.953 371.131 521.183 370.459 Q520.419 369.788 520.419 368.532 Q520.419 367.705 520.894 367.132 Q521.368 366.559 522.213 366.362 M521.785 364.516 Q521.785 365.188 522.202 365.564 Q522.624 365.94 523.382 365.94 Q524.135 365.94 524.557 365.564 Q524.985 365.188 524.985 364.516 Q524.985 363.845 524.557 363.469 Q524.135 363.093 523.382 363.093 Q522.624 363.093 522.202 363.469 Q521.785 363.845 521.785 364.516 Z\" fill=\"#000000\" fill-rule=\"evenodd\" fill-opacity=\"1\" /><path clip-path=\"url(#clip150)\" d=\"M 0 0 M530.113 363.093 Q529.21 363.093 528.753 363.984 Q528.301 364.869 528.301 366.652 Q528.301 368.428 528.753 369.319 Q529.21 370.205 530.113 370.205 Q531.021 370.205 531.473 369.319 Q531.93 368.428 531.93 366.652 Q531.93 364.869 531.473 363.984 Q531.021 363.093 530.113 363.093 M530.113 362.167 Q531.565 362.167 532.329 363.318 Q533.099 364.464 533.099 366.652 Q533.099 368.833 532.329 369.985 Q531.565 371.131 530.113 371.131 Q528.66 371.131 527.89 369.985 Q527.126 368.833 527.126 366.652 Q527.126 364.464 527.89 363.318 Q528.66 362.167 530.113 362.167 Z\" fill=\"#000000\" fill-rule=\"evenodd\" fill-opacity=\"1\" /><path clip-path=\"url(#clip150)\" d=\"M 0 0 M334.012 388.494 L334.012 383.099 L335.476 383.099 L335.476 388.438 Q335.476 389.703 335.969 390.34 Q336.463 390.969 337.449 390.969 Q338.635 390.969 339.319 390.213 Q340.012 389.457 340.012 388.152 L340.012 383.099 L341.476 383.099 L341.476 392.011 L340.012 392.011 L340.012 390.642 Q339.478 391.454 338.77 391.852 Q338.07 392.242 337.139 392.242 Q335.603 392.242 334.808 391.287 Q334.012 390.332 334.012 388.494 M337.696 382.884 L337.696 382.884 Z\" fill=\"#000000\" fill-rule=\"evenodd\" fill-opacity=\"1\" /><polyline clip-path=\"url(#clip152)\" style=\"stroke:#000000; stroke-width:0.5; stroke-opacity:0.1; fill:none\" points=\"\n",
       "  87.2986,346.06 588.189,346.06 \n",
       "  \"/>\n",
       "<polyline clip-path=\"url(#clip152)\" style=\"stroke:#000000; stroke-width:0.5; stroke-opacity:0.1; fill:none\" points=\"\n",
       "  87.2986,242.215 588.189,242.215 \n",
       "  \"/>\n",
       "<polyline clip-path=\"url(#clip152)\" style=\"stroke:#000000; stroke-width:0.5; stroke-opacity:0.1; fill:none\" points=\"\n",
       "  87.2986,138.371 588.189,138.371 \n",
       "  \"/>\n",
       "<polyline clip-path=\"url(#clip152)\" style=\"stroke:#000000; stroke-width:0.5; stroke-opacity:0.1; fill:none\" points=\"\n",
       "  87.2986,34.5269 588.189,34.5269 \n",
       "  \"/>\n",
       "<polyline clip-path=\"url(#clip150)\" style=\"stroke:#000000; stroke-width:1; stroke-opacity:1; fill:none\" points=\"\n",
       "  87.2986,355.795 87.2986,11.811 \n",
       "  \"/>\n",
       "<polyline clip-path=\"url(#clip150)\" style=\"stroke:#000000; stroke-width:1; stroke-opacity:1; fill:none\" points=\"\n",
       "  87.2986,346.06 93.3093,346.06 \n",
       "  \"/>\n",
       "<polyline clip-path=\"url(#clip150)\" style=\"stroke:#000000; stroke-width:1; stroke-opacity:1; fill:none\" points=\"\n",
       "  87.2986,242.215 93.3093,242.215 \n",
       "  \"/>\n",
       "<polyline clip-path=\"url(#clip150)\" style=\"stroke:#000000; stroke-width:1; stroke-opacity:1; fill:none\" points=\"\n",
       "  87.2986,138.371 93.3093,138.371 \n",
       "  \"/>\n",
       "<polyline clip-path=\"url(#clip150)\" style=\"stroke:#000000; stroke-width:1; stroke-opacity:1; fill:none\" points=\"\n",
       "  87.2986,34.5269 93.3093,34.5269 \n",
       "  \"/>\n",
       "<path clip-path=\"url(#clip150)\" d=\"M 0 0 M28.565 347.784 L35.984 347.784 L35.984 348.768 L28.565 348.768 L28.565 347.784 Z\" fill=\"#000000\" fill-rule=\"evenodd\" fill-opacity=\"1\" /><path clip-path=\"url(#clip150)\" d=\"M 0 0 M37.4539 351.008 L39.3636 351.008 L39.3636 344.416 L37.2861 344.833 L37.2861 343.768 L39.352 343.351 L40.521 343.351 L40.521 351.008 L42.4307 351.008 L42.4307 351.991 L37.4539 351.991 L37.4539 351.008 Z\" fill=\"#000000\" fill-rule=\"evenodd\" fill-opacity=\"1\" /><path clip-path=\"url(#clip150)\" d=\"M 0 0 M43.6981 350.522 L44.9191 350.522 L44.9191 351.991 L43.6981 351.991 L43.6981 350.522 Z\" fill=\"#000000\" fill-rule=\"evenodd\" fill-opacity=\"1\" /><path clip-path=\"url(#clip150)\" d=\"M 0 0 M48.6865 344.121 Q47.7837 344.121 47.3265 345.012 Q46.8751 345.898 46.8751 347.68 Q46.8751 349.457 47.3265 350.348 Q47.7837 351.233 48.6865 351.233 Q49.595 351.233 50.0464 350.348 Q50.5036 349.457 50.5036 347.68 Q50.5036 345.898 50.0464 345.012 Q49.595 344.121 48.6865 344.121 M48.6865 343.195 Q50.139 343.195 50.9029 344.347 Q51.6726 345.493 51.6726 347.68 Q51.6726 349.862 50.9029 351.013 Q50.139 352.159 48.6865 352.159 Q47.2339 352.159 46.4642 351.013 Q45.7004 349.862 45.7004 347.68 Q45.7004 345.493 46.4642 344.347 Q47.2339 343.195 48.6865 343.195 Z\" fill=\"#000000\" fill-rule=\"evenodd\" fill-opacity=\"1\" /><path clip-path=\"url(#clip150)\" d=\"M 0 0 M59.9827 345.626 L57.338 348.282 L59.9827 350.927 L59.294 351.627 L56.6378 348.971 L53.9816 351.627 L53.2987 350.927 L55.9376 348.282 L53.2987 345.626 L53.9816 344.926 L56.6378 347.582 L59.294 344.926 L59.9827 345.626 Z\" fill=\"#000000\" fill-rule=\"evenodd\" fill-opacity=\"1\" /><path clip-path=\"url(#clip150)\" d=\"M 0 0 M61.4526 351.008 L63.3623 351.008 L63.3623 344.416 L61.2848 344.833 L61.2848 343.768 L63.3507 343.351 L64.5197 343.351 L64.5197 351.008 L66.4294 351.008 L66.4294 351.991 L61.4526 351.991 L61.4526 351.008 Z\" fill=\"#000000\" fill-rule=\"evenodd\" fill-opacity=\"1\" /><path clip-path=\"url(#clip150)\" d=\"M 0 0 M70.1968 344.121 Q69.294 344.121 68.8368 345.012 Q68.3854 345.898 68.3854 347.68 Q68.3854 349.457 68.8368 350.348 Q69.294 351.233 70.1968 351.233 Q71.1053 351.233 71.5567 350.348 Q72.0139 349.457 72.0139 347.68 Q72.0139 345.898 71.5567 345.012 Q71.1053 344.121 70.1968 344.121 M70.1968 343.195 Q71.6493 343.195 72.4132 344.347 Q73.1829 345.493 73.1829 347.68 Q73.1829 349.862 72.4132 351.013 Q71.6493 352.159 70.1968 352.159 Q68.7442 352.159 67.9746 351.013 Q67.2107 349.862 67.2107 347.68 Q67.2107 345.493 67.9746 344.347 Q68.7442 343.195 70.1968 343.195 Z\" fill=\"#000000\" fill-rule=\"evenodd\" fill-opacity=\"1\" /><path clip-path=\"url(#clip150)\" d=\"M 0 0 M76.352 338.946 L73.954 342.694 L76.352 342.694 L76.352 338.946 M76.1028 338.119 L77.2971 338.119 L77.2971 342.694 L78.2986 342.694 L78.2986 343.484 L77.2971 343.484 L77.2971 345.139 L76.352 345.139 L76.352 343.484 L73.1829 343.484 L73.1829 342.567 L76.1028 338.119 Z\" fill=\"#000000\" fill-rule=\"evenodd\" fill-opacity=\"1\" /><path clip-path=\"url(#clip150)\" d=\"M 0 0 M29.0009 243.94 L36.4198 243.94 L36.4198 244.924 L29.0009 244.924 L29.0009 243.94 Z\" fill=\"#000000\" fill-rule=\"evenodd\" fill-opacity=\"1\" /><path clip-path=\"url(#clip150)\" d=\"M 0 0 M37.6987 239.507 L42.2878 239.507 L42.2878 240.491 L38.7693 240.491 L38.7693 242.609 Q39.024 242.522 39.2786 242.482 Q39.5332 242.435 39.7879 242.435 Q41.2346 242.435 42.0795 243.228 Q42.9244 244.021 42.9244 245.375 Q42.9244 246.77 42.0564 247.545 Q41.1883 248.315 39.6085 248.315 Q39.0645 248.315 38.4974 248.222 Q37.936 248.13 37.3342 247.945 L37.3342 246.77 Q37.855 247.054 38.4105 247.192 Q38.9661 247.331 39.5853 247.331 Q40.5865 247.331 41.1709 246.805 Q41.7554 246.278 41.7554 245.375 Q41.7554 244.473 41.1709 243.946 Q40.5865 243.419 39.5853 243.419 Q39.1166 243.419 38.6478 243.523 Q38.1849 243.628 37.6987 243.848 L37.6987 239.507 Z\" fill=\"#000000\" fill-rule=\"evenodd\" fill-opacity=\"1\" /><path clip-path=\"url(#clip150)\" d=\"M 0 0 M44.1918 246.677 L45.4128 246.677 L45.4128 248.147 L44.1918 248.147 L44.1918 246.677 Z\" fill=\"#000000\" fill-rule=\"evenodd\" fill-opacity=\"1\" /><path clip-path=\"url(#clip150)\" d=\"M 0 0 M49.1802 240.277 Q48.2774 240.277 47.8202 241.168 Q47.3688 242.054 47.3688 243.836 Q47.3688 245.613 47.8202 246.504 Q48.2774 247.389 49.1802 247.389 Q50.0887 247.389 50.5401 246.504 Q50.9973 245.613 50.9973 243.836 Q50.9973 242.054 50.5401 241.168 Q50.0887 240.277 49.1802 240.277 M49.1802 239.351 Q50.6327 239.351 51.3966 240.503 Q52.1663 241.648 52.1663 243.836 Q52.1663 246.018 51.3966 247.169 Q50.6327 248.315 49.1802 248.315 Q47.7276 248.315 46.958 247.169 Q46.1941 246.018 46.1941 243.836 Q46.1941 241.648 46.958 240.503 Q47.7276 239.351 49.1802 239.351 Z\" fill=\"#000000\" fill-rule=\"evenodd\" fill-opacity=\"1\" /><path clip-path=\"url(#clip150)\" d=\"M 0 0 M60.4764 241.782 L57.8317 244.438 L60.4764 247.082 L59.7877 247.783 L57.1315 245.126 L54.4753 247.783 L53.7924 247.082 L56.4313 244.438 L53.7924 241.782 L54.4753 241.081 L57.1315 243.738 L59.7877 241.081 L60.4764 241.782 Z\" fill=\"#000000\" fill-rule=\"evenodd\" fill-opacity=\"1\" /><path clip-path=\"url(#clip150)\" d=\"M 0 0 M61.9463 247.163 L63.856 247.163 L63.856 240.572 L61.7785 240.989 L61.7785 239.924 L63.8444 239.507 L65.0134 239.507 L65.0134 247.163 L66.9231 247.163 L66.9231 248.147 L61.9463 248.147 L61.9463 247.163 Z\" fill=\"#000000\" fill-rule=\"evenodd\" fill-opacity=\"1\" /><path clip-path=\"url(#clip150)\" d=\"M 0 0 M70.6905 240.277 Q69.7877 240.277 69.3305 241.168 Q68.8791 242.054 68.8791 243.836 Q68.8791 245.613 69.3305 246.504 Q69.7877 247.389 70.6905 247.389 Q71.599 247.389 72.0504 246.504 Q72.5076 245.613 72.5076 243.836 Q72.5076 242.054 72.0504 241.168 Q71.599 240.277 70.6905 240.277 M70.6905 239.351 Q72.143 239.351 72.9069 240.503 Q73.6766 241.648 73.6766 243.836 Q73.6766 246.018 72.9069 247.169 Q72.143 248.315 70.6905 248.315 Q69.2379 248.315 68.4683 247.169 Q67.7044 246.018 67.7044 243.836 Q67.7044 241.648 68.4683 240.503 Q69.2379 239.351 70.6905 239.351 Z\" fill=\"#000000\" fill-rule=\"evenodd\" fill-opacity=\"1\" /><path clip-path=\"url(#clip150)\" d=\"M 0 0 M76.8504 237.51 Q77.5322 237.655 77.913 238.116 Q78.2986 238.577 78.2986 239.254 Q78.2986 240.293 77.5839 240.862 Q76.8692 241.431 75.5526 241.431 Q75.1107 241.431 74.6405 241.342 Q74.175 241.257 73.6766 241.083 L73.6766 240.166 Q74.0715 240.397 74.5417 240.514 Q75.0119 240.632 75.5244 240.632 Q76.4178 240.632 76.8833 240.279 Q77.3535 239.926 77.3535 239.254 Q77.3535 238.633 76.9162 238.285 Q76.4836 237.933 75.7078 237.933 L74.8897 237.933 L74.8897 237.152 L75.7454 237.152 Q76.446 237.152 76.8175 236.875 Q77.1889 236.593 77.1889 236.066 Q77.1889 235.525 76.8034 235.239 Q76.4225 234.947 75.7078 234.947 Q75.3175 234.947 74.8709 235.032 Q74.4242 235.116 73.8881 235.295 L73.8881 234.449 Q74.4289 234.298 74.8991 234.223 Q75.374 234.148 75.7924 234.148 Q76.8739 234.148 77.5039 234.641 Q78.134 235.13 78.134 235.967 Q78.134 236.55 77.8002 236.955 Q77.4663 237.354 76.8504 237.51 Z\" fill=\"#000000\" fill-rule=\"evenodd\" fill-opacity=\"1\" /><path clip-path=\"url(#clip150)\" d=\"M 0 0 M75.3125 134.821 Q74.4097 134.821 73.9525 135.712 Q73.5011 136.597 73.5011 138.38 Q73.5011 140.156 73.9525 141.048 Q74.4097 141.933 75.3125 141.933 Q76.221 141.933 76.6724 141.048 Q77.1296 140.156 77.1296 138.38 Q77.1296 136.597 76.6724 135.712 Q76.221 134.821 75.3125 134.821 M75.3125 133.895 Q76.765 133.895 77.5289 135.047 Q78.2986 136.192 78.2986 138.38 Q78.2986 140.562 77.5289 141.713 Q76.765 142.859 75.3125 142.859 Q73.8599 142.859 73.0903 141.713 Q72.3264 140.562 72.3264 138.38 Q72.3264 136.192 73.0903 135.047 Q73.8599 133.895 75.3125 133.895 Z\" fill=\"#000000\" fill-rule=\"evenodd\" fill-opacity=\"1\" /><path clip-path=\"url(#clip150)\" d=\"M 0 0 M37.6987 31.8188 L42.2878 31.8188 L42.2878 32.8026 L38.7693 32.8026 L38.7693 34.9207 Q39.024 34.8339 39.2786 34.7934 Q39.5332 34.7471 39.7879 34.7471 Q41.2346 34.7471 42.0795 35.5399 Q42.9244 36.3327 42.9244 37.6869 Q42.9244 39.0815 42.0564 39.857 Q41.1883 40.6267 39.6085 40.6267 Q39.0645 40.6267 38.4974 40.5341 Q37.936 40.4415 37.3342 40.2563 L37.3342 39.0815 Q37.855 39.3651 38.4105 39.504 Q38.9661 39.6429 39.5853 39.6429 Q40.5865 39.6429 41.1709 39.1163 Q41.7554 38.5896 41.7554 37.6869 Q41.7554 36.7841 41.1709 36.2575 Q40.5865 35.7309 39.5853 35.7309 Q39.1166 35.7309 38.6478 35.835 Q38.1849 35.9392 37.6987 36.1591 L37.6987 31.8188 Z\" fill=\"#000000\" fill-rule=\"evenodd\" fill-opacity=\"1\" /><path clip-path=\"url(#clip150)\" d=\"M 0 0 M44.1918 38.9889 L45.4128 38.9889 L45.4128 40.4588 L44.1918 40.4588 L44.1918 38.9889 Z\" fill=\"#000000\" fill-rule=\"evenodd\" fill-opacity=\"1\" /><path clip-path=\"url(#clip150)\" d=\"M 0 0 M49.1802 32.5885 Q48.2774 32.5885 47.8202 33.4797 Q47.3688 34.3651 47.3688 36.1475 Q47.3688 37.9241 47.8202 38.8153 Q48.2774 39.7007 49.1802 39.7007 Q50.0887 39.7007 50.5401 38.8153 Q50.9973 37.9241 50.9973 36.1475 Q50.9973 34.3651 50.5401 33.4797 Q50.0887 32.5885 49.1802 32.5885 M49.1802 31.6626 Q50.6327 31.6626 51.3966 32.8142 Q52.1663 33.96 52.1663 36.1475 Q52.1663 38.3292 51.3966 39.4808 Q50.6327 40.6267 49.1802 40.6267 Q47.7276 40.6267 46.958 39.4808 Q46.1941 38.3292 46.1941 36.1475 Q46.1941 33.96 46.958 32.8142 Q47.7276 31.6626 49.1802 31.6626 Z\" fill=\"#000000\" fill-rule=\"evenodd\" fill-opacity=\"1\" /><path clip-path=\"url(#clip150)\" d=\"M 0 0 M60.4764 34.0931 L57.8317 36.7494 L60.4764 39.394 L59.7877 40.0943 L57.1315 37.438 L54.4753 40.0943 L53.7924 39.394 L56.4313 36.7494 L53.7924 34.0931 L54.4753 33.3929 L57.1315 36.0491 L59.7877 33.3929 L60.4764 34.0931 Z\" fill=\"#000000\" fill-rule=\"evenodd\" fill-opacity=\"1\" /><path clip-path=\"url(#clip150)\" d=\"M 0 0 M61.9463 39.4751 L63.856 39.4751 L63.856 32.8837 L61.7785 33.3003 L61.7785 32.2355 L63.8444 31.8188 L65.0134 31.8188 L65.0134 39.4751 L66.9231 39.4751 L66.9231 40.4588 L61.9463 40.4588 L61.9463 39.4751 Z\" fill=\"#000000\" fill-rule=\"evenodd\" fill-opacity=\"1\" /><path clip-path=\"url(#clip150)\" d=\"M 0 0 M70.6905 32.5885 Q69.7877 32.5885 69.3305 33.4797 Q68.8791 34.3651 68.8791 36.1475 Q68.8791 37.9241 69.3305 38.8153 Q69.7877 39.7007 70.6905 39.7007 Q71.599 39.7007 72.0504 38.8153 Q72.5076 37.9241 72.5076 36.1475 Q72.5076 34.3651 72.0504 33.4797 Q71.599 32.5885 70.6905 32.5885 M70.6905 31.6626 Q72.143 31.6626 72.9069 32.8142 Q73.6766 33.96 73.6766 36.1475 Q73.6766 38.3292 72.9069 39.4808 Q72.143 40.6267 70.6905 40.6267 Q69.2379 40.6267 68.4683 39.4808 Q67.7044 38.3292 67.7044 36.1475 Q67.7044 33.96 68.4683 32.8142 Q69.2379 31.6626 70.6905 31.6626 Z\" fill=\"#000000\" fill-rule=\"evenodd\" fill-opacity=\"1\" /><path clip-path=\"url(#clip150)\" d=\"M 0 0 M76.8504 29.8212 Q77.5322 29.9669 77.913 30.4277 Q78.2986 30.8885 78.2986 31.5656 Q78.2986 32.6047 77.5839 33.1737 Q76.8692 33.7426 75.5526 33.7426 Q75.1107 33.7426 74.6405 33.6533 Q74.175 33.5686 73.6766 33.3947 L73.6766 32.4778 Q74.0715 32.7082 74.5417 32.8257 Q75.0119 32.9433 75.5244 32.9433 Q76.4178 32.9433 76.8833 32.5906 Q77.3535 32.238 77.3535 31.5656 Q77.3535 30.9449 76.9162 30.597 Q76.4836 30.2444 75.7078 30.2444 L74.8897 30.2444 L74.8897 29.4638 L75.7454 29.4638 Q76.446 29.4638 76.8175 29.1864 Q77.1889 28.9043 77.1889 28.3777 Q77.1889 27.837 76.8034 27.5501 Q76.4225 27.2586 75.7078 27.2586 Q75.3175 27.2586 74.8709 27.3433 Q74.4242 27.4279 73.8881 27.6066 L73.8881 26.7602 Q74.4289 26.6098 74.8991 26.5345 Q75.374 26.4593 75.7924 26.4593 Q76.8739 26.4593 77.5039 26.953 Q78.134 27.442 78.134 28.2789 Q78.134 28.862 77.8002 29.2664 Q77.4663 29.666 76.8504 29.8212 Z\" fill=\"#000000\" fill-rule=\"evenodd\" fill-opacity=\"1\" /><path clip-path=\"url(#clip150)\" d=\"M 0 0 M5.44192 186.031 L9.90588 186.031 L9.90588 184.01 Q9.90588 182.888 9.325 182.275 Q8.74413 181.663 7.66992 181.663 Q6.60366 181.663 6.02279 182.275 Q5.44192 182.888 5.44192 184.01 L5.44192 186.031 M4.12104 187.638 L4.12104 184.01 Q4.12104 182.013 5.02815 180.994 Q5.92731 179.968 7.66992 179.968 Q9.42845 179.968 10.3276 180.994 Q11.2268 182.013 11.2268 184.01 L11.2268 186.031 L16.001 186.031 L16.001 187.638 L4.12104 187.638 Z\" fill=\"#000000\" fill-rule=\"evenodd\" fill-opacity=\"1\" /><polyline clip-path=\"url(#clip152)\" style=\"stroke:#0000ff; stroke-width:2; stroke-opacity:1; fill:none\" points=\"\n",
       "  101.475,21.5464 102.422,24.1425 103.369,26.7282 104.316,29.3034 105.263,31.8682 106.21,34.4226 107.157,36.9666 108.104,39.5001 109.05,42.0232 109.997,44.5359 \n",
       "  110.944,47.0382 111.891,49.53 112.838,52.0114 113.785,54.4824 114.732,56.943 115.679,59.3931 116.626,61.8328 117.573,64.2621 118.52,66.6809 119.467,69.0894 \n",
       "  120.414,71.4874 121.361,73.8749 122.308,76.2521 123.255,78.6188 124.202,80.9751 125.149,83.321 126.096,85.6564 127.043,87.9814 127.99,90.296 128.937,92.6002 \n",
       "  129.884,94.8939 130.831,97.1772 131.778,99.4501 132.725,101.713 133.672,103.965 134.619,106.206 135.566,108.437 136.513,110.658 137.46,112.868 138.407,115.068 \n",
       "  139.354,117.258 140.3,119.437 141.247,121.606 142.194,123.764 143.141,125.912 144.088,128.049 145.035,130.176 145.982,132.292 146.929,134.398 147.876,136.494 \n",
       "  148.823,138.579 149.77,140.654 150.717,142.718 151.664,144.772 152.611,146.816 153.558,148.849 154.505,150.872 155.452,152.884 156.399,154.886 157.346,156.877 \n",
       "  158.293,158.858 159.24,160.828 160.187,162.789 161.134,164.738 162.081,166.677 163.028,168.606 163.975,170.525 164.922,172.433 165.869,174.33 166.816,176.217 \n",
       "  167.763,178.094 168.71,179.96 169.657,181.816 170.604,183.662 171.551,185.497 172.497,187.321 173.444,189.135 174.391,190.939 175.338,192.732 176.285,194.515 \n",
       "  177.232,196.288 178.179,198.05 179.126,199.801 180.073,201.542 181.02,203.273 181.967,204.993 182.914,206.703 183.861,208.403 184.808,210.092 185.755,211.77 \n",
       "  186.702,213.438 187.649,215.096 188.596,216.744 189.543,218.38 190.49,220.007 191.437,221.623 192.384,223.229 193.331,224.824 194.278,226.409 195.225,227.983 \n",
       "  196.172,229.547 197.119,231.1 198.066,232.643 199.013,234.176 199.96,235.698 200.907,237.21 201.854,238.711 202.801,240.202 203.747,241.683 204.694,243.153 \n",
       "  205.641,244.612 206.588,246.062 207.535,247.5 208.482,248.929 209.429,250.347 210.376,251.754 211.323,253.151 212.27,254.538 213.217,255.914 214.164,257.28 \n",
       "  215.111,258.636 216.058,259.981 217.005,261.315 217.952,262.639 218.899,263.953 219.846,265.256 220.793,266.549 221.74,267.831 222.687,269.103 223.634,270.365 \n",
       "  224.581,271.616 225.528,272.857 226.475,274.087 227.422,275.307 228.369,276.516 229.316,277.715 230.263,278.904 231.21,280.082 232.157,281.25 233.104,282.407 \n",
       "  234.051,283.554 234.998,284.69 235.944,285.816 236.891,286.932 237.838,288.037 238.785,289.132 239.732,290.216 240.679,291.29 241.626,292.354 242.573,293.407 \n",
       "  243.52,294.449 244.467,295.481 245.414,296.503 246.361,297.514 247.308,298.515 248.255,299.506 249.202,300.486 250.149,301.455 251.096,302.415 252.043,303.363 \n",
       "  252.99,304.302 253.937,305.23 254.884,306.147 255.831,307.054 256.778,307.951 257.725,308.837 258.672,309.713 259.619,310.578 260.566,311.433 261.513,312.278 \n",
       "  262.46,313.112 263.407,313.936 264.354,314.749 265.301,315.552 266.248,316.344 267.194,317.126 268.141,317.897 269.088,318.659 270.035,319.409 270.982,320.149 \n",
       "  271.929,320.879 272.876,321.599 273.823,322.308 274.77,323.006 275.717,323.694 276.664,324.372 277.611,325.039 278.558,325.696 279.505,326.343 280.452,326.979 \n",
       "  281.399,327.604 282.346,328.219 283.293,328.824 284.24,329.418 285.187,330.002 286.134,330.576 287.081,331.139 288.028,331.691 288.975,332.233 289.922,332.765 \n",
       "  290.869,333.286 291.816,333.797 292.763,334.298 293.71,334.788 294.657,335.267 295.604,335.736 296.551,336.195 297.498,336.644 298.445,337.081 299.391,337.509 \n",
       "  300.338,337.926 301.285,338.333 302.232,338.729 303.179,339.114 304.126,339.49 305.073,339.855 306.02,340.209 306.967,340.553 307.914,340.887 308.861,341.21 \n",
       "  309.808,341.523 310.755,341.825 311.702,342.117 312.649,342.399 313.596,342.67 314.543,342.93 315.49,343.181 316.437,343.42 317.384,343.65 318.331,343.869 \n",
       "  319.278,344.077 320.225,344.275 321.172,344.463 322.119,344.64 323.066,344.807 324.013,344.964 324.96,345.109 325.907,345.245 326.854,345.37 327.801,345.485 \n",
       "  328.748,345.589 329.695,345.683 330.641,345.766 331.588,345.839 332.535,345.902 333.482,345.954 334.429,345.996 335.376,346.027 336.323,346.048 337.27,346.058 \n",
       "  338.217,346.058 339.164,346.048 340.111,346.027 341.058,345.996 342.005,345.954 342.952,345.902 343.899,345.839 344.846,345.766 345.793,345.683 346.74,345.589 \n",
       "  347.687,345.485 348.634,345.37 349.581,345.245 350.528,345.109 351.475,344.964 352.422,344.807 353.369,344.64 354.316,344.463 355.263,344.275 356.21,344.077 \n",
       "  357.157,343.869 358.104,343.65 359.051,343.42 359.998,343.181 360.945,342.93 361.892,342.67 362.838,342.399 363.785,342.117 364.732,341.825 365.679,341.523 \n",
       "  366.626,341.21 367.573,340.887 368.52,340.553 369.467,340.209 370.414,339.855 371.361,339.49 372.308,339.114 373.255,338.729 374.202,338.333 375.149,337.926 \n",
       "  376.096,337.509 377.043,337.081 377.99,336.644 378.937,336.195 379.884,335.736 380.831,335.267 381.778,334.788 382.725,334.298 383.672,333.797 384.619,333.286 \n",
       "  385.566,332.765 386.513,332.233 387.46,331.691 388.407,331.139 389.354,330.576 390.301,330.002 391.248,329.418 392.195,328.824 393.142,328.219 394.088,327.604 \n",
       "  395.035,326.979 395.982,326.343 396.929,325.696 397.876,325.039 398.823,324.372 399.77,323.694 400.717,323.006 401.664,322.308 402.611,321.599 403.558,320.879 \n",
       "  404.505,320.149 405.452,319.409 406.399,318.659 407.346,317.897 408.293,317.126 409.24,316.344 410.187,315.552 411.134,314.749 412.081,313.936 413.028,313.112 \n",
       "  413.975,312.278 414.922,311.433 415.869,310.578 416.816,309.713 417.763,308.837 418.71,307.951 419.657,307.054 420.604,306.147 421.551,305.23 422.498,304.302 \n",
       "  423.445,303.363 424.392,302.415 425.339,301.455 426.285,300.486 427.232,299.506 428.179,298.515 429.126,297.514 430.073,296.503 431.02,295.481 431.967,294.449 \n",
       "  432.914,293.407 433.861,292.354 434.808,291.29 435.755,290.216 436.702,289.132 437.649,288.037 438.596,286.932 439.543,285.816 440.49,284.69 441.437,283.554 \n",
       "  442.384,282.407 443.331,281.25 444.278,280.082 445.225,278.904 446.172,277.715 447.119,276.516 448.066,275.307 449.013,274.087 449.96,272.857 450.907,271.616 \n",
       "  451.854,270.365 452.801,269.103 453.748,267.831 454.695,266.549 455.642,265.256 456.589,263.953 457.536,262.639 458.482,261.315 459.429,259.981 460.376,258.636 \n",
       "  461.323,257.28 462.27,255.914 463.217,254.538 464.164,253.151 465.111,251.754 466.058,250.347 467.005,248.929 467.952,247.5 468.899,246.062 469.846,244.612 \n",
       "  470.793,243.153 471.74,241.683 472.687,240.202 473.634,238.711 474.581,237.21 475.528,235.698 476.475,234.176 477.422,232.643 478.369,231.1 479.316,229.547 \n",
       "  480.263,227.983 481.21,226.409 482.157,224.824 483.104,223.229 484.051,221.623 484.998,220.007 485.945,218.38 486.892,216.744 487.839,215.096 488.786,213.438 \n",
       "  489.732,211.77 490.679,210.092 491.626,208.403 492.573,206.703 493.52,204.993 494.467,203.273 495.414,201.542 496.361,199.801 497.308,198.05 498.255,196.288 \n",
       "  499.202,194.515 500.149,192.732 501.096,190.939 502.043,189.135 502.99,187.321 503.937,185.497 504.884,183.662 505.831,181.816 506.778,179.96 507.725,178.094 \n",
       "  508.672,176.217 509.619,174.33 510.566,172.433 511.513,170.525 512.46,168.606 513.407,166.677 514.354,164.738 515.301,162.789 516.248,160.828 517.195,158.858 \n",
       "  518.142,156.877 519.089,154.886 520.036,152.884 520.983,150.872 521.929,148.849 522.876,146.816 523.823,144.772 524.77,142.718 525.717,140.654 526.664,138.579 \n",
       "  527.611,136.494 528.558,134.398 529.505,132.292 530.452,130.176 531.399,128.049 532.346,125.912 533.293,123.764 534.24,121.606 535.187,119.437 536.134,117.258 \n",
       "  537.081,115.068 538.028,112.868 538.975,110.658 539.922,108.437 540.869,106.206 541.816,103.965 542.763,101.713 543.71,99.4501 544.657,97.1772 545.604,94.8939 \n",
       "  546.551,92.6002 547.498,90.296 548.445,87.9814 549.392,85.6564 550.339,83.321 551.286,80.9751 552.233,78.6188 553.179,76.2521 554.126,73.8749 555.073,71.4874 \n",
       "  556.02,69.0894 556.967,66.6809 557.914,64.2621 558.861,61.8328 559.808,59.3931 560.755,56.943 561.702,54.4824 562.649,52.0114 563.596,49.53 564.543,47.0382 \n",
       "  565.49,44.5359 566.437,42.0232 567.384,39.5001 568.331,36.9666 569.278,34.4226 570.225,31.8682 571.172,29.3034 572.119,26.7282 573.066,24.1425 574.013,21.5464 \n",
       "  \n",
       "  \"/>\n",
       "<circle clip-path=\"url(#clip152)\" cx=\"337.744\" cy=\"346.06\" r=\"5\" fill=\"#ff0000\" fill-rule=\"evenodd\" fill-opacity=\"1\" stroke=\"#000000\" stroke-opacity=\"1\" stroke-width=\"0.8\"/>\n",
       "<path clip-path=\"url(#clip150)\" d=\"\n",
       "M338.524 68.6372 L571.493 68.6372 L571.493 23.2772 L338.524 23.2772  Z\n",
       "  \" fill=\"#ffffff\" fill-rule=\"evenodd\" fill-opacity=\"1\"/>\n",
       "<polyline clip-path=\"url(#clip150)\" style=\"stroke:#000000; stroke-width:1; stroke-opacity:1; fill:none\" points=\"\n",
       "  338.524,68.6372 571.493,68.6372 571.493,23.2772 338.524,23.2772 338.524,68.6372 \n",
       "  \"/>\n",
       "<polyline clip-path=\"url(#clip150)\" style=\"stroke:#0000ff; stroke-width:1; stroke-opacity:1; fill:none\" points=\"\n",
       "  344.09,38.3972 377.482,38.3972 \n",
       "  \"/>\n",
       "<path clip-path=\"url(#clip150)\" d=\"M 0 0 M384.217 35.0378 L384.217 38.2843 L385.687 38.2843 Q386.503 38.2843 386.948 37.8619 Q387.394 37.4394 387.394 36.6582 Q387.394 35.8827 386.948 35.4602 Q386.503 35.0378 385.687 35.0378 L384.217 35.0378 M383.048 34.0772 L385.687 34.0772 Q387.139 34.0772 387.88 34.7369 Q388.627 35.3908 388.627 36.6582 Q388.627 37.9371 387.88 38.591 Q387.139 39.245 385.687 39.245 L384.217 39.245 L384.217 42.7172 L383.048 42.7172 L383.048 34.0772 Z\" fill=\"#000000\" fill-rule=\"evenodd\" fill-opacity=\"1\" /><path clip-path=\"url(#clip150)\" d=\"M 0 0 M391.833 36.9822 Q390.976 36.9822 390.478 37.6535 Q389.981 38.319 389.981 39.4822 Q389.981 40.6454 390.473 41.3167 Q390.97 41.9822 391.833 41.9822 Q392.683 41.9822 393.181 41.3109 Q393.679 40.6396 393.679 39.4822 Q393.679 38.3306 393.181 37.6593 Q392.683 36.9822 391.833 36.9822 M391.833 36.0795 Q393.221 36.0795 394.014 36.9822 Q394.807 37.885 394.807 39.4822 Q394.807 41.0736 394.014 41.9822 Q393.221 42.885 391.833 42.885 Q390.438 42.885 389.645 41.9822 Q388.858 41.0736 388.858 39.4822 Q388.858 37.885 389.645 36.9822 Q390.438 36.0795 391.833 36.0795 Z\" fill=\"#000000\" fill-rule=\"evenodd\" fill-opacity=\"1\" /><path clip-path=\"url(#clip150)\" d=\"M 0 0 M396.977 34.3954 L396.977 36.2357 L399.17 36.2357 L399.17 37.0632 L396.977 37.0632 L396.977 40.5817 Q396.977 41.3746 397.191 41.6003 Q397.411 41.826 398.077 41.826 L399.17 41.826 L399.17 42.7172 L398.077 42.7172 Q396.844 42.7172 396.375 42.26 Q395.907 41.797 395.907 40.5817 L395.907 37.0632 L395.125 37.0632 L395.125 36.2357 L395.907 36.2357 L395.907 34.3954 L396.977 34.3954 Z\" fill=\"#000000\" fill-rule=\"evenodd\" fill-opacity=\"1\" /><path clip-path=\"url(#clip150)\" d=\"M 0 0 M405.831 39.2102 L405.831 39.7311 L400.936 39.7311 Q401.005 40.8306 401.595 41.4093 Q402.191 41.9822 403.25 41.9822 Q403.864 41.9822 404.437 41.8317 Q405.015 41.6813 405.582 41.3804 L405.582 42.3873 Q405.01 42.6303 404.408 42.7577 Q403.806 42.885 403.187 42.885 Q401.636 42.885 400.727 41.9822 Q399.824 41.0794 399.824 39.5401 Q399.824 37.9487 400.681 37.017 Q401.543 36.0795 403.001 36.0795 Q404.309 36.0795 405.067 36.9244 Q405.831 37.7635 405.831 39.2102 M404.767 38.8977 Q404.755 38.0239 404.275 37.5031 Q403.8 36.9822 403.013 36.9822 Q402.122 36.9822 401.584 37.4857 Q401.051 37.9892 400.97 38.9035 L404.767 38.8977 Z\" fill=\"#000000\" fill-rule=\"evenodd\" fill-opacity=\"1\" /><path clip-path=\"url(#clip150)\" d=\"M 0 0 M412.336 38.8051 L412.336 42.7172 L411.271 42.7172 L411.271 38.8399 Q411.271 37.9197 410.912 37.4626 Q410.554 37.0054 409.836 37.0054 Q408.974 37.0054 408.476 37.5551 Q407.978 38.1049 407.978 39.054 L407.978 42.7172 L406.908 42.7172 L406.908 36.2357 L407.978 36.2357 L407.978 37.2426 Q408.36 36.6582 408.875 36.3688 Q409.396 36.0795 410.073 36.0795 Q411.19 36.0795 411.763 36.7739 Q412.336 37.4626 412.336 38.8051 Z\" fill=\"#000000\" fill-rule=\"evenodd\" fill-opacity=\"1\" /><path clip-path=\"url(#clip150)\" d=\"M 0 0 M414.506 34.3954 L414.506 36.2357 L416.699 36.2357 L416.699 37.0632 L414.506 37.0632 L414.506 40.5817 Q414.506 41.3746 414.72 41.6003 Q414.94 41.826 415.606 41.826 L416.699 41.826 L416.699 42.7172 L415.606 42.7172 Q414.373 42.7172 413.904 42.26 Q413.435 41.797 413.435 40.5817 L413.435 37.0632 L412.654 37.0632 L412.654 36.2357 L413.435 36.2357 L413.435 34.3954 L414.506 34.3954 Z\" fill=\"#000000\" fill-rule=\"evenodd\" fill-opacity=\"1\" /><path clip-path=\"url(#clip150)\" d=\"M 0 0 M417.816 36.2357 L418.881 36.2357 L418.881 42.7172 L417.816 42.7172 L417.816 36.2357 M417.816 33.7126 L418.881 33.7126 L418.881 35.0609 L417.816 35.0609 L417.816 33.7126 Z\" fill=\"#000000\" fill-rule=\"evenodd\" fill-opacity=\"1\" /><path clip-path=\"url(#clip150)\" d=\"M 0 0 M422.943 39.4591 Q421.653 39.4591 421.155 39.7542 Q420.658 40.0493 420.658 40.7611 Q420.658 41.3283 421.028 41.6639 Q421.404 41.9938 422.047 41.9938 Q422.932 41.9938 423.464 41.3688 Q424.003 40.738 424.003 39.6963 L424.003 39.4591 L422.943 39.4591 M425.067 39.0193 L425.067 42.7172 L424.003 42.7172 L424.003 41.7334 Q423.638 42.3236 423.094 42.6072 Q422.55 42.885 421.763 42.885 Q420.768 42.885 420.177 42.3294 Q419.593 41.7681 419.593 40.8306 Q419.593 39.7368 420.322 39.1813 Q421.057 38.6257 422.509 38.6257 L424.003 38.6257 L424.003 38.5216 Q424.003 37.7866 423.516 37.3873 Q423.036 36.9822 422.162 36.9822 Q421.607 36.9822 421.08 37.1153 Q420.553 37.2484 420.067 37.5146 L420.067 36.5308 Q420.652 36.3052 421.202 36.1952 Q421.751 36.0795 422.272 36.0795 Q423.678 36.0795 424.373 36.8086 Q425.067 37.5378 425.067 39.0193 Z\" fill=\"#000000\" fill-rule=\"evenodd\" fill-opacity=\"1\" /><path clip-path=\"url(#clip150)\" d=\"M 0 0 M426.184 33.7126 L427.249 33.7126 L427.249 42.7172 L426.184 42.7172 L426.184 33.7126 Z\" fill=\"#000000\" fill-rule=\"evenodd\" fill-opacity=\"1\" /><path clip-path=\"url(#clip150)\" d=\"M 0 0 M437.677 39.2102 L437.677 39.7311 L432.781 39.7311 Q432.851 40.8306 433.441 41.4093 Q434.037 41.9822 435.096 41.9822 Q435.71 41.9822 436.283 41.8317 Q436.861 41.6813 437.428 41.3804 L437.428 42.3873 Q436.855 42.6303 436.254 42.7577 Q435.652 42.885 435.033 42.885 Q433.482 42.885 432.573 41.9822 Q431.67 41.0794 431.67 39.5401 Q431.67 37.9487 432.527 37.017 Q433.389 36.0795 434.847 36.0795 Q436.155 36.0795 436.913 36.9244 Q437.677 37.7635 437.677 39.2102 M436.612 38.8977 Q436.601 38.0239 436.12 37.5031 Q435.646 36.9822 434.859 36.9822 Q433.968 36.9822 433.43 37.4857 Q432.897 37.9892 432.816 38.9035 L436.612 38.8977 Z\" fill=\"#000000\" fill-rule=\"evenodd\" fill-opacity=\"1\" /><path clip-path=\"url(#clip150)\" d=\"M 0 0 M444.182 38.8051 L444.182 42.7172 L443.117 42.7172 L443.117 38.8399 Q443.117 37.9197 442.758 37.4626 Q442.399 37.0054 441.682 37.0054 Q440.82 37.0054 440.322 37.5551 Q439.824 38.1049 439.824 39.054 L439.824 42.7172 L438.754 42.7172 L438.754 36.2357 L439.824 36.2357 L439.824 37.2426 Q440.206 36.6582 440.721 36.3688 Q441.242 36.0795 441.919 36.0795 Q443.036 36.0795 443.609 36.7739 Q444.182 37.4626 444.182 38.8051 Z\" fill=\"#000000\" fill-rule=\"evenodd\" fill-opacity=\"1\" /><path clip-path=\"url(#clip150)\" d=\"M 0 0 M450.843 39.2102 L450.843 39.7311 L445.947 39.7311 Q446.016 40.8306 446.607 41.4093 Q447.203 41.9822 448.262 41.9822 Q448.875 41.9822 449.448 41.8317 Q450.027 41.6813 450.594 41.3804 L450.594 42.3873 Q450.021 42.6303 449.419 42.7577 Q448.817 42.885 448.198 42.885 Q446.647 42.885 445.739 41.9822 Q444.836 41.0794 444.836 39.5401 Q444.836 37.9487 445.692 37.017 Q446.554 36.0795 448.013 36.0795 Q449.321 36.0795 450.079 36.9244 Q450.843 37.7635 450.843 39.2102 M449.778 38.8977 Q449.766 38.0239 449.286 37.5031 Q448.811 36.9822 448.024 36.9822 Q447.133 36.9822 446.595 37.4857 Q446.063 37.9892 445.982 38.9035 L449.778 38.8977 Z\" fill=\"#000000\" fill-rule=\"evenodd\" fill-opacity=\"1\" /><path clip-path=\"url(#clip150)\" d=\"M 0 0 M455.715 37.2311 Q455.536 37.1269 455.322 37.0806 Q455.113 37.0285 454.859 37.0285 Q453.956 37.0285 453.47 37.6188 Q452.99 38.2033 452.99 39.3028 L452.99 42.7172 L451.919 42.7172 L451.919 36.2357 L452.99 36.2357 L452.99 37.2426 Q453.325 36.6524 453.863 36.3688 Q454.402 36.0795 455.171 36.0795 Q455.281 36.0795 455.414 36.0968 Q455.547 36.1084 455.71 36.1373 L455.715 37.2311 Z\" fill=\"#000000\" fill-rule=\"evenodd\" fill-opacity=\"1\" /><path clip-path=\"url(#clip150)\" d=\"M 0 0 M460.889 39.4012 Q460.889 38.2438 460.409 37.6072 Q459.934 36.9707 459.072 36.9707 Q458.215 36.9707 457.735 37.6072 Q457.26 38.2438 457.26 39.4012 Q457.26 40.5528 457.735 41.1894 Q458.215 41.826 459.072 41.826 Q459.934 41.826 460.409 41.1894 Q460.889 40.5528 460.889 39.4012 M461.954 41.9128 Q461.954 43.5678 461.219 44.3722 Q460.484 45.1824 458.968 45.1824 Q458.406 45.1824 457.909 45.0956 Q457.411 45.0146 456.942 44.841 L456.942 43.8051 Q457.411 44.0597 457.868 44.1813 Q458.325 44.3028 458.8 44.3028 Q459.847 44.3028 460.368 43.753 Q460.889 43.2091 460.889 42.1037 L460.889 41.5771 Q460.559 42.15 460.044 42.4336 Q459.529 42.7172 458.811 42.7172 Q457.619 42.7172 456.89 41.8086 Q456.161 40.9 456.161 39.4012 Q456.161 37.8966 456.89 36.988 Q457.619 36.0795 458.811 36.0795 Q459.529 36.0795 460.044 36.363 Q460.559 36.6466 460.889 37.2195 L460.889 36.2357 L461.954 36.2357 L461.954 41.9128 Z\" fill=\"#000000\" fill-rule=\"evenodd\" fill-opacity=\"1\" /><path clip-path=\"url(#clip150)\" d=\"M 0 0 M465.767 43.319 Q465.316 44.4764 464.888 44.8294 Q464.459 45.1824 463.742 45.1824 L462.891 45.1824 L462.891 44.2912 L463.516 44.2912 Q463.956 44.2912 464.199 44.0829 Q464.442 43.8746 464.737 43.0991 L464.928 42.613 L462.307 36.2357 L463.435 36.2357 L465.461 41.3051 L467.486 36.2357 L468.615 36.2357 L465.767 43.319 Z\" fill=\"#000000\" fill-rule=\"evenodd\" fill-opacity=\"1\" /><path clip-path=\"url(#clip150)\" d=\"M 0 0 M472.735 36.2357 L473.863 36.2357 L475.889 41.6755 L477.914 36.2357 L479.043 36.2357 L476.612 42.7172 L475.165 42.7172 L472.735 36.2357 Z\" fill=\"#000000\" fill-rule=\"evenodd\" fill-opacity=\"1\" /><path clip-path=\"url(#clip150)\" d=\"M 0 0 M484.292 36.4267 L484.292 37.4336 Q483.84 37.2021 483.354 37.0864 Q482.868 36.9707 482.347 36.9707 Q481.554 36.9707 481.155 37.2137 Q480.761 37.4568 480.761 37.9429 Q480.761 38.3132 481.045 38.5274 Q481.329 38.7357 482.185 38.9267 L482.55 39.0077 Q483.684 39.2507 484.158 39.6963 Q484.639 40.1362 484.639 40.929 Q484.639 41.8317 483.921 42.3584 Q483.209 42.885 481.959 42.885 Q481.439 42.885 480.871 42.7808 Q480.31 42.6824 479.685 42.4799 L479.685 41.3804 Q480.275 41.6871 480.848 41.8433 Q481.421 41.9938 481.983 41.9938 Q482.735 41.9938 483.14 41.7392 Q483.545 41.4787 483.545 41.01 Q483.545 40.576 483.25 40.3445 Q482.961 40.113 481.971 39.8989 L481.601 39.8121 Q480.611 39.6037 480.171 39.1755 Q479.731 38.7415 479.731 37.9892 Q479.731 37.0748 480.38 36.5771 Q481.028 36.0795 482.22 36.0795 Q482.81 36.0795 483.331 36.1663 Q483.852 36.2531 484.292 36.4267 Z\" fill=\"#000000\" fill-rule=\"evenodd\" fill-opacity=\"1\" /><path clip-path=\"url(#clip150)\" d=\"M 0 0 M490.738 35.0378 L490.738 41.7565 L492.15 41.7565 Q493.938 41.7565 494.766 40.9463 Q495.599 40.1362 495.599 38.3885 Q495.599 36.6524 494.766 35.848 Q493.938 35.0378 492.15 35.0378 L490.738 35.0378 M489.569 34.0772 L491.971 34.0772 Q494.482 34.0772 495.657 35.1246 Q496.832 36.1663 496.832 38.3885 Q496.832 40.6223 495.651 41.6697 Q494.471 42.7172 491.971 42.7172 L489.569 42.7172 L489.569 34.0772 Z\" fill=\"#000000\" fill-rule=\"evenodd\" fill-opacity=\"1\" /><path clip-path=\"url(#clip150)\" d=\"M 0 0 M497.949 36.2357 L499.014 36.2357 L499.014 42.7172 L497.949 42.7172 L497.949 36.2357 M497.949 33.7126 L499.014 33.7126 L499.014 35.0609 L497.949 35.0609 L497.949 33.7126 Z\" fill=\"#000000\" fill-rule=\"evenodd\" fill-opacity=\"1\" /><path clip-path=\"url(#clip150)\" d=\"M 0 0 M504.262 36.4267 L504.262 37.4336 Q503.811 37.2021 503.325 37.0864 Q502.839 36.9707 502.318 36.9707 Q501.525 36.9707 501.126 37.2137 Q500.732 37.4568 500.732 37.9429 Q500.732 38.3132 501.016 38.5274 Q501.3 38.7357 502.156 38.9267 L502.521 39.0077 Q503.655 39.2507 504.129 39.6963 Q504.61 40.1362 504.61 40.929 Q504.61 41.8317 503.892 42.3584 Q503.18 42.885 501.93 42.885 Q501.41 42.885 500.842 42.7808 Q500.281 42.6824 499.656 42.4799 L499.656 41.3804 Q500.246 41.6871 500.819 41.8433 Q501.392 41.9938 501.953 41.9938 Q502.706 41.9938 503.111 41.7392 Q503.516 41.4787 503.516 41.01 Q503.516 40.576 503.221 40.3445 Q502.931 40.113 501.942 39.8989 L501.572 39.8121 Q500.582 39.6037 500.142 39.1755 Q499.702 38.7415 499.702 37.9892 Q499.702 37.0748 500.35 36.5771 Q500.999 36.0795 502.191 36.0795 Q502.781 36.0795 503.302 36.1663 Q503.823 36.2531 504.262 36.4267 Z\" fill=\"#000000\" fill-rule=\"evenodd\" fill-opacity=\"1\" /><path clip-path=\"url(#clip150)\" d=\"M 0 0 M506.757 41.7449 L506.757 45.1824 L505.686 45.1824 L505.686 36.2357 L506.757 36.2357 L506.757 37.2195 Q507.092 36.6408 507.602 36.363 Q508.117 36.0795 508.828 36.0795 Q510.009 36.0795 510.744 37.017 Q511.485 37.9544 511.485 39.4822 Q511.485 41.01 510.744 41.9475 Q510.009 42.885 508.828 42.885 Q508.117 42.885 507.602 42.6072 Q507.092 42.3236 506.757 41.7449 M510.379 39.4822 Q510.379 38.3075 509.893 37.642 Q509.413 36.9707 508.568 36.9707 Q507.723 36.9707 507.237 37.642 Q506.757 38.3075 506.757 39.4822 Q506.757 40.657 507.237 41.3283 Q507.723 41.9938 508.568 41.9938 Q509.413 41.9938 509.893 41.3283 Q510.379 40.657 510.379 39.4822 Z\" fill=\"#000000\" fill-rule=\"evenodd\" fill-opacity=\"1\" /><path clip-path=\"url(#clip150)\" d=\"M 0 0 M512.602 33.7126 L513.666 33.7126 L513.666 42.7172 L512.602 42.7172 L512.602 33.7126 Z\" fill=\"#000000\" fill-rule=\"evenodd\" fill-opacity=\"1\" /><path clip-path=\"url(#clip150)\" d=\"M 0 0 M517.729 39.4591 Q516.438 39.4591 515.941 39.7542 Q515.443 40.0493 515.443 40.7611 Q515.443 41.3283 515.813 41.6639 Q516.19 41.9938 516.832 41.9938 Q517.717 41.9938 518.25 41.3688 Q518.788 40.738 518.788 39.6963 L518.788 39.4591 L517.729 39.4591 M519.853 39.0193 L519.853 42.7172 L518.788 42.7172 L518.788 41.7334 Q518.423 42.3236 517.879 42.6072 Q517.335 42.885 516.548 42.885 Q515.553 42.885 514.963 42.3294 Q514.378 41.7681 514.378 40.8306 Q514.378 39.7368 515.107 39.1813 Q515.842 38.6257 517.295 38.6257 L518.788 38.6257 L518.788 38.5216 Q518.788 37.7866 518.302 37.3873 Q517.821 36.9822 516.948 36.9822 Q516.392 36.9822 515.865 37.1153 Q515.339 37.2484 514.853 37.5146 L514.853 36.5308 Q515.437 36.3052 515.987 36.1952 Q516.537 36.0795 517.058 36.0795 Q518.464 36.0795 519.158 36.8086 Q519.853 37.5378 519.853 39.0193 Z\" fill=\"#000000\" fill-rule=\"evenodd\" fill-opacity=\"1\" /><path clip-path=\"url(#clip150)\" d=\"M 0 0 M525.634 36.4845 L525.634 37.4799 Q525.183 37.2311 524.725 37.1095 Q524.274 36.9822 523.811 36.9822 Q522.775 36.9822 522.202 37.642 Q521.629 38.2959 521.629 39.4822 Q521.629 40.6686 522.202 41.3283 Q522.775 41.9822 523.811 41.9822 Q524.274 41.9822 524.725 41.8607 Q525.183 41.7334 525.634 41.4845 L525.634 42.4683 Q525.188 42.6766 524.708 42.7808 Q524.233 42.885 523.695 42.885 Q522.231 42.885 521.369 41.9648 Q520.507 41.0447 520.507 39.4822 Q520.507 37.8966 521.375 36.988 Q522.249 36.0795 523.765 36.0795 Q524.257 36.0795 524.725 36.1836 Q525.194 36.282 525.634 36.4845 Z\" fill=\"#000000\" fill-rule=\"evenodd\" fill-opacity=\"1\" /><path clip-path=\"url(#clip150)\" d=\"M 0 0 M532.295 39.2102 L532.295 39.7311 L527.399 39.7311 Q527.468 40.8306 528.059 41.4093 Q528.655 41.9822 529.714 41.9822 Q530.327 41.9822 530.9 41.8317 Q531.479 41.6813 532.046 41.3804 L532.046 42.3873 Q531.473 42.6303 530.871 42.7577 Q530.269 42.885 529.65 42.885 Q528.099 42.885 527.191 41.9822 Q526.288 41.0794 526.288 39.5401 Q526.288 37.9487 527.144 37.017 Q528.007 36.0795 529.465 36.0795 Q530.773 36.0795 531.531 36.9244 Q532.295 37.7635 532.295 39.2102 M531.23 38.8977 Q531.218 38.0239 530.738 37.5031 Q530.264 36.9822 529.476 36.9822 Q528.585 36.9822 528.047 37.4857 Q527.515 37.9892 527.434 38.9035 L531.23 38.8977 Z\" fill=\"#000000\" fill-rule=\"evenodd\" fill-opacity=\"1\" /><path clip-path=\"url(#clip150)\" d=\"M 0 0 M538.458 37.4799 Q538.857 36.7623 539.413 36.4209 Q539.968 36.0795 540.721 36.0795 Q541.733 36.0795 542.283 36.7913 Q542.833 37.4973 542.833 38.8051 L542.833 42.7172 L541.762 42.7172 L541.762 38.8399 Q541.762 37.9082 541.432 37.4568 Q541.103 37.0054 540.425 37.0054 Q539.598 37.0054 539.118 37.5551 Q538.637 38.1049 538.637 39.054 L538.637 42.7172 L537.567 42.7172 L537.567 38.8399 Q537.567 37.9024 537.237 37.4568 Q536.907 37.0054 536.218 37.0054 Q535.402 37.0054 534.922 37.5609 Q534.442 38.1107 534.442 39.054 L534.442 42.7172 L533.371 42.7172 L533.371 36.2357 L534.442 36.2357 L534.442 37.2426 Q534.806 36.6466 535.316 36.363 Q535.825 36.0795 536.525 36.0795 Q537.231 36.0795 537.723 36.4383 Q538.221 36.797 538.458 37.4799 Z\" fill=\"#000000\" fill-rule=\"evenodd\" fill-opacity=\"1\" /><path clip-path=\"url(#clip150)\" d=\"M 0 0 M549.494 39.2102 L549.494 39.7311 L544.598 39.7311 Q544.667 40.8306 545.258 41.4093 Q545.854 41.9822 546.913 41.9822 Q547.526 41.9822 548.099 41.8317 Q548.678 41.6813 549.245 41.3804 L549.245 42.3873 Q548.672 42.6303 548.07 42.7577 Q547.468 42.885 546.849 42.885 Q545.298 42.885 544.39 41.9822 Q543.487 41.0794 543.487 39.5401 Q543.487 37.9487 544.343 37.017 Q545.206 36.0795 546.664 36.0795 Q547.972 36.0795 548.73 36.9244 Q549.494 37.7635 549.494 39.2102 M548.429 38.8977 Q548.417 38.0239 547.937 37.5031 Q547.462 36.9822 546.675 36.9822 Q545.784 36.9822 545.246 37.4857 Q544.714 37.9892 544.633 38.9035 L548.429 38.8977 Z\" fill=\"#000000\" fill-rule=\"evenodd\" fill-opacity=\"1\" /><path clip-path=\"url(#clip150)\" d=\"M 0 0 M555.998 38.8051 L555.998 42.7172 L554.934 42.7172 L554.934 38.8399 Q554.934 37.9197 554.575 37.4626 Q554.216 37.0054 553.498 37.0054 Q552.636 37.0054 552.138 37.5551 Q551.641 38.1049 551.641 39.054 L551.641 42.7172 L550.57 42.7172 L550.57 36.2357 L551.641 36.2357 L551.641 37.2426 Q552.023 36.6582 552.538 36.3688 Q553.059 36.0795 553.736 36.0795 Q554.853 36.0795 555.425 36.7739 Q555.998 37.4626 555.998 38.8051 Z\" fill=\"#000000\" fill-rule=\"evenodd\" fill-opacity=\"1\" /><path clip-path=\"url(#clip150)\" d=\"M 0 0 M558.168 34.3954 L558.168 36.2357 L560.362 36.2357 L560.362 37.0632 L558.168 37.0632 L558.168 40.5817 Q558.168 41.3746 558.383 41.6003 Q558.602 41.826 559.268 41.826 L560.362 41.826 L560.362 42.7172 L559.268 42.7172 Q558.035 42.7172 557.567 42.26 Q557.098 41.797 557.098 40.5817 L557.098 37.0632 L556.317 37.0632 L556.317 36.2357 L557.098 36.2357 L557.098 34.3954 L558.168 34.3954 Z\" fill=\"#000000\" fill-rule=\"evenodd\" fill-opacity=\"1\" /><circle clip-path=\"url(#clip150)\" cx=\"360.786\" cy=\"53.5172\" r=\"5\" fill=\"#ff0000\" fill-rule=\"evenodd\" fill-opacity=\"1\" stroke=\"#000000\" stroke-opacity=\"1\" stroke-width=\"0.853333\"/>\n",
       "<path clip-path=\"url(#clip150)\" d=\"M 0 0 M383.048 49.1972 L384.79 49.1972 L386.995 55.0768 L389.211 49.1972 L390.953 49.1972 L390.953 57.8372 L389.813 57.8372 L389.813 50.2504 L387.585 56.1763 L386.41 56.1763 L384.182 50.2504 L384.182 57.8372 L383.048 57.8372 L383.048 49.1972 Z\" fill=\"#000000\" fill-rule=\"evenodd\" fill-opacity=\"1\" /><path clip-path=\"url(#clip150)\" d=\"M 0 0 M392.07 51.3557 L393.135 51.3557 L393.135 57.8372 L392.07 57.8372 L392.07 51.3557 M392.07 48.8326 L393.135 48.8326 L393.135 50.1809 L392.07 50.1809 L392.07 48.8326 Z\" fill=\"#000000\" fill-rule=\"evenodd\" fill-opacity=\"1\" /><path clip-path=\"url(#clip150)\" d=\"M 0 0 M399.639 53.9251 L399.639 57.8372 L398.574 57.8372 L398.574 53.9599 Q398.574 53.0397 398.216 52.5826 Q397.857 52.1254 397.139 52.1254 Q396.277 52.1254 395.779 52.6751 Q395.282 53.2249 395.282 54.174 L395.282 57.8372 L394.211 57.8372 L394.211 51.3557 L395.282 51.3557 L395.282 52.3626 Q395.664 51.7782 396.179 51.4888 Q396.699 51.1995 397.376 51.1995 Q398.493 51.1995 399.066 51.8939 Q399.639 52.5826 399.639 53.9251 Z\" fill=\"#000000\" fill-rule=\"evenodd\" fill-opacity=\"1\" /><path clip-path=\"url(#clip150)\" d=\"M 0 0 M400.756 51.3557 L401.821 51.3557 L401.821 57.8372 L400.756 57.8372 L400.756 51.3557 M400.756 48.8326 L401.821 48.8326 L401.821 50.1809 L400.756 50.1809 L400.756 48.8326 Z\" fill=\"#000000\" fill-rule=\"evenodd\" fill-opacity=\"1\" /><path clip-path=\"url(#clip150)\" d=\"M 0 0 M407.984 52.5999 Q408.383 51.8823 408.939 51.5409 Q409.494 51.1995 410.247 51.1995 Q411.26 51.1995 411.809 51.9113 Q412.359 52.6173 412.359 53.9251 L412.359 57.8372 L411.288 57.8372 L411.288 53.9599 Q411.288 53.0282 410.959 52.5768 Q410.629 52.1254 409.952 52.1254 Q409.124 52.1254 408.644 52.6751 Q408.163 53.2249 408.163 54.174 L408.163 57.8372 L407.093 57.8372 L407.093 53.9599 Q407.093 53.0224 406.763 52.5768 Q406.433 52.1254 405.745 52.1254 Q404.929 52.1254 404.448 52.6809 Q403.968 53.2307 403.968 54.174 L403.968 57.8372 L402.897 57.8372 L402.897 51.3557 L403.968 51.3557 L403.968 52.3626 Q404.332 51.7666 404.842 51.483 Q405.351 51.1995 406.051 51.1995 Q406.757 51.1995 407.249 51.5583 Q407.747 51.917 407.984 52.5999 Z\" fill=\"#000000\" fill-rule=\"evenodd\" fill-opacity=\"1\" /><path clip-path=\"url(#clip150)\" d=\"M 0 0 M413.366 55.2793 L413.366 51.3557 L414.431 51.3557 L414.431 55.2388 Q414.431 56.1589 414.79 56.6219 Q415.148 57.0791 415.866 57.0791 Q416.728 57.0791 417.226 56.5293 Q417.729 55.9795 417.729 55.0305 L417.729 51.3557 L418.794 51.3557 L418.794 57.8372 L417.729 57.8372 L417.729 56.8418 Q417.342 57.4321 416.827 57.7214 Q416.317 58.005 415.64 58.005 Q414.523 58.005 413.945 57.3105 Q413.366 56.6161 413.366 55.2793 M416.045 51.1995 L416.045 51.1995 Z\" fill=\"#000000\" fill-rule=\"evenodd\" fill-opacity=\"1\" /><path clip-path=\"url(#clip150)\" d=\"M 0 0 M424.957 52.5999 Q425.357 51.8823 425.912 51.5409 Q426.468 51.1995 427.22 51.1995 Q428.233 51.1995 428.783 51.9113 Q429.332 52.6173 429.332 53.9251 L429.332 57.8372 L428.262 57.8372 L428.262 53.9599 Q428.262 53.0282 427.932 52.5768 Q427.602 52.1254 426.925 52.1254 Q426.097 52.1254 425.617 52.6751 Q425.137 53.2249 425.137 54.174 L425.137 57.8372 L424.066 57.8372 L424.066 53.9599 Q424.066 53.0224 423.736 52.5768 Q423.406 52.1254 422.718 52.1254 Q421.902 52.1254 421.422 52.6809 Q420.941 53.2307 420.941 54.174 L420.941 57.8372 L419.871 57.8372 L419.871 51.3557 L420.941 51.3557 L420.941 52.3626 Q421.306 51.7666 421.815 51.483 Q422.324 51.1995 423.025 51.1995 Q423.731 51.1995 424.222 51.5583 Q424.72 51.917 424.957 52.5999 Z\" fill=\"#000000\" fill-rule=\"evenodd\" fill-opacity=\"1\" /></svg>\n"
      ]
     },
     "execution_count": 24,
     "metadata": {},
     "output_type": "execute_result"
    }
   ],
   "source": [
    "# Create plot variables\n",
    "k=12.5; \n",
    "F=500.0; \n",
    "uMin=F/k; \n",
    "pMin=0.5*k*uMin^2-F*uMin;\n",
    "u=range(uMin-50,stop=uMin+50,length=500); #Displacements\n",
    "p=0.5*k*u.^2-F*u; \n",
    "\n",
    "# Visualize graph\n",
    "#plots() # use the PyPlot.jl backend\n",
    "plot(u,p,linewidth=2,xlabel=\"u\",ylabel=\"P\",color=\"blue\",label=\"Potential energy vs Displacement\") #Plot graph\n",
    "scatter!([uMin],[pMin],markersize=6, c=:red,label=\"Minimum\") #Plot graph"
   ]
  },
  {
   "cell_type": "markdown",
   "metadata": {
    "slideshow": {
     "slide_type": "slide"
    }
   },
   "source": [
    "### Deriving stiffness matrices using the potential energy approach\n",
    "Recall the two node spring system:  \n",
    "![spring image](spring_2Node.png)   \n",
    "Recalling $f_{1x}=k(u_1-u_2)$, and $f_{2x}=k(u_2-u_1)$, the potential energy $\\Pi=\\frac{1}{2}ku^2-Fu$ can be written: \n",
    "$$\\Pi=\\frac{1}{2}k(u_2-u_1)^2-f_{1x}u_1-f_{2x}u_2=\\frac{1}{2}k(u_2^2-2u_1u_2+u_1^2)-f_{1x}u_1-f_{2x}u_2$$"
   ]
  },
  {
   "cell_type": "markdown",
   "metadata": {
    "slideshow": {
     "slide_type": "fragment"
    }
   },
   "source": [
    "to minimize this expression partial derivatives with the displacement components are computed and set to 0:   \n",
    "\n",
    "$$\\frac{\\partial\\Pi}{\\partial u_1}=\\frac{1}{2}k(-2u_2+2u_1)-f_{x1}=k(u_1-u_2)-f_{x1}=0$$ \n",
    "$$\\frac{\\partial\\Pi}{\\partial u_2}=\\frac{1}{2}k(-2u_1+2u_2)-f_{x2}=k(u_2-u_1)-f_{x2}=0$$"
   ]
  },
  {
   "cell_type": "markdown",
   "metadata": {
    "slideshow": {
     "slide_type": "fragment"
    }
   },
   "source": [
    "Which after simplification provides:\n",
    "$$\\frac{\\partial\\Pi}{\\partial u_1}=k(u_1-u_2)-f_{x1}=0$$\n",
    "$$\\frac{\\partial\\Pi}{\\partial u_2}=k(u_2-u_1)-f_{x2}=0$$"
   ]
  },
  {
   "cell_type": "markdown",
   "metadata": {
    "slideshow": {
     "slide_type": "slide"
    }
   },
   "source": [
    "Leading us to the familiar notation for the force components at node 1 and 2:\n",
    "$$f_{1x}=k(u_1-u_2)$$\n",
    "$$f_{2x}=k(u_2-u_1)$$\n",
    "Which once again can be expressed in matrix form as:\n",
    "$$\\begin{Bmatrix} f_{1x} \\\\ f_{2x} \\end{Bmatrix}=\\begin{bmatrix} k & -k \\\\ -k & k\\end{bmatrix}\\begin{Bmatrix} u_1 \\\\ u_2\\end{Bmatrix}$$"
   ]
  },
  {
   "cell_type": "markdown",
   "metadata": {
    "slideshow": {
     "slide_type": "slide"
    }
   },
   "source": [
    "## Example: Deriving stiffness matrices using the potential energy approach\n",
    "\n",
    "Consider the three spring system below \\*:   \n",
    "![spring image](springSet_3.png)   \n",
    "The system consists of 3 spring \"elements\" and 4 nodes. Node 1 and 4 are constrained from moving. A force of 25 kN is applied to node 3 in the positive x-direction. The spring stiffnesses are:    \n",
    "\n",
    "$k_1=200$, $k_2=400$, and $k_3=600$\n",
    "        \n",
    "\\*Based on example 2.5 of: Daryl Logan, _\"A First Course in the Finite Element Methods\"_ (page 64 in the 6th edition, page 63 in the 5th edition)   \n"
   ]
  },
  {
   "cell_type": "markdown",
   "metadata": {
    "slideshow": {
     "slide_type": "slide"
    }
   },
   "source": [
    "Which, expressed in matrix form become:   \n",
    "$$\\Lambda^{(1)}=\\frac{1}{2}\\begin{Bmatrix} u_1 \\\\ u_2 \\end{Bmatrix}^\\top\\begin{bmatrix} k_1 & -k_1 \\\\ -k_1 & k_1 \\end{bmatrix}\\begin{Bmatrix} u_1 \\\\ u_2 \\end{Bmatrix} \\textrm{,} \\quad \\Lambda^{(2)}=\\frac{1}{2}\\begin{Bmatrix} u_2 \\\\ u_3 \\end{Bmatrix}^\\top\\begin{bmatrix} k_2 & -k_2 \\\\ -k_2 & k_2 \\end{bmatrix}\\begin{Bmatrix} u_2 \\\\ u_3 \\end{Bmatrix} \\textrm{,} \\quad \\Lambda^{(3)}=\\frac{1}{2}\\begin{Bmatrix} u_3 \\\\ u_4 \\end{Bmatrix}^\\top\\begin{bmatrix} k_3 & -k_3 \\\\ -k_3 & k_3 \\end{bmatrix}\\begin{Bmatrix} u_3 \\\\ u_4 \\end{Bmatrix}$$\n",
    "Note that due to the use of the tranpose operation the matrix products yield scalar energy contributions.   \n"
   ]
  },
  {
   "cell_type": "markdown",
   "metadata": {
    "slideshow": {
     "slide_type": "fragment"
    }
   },
   "source": [
    "In short notation we may write: \n",
    "$$\\Lambda^{(i)}=\\frac{1}{2}\\begin{Bmatrix} u^{(i)} \\end{Bmatrix}^\\top\\begin{bmatrix} K^{(i)} \\end{bmatrix}\\begin{Bmatrix} u^{(i)} \\end{Bmatrix}$$\n",
    "Leading to the total strain energy: \n",
    "$$\\Lambda=\\sum_{i=1}^{3} \\Lambda^{(i)}=\\frac{1}{2}\\begin{Bmatrix} u \\end{Bmatrix}^\\top\\begin{bmatrix} K \\end{bmatrix}\\begin{Bmatrix} u \\end{Bmatrix}$$"
   ]
  },
  {
   "cell_type": "markdown",
   "metadata": {
    "slideshow": {
     "slide_type": "slide"
    }
   },
   "source": [
    "### External work contributions in matrix form\n",
    "$$W=\\sum_{i=1}^{4}F_{ix}u_i=\\begin{Bmatrix} u_1 \\\\ u_2 \\\\ u_3 \\\\ u_4 \\end{Bmatrix}^\\top\\begin{Bmatrix} F_{1} \\\\ F_{2} \\\\ F_{3} \\\\ F_{4} \\end{Bmatrix}=\\begin{Bmatrix} u \\end{Bmatrix}^\\top\\begin{Bmatrix} F \\end{Bmatrix}$$"
   ]
  },
  {
   "cell_type": "markdown",
   "metadata": {
    "slideshow": {
     "slide_type": "slide"
    }
   },
   "source": [
    "### Potential energy in matrix form\n",
    "$$\\Pi=\\Lambda-W$$\n",
    "Using:\n",
    "$$W=\\begin{Bmatrix} u \\end{Bmatrix}^\\top\\begin{Bmatrix} F \\end{Bmatrix}$$\n",
    "and\n",
    "$$\\Lambda=\\sum_{i=1}^{3} \\Lambda^{(i)}=\\frac{1}{2}\\begin{Bmatrix} u \\end{Bmatrix}^\\top\\begin{bmatrix} K \\end{bmatrix}\\begin{Bmatrix} u \\end{Bmatrix}$$\n",
    "we obtain:\n",
    "$$\\Pi=\\frac{1}{2}\\begin{Bmatrix} u \\end{Bmatrix}^\\top\\begin{bmatrix} K \\end{bmatrix}\\begin{Bmatrix} u \\end{Bmatrix}-\\begin{Bmatrix} u \\end{Bmatrix}^\\top\\begin{Bmatrix} F \\end{Bmatrix}$$\n",
    "Minimisation through partial derivatives with $\\begin{Bmatrix} u \\end{Bmatrix}$ gives:\n",
    "$$\\frac{\\partial\\Pi}{\\partial \\begin{Bmatrix} u \\end{Bmatrix}}=\\begin{bmatrix} K \\end{bmatrix}\\begin{Bmatrix} u \\end{Bmatrix}-\\begin{Bmatrix} F \\end{Bmatrix}=0$$\n",
    "Leading to the familiar expression:\n",
    "$$\\begin{Bmatrix} F \\end{Bmatrix}=\\begin{bmatrix} K \\end{bmatrix}\\begin{Bmatrix} u \\end{Bmatrix}$$\n"
   ]
  },
  {
   "cell_type": "markdown",
   "metadata": {
    "slideshow": {
     "slide_type": "slide"
    }
   },
   "source": [
    "### Potential energy in matrix form\n",
    "$$\\Pi=\\frac{1}{2}\\begin{Bmatrix} u \\end{Bmatrix}^\\top\\begin{bmatrix} K \\end{bmatrix}\\begin{Bmatrix} u \\end{Bmatrix}-\\begin{Bmatrix} u \\end{Bmatrix}^\\top\\begin{Bmatrix} F \\end{Bmatrix}=\\sum_{i=1}^{3} \\Pi^{(i)}$$\n",
    "\n",
    "$$\\Pi=\\overbrace{\\bigg[\\frac{1}{2}k_1(u_1^2-2u_1u_2+u_2^2)-F_{1}u_1\\bigg]}^{\\Pi^{(1)}}+\\overbrace{\\bigg[\\frac{1}{2}k_2(u_2^2-2u_2u_3+u_3^2)-F_{2}u_2\\bigg]}^{\\Pi^{(2)}}+\\overbrace{\\bigg[\\frac{1}{2}k_3(u_3^2-2u_3u_4+u_4^2)-F_{3}u_3\\bigg]}^{\\Pi^{(3)}}$$"
   ]
  },
  {
   "cell_type": "markdown",
   "metadata": {
    "slideshow": {
     "slide_type": "fragment"
    }
   },
   "source": [
    "Minimisation using the partial derivatives:\n",
    "$$\\frac{\\partial\\Pi}{\\partial u_1}=k_1u_1-k_1u_2-F_{1}=k_1(u_1-u_2)-F_{1}=0$$\n",
    "$$\\frac{\\partial\\Pi}{\\partial u_2}=-k_1u_1+k_1u_2+k_2u_2-k_2u_3-F_{2}=k_1(u_2-u_1)+k_2(u_2-u_3)-F_{2}=0$$\n",
    "$$\\frac{\\partial\\Pi}{\\partial u_3}=-k_2u_2+k_2u_3+k_3u_3-k_3u_4-F_{3}=k_2(u_3-u_2)+k_3(u_3-u_4)-F_{3}=0$$\n",
    "$$\\frac{\\partial\\Pi}{\\partial u_4}=-k_3u_3+k_3u_4-F_{4}=k_3(u_4-u_3)-F_{4}=0$$\n",
    "Which can be cast in matrix form as: \n",
    "$$\\begin{Bmatrix} F_1 \\\\ F_2 \\\\ F_3 \\\\ F_4 \\end{Bmatrix}=\\begin{bmatrix} k_1 & -k_1 & 0 & 0 \\\\ -k_1 & k_1+k_2 & -k_2 & 0  \\\\ 0 & -k_2 & k_2+k_3 & -k_3 \\\\ 0 & 0 & -k_3 & k_3 \\end{bmatrix}\\begin{Bmatrix} u_1 \\\\ u_2 \\\\ u_3 \\\\ u_4 \\end{Bmatrix}$$"
   ]
  },
  {
   "cell_type": "markdown",
   "metadata": {
    "slideshow": {
     "slide_type": "slide"
    }
   },
   "source": [
    "## Summary\n",
    "* The key finite element equation:\n",
    "$$\\begin{Bmatrix} F\\end{Bmatrix}=\\begin{bmatrix} K \\end{bmatrix}\\begin{Bmatrix} u\\end{Bmatrix}$$\n",
    "* There are three main types of methods to do so:   \n",
    "    * The **direct** (equilibrium) method   \n",
    "        * Simple, intuitive\n",
    "        * 1D problems\n",
    "        $$\\begin{Bmatrix} f_{1x} \\\\ f_{2x} \\end{Bmatrix}=\\begin{bmatrix} k & -k \\\\ -k & k\\end{bmatrix}\\begin{Bmatrix} u_1 \\\\ u_2\\end{Bmatrix}$$\n",
    "        $$K=\\sum_{i=1}^{3} K^{(i)}$$\n",
    "\n",
    "    * **Variational** methods\n",
    "        * More general\n",
    "        * Requires existance of a functional to minimize\n",
    "        $$\\Pi=\\frac{1}{2}\\begin{Bmatrix} u \\end{Bmatrix}^\\top\\begin{bmatrix} K \\end{bmatrix}\\begin{Bmatrix} u \\end{Bmatrix}-\\begin{Bmatrix} u \\end{Bmatrix}^\\top\\begin{Bmatrix} F \\end{Bmatrix}$$\n"
   ]
  },
  {
   "cell_type": "markdown",
   "metadata": {
    "slideshow": {
     "slide_type": "skip"
    }
   },
   "source": [
    "\\newpage"
   ]
  },
  {
   "cell_type": "markdown",
   "metadata": {
    "slideshow": {
     "slide_type": "skip"
    }
   },
   "source": [
    "**About this document**  \n",
    "This document was created using a [Jupyter notebook](https://jupyter.org/) which allows for the presentation of theory and equations, as well as live (running code) numerical implementations. \n",
    "\n",
    "The Jupyter notebook used here features the [Julia](https://julialang.org/) programming language. If you are interested in running this Jupyter notebook yourself [download](https://julialang.org/downloads/) and [install](https://julialang.org/downloads/platform/) Julia and install [the Jupyter environment](https://jupyter.org/install). Once julia is installed open the command interface (REPL) for Julia and add the \"interactive julia\" package by running: \n",
    "\n",
    "```julia\n",
    "Pkg.add(\"IJulia\")\n",
    "```\n",
    "To run Jupyter call `jupyter notebook` from your Terminal/Command Prompt. "
   ]
  }
 ],
 "metadata": {
  "@webio": {
   "lastCommId": null,
   "lastKernelId": null
  },
  "celltoolbar": "Slideshow",
  "kernelspec": {
   "display_name": "Julia 1.6.2",
   "language": "julia",
   "name": "julia-1.6"
  },
  "language_info": {
   "file_extension": ".jl",
   "mimetype": "application/julia",
   "name": "julia",
   "version": "1.6.2"
  },
  "rise": {
   "enable_chalkboard": true,
   "scroll": true
  }
 },
 "nbformat": 4,
 "nbformat_minor": 2
}
