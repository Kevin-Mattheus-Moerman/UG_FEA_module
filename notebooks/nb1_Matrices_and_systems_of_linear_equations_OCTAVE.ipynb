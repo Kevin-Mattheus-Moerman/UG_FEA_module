{
 "cells": [
  {
   "cell_type": "markdown",
   "metadata": {
    "slideshow": {
     "slide_type": "slide"
    }
   },
   "source": [
    "[**Dr. Kevin M. Moerman**](mailto:kevin.moerman@nuigalway.ie), _Lecturer in Biomedical Engineering_   \n",
    "\n",
    "National University of Ireland Galway.   \n",
    "\n",
    "---"
   ]
  },
  {
   "cell_type": "markdown",
   "metadata": {
    "slideshow": {
     "slide_type": "skip"
    }
   },
   "source": [
    "\\newpage"
   ]
  },
  {
   "cell_type": "markdown",
   "metadata": {
    "slideshow": {
     "slide_type": "slide"
    }
   },
   "source": [
    "# Learning objectives\n",
    "At the end of this lecture you should be:   \n",
    "\n",
    "* Familiar with basic **matrix algebra and notation**\n",
    "* Able to do **matrix multiplication**\n",
    "* Able to solve systems of linear equations using the **elimination method**\n",
    "* Able to solve systems of linear equations through **matrix inversion**"
   ]
  },
  {
   "cell_type": "markdown",
   "metadata": {
    "slideshow": {
     "slide_type": "slide"
    }
   },
   "source": [
    "# Linear equations\n",
    "Recall linear equations of the form:   \n",
    "$$y=ax+m$$    \n",
    "  \n",
    "Solving such an equation for $x$ involves turning it into the form:   \n",
    "$$ax=y-m \\rightarrow x=\\frac{y-m}{a}$$     \n",
    "    "
   ]
  },
  {
   "cell_type": "markdown",
   "metadata": {
    "slideshow": {
     "slide_type": "fragment"
    }
   },
   "source": [
    "If we set $b=(y-m)$ the linear equation obtains the form:     \n",
    "$$ax=b\\rightarrow x=\\frac{b}{a}$$    \n",
    "   \n",
    "So the solution is obtained by dividing by $a$, or, in other words, by multiplying $x$ by the inverse of $a$, i.e.:   \n",
    "$$x=a^{-1}b$$     \n"
   ]
  },
  {
   "cell_type": "markdown",
   "metadata": {
    "slideshow": {
     "slide_type": "fragment"
    }
   },
   "source": [
    "We shall remember this form $x=a^{-1}b$ and return to it later to see that it holds for solving systems of linear equations contained in matrices (written with capital latter) e.g.:    \n",
    "$$AX=B \\rightarrow X=A^{-1}B$$ "
   ]
  },
  {
   "cell_type": "markdown",
   "metadata": {
    "slideshow": {
     "slide_type": "slide"
    }
   },
   "source": [
    "# Systems of linear equations\n",
    "* Linear equations with two unknowns:\n",
    "$$3x_1+2x_2=4$$\n"
   ]
  },
  {
   "cell_type": "markdown",
   "metadata": {
    "slideshow": {
     "slide_type": "fragment"
    }
   },
   "source": [
    "* At least one more equation is required to solve for $x_1$ and $x_2$, e.g. :\n",
    "$$5x_1-3x_2=13$$ \n"
   ]
  },
  {
   "cell_type": "markdown",
   "metadata": {
    "slideshow": {
     "slide_type": "fragment"
    }
   },
   "source": [
    "* The combined system can be written: \n",
    "$$  \\begin{cases}\n",
    "    3x_1+2x_2 = 4\\\\\n",
    "    5x_1-3x_2 = 13\n",
    "  \\end{cases}$$\n"
   ]
  },
  {
   "cell_type": "markdown",
   "metadata": {
    "slideshow": {
     "slide_type": "fragment"
    }
   },
   "source": [
    "* This system may be solved by the **elimination method**: \n",
    "$$  \\begin{cases}\n",
    "    3x_1+2x_2 = 4 & \\times 3\\\\\n",
    "    5x_1-3x_2 = 13 & \\times 2\n",
    "  \\end{cases}$$\n",
    "\n",
    "$$  \\begin{cases}\n",
    "    9x_1+6x_2 = 12 & \\downarrow +\\\\\n",
    "    10x_1-6x_2 = 26  \n",
    "  \\end{cases} \\rightarrow 19x_1 = 38 \\rightarrow x_1 = 2 \\rightarrow x_2 = -1\n",
    "  $$"
   ]
  },
  {
   "cell_type": "markdown",
   "metadata": {
    "slideshow": {
     "slide_type": "slide"
    }
   },
   "source": [
    "# Matrices for solving linear equations\n",
    "Alternatively these operations can be written in a matrix form: \n",
    "$$\\begin{cases} 3x_1+2x_2 = 4\\\\ 5x_1-3x_2 = 13\\end{cases}\\rightarrow\\begin{bmatrix} 3 & 2 & 4\\\\ 5 & -3 & 13\\end{bmatrix}$$"
   ]
  },
  {
   "cell_type": "markdown",
   "metadata": {
    "slideshow": {
     "slide_type": "fragment"
    }
   },
   "source": [
    "* Aim to create all zeros and one 1 for each row of the $2\\times2$ section containing the coefficients.   \n",
    "$$\\begin{bmatrix} 3 & 2 & 4\\\\ 5 & -3 & 13\\end{bmatrix}\\begin{matrix} \\times -5\\\\ \\times 3\\end{matrix}\\rightarrow\\begin{bmatrix} -15 & -10 & -20 \\\\ 15 & -9 & 39\\end{bmatrix}\\begin{matrix} \\downarrow +\\\\  & \\end{matrix}$$ "
   ]
  },
  {
   "cell_type": "markdown",
   "metadata": {
    "slideshow": {
     "slide_type": "fragment"
    }
   },
   "source": [
    "$$\\begin{bmatrix} -15 & -10 & -20 \\\\ 0 & -19 & 19\\end{bmatrix}\\begin{matrix} & \\\\ \\times -\\frac{1}{19} \\end{matrix}\\rightarrow\\begin{bmatrix} -15 & -10 & -20 \\\\ 0 & 1 & -1\\end{bmatrix}\\begin{matrix} & \\\\ \\uparrow +10\\times \\end{matrix}$$ "
   ]
  },
  {
   "cell_type": "markdown",
   "metadata": {
    "slideshow": {
     "slide_type": "fragment"
    }
   },
   "source": [
    "$$\\begin{bmatrix} -15 & 0 & -30 \\\\ 0 & 1 & -1\\end{bmatrix}\\begin{matrix} \\times -\\frac{1}{15} \\\\ & \\end{matrix}\\rightarrow\\begin{bmatrix} 1 & 0 & 2 \\\\ 0 & 1 & -1\\end{bmatrix}$$   \n",
    "\n",
    "* Solutions of $x_1$ and $x_2$ in the last column. "
   ]
  },
  {
   "cell_type": "markdown",
   "metadata": {
    "slideshow": {
     "slide_type": "slide"
    }
   },
   "source": [
    "* Alternatively we can rewrite the system using matrices:    \n",
    "$$\\begin{cases} 3x_1+2x_2 = 4\\\\ 5x_1-3x_2 = 13\\end{cases}\\rightarrow \\mathbf{A}=\\begin{bmatrix} 3 & 2 \\\\ 5 & -3 \\end{bmatrix}, \\mathbf{X}=\\begin{bmatrix} x_1 \\\\ x_2 \\end{bmatrix}, \\mathbf{B}=\\begin{bmatrix} 4 \\\\ 13 \\end{bmatrix}$$  \n",
    "* Here $\\mathbf{A}$ is a coefficient matrix\n",
    "* No problem can cast in the familiar form: $x=a^{-1}b$: \n",
    "$$\\mathbf{X}=\\mathbf{A}^{-1}\\mathbf{B}$$\n",
    "* Computing $\\mathbf{A}^{-1}$ simply involves taking the matrix $\\begin{bmatrix} 1 & 0 \\\\ 0 &1 \\end{bmatrix}$ and doing the same steps as above. Providing:   \n",
    "$$\\mathbf{A}^{-1}=\\begin{bmatrix} \\frac{3}{19} & \\frac{2}{19} \\\\ \\frac{5}{19} & \\frac{-3}{19} \\end{bmatrix}$$  \n",
    "* For a 2x2 matrix $A= \\begin{bmatrix} a & b \\\\ c & d \\end{bmatrix}$ the inverse can be computed using (with $\\det{(A)}$ the determinant of $A$): \n",
    "\n",
    "$$\\mathbf{A}^{-1}=\\frac{1}{\\det{(A)}} \\begin{bmatrix} d & -b \\\\ -c & a\\end{bmatrix}=\\frac{1}{ad-bc} \\begin{bmatrix} d & -b \\\\ -c & a\\end{bmatrix}$$\n"
   ]
  },
  {
   "cell_type": "markdown",
   "metadata": {
    "slideshow": {
     "slide_type": "slide"
    }
   },
   "source": [
    "# Numerical implementation\n",
    "Defining the matrices $\\mathbf{A}$ and $\\mathbf{B}$"
   ]
  },
  {
   "cell_type": "code",
   "execution_count": 6,
   "metadata": {
    "slideshow": {
     "slide_type": "fragment"
    }
   },
   "outputs": [
    {
     "name": "stdout",
     "output_type": "stream",
     "text": [
      "   3   2\n",
      "   5  -3\n",
      "    4\n",
      "   13\n"
     ]
    }
   ],
   "source": [
    "% Defining the matrices A and B\n",
    "A=[3 2;5 -3]; % 2x2 array\n",
    "B=[4; 13]; % 2x1 vector\n",
    "\n",
    "% Display quantities\n",
    "disp(A)\n",
    "disp(B)"
   ]
  },
  {
   "cell_type": "markdown",
   "metadata": {
    "slideshow": {
     "slide_type": "fragment"
    }
   },
   "source": [
    "* Computing $\\mathbf{X}=\\mathbf{A}^{-1}\\mathbf{B}$ requires computation of $\\mathbf{A}^{-1}$. \n",
    "* Numericall $\\mathbf{A}^{-1}$ is written as either `A^-1` or `inv(A)` (in MATLAB, Octave, Julia,....)"
   ]
  },
  {
   "cell_type": "code",
   "execution_count": 7,
   "metadata": {
    "slideshow": {
     "slide_type": "fragment"
    }
   },
   "outputs": [
    {
     "name": "stdout",
     "output_type": "stream",
     "text": [
      "X =\r\n",
      "\r\n",
      "   2.0000\r\n",
      "  -1.0000\r\n",
      "\r\n"
     ]
    }
   ],
   "source": [
    "X=inv(A)*B %Using inv() to compute inverse"
   ]
  },
  {
   "cell_type": "markdown",
   "metadata": {
    "slideshow": {
     "slide_type": "slide"
    }
   },
   "source": [
    "* Alternatively many programming languages implement the the so-called left divide or `\\` operator, which is more general, accurate, and computationally efficient: "
   ]
  },
  {
   "cell_type": "code",
   "execution_count": 8,
   "metadata": {
    "slideshow": {
     "slide_type": "fragment"
    }
   },
   "outputs": [
    {
     "name": "stdout",
     "output_type": "stream",
     "text": [
      "X =\r\n",
      "\r\n",
      "   2.0000\r\n",
      "  -1.0000\r\n",
      "\r\n"
     ]
    }
   ],
   "source": [
    "X=A\\B %Using the \"left divide\" operator"
   ]
  },
  {
   "cell_type": "markdown",
   "metadata": {
    "slideshow": {
     "slide_type": "fragment"
    }
   },
   "source": [
    "The actual inverse of $\\mathbf{A}$ is: "
   ]
  },
  {
   "cell_type": "code",
   "execution_count": 25,
   "metadata": {
    "slideshow": {
     "slide_type": "fragment"
    }
   },
   "outputs": [
    {
     "name": "stdout",
     "output_type": "stream",
     "text": [
      "A_inv =\r\n",
      "\r\n",
      "   0.15789   0.10526\r\n",
      "   0.26316  -0.15789\r\n",
      "\r\n"
     ]
    }
   ],
   "source": [
    "A_inv=inv(A) %Compute the inverse of A"
   ]
  },
  {
   "cell_type": "markdown",
   "metadata": {
    "slideshow": {
     "slide_type": "slide"
    }
   },
   "source": [
    "# Matrix multiplication\n",
    "* Matrix multiplication is written as:\n",
    "$$\\mathbf{C}=\\mathbf{A}\\mathbf{B}$$\n",
    "\n",
    "* Multiplication defined when $\\mathbf{A}$ is an $n \\times p$ matrix while $\\mathbf{B}$ is an $p \\times m$ matrix. \n",
    "* I.e. number of columns in $\\mathbf{A}$ should equal the number of rows in $\\mathbf{B}$. \n",
    "* The $ij^{th}$ element in $\\mathbf{C}$, denoted $c_{ij}$, is defined as the sum of the element by element product of the $i^{th}$ row in $\\mathbf{A}$ with the $j^{th}$ column in $\\mathbf{B}$, which can be written as:\n",
    "$$c_{ij}=\\sum_{k=1}^{3}a_{ik}b_{kj}$$\n",
    "* If the [Einstein summation convention](https://en.wikipedia.org/wiki/Einstein_notation) is used (summation implied for repeated indices) this can be written: \n",
    "$$c_{ij}=a_{ik}b_{kj}$$    "
   ]
  },
  {
   "cell_type": "markdown",
   "metadata": {
    "slideshow": {
     "slide_type": "slide"
    }
   },
   "source": [
    "## Example\n",
    "\n",
    "$\\mathbf{C}=\\mathbf{A}\\mathbf{B}$, $c_{ij}=a_{ik}b_{kj}$\n",
    "\n",
    "$\\mathbf{A}=\\begin{bmatrix} 1 & 2 & 3 \\\\ -3 & 5 & 7 \\end{bmatrix}$, $\\mathbf{B}=\\begin{bmatrix} 5 & 1 & 2 & 9 \\\\ 2 & -2 & 1 & 2 \\\\ 6 & 4 & 8 & -1 \\end{bmatrix}$, $\\mathbf{C}=\\begin{bmatrix} 1 & 2 & 3 \\\\ -3 & 5 & 7 \\end{bmatrix}\\begin{bmatrix} 5 & 1 & 2 & 9 \\\\ 2 & -2 & 1 & 2 \\\\ 6 & 4 & 8 & -1 \\end{bmatrix}$\n",
    "\n",
    "**Assignment:** Find the symbolic expression for $c_{11}$ and $c_{22}$ and verify their value manually.\n"
   ]
  },
  {
   "cell_type": "markdown",
   "metadata": {
    "slideshow": {
     "slide_type": "fragment"
    }
   },
   "source": [
    "**Solution**\n",
    "$$c_{11}=a_{11}b_{11}+a_{12}b_{21}+a_{13}b_{31}=1*5+2*2+3*6=27$$\n",
    "$$c_{22}=a_{21}b_{12}+a_{22}b_{22}+a_{23}b_{32}=-3*1+5*-2+7*4=15$$\n",
    "\n",
    "## Numerical verification"
   ]
  },
  {
   "cell_type": "code",
   "execution_count": 26,
   "metadata": {
    "slideshow": {
     "slide_type": "fragment"
    }
   },
   "outputs": [
    {
     "name": "stdout",
     "output_type": "stream",
     "text": [
      "A =\n",
      "\n",
      "   1   2   3\n",
      "  -3   5   7\n",
      "\n",
      "B =\n",
      "\n",
      "   5   1   2   9\n",
      "   2  -2   1   2\n",
      "   6   4   8  -1\n",
      "\n",
      "C =\n",
      "\n",
      "   27    9   28   10\n",
      "   37   15   55  -24\n",
      "\n"
     ]
    }
   ],
   "source": [
    "A=[1 2 3; -3 5 7] % a 2x3 matrix\n",
    "B=[5 1 2 9; 2 -2 1 2; 6 4 8 -1] % a 3X4 matrix\n",
    "C=A*B"
   ]
  },
  {
   "cell_type": "markdown",
   "metadata": {
    "slideshow": {
     "slide_type": "slide"
    }
   },
   "source": [
    "# Summary\n",
    "* A linear equation such as $ax=b$ is solved using $x=\\frac{b}{a}$ or $x=a^{-1}b$  \n",
    "* A system of linear equations can be defined using matrices $AX=B$ for which solutions can be found using $X=A^{-1}B$\n",
    "* Solving the system $AX=B$ numerically often involves `X=A\\B` i.e. the use of the _left divide_ `\\` operator\n",
    "* Matrix multiplication rules: $c_{ij}=a_{ik}b_{kj}$\n",
    "* Multiplication of a $n\\times n$ matrix and a $n\\times1$ array:\n",
    "$$f_{i}=k_{ip}u_{p}$$"
   ]
  },
  {
   "cell_type": "markdown",
   "metadata": {
    "slideshow": {
     "slide_type": "skip"
    }
   },
   "source": [
    "\\newpage"
   ]
  },
  {
   "cell_type": "markdown",
   "metadata": {
    "slideshow": {
     "slide_type": "skip"
    }
   },
   "source": [
    "**About this document**    \n",
    "\n",
    "This document was created using a [Jupyter notebook](https://jupyter.org/) which allows for the presentation of theory and equations, as well as live (running code) numerical implementations. \n",
    "\n",
    "This Jupyter notebook is available [open source](https://github.com/Kevin-Mattheus-Moerman/NUIG_BME_402_6101) and features the [Octave](https://www.gnu.org/software/octave/index) programming language (an open source alternative to MATLAB). If you are interested in running this Jupyter notebook yourself [download and install Octave](https://www.gnu.org/software/octave/download) and install [the Jupyter environment](https://jupyter.org/install). Once both Jupyter and Octave are installed follow [these instructions](https://github.com/calysto/octave_kernel) to configure the use of Octave with Jupyter notebooks. \n",
    "\n",
    "To run Jupyter call `jupyter notebook` from your Terminal/Command Prompt. "
   ]
  }
 ],
 "metadata": {
  "@webio": {
   "lastCommId": null,
   "lastKernelId": null
  },
  "celltoolbar": "Slideshow",
  "kernelspec": {
   "display_name": "Octave",
   "language": "octave",
   "name": "octave"
  },
  "language_info": {
   "file_extension": ".m",
   "help_links": [
    {
     "text": "GNU Octave",
     "url": "https://www.gnu.org/software/octave/support.html"
    },
    {
     "text": "Octave Kernel",
     "url": "https://github.com/Calysto/octave_kernel"
    },
    {
     "text": "MetaKernel Magics",
     "url": "https://metakernel.readthedocs.io/en/latest/source/README.html"
    }
   ],
   "mimetype": "text/x-octave",
   "name": "octave",
   "version": "6.4.0"
  },
  "rise": {
   "enable_chalkboard": true
  }
 },
 "nbformat": 4,
 "nbformat_minor": 2
}
