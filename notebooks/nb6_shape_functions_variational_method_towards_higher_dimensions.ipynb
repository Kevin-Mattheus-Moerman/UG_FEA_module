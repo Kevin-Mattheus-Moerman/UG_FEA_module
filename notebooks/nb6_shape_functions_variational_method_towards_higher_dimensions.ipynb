{
 "cells": [
  {
   "cell_type": "markdown",
   "metadata": {
    "slideshow": {
     "slide_type": "slide"
    }
   },
   "source": [
    "  \n",
    "[**Dr. Kevin M. Moerman**](mailto:kevin.moerman@nuigalway.ie), _Lecturer in Biomedical Engineering_   \n",
    "\n",
    "National University of Ireland Galway.   \n",
    "\n",
    "---"
   ]
  },
  {
   "cell_type": "markdown",
   "metadata": {
    "slideshow": {
     "slide_type": "skip"
    }
   },
   "source": [
    "\\newpage"
   ]
  },
  {
   "cell_type": "markdown",
   "metadata": {
    "slideshow": {
     "slide_type": "slide"
    }
   },
   "source": [
    "# Learning objectives\n",
    "At the end of this lecture you should be able to:   \n",
    "\n",
    "* Derive the truss shape functions\n",
    "* Use the shape functions for displacement and strain computation\n",
    "* Use the variational principle to derive a general expression of an element stiffness matrix\n"
   ]
  },
  {
   "cell_type": "markdown",
   "metadata": {
    "slideshow": {
     "slide_type": "slide"
    }
   },
   "source": [
    "# The truss element\n",
    "![spring](truss1.png)  \n",
    "\n",
    "* Behaviour Hooke's law for a bar:    \n",
    "$$\\sigma=E\\epsilon=\\frac{F}{A}$$     \n",
    "$$\\begin{Bmatrix} f_{1} \\\\ f_{2} \\end{Bmatrix}=\\frac{AE}{L}\\begin{bmatrix} 1 & -1 \\\\ -1 & 1\\end{bmatrix}\\begin{Bmatrix} u_1 \\\\ u_2\\end{Bmatrix}$$   \n",
    "\n",
    "* Truss (or bar) is a 1D element but has a **cross-sectional area** $A$    \n",
    "\n",
    "* **strain** a relative metric for deformation: \n",
    "$$\\varepsilon=\\frac{(u_2-u_1)}{L_0}$$    \n",
    "  \n",
    "$\\sigma$: Stress (Pa or $N/m^2$)   \n",
    "$F$: Force (N)   \n",
    "$E$: The material Young's Modulus (Pa or $N/m^2$)   \n",
    "$\\epsilon$: The strain in the material ([])   \n",
    "$L$ truss lenght (m)"
   ]
  },
  {
   "cell_type": "markdown",
   "metadata": {
    "slideshow": {
     "slide_type": "slide"
    }
   },
   "source": [
    "# The linear truss shape functions\n",
    "## Shape function definition\n",
    "For a linear truss the following 2 shape functions can be defined:\n",
    "$$N_i=\\frac{x_j-x}{L}=1-\\frac{x-x_i}{L}$$\n",
    "  \n",
    "$$N_j=\\frac{x-x_i}{L}=1-\\frac{x_j-x}{L}$$\n",
    "\n",
    "Allowing us to define the shape function matrix $\\begin{bmatrix} N \\end{bmatrix}=\\begin{bmatrix} N_i & N_j \\end{bmatrix}$:    \n",
    "  \n",
    "$$\\begin{bmatrix} N \\end{bmatrix}=\\begin{bmatrix} \\frac{x_j-x}{L} & \\frac{x-x_i}{L}\\end{bmatrix}$$  \n",
    "\n",
    "\n",
    "![](shape_func.png)\n"
   ]
  },
  {
   "cell_type": "markdown",
   "metadata": {
    "slideshow": {
     "slide_type": "slide"
    }
   },
   "source": [
    "## Shape functions for displacement interpolation\n",
    "The shape function matrix: \n",
    "$$\\begin{bmatrix} N \\end{bmatrix}=\\begin{bmatrix} \\frac{x_j-x}{L} & \\frac{x-x_i}{L}\\end{bmatrix}$$  \n",
    "\n",
    "or equivalently if $x_i=0$ and $x_j=L$:\n",
    "$$\\begin{bmatrix} N \\end{bmatrix}=\\begin{bmatrix} 1-\\frac{x}{L} & \\frac{x}{L}\\end{bmatrix}$$\n",
    "\n",
    "Can be used for displacement interpolation: \n",
    "$$u(x)=\\begin{bmatrix} N(x) \\end{bmatrix}\\begin{Bmatrix} u \\end{Bmatrix}$$\n",
    "\n",
    "Furthermore, we can introduce the so-called B-matrix, derived from $\\frac{d}{dx}\\begin{bmatrix} N \\end{bmatrix}$:\n",
    "\n",
    "$$\\begin{bmatrix} B \\end{bmatrix}=\\begin{bmatrix} -\\frac{1}{L} & \\frac{1}{L}\\end{bmatrix}$$\n",
    "\n",
    "Enabling strain computation: \n",
    "\n",
    "$$\\varepsilon = \\begin{bmatrix} B \\end{bmatrix}\\begin{Bmatrix} u \\end{Bmatrix}$$\n",
    "\n"
   ]
  },
  {
   "cell_type": "markdown",
   "metadata": {
    "slideshow": {
     "slide_type": "slide"
    }
   },
   "source": [
    "# The variational method for the truss\n",
    "The potential energy of a system can be expressed as:\n",
    "$$\\Pi=\\Lambda-W$$\n",
    "$\\Pi$ : Potential energy of the system   \n",
    "$\\Lambda$ : The sum of internal strain energy   \n",
    "$W$ : Work done by external forces\n",
    "  \n",
    "The strain energy is derived through integration over the volume:   \n",
    "$$\\Lambda=\\int_V \\frac{\\sigma \\varepsilon}{2} dV$$\n",
    "Which using $dV=Adx$ and $\\sigma=E\\varepsilon$ becomes:\n",
    "$$\\Lambda=\\int_L \\frac{A E \\varepsilon^2}{2} dx = \\int_{x_i}^{x_j} \\frac{A E \\varepsilon^2}{2} dx= \\frac{A E}{2}\\int_{x_i}^{x_j} \\varepsilon^2 dx$$\n",
    "\n",
    "\n",
    "![](barVar.png)"
   ]
  },
  {
   "cell_type": "markdown",
   "metadata": {
    "slideshow": {
     "slide_type": "slide"
    }
   },
   "source": [
    "Next:\n",
    "$$\\Lambda=\\frac{A E}{2}\\int_{x_i}^{x_j} \\varepsilon^2 dx$$\n",
    "\n",
    "Using $\\varepsilon=\\begin{bmatrix} B \\end{bmatrix}\\begin{Bmatrix} u \\end{Bmatrix}$ we can write this as: \n",
    "$$\\Lambda=\\frac{A E}{2}\\int_{x_i}^{x_j}  \\big( \\begin{bmatrix} B \\end{bmatrix}\\begin{Bmatrix} u \\end{Bmatrix} \\big) ^\\top \\begin{bmatrix} B \\end{bmatrix}\\begin{Bmatrix} u \\end{Bmatrix} dx =\n",
    "\\frac{A E}{2}\\int_{x_i}^{x_j}  \\begin{Bmatrix} u \\end{Bmatrix}^\\top  \\begin{bmatrix} B \\end{bmatrix}^\\top \\begin{bmatrix} B \\end{bmatrix}\\begin{Bmatrix} u \\end{Bmatrix} dx $$\n"
   ]
  },
  {
   "cell_type": "markdown",
   "metadata": {
    "slideshow": {
     "slide_type": "slide"
    }
   },
   "source": [
    "And since $\\begin{Bmatrix} u \\end{Bmatrix}$ does not depend on $x$ we can write: \n",
    "$$\\Lambda=\\frac{1}{2} \\begin{Bmatrix} u \\end{Bmatrix}^\\top A E \\bigg[ \\int_{x_i}^{x_j}  \\begin{bmatrix} B \\end{bmatrix}^\\top \\begin{bmatrix} B \\end{bmatrix}dx \\bigg] \\begin{Bmatrix} u \\end{Bmatrix} $$\n",
    "\n",
    "Now recall the definition of $\\Lambda$ for springs/trusses:\n",
    "$$\\Lambda=\\frac{1}{2} \\begin{Bmatrix} u \\end{Bmatrix}^\\top \\begin{bmatrix} K \\end{bmatrix} \\begin{Bmatrix} u \\end{Bmatrix} $$\n",
    "\n",
    "Therefore we can identify $\\begin{bmatrix} K \\end{bmatrix}$ as: \n",
    "$$\\begin{bmatrix} K \\end{bmatrix}= A E \\int_{x_i}^{x_j} \\begin{bmatrix} B \\end{bmatrix}^\\top \\begin{bmatrix} B \\end{bmatrix}dx$$\n"
   ]
  },
  {
   "cell_type": "markdown",
   "metadata": {
    "slideshow": {
     "slide_type": "slide"
    }
   },
   "source": [
    "## Deriving the truss stiffness matrix from this form\n",
    "$$\\begin{bmatrix} K \\end{bmatrix}= A E \\int_{x_i}^{x_j} \\begin{bmatrix} B \\end{bmatrix}^\\top \\begin{bmatrix} B \\end{bmatrix}dx$$\n",
    "\n",
    "Recall $\\begin{bmatrix} N \\end{bmatrix}=\\begin{bmatrix} \\frac{x_j-x}{L} & \\frac{x-x_i}{L}\\end{bmatrix}$, and $\\begin{bmatrix} B \\end{bmatrix}=\\begin{bmatrix} -\\frac{1}{L} & \\frac{1}{L}\\end{bmatrix}$, therefore:   \n",
    "   \n",
    "$$\\begin{bmatrix} B \\end{bmatrix}^\\top \\begin{bmatrix} B \\end{bmatrix}=\\begin{bmatrix} -\\frac{1}{L} \\\\ \\frac{1}{L}\\end{bmatrix} \\begin{bmatrix} -\\frac{1}{L} & \\frac{1}{L}\\end{bmatrix} = \\begin{bmatrix} \\frac{1}{L^2} & -\\frac{1}{L^2} \\\\ -\\frac{1}{L^2} & \\frac{1}{L^2} \\end{bmatrix}=\\frac{1}{L^2} \\begin{bmatrix} 1 & -1 \\\\ -1 & 1 \\end{bmatrix}$$\n",
    "   \n",
    "Leading to: \n",
    "$$\\begin{bmatrix} K \\end{bmatrix} = \\frac{A E}{L^2} \\begin{bmatrix} 1 & -1 \\\\ -1 & 1 \\end{bmatrix} \\int_{x_i}^{x_j} dx $$\n",
    "   \n",
    "But since $\\int_{x_i}^{x_j} dx=L$ this simplifies to:\n",
    "$$\\begin{bmatrix} K \\end{bmatrix} = \\frac{A E}{L} \\begin{bmatrix} 1 & -1 \\\\ -1 & 1 \\end{bmatrix} $$\n",
    "\n"
   ]
  },
  {
   "cell_type": "markdown",
   "metadata": {
    "slideshow": {
     "slide_type": "slide"
    }
   },
   "source": [
    "# Towards higher dimensional elements\n",
    "For the truss we identified: \n",
    "$$\\begin{bmatrix} K \\end{bmatrix} =  A E \\int_{x_i}^{x_j} \\begin{bmatrix} B \\end{bmatrix}^\\top \\begin{bmatrix} B \\end{bmatrix}dx$$\n",
    "\n",
    "Furthermore for a truss we we used $\\sigma = E \\varepsilon$. To generalise the above to other element types and higher dimensional elements we first generalise the strain: \n",
    "$$ \\varepsilon \\rightarrow \\begin{Bmatrix} \\varepsilon \\end{Bmatrix} $$\n",
    "\n",
    "Furthermore the mechanical properties may be direction or space dependant, and requires tensorial quantities for higher dimensional elements: \n",
    "$$ E \\rightarrow \\begin{bmatrix} D \\end{bmatrix} $$\n",
    "\n",
    "Leading to the more general description: \n",
    "$$\\sigma = E \\varepsilon \\rightarrow \\begin{Bmatrix} \\sigma \\end{Bmatrix} = \\begin{bmatrix} D \\end{bmatrix}\\begin{Bmatrix} \\varepsilon \\end{Bmatrix}$$"
   ]
  },
  {
   "cell_type": "markdown",
   "metadata": {
    "slideshow": {
     "slide_type": "slide"
    }
   },
   "source": [
    "## Example: 2D area element \n",
    "For 2D area elements we can define a triplet of stresses and strains:   \n",
    "\n",
    "$$\\begin{Bmatrix} \\varepsilon \\end{Bmatrix} =\\begin{bmatrix} B \\end{bmatrix} \\begin{Bmatrix} u \\end{Bmatrix}  = \\begin{Bmatrix} \\varepsilon_{xx} \\\\ \\varepsilon_{yy} \\\\ \\gamma_{xy} \\end{Bmatrix}$$\n",
    "\n",
    "$$\\begin{Bmatrix} \\sigma \\end{Bmatrix} = \\begin{bmatrix} D \\end{bmatrix} \\begin{Bmatrix} \\varepsilon \\end{Bmatrix} = \\begin{Bmatrix} \\sigma_{xx} \\\\ \\sigma_{yy} \\\\ \\sigma_{xy} \\end{Bmatrix} $$\n",
    "\n",
    "![](2D_stress_strain_viz.jpg)"
   ]
  },
  {
   "cell_type": "code",
   "execution_count": 11,
   "metadata": {
    "slideshow": {
     "slide_type": "slide"
    }
   },
   "outputs": [
    {
     "name": "stdout",
     "output_type": "stream",
     "text": [
      "R =\n",
      "\n",
      "   0.70711  -0.70711\n",
      "   0.70711   0.70711\n",
      "\n",
      "S =\n",
      "\n",
      "   1   0\n",
      "   0   2\n",
      "\n",
      "Sr =\n",
      "\n",
      "   1.50000  -0.50000\n",
      "  -0.50000   1.50000\n",
      "\n",
      "v =\n",
      "\n",
      "Diagonal Matrix\n",
      "\n",
      "   1   0\n",
      "   0   2\n",
      "\n",
      "ans =\n",
      "\n",
      "   1.0000e+00  -2.2371e-17\n",
      "  -4.4742e-17   2.0000e+00\n",
      "\n"
     ]
    }
   ],
   "source": [
    "a=45; %Angle in degrees\n",
    "R=[cosd(a) -sind(a);...\n",
    "   sind(a) cosd(a)] #Rotation matrix\n",
    "   \n",
    "S=[1 0;...\n",
    "   0 2] #Stress  \n",
    "\n",
    "Sr=R*S*R'\n",
    "\n",
    "s\n",
    "\n",
    "v\n",
    "\n",
    "Q'*Sr*Q"
   ]
  },
  {
   "cell_type": "markdown",
   "metadata": {
    "slideshow": {
     "slide_type": "slide"
    }
   },
   "source": [
    "### Examples of $\\begin{bmatrix} D \\end{bmatrix}$ matrices\n",
    "\n",
    "#### 2D plane stress\n",
    "Very thin objects, e.g. membranes, sheets, etc. For object in the x-yplane, the assumption is that out of plane (z-axis) stresses are zero.\n",
    "\n",
    "$$\\sigma_{zz}=\\sigma_{yz}=\\sigma_{xz}=0$$\n",
    "\n",
    "$$ \\begin{bmatrix} D \\end{bmatrix} =\\frac{E}{1-\\nu^2}\\begin{bmatrix} 1 & \\nu & 0 \\\\ \\nu & 1 & 0 \\\\ 0 & 0 & \\frac{1-\\nu}{2} \\end{bmatrix} \\rightarrow \\begin{Bmatrix} \\sigma \\end{Bmatrix} =\\frac{E}{1-\\nu^2}\\begin{bmatrix} 1 & \\nu & 0 \\\\ \\nu & 1 & 0 \\\\ 0 & 0 & \\frac{1-\\nu}{2} \\end{bmatrix} \\begin{Bmatrix} \\varepsilon_{xx} \\\\ \\varepsilon_{yy} \\\\ \\gamma_{xy} \\end{Bmatrix}\n",
    "$$\n"
   ]
  },
  {
   "cell_type": "markdown",
   "metadata": {
    "slideshow": {
     "slide_type": "slide"
    }
   },
   "source": [
    "#### 2D plane strain\n",
    "Very thick objects perpendicular to the x-yplane, e.g. cross sections of shafts, pipes, tubes, etc. Here the assumption is that out of plane (z-axis) strains are zero.\n",
    "\n",
    "$$\\varepsilon_{zz}=\\varepsilon_{yz}=\\varepsilon_{xz}=0$$\n",
    "\n",
    "$$ \\begin{bmatrix} D \\end{bmatrix} =\\frac{E'}{1-\\nu'^2}\\begin{bmatrix} 1 & \\nu' & 0 \\\\ \\nu' & 1 & 0 \\\\ 0 & 0 & \\frac{1-\\nu'}{2} \\end{bmatrix} \\rightarrow \\begin{Bmatrix} \\sigma \\end{Bmatrix} =\\frac{E'}{1-\\nu'^2}\\begin{bmatrix} 1 & \\nu' & 0 \\\\ \\nu' & 1 & 0 \\\\ 0 & 0 & \\frac{1-\\nu'}{2} \\end{bmatrix} \\begin{Bmatrix} \\varepsilon_{xx} \\\\ \\varepsilon_{yy} \\\\ \\gamma_{xy} \\end{Bmatrix}\n",
    "$$\n",
    "\n",
    "With $E'=\\frac{E}{1-\\nu^2}$, and $\\nu'=\\frac{\\nu}{1-\\nu}$"
   ]
  },
  {
   "cell_type": "markdown",
   "metadata": {
    "slideshow": {
     "slide_type": "slide"
    }
   },
   "source": [
    "## Generalising the expression for $\\begin{bmatrix} K \\end{bmatrix}$\n",
    "\n",
    "From the truss equation: \n",
    "$$\\begin{bmatrix} K \\end{bmatrix} =  A E \\int_{x_i}^{x_j} \\begin{bmatrix} B \\end{bmatrix}^\\top \\begin{bmatrix} B \\end{bmatrix}dx$$\n",
    "\n",
    "We first switch back to the volume integral, recalling $dV=Adx$:\n",
    "$$\\begin{bmatrix} K \\end{bmatrix} = E\\int_{V} \\begin{bmatrix} B \\end{bmatrix}^\\top \\begin{bmatrix} B \\end{bmatrix}dV $$\n",
    "\n",
    "Next we replace $E$ by the potentially multidimensional and spationally varying $\\begin{bmatrix} D \\end{bmatrix}$ which holds the material property information: \n",
    "$$\\begin{bmatrix} K \\end{bmatrix} = \\int_{V} \\begin{bmatrix} B \\end{bmatrix}^\\top \\begin{bmatrix} D \\end{bmatrix} \\begin{bmatrix} B \\end{bmatrix}dV $$\n",
    "\n",
    "* The above expression is very important since it offers a general form of $\\begin{bmatrix} K \\end{bmatrix}$ which can be applied to **all element types**! \n",
    "* What will differ is the form of $\\begin{bmatrix} B \\end{bmatrix}$ and $\\begin{bmatrix} D \\end{bmatrix}$"
   ]
  },
  {
   "cell_type": "markdown",
   "metadata": {
    "slideshow": {
     "slide_type": "slide"
    }
   },
   "source": [
    "# Summary\n",
    "\n",
    "* The truss shape function matrix $\\begin{bmatrix} N \\end{bmatrix}=\\begin{bmatrix} N_i & N_j \\end{bmatrix}$:      \n",
    "$$\\begin{bmatrix} N \\end{bmatrix}=\\begin{bmatrix} \\frac{x_j-x}{L} & \\frac{x-x_i}{L}\\end{bmatrix}$$  \n",
    "\n",
    "![](shape_func.png)\n",
    "\n",
    "* A general expression for the element stiffness matrix: \n",
    "$$\\begin{bmatrix} K \\end{bmatrix} = \\int_{V} \\begin{bmatrix} B \\end{bmatrix}^\\top \\begin{bmatrix} D \\end{bmatrix} \\begin{bmatrix} B \\end{bmatrix}dV $$\n",
    "\n",
    "* For 2D area elements we can define a triplet of stresses and strains:   \n",
    "\n",
    "$$\\begin{Bmatrix} \\varepsilon \\end{Bmatrix} =\\begin{bmatrix} B \\end{bmatrix} \\begin{Bmatrix} u \\end{Bmatrix}  = \\begin{Bmatrix} \\varepsilon_{xx} \\\\ \\varepsilon_{yy} \\\\ \\gamma_{xy} \\end{Bmatrix}$$\n",
    "\n",
    "$$\\begin{Bmatrix} \\sigma \\end{Bmatrix} = \\begin{bmatrix} D \\end{bmatrix} \\begin{Bmatrix} \\varepsilon \\end{Bmatrix} = \\begin{Bmatrix} \\sigma_{xx} \\\\ \\sigma_{yy} \\\\ \\sigma_{xy} \\end{Bmatrix} $$\n",
    "\n",
    "Introduces $\\begin{bmatrix} D \\end{bmatrix}$ a matrix containing material parameters"
   ]
  },
  {
   "cell_type": "markdown",
   "metadata": {
    "slideshow": {
     "slide_type": "skip"
    }
   },
   "source": [
    "\\newpage"
   ]
  },
  {
   "cell_type": "markdown",
   "metadata": {
    "slideshow": {
     "slide_type": "skip"
    }
   },
   "source": [
    "**About this document**    \n",
    "\n",
    "This document was created using a [Jupyter notebook](https://jupyter.org/) which allows for the presentation of theory and equations, as well as live (running code) numerical implementations. \n",
    "\n",
    "This Jupyter notebook is available [open source](https://github.com/Kevin-Mattheus-Moerman/NUIG_BME_402_6101) and features the [Octave](https://www.gnu.org/software/octave/index) programming language (an open source alternative to MATLAB). If you are interested in running this Jupyter notebook yourself [download and install Octave](https://www.gnu.org/software/octave/download) and install [the Jupyter environment](https://jupyter.org/install). Once both Jupyter and Octave are installed follow [these instructions](https://github.com/calysto/octave_kernel) to configure the use of Octave with Jupyter notebooks. \n",
    "\n",
    "To run Jupyter call `jupyter notebook` from your Terminal/Command Prompt. "
   ]
  }
 ],
 "metadata": {
  "@webio": {
   "lastCommId": null,
   "lastKernelId": null
  },
  "celltoolbar": "Slideshow",
  "kernelspec": {
   "display_name": "Octave",
   "language": "octave",
   "name": "octave"
  },
  "language_info": {
   "file_extension": ".m",
   "help_links": [
    {
     "text": "GNU Octave",
     "url": "https://www.gnu.org/software/octave/support.html"
    },
    {
     "text": "Octave Kernel",
     "url": "https://github.com/Calysto/octave_kernel"
    },
    {
     "text": "MetaKernel Magics",
     "url": "https://metakernel.readthedocs.io/en/latest/source/README.html"
    }
   ],
   "mimetype": "text/x-octave",
   "name": "octave",
   "version": "5.2.0"
  },
  "rise": {
   "enable_chalkboard": true
  }
 },
 "nbformat": 4,
 "nbformat_minor": 2
}
