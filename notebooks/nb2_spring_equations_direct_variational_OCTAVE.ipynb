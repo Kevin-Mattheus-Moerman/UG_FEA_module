{
 "cells": [
  {
   "cell_type": "markdown",
   "metadata": {
    "slideshow": {
     "slide_type": "slide"
    }
   },
   "source": [
    "[**Dr. Kevin M. Moerman**](mailto:kevin.moerman@nuigalway.ie), _Lecturer in Biomedical Engineering_   \n",
    "\n",
    "National University of Ireland Galway.   \n",
    "\n",
    "---"
   ]
  },
  {
   "cell_type": "markdown",
   "metadata": {
    "slideshow": {
     "slide_type": "skip"
    }
   },
   "source": [
    "\\newpage"
   ]
  },
  {
   "cell_type": "markdown",
   "metadata": {
    "slideshow": {
     "slide_type": "slide"
    }
   },
   "source": [
    "# Learning objectives\n",
    "At the end of this lecture you should be able to:   \n",
    "\n",
    "* Formulate Hooke's law in **matrix form**\n",
    "* Derive spring equations using the **direct method**\n",
    "* Derive spring equations using a **variational method**"
   ]
  },
  {
   "cell_type": "markdown",
   "metadata": {
    "slideshow": {
     "slide_type": "slide"
    }
   },
   "source": [
    "# Hooke's law\n",
    "$$F=ku$$   \n",
    "  \n",
    "$F$: Force   \n",
    "$k$: Spring stiffness constant   \n",
    "$u$: Spring extension (displacement of end point)   \n",
    "\n",
    "![](HOOKE_LAW.png)"
   ]
  },
  {
   "cell_type": "markdown",
   "metadata": {
    "slideshow": {
     "slide_type": "slide"
    }
   },
   "source": [
    "## Hooke's law in matrix form\n",
    "A two node spring system:   \n",
    "![spring](spring_2Node.png)  \n",
    "The force components at node 1 and 2 can be written:\n",
    "$$f_{1x}=k(u_1-u_2)$$\n",
    "$$f_{2x}=k(u_2-u_1)=-k(u_1-u_2)$$"
   ]
  },
  {
   "cell_type": "markdown",
   "metadata": {
    "slideshow": {
     "slide_type": "slide"
    }
   },
   "source": [
    "It is conventient to use matrix notation allowing one to write the above as:\n",
    "$$\\begin{Bmatrix} f_{1x} \\\\ f_{2x} \\end{Bmatrix}=\\begin{bmatrix} k & -k \\\\ -k & k\\end{bmatrix}\\begin{Bmatrix} u_1 \\\\ u_2\\end{Bmatrix}$$\n",
    "Which in short form is written:\n",
    "$$\\begin{Bmatrix} F\\end{Bmatrix}=\\begin{bmatrix} K \\end{bmatrix}\\begin{Bmatrix} u\\end{Bmatrix}$$\n",
    "This introduces the notation $\\begin{Bmatrix} \\hspace{0.2cm} \\end{Bmatrix}$ and $\\begin{bmatrix} \\hspace{0.2cm} \\end{bmatrix}$, which represent a column array and a square array respectively."
   ]
  },
  {
   "cell_type": "markdown",
   "metadata": {},
   "source": [
    "## Methods for derivation of the finite element equations\n",
    "\n",
    "* The key finite element equation:\n",
    "$$\\begin{Bmatrix} F\\end{Bmatrix}=\\begin{bmatrix} K \\end{bmatrix}\\begin{Bmatrix} u\\end{Bmatrix}$$\n",
    "* There are three main types of methods to do so:   \n",
    "    * The **direct** (equilibrium) method   \n",
    "        * Simple, intuitive\n",
    "        * 1D problems\n",
    "    * **Variational** methods\n",
    "        * More general\n",
    "        * Requires existance of a functional to minimize\n",
    "    * **Weighted residual** methods (e.g. Galerkin)\n",
    "        * Most general \n",
    "        * No functional for minization required\n",
    "* The direct and variational method are presented in this course"
   ]
  },
  {
   "cell_type": "markdown",
   "metadata": {
    "slideshow": {
     "slide_type": "slide"
    }
   },
   "source": [
    "## Matrix multiplication in finite element analysis (FEA)\n",
    "* Multiplication of two rectangular matrices (summation implied over repeated indices):\n",
    "$$c_{ij}=a_{ik}b_{kj}$$\n",
    "* In FEA \n",
    "$$\\begin{Bmatrix} F\\end{Bmatrix}=\\begin{bmatrix} K \\end{bmatrix}\\begin{Bmatrix} u\\end{Bmatrix}$$\n",
    "* Involves multiplication of a $n\\times p$ matrix and a $n\\times1$ array:\n",
    "$$f_{i}=k_{ip}u_{p}$$\n",
    "* Quasi-mnemonic to get $f_{i}$ \"keep up\" $\\rightarrow k_{ip}u_{p}$"
   ]
  },
  {
   "cell_type": "markdown",
   "metadata": {
    "slideshow": {
     "slide_type": "slide"
    }
   },
   "source": [
    "# Introduction to direct methods\n",
    "* Direct methods use equilibrium conditions to directly assemble stiffness matrices and get to the form: $\\begin{Bmatrix} F\\end{Bmatrix}=\\begin{bmatrix} K \\end{bmatrix}\\begin{Bmatrix} u\\end{Bmatrix}$. \n",
    "* Althought intuitive, this method is limited to 1D problems (springs, bars, trusses)\n"
   ]
  },
  {
   "cell_type": "markdown",
   "metadata": {
    "slideshow": {
     "slide_type": "slide"
    }
   },
   "source": [
    "## Example: A single spring system and a known force\n",
    "Consider a single spring with a spring constant $k_1=100$ and a force of 12 N at one end. Compute the displacement of node 2. \n",
    "\n",
    "![spring force image](spring1_force_2.png)   \n",
    "\n",
    "Once could directly use Hooke's law for a linear elastic spring in this case and simply state $F=ku$, leading to $12=100u$, and therefore $u=0.12$. However, below we shall use the finite element method for solving this problem (which is \"overkill\" in this case), just to familiarize ourselves with the process and notation.  \n"
   ]
  },
  {
   "cell_type": "markdown",
   "metadata": {
    "slideshow": {
     "slide_type": "fragment"
    }
   },
   "source": [
    "1. **Formulate the element stiffness matrix**. Using Hooke's law and force balance principles we can write $f_{1x}=k(u_1-u_2)$ and $f_{2x}=-k(u_1-u_2)$ and cast this in matrix form as:  \n",
    "\n",
    "$$\\begin{bmatrix} K^{(1)} \\end{bmatrix} = k_1 \\begin{bmatrix} 1 & -1 \\\\ -1 & 1 \\end{bmatrix}$$\n"
   ]
  },
  {
   "cell_type": "markdown",
   "metadata": {
    "slideshow": {
     "slide_type": "fragment"
    }
   },
   "source": [
    "2. **Formulate the element level equations**\n",
    "$$\\begin{Bmatrix} F^{(1)} \\end{Bmatrix}=\\begin{bmatrix} K^{(1)}\\end{bmatrix}\\begin{Bmatrix} u^{(1)} \\end{Bmatrix}$$\n",
    "\n",
    "$$\\begin{Bmatrix} f_{1x} \\\\ f_{2x} \\end{Bmatrix}=\\begin{bmatrix} k_1 & -k_1 \\\\ -k_1 & k_1\\end{bmatrix}\\begin{Bmatrix} u_{1x} \\\\ u_{2x}\\end{Bmatrix}$$\n"
   ]
  },
  {
   "cell_type": "markdown",
   "metadata": {
    "slideshow": {
     "slide_type": "fragment"
    }
   },
   "source": [
    "3. **Formulate the global stiffness matrix**. The global equations gather and represent contributions from all elements in the system. In this case, since there is only 1 element, the global stiffness matrix is the same as the element stiffness matrix, and superposition directly maps $\\begin{bmatrix} K^{1} \\end{bmatrix}$ to $\\begin{bmatrix} K \\end{bmatrix}$ :\n",
    "\n",
    "$$\\begin{Bmatrix} F \\end{Bmatrix}=\\begin{bmatrix} K \\end{bmatrix} \\begin{Bmatrix} u \\end{Bmatrix}$$\n",
    "\n",
    "$$\\begin{Bmatrix} F_{1x} \\\\ F_{2x} \\end{Bmatrix}=\\begin{bmatrix} k_1 & -k_1 \\\\ -k_1 & k_1\\end{bmatrix}\\begin{Bmatrix} u_{1x} \\\\ u_{2x}\\end{Bmatrix}$$\n"
   ]
  },
  {
   "cell_type": "markdown",
   "metadata": {
    "slideshow": {
     "slide_type": "fragment"
    }
   },
   "source": [
    "4. **Apply boundary conditions information**, i.e. $F_{2x}=12$ and $u_{1x}=0$\n",
    "\n",
    "$$\\begin{Bmatrix} F_{1x} \\\\ 12 \\end{Bmatrix}=\\begin{bmatrix} 100 & -100 \\\\ -100 & 100\\end{bmatrix}\\begin{Bmatrix} 0 \\\\ u_{2x}\\end{Bmatrix}$$\n"
   ]
  },
  {
   "cell_type": "markdown",
   "metadata": {
    "slideshow": {
     "slide_type": "fragment"
    }
   },
   "source": [
    "5. **Solve the system of equations**. Many methods exist for solving for the unknown quantities. Here a manual process is used. \n",
    "\n",
    "* 5a) First we isolate the equation for the known force $F_{2x}$ to solve for $u_2$ (recalling $f_i=K_{ip}u_{p}$): \n",
    "\n",
    "$$F_{2x} = 12 =K_{21}u_1+K_{22}u_2=-100*0+100u_2=100u_2 \\rightarrow u_2=\\frac{12}{100}=0.12$$\n"
   ]
  },
  {
   "cell_type": "markdown",
   "metadata": {
    "slideshow": {
     "slide_type": "fragment"
    }
   },
   "source": [
    "* 5b) Now we formally solve for the remaining unknown quantity $F_{1x}$ (although balance principles already dictate it should equal $-F_{2x}$), using: \n",
    "$$\\begin{Bmatrix} F_{1x} \\\\ 12 \\end{Bmatrix}=\\begin{bmatrix} 100 & -100 \\\\ -100 & 100\\end{bmatrix}\\begin{Bmatrix} 0 \\\\ \\frac{12}{100}\\end{Bmatrix}$$\n",
    "we obtain\n",
    "$$F_{1x} = K_{11}u_1+K_{12}u_2=100*0-100u_2=-100u_2=-100*0.12=-12$$"
   ]
  },
  {
   "cell_type": "markdown",
   "metadata": {
    "slideshow": {
     "slide_type": "slide"
    }
   },
   "source": [
    "## Example: A three spring system and a known force\n",
    "Consider the three spring system below*:   \n",
    "![3 spring example](springSet_3.png)   \n",
    "The system consists of 3 spring \"elements\" and 4 nodes. Node 1 and 4 are constrained from moving. A force of 25 kN is applied to node 3 in the positive x-direction. The spring stiffnesses are:    \n",
    "\n",
    "$k_1=200$, $k_2=400$, and $k_3=600$\n",
    "        \n",
    "\\*Based on example 2.1 of: Daryl Logan, _\"A First Course in the Finite Element Methods\"_ (page 44 in the 6th edition, page 46 in the 5th edition)"
   ]
  },
  {
   "cell_type": "markdown",
   "metadata": {
    "slideshow": {
     "slide_type": "slide"
    }
   },
   "source": [
    "# Setting up the element stiffness matrices\n",
    "Each element matrix is formed using:\n",
    "$$K^{(i)}=\\begin{bmatrix} k_i & -k_i \\\\ -k_i & k_i\\end{bmatrix} $$\n",
    "\n",
    "Leading to:   \n",
    "$K^{(1)}=\\begin{bmatrix} 200 & -200 \\\\ -200 & 200\\end{bmatrix}$, $K^{(2)}=\\begin{bmatrix} 400 & -400 \\\\ -400 & 400\\end{bmatrix}$, and $K^{(3)}=\\begin{bmatrix} 600 & -600 \\\\ -600 & 600\\end{bmatrix}$ "
   ]
  },
  {
   "cell_type": "code",
   "execution_count": 1,
   "metadata": {
    "slideshow": {
     "slide_type": "fragment"
    }
   },
   "outputs": [
    {
     "name": "stdout",
     "output_type": "stream",
     "text": [
      "k1 =\n",
      "\n",
      "   200  -200\n",
      "  -200   200\n",
      "\n",
      "k2 =\n",
      "\n",
      "   400  -400\n",
      "  -400   400\n",
      "\n",
      "k3 =\n",
      "\n",
      "   600  -600\n",
      "  -600   600\n",
      "\n"
     ]
    }
   ],
   "source": [
    "kSet=[200 400 600]; % The spring stiffness value set\n",
    "I=[1 -1; -1 1]; % Array for spawning stiffness matrices\n",
    "k1=kSet(1)*I % Element stiffness matrix 1\n",
    "k2=kSet(2)*I % Element stiffness matrix 2\n",
    "k3=kSet(3)*I % Element stiffness matrix 3"
   ]
  },
  {
   "cell_type": "markdown",
   "metadata": {
    "slideshow": {
     "slide_type": "slide"
    }
   },
   "source": [
    "### Superposition to assemble global stiffness matrix\n",
    "Through superposition the global stiffness matrix can be assembled. The superposition is often written as:\n",
    "$$K=\\sum_{i=1}^{3} K^{(i)}$$\n",
    "However, it should be noted this is not a summation. The below numerical implementation illustrates how **the indices of the nodes involved are used as indices into matrix $K$**, leading to:\n",
    "$$\\begin{bmatrix} K \\end{bmatrix}=\\begin{bmatrix} 200 & -200 & 0 & 0 \\\\ -200 & 600 & -400 & 0  \\\\ 0 & -400 & 1000 & -600 \\\\ 0 & 0 & -600 & 600 \\end{bmatrix}$$"
   ]
  },
  {
   "cell_type": "code",
   "execution_count": 2,
   "metadata": {
    "slideshow": {
     "slide_type": "fragment"
    }
   },
   "outputs": [
    {
     "name": "stdout",
     "output_type": "stream",
     "text": [
      "K =\r\n",
      "\r\n",
      "    200   -200      0      0\r\n",
      "   -200    600   -400      0\r\n",
      "      0   -400   1000   -600\r\n",
      "      0      0   -600    600\r\n",
      "\r\n"
     ]
    }
   ],
   "source": [
    "K=zeros(4,4); %Initialize stiffness aray with all zeros\n",
    "K([1 2],[1 2]) = K([1 2],[1 2]) + k1; %Add element 1 contribution\n",
    "K([2 3],[2 3]) = K([2 3],[2 3]) + k2; %Add element 2 contribution\n",
    "K([3 4],[3 4]) = K([3 4],[3 4]) + k3; %Add element 3 contribution\n",
    "K"
   ]
  },
  {
   "cell_type": "markdown",
   "metadata": {
    "slideshow": {
     "slide_type": "slide"
    }
   },
   "source": [
    "### Solving the system\n",
    "Following derivation of the global stiffness matrix the total system now becomes:\n",
    "$$\\begin{Bmatrix} F_1 \\\\ F_2 \\\\ F_3 \\\\ F_4 \\end{Bmatrix}=\\begin{bmatrix} 200 & -200 & 0 & 0 \\\\ -200 & 600 & -400 & 0  \\\\ 0 & -400 & 1000 & -600 \\\\ 0 & 0 & -600 & 600 \\end{bmatrix}\\begin{Bmatrix} u_1 \\\\ u_2 \\\\ u_3 \\\\ u_4\\end{Bmatrix}$$\n",
    "To solve this system we can use the boundary conditions. Using $u_1=u_4=0$ the \"sub-system\" for nodes 2 and 3 can be isolated. Furthermore the known forces at nodes 2 and 3 can be substituted, -> $F_2=0$, and $F_3=25000$:\n",
    "\n",
    "$$\\begin{Bmatrix} 0 \\\\ 25000 \\end{Bmatrix}=\\begin{bmatrix} 600 & -400 \\\\ -400 & 1000 \\end{bmatrix}\\begin{Bmatrix} u_2 \\\\ u_3 \\end{Bmatrix}\\rightarrow \\begin{Bmatrix} u_2 \\\\ u_3 \\end{Bmatrix}=\\begin{Bmatrix} \\frac{250}{11} \\\\ \\frac{375}{11} \\end{Bmatrix}$$"
   ]
  },
  {
   "cell_type": "code",
   "execution_count": 3,
   "metadata": {
    "slideshow": {
     "slide_type": "fragment"
    }
   },
   "outputs": [
    {
     "name": "stdout",
     "output_type": "stream",
     "text": [
      "k23 =\n",
      "\n",
      "    600   -400\n",
      "   -400   1000\n",
      "\n",
      "u23 =\n",
      "\n",
      "   22.727\n",
      "   34.091\n",
      "\n"
     ]
    }
   ],
   "source": [
    "F23=[0; 25000]; %Force array for node 2 and 3\n",
    "k23=K([2 3],[2 3]) %Sub-stiffness matrix for 2-3 system\n",
    "u23=k23\\F23 %Displacement array for node 2 and 3"
   ]
  },
  {
   "cell_type": "markdown",
   "metadata": {
    "slideshow": {
     "slide_type": "slide"
    }
   },
   "source": [
    "### Compute force array F\n",
    "Since all nodal diplacements are now known the full force array can now be computed from:\n",
    "$$\\begin{Bmatrix} F_1 \\\\ F_2 \\\\ F_3 \\\\ F_4 \\end{Bmatrix}=\\begin{bmatrix} 200 & -200 & 0 & 0 \\\\ -200 & 600 & -400 & 0  \\\\ 0 & -400 & 1000 & -600 \\\\ 0 & 0 & -600 & 600 \\end{bmatrix}\\begin{Bmatrix} 0 \\\\ \\frac{250}{11} \\\\ \\frac{375}{11} \\\\ 0\\end{Bmatrix}=\\begin{Bmatrix} -\\frac{50000}{11} \\\\ 0 \\\\ 25000 \\\\ -\\frac{225}{11} \\end{Bmatrix}$$"
   ]
  },
  {
   "cell_type": "code",
   "execution_count": 4,
   "metadata": {
    "slideshow": {
     "slide_type": "fragment"
    }
   },
   "outputs": [
    {
     "name": "stdout",
     "output_type": "stream",
     "text": [
      "U =\n",
      "\n",
      "    0.00000\n",
      "   22.72727\n",
      "   34.09091\n",
      "    0.00000\n",
      "\n",
      "F =\n",
      "\n",
      "  -4.5455e+03\n",
      "   1.8190e-12\n",
      "   2.5000e+04\n",
      "  -2.0455e+04\n",
      "\n"
     ]
    }
   ],
   "source": [
    "U=[0; u23(1); u23(2); 0] #Full displacement array\n",
    "F=K*U #Compute force array"
   ]
  },
  {
   "cell_type": "markdown",
   "metadata": {
    "slideshow": {
     "slide_type": "slide"
    }
   },
   "source": [
    "### Computing element forces\n",
    "The element force data can now be computed too from:\n",
    "$$\\begin{Bmatrix} F^{(i)} \\end{Bmatrix}=\\begin{bmatrix} k^{(i)}\\end{bmatrix}\\begin{Bmatrix} u^{(i)} \\end{Bmatrix}$$\n",
    "E.g.:\n",
    "$$\\begin{Bmatrix} f_{1x} \\\\ f_{2x} \\end{Bmatrix}=\\begin{bmatrix} k_1 & -k_1 \\\\ -k_1 & k_1\\end{bmatrix}\\begin{Bmatrix} u_1 \\\\ u_2\\end{Bmatrix}$$"
   ]
  },
  {
   "cell_type": "code",
   "execution_count": 5,
   "metadata": {
    "slideshow": {
     "slide_type": "fragment"
    }
   },
   "outputs": [
    {
     "name": "stdout",
     "output_type": "stream",
     "text": [
      "f1 =\n",
      "\n",
      "  -4545.5\n",
      "   4545.5\n",
      "\n",
      "f2 =\n",
      "\n",
      "  -4545.5\n",
      "   4545.5\n",
      "\n",
      "f3 =\n",
      "\n",
      "   20454.54545\n",
      "  -20454.54545\n",
      "\n"
     ]
    }
   ],
   "source": [
    "f1=k1*U([1 2]) %Element 1 forces\n",
    "f2=k2*U([2 3]) %Element 2 forces\n",
    "f3=k3*U([3 4]) %Element 3 forces"
   ]
  },
  {
   "cell_type": "markdown",
   "metadata": {
    "slideshow": {
     "slide_type": "slide"
    }
   },
   "source": [
    "## Example: A 3 spring system and a known displacement\n",
    "Consider the three spring system below*:   \n",
    "![sprin set image](springSet_3_disp.png)   \n",
    "The system consists of 3 spring \"elements\" and 4 nodes. Node 1 is constrained from moving. A displacement of 0.2 m is applied to node 4 in the positive x-direction. The spring stiffnesses are:    \n",
    "\n",
    "$k_1=k_2=k_3=200$\n",
    "        \n",
    "\\*Based on example 2.2 of: Daryl Logan, _\"A First Course in the Finite Element Methods\"_ (page 48 in the 6th edition, page 49 in the 5th edition)"
   ]
  },
  {
   "cell_type": "markdown",
   "metadata": {
    "slideshow": {
     "slide_type": "slide"
    }
   },
   "source": [
    "### Superposition to form the global stiffness matrix\n",
    "$$K=\\sum_{i=1}^{3} K^{(i)}$$\n",
    "All element stiffness matrices now are of the form: \n",
    "$$K^{(i)}=\\begin{bmatrix} 200 & -200 \\\\ -200 & 200\\end{bmatrix}$$ "
   ]
  },
  {
   "cell_type": "code",
   "execution_count": 6,
   "metadata": {
    "slideshow": {
     "slide_type": "fragment"
    }
   },
   "outputs": [
    {
     "name": "stdout",
     "output_type": "stream",
     "text": [
      "k1 =\n",
      "\n",
      "   200  -200\n",
      "  -200   200\n",
      "\n",
      "k2 =\n",
      "\n",
      "   200  -200\n",
      "  -200   200\n",
      "\n",
      "k3 =\n",
      "\n",
      "   200  -200\n",
      "  -200   200\n",
      "\n"
     ]
    }
   ],
   "source": [
    "kSet=[200 200 200]; % The spring stiffness value set\n",
    "I=[1 -1;-1 1]; % Array for spawning stiffness matrices\n",
    "k1=kSet(1)*I % Element stiffness matrix 1\n",
    "k2=kSet(2)*I % Element stiffness matrix 2\n",
    "k3=kSet(3)*I % Element stiffness matrix 3"
   ]
  },
  {
   "cell_type": "markdown",
   "metadata": {
    "slideshow": {
     "slide_type": "slide"
    }
   },
   "source": [
    "leading to:\n",
    "$$\\begin{bmatrix} K \\end{bmatrix}=\\begin{bmatrix} 200 & -200 & 0 & 0 \\\\ -200 & 400 & -200 & 0  \\\\ 0 & -200 & 400 & -200 \\\\ 0 & 0 & -200 & 200 \\end{bmatrix}$$"
   ]
  },
  {
   "cell_type": "code",
   "execution_count": 7,
   "metadata": {
    "slideshow": {
     "slide_type": "fragment"
    }
   },
   "outputs": [
    {
     "name": "stdout",
     "output_type": "stream",
     "text": [
      "K =\r\n",
      "\r\n",
      "   200  -200     0     0\r\n",
      "  -200   400  -200     0\r\n",
      "     0  -200   400  -200\r\n",
      "     0     0  -200   200\r\n",
      "\r\n"
     ]
    }
   ],
   "source": [
    "K=zeros(4,4); %Initialize stiffness aray with all zeros\n",
    "K([1 2],[1 2]) = K([1 2],[1 2]) + k1; %Add element 1 contribution\n",
    "K([2 3],[2 3]) = K([2 3],[2 3]) + k2; %Add element 2 contribution\n",
    "K([3 4],[3 4]) = K([3 4],[3 4]) + k3; %Add element 3 contribution\n",
    "K"
   ]
  },
  {
   "cell_type": "markdown",
   "metadata": {
    "slideshow": {
     "slide_type": "slide"
    }
   },
   "source": [
    "### Solving for unknown displacements\n",
    "* Considering the known global forces $F_{2x}=F_{3x}=0$, and using the known displacement $u_1=0$ and $u_4=0.2$, one can write:\n",
    "$$\\begin{Bmatrix} F_{1x} \\\\0 \\\\ 0 \\\\ F_{4x}\\end{Bmatrix}=\\begin{bmatrix} 200 & -200 & 0 & 0 \\\\ -200 & 400 & -200 & 0  \\\\ 0 & -200 & 400 & -200 \\\\ 0 & 0 & -200 & 200 \\end{bmatrix}\\begin{Bmatrix} 0 \\\\ u_2 \\\\ u_3 \\\\ 0.2\\end{Bmatrix}$$\n",
    "$$\\rightarrow\\begin{Bmatrix} 0 \\\\ 0 \\end{Bmatrix}=\\begin{bmatrix} -200 & 400 & -200 & 0 \\\\ 0 & -200  & 400  & -200\\end{bmatrix}\\begin{Bmatrix}0 \\\\ u_2 \\\\ u_3 \\\\ 0.2\\end{Bmatrix}$$\n",
    "* To consider only the 2-3 node system, the contribution one would \"ignore\" ($-200*0.2=-40$) should be added/accounted for:\n",
    "$$\\begin{Bmatrix} 0 \\\\ 40 \\end{Bmatrix}=\\begin{bmatrix} 400 & -200 \\\\ -200  & 400\\end{bmatrix}\\begin{Bmatrix} u_2 \\\\ u_3 \\end{Bmatrix}$$\n",
    "* To solve this system compute the inverse of the square matrix or use something like the eliminaton method:\n",
    " $$\\begin{cases} 400 u_2 - 200 u_3 = 0 & \\downarrow +\\times 2 \n",
    "             \\\\ -200 u_2 + 400 u_3 = 40 & \\end{cases}$$\n",
    "             \n",
    " $$\\rightarrow  \\begin{cases} 400 u_2 - 200 u_3 = 0 \n",
    "                          \\\\  600 u_2  = 40  \\end{cases} \\rightarrow u_2 =\\frac{40}{600}=\\frac{1}{15}\n",
    "                                                         \\rightarrow u_3 =\\frac{2}{15}$$"
   ]
  },
  {
   "cell_type": "markdown",
   "metadata": {
    "slideshow": {
     "slide_type": "slide"
    }
   },
   "source": [
    "#### Numerical implementation"
   ]
  },
  {
   "cell_type": "code",
   "execution_count": 8,
   "metadata": {
    "slideshow": {
     "slide_type": "fragment"
    }
   },
   "outputs": [
    {
     "name": "stdout",
     "output_type": "stream",
     "text": [
      "K_sub =\n",
      "\n",
      "  -200   400  -200     0\n",
      "     0  -200   400  -200\n",
      "\n",
      "f =  40\n"
     ]
    }
   ],
   "source": [
    "u4=0.2; \n",
    "K_sub=K([2 3],:)\n",
    "f=-sum(u4*K_sub(:,4))"
   ]
  },
  {
   "cell_type": "code",
   "execution_count": 9,
   "metadata": {
    "slideshow": {
     "slide_type": "fragment"
    }
   },
   "outputs": [
    {
     "name": "stdout",
     "output_type": "stream",
     "text": [
      "u23 =\r\n",
      "\r\n",
      "   0.066667\r\n",
      "   0.133333\r\n",
      "\r\n"
     ]
    }
   ],
   "source": [
    "F23=[0 f]'; #lobal forces for nodes 2 and 3\n",
    "K23=K([2 3],[2 3]); #Stiffness matrix for 2-3 node system\n",
    "u23=K23\\F23 #Displacement array node 2-3 node system"
   ]
  },
  {
   "cell_type": "markdown",
   "metadata": {
    "slideshow": {
     "slide_type": "slide"
    }
   },
   "source": [
    "### Compute global force array using derived and known displacements\n",
    "\n",
    "$$\\begin{Bmatrix} F \\end{Bmatrix}=\\begin{bmatrix} 200 & -200 & 0 & 0 \\\\ -200 & 400 & -200 & 0  \\\\ 0 & -200 & 400 & -200 \\\\ 0 & 0 & -200 & 200 \\end{bmatrix}\\begin{Bmatrix} 0 \\\\ 0.0667 \\\\ 0.1333 \\\\ 0.2\\end{Bmatrix}=\\begin{Bmatrix} -13.3333 \\\\ 0 \\\\ 0 \\\\ 13.3333\\end{Bmatrix}$$\n"
   ]
  },
  {
   "cell_type": "markdown",
   "metadata": {
    "slideshow": {
     "slide_type": "fragment"
    }
   },
   "source": [
    "#### Numerical implementation"
   ]
  },
  {
   "cell_type": "code",
   "execution_count": 10,
   "metadata": {
    "slideshow": {
     "slide_type": "fragment"
    }
   },
   "outputs": [
    {
     "name": "stdout",
     "output_type": "stream",
     "text": [
      "F =\r\n",
      "\r\n",
      "  -13.33333\r\n",
      "    0.00000\r\n",
      "   -0.00000\r\n",
      "   13.33333\r\n",
      "\r\n"
     ]
    }
   ],
   "source": [
    "U=[0 u23(1) u23(2) 0.2]'; #Full displacement array\n",
    "F=K*U #Global force array"
   ]
  },
  {
   "cell_type": "markdown",
   "metadata": {
    "slideshow": {
     "slide_type": "slide"
    }
   },
   "source": [
    "# The variational method based on potential energy minimization\n",
    "* Variation methods uses minimisation of some functional, e.g. potential energy, to get to the form: $\\begin{Bmatrix} F\\end{Bmatrix}=\\begin{bmatrix} K \\end{bmatrix}\\begin{Bmatrix} u\\end{Bmatrix}$\n",
    "* Generally applies 1D, 2D, and 3D elements"
   ]
  },
  {
   "cell_type": "markdown",
   "metadata": {
    "slideshow": {
     "slide_type": "slide"
    }
   },
   "source": [
    "## Deriving a potential energy functional for minimization\n",
    "The potential energy of a system can be expressed as:\n",
    "$$\\Pi=\\Lambda-W$$\n",
    "$\\Pi$ : Potential energy of the system   \n",
    "$\\Lambda$ : The sum of internal strain energy   \n",
    "$W$ : Work done by external forces\n",
    "\n",
    "## Example: Potential energy minimisation in a single spring\\*\n",
    "Consider a single spring with a force at one end:   \n",
    "![spring force image](spring1_force.png)   \n",
    "The internal strain energy $\\Lambda$ is the area under the force-displacement graph (with $F=ku$):    \n",
    "$$\\Lambda=\\frac{1}{2}Fu=\\frac{1}{2}ku^2 \\\\ W=Fu$$\n",
    "Leading to:\n",
    "$$\\Pi=\\frac{1}{2}ku^2-Fu$$\n",
    "\n",
    "To obtain the minimum we solve: \n",
    "$$\\frac{\\partial\\Pi}{\\partial u}=ku-F=0$$\n",
    "\n",
    "\\*Based on example 2.4 of: Daryl Logan, _\"A First Course in the Finite Element Methods\"_ (page 60 in the 6th edition, page 60 in the 5th edition)"
   ]
  },
  {
   "cell_type": "markdown",
   "metadata": {},
   "source": [
    "Assuming a spring constant $k=12.5$, and applied force $F=500$, one would be able to derive the displacement from Hooke's law which would give: \n",
    "$$u=\\frac{F}{k}=40$$\n",
    "However, let's instead use the principle of potential energy minimization. First we specify $\\Pi$:\n",
    "$$\\Pi=\\frac{1}{2}ku^2-Fu$$\n",
    "Minimization provides:\n",
    "$$\\frac{\\partial\\Pi}{\\partial u}=ku-F=12.5u-500=0 \\rightarrow u=40$$"
   ]
  },
  {
   "cell_type": "code",
   "execution_count": 11,
   "metadata": {
    "slideshow": {
     "slide_type": "fragment"
    }
   },
   "outputs": [
    {
     "data": {
      "image/png": "[encoded data removed]",
      "text/plain": [
       "<IPython.core.display.Image object>"
      ]
     },
     "metadata": {},
     "output_type": "display_data"
    }
   ],
   "source": [
    "# Create plot variables\n",
    "k=12.5; %Spring constant\n",
    "F=500.0; %Force\n",
    "uMin=F/k; %Displacement at minimum state\n",
    "pMin=0.5*k*uMin^2-F*uMin; %Energy at minimum state\n",
    "u=linspace(uMin-50,uMin+50,100); %Displacements\n",
    "p=0.5*k*u.^2-F*u; %Energy\n",
    "\n",
    "% Visualize graph\n",
    "figure; hold on; %Open figure\n",
    "xlabel('Displacement','FontSize',25); ylabel('\\Pi','FontSize',25)%Add labels\n",
    "plot(u,p,'b-','LineWidth',5); %Plot graph\n",
    "plot(uMin,pMin,'r.','MarkerSize',25); %Plot point\n",
    "set(gca,'FontSize',15); box on; grid on; axis tight; axis square; %Axis options"
   ]
  },
  {
   "cell_type": "markdown",
   "metadata": {
    "slideshow": {
     "slide_type": "slide"
    }
   },
   "source": [
    "### Deriving stiffness matrices using the potential energy approach\n",
    "Recall the two node spring system:  \n",
    "![spring image](spring_2Node.png)   \n",
    "Recalling $f_{1x}=k(u_1-u_2)$, and $f_{2x}=k(u_2-u_1)$, the potential energy $\\Pi=\\frac{1}{2}ku^2-Fu$ can be written: \n",
    "$$\\Pi=\\frac{1}{2}k(u_2-u_1)^2-f_{1x}u_1-f_{2x}u_2=\\frac{1}{2}k(u_2^2-2u_1u_2+u_1^2)-f_{1x}u_1-f_{2x}u_2$$"
   ]
  },
  {
   "cell_type": "markdown",
   "metadata": {
    "slideshow": {
     "slide_type": "fragment"
    }
   },
   "source": [
    "to minimize this expression partial derivatives with the displacement components are computed and set to 0:   \n",
    "\n",
    "$$\\frac{\\partial\\Pi}{\\partial u_1}=\\frac{1}{2}k(-2u_2+2u_1)-f_{x1}=k(u_1-u_2)-f_{x1}=0$$ \n",
    "$$\\frac{\\partial\\Pi}{\\partial u_2}=\\frac{1}{2}k(-2u_1+2u_2)-f_{x2}=k(u_2-u_1)-f_{x2}=0$$"
   ]
  },
  {
   "cell_type": "markdown",
   "metadata": {
    "slideshow": {
     "slide_type": "fragment"
    }
   },
   "source": [
    "Which after simplification provides:\n",
    "$$\\frac{\\partial\\Pi}{\\partial u_1}=k(u_1-u_2)-f_{x1}=0$$\n",
    "$$\\frac{\\partial\\Pi}{\\partial u_2}=k(u_2-u_1)-f_{x2}=0$$"
   ]
  },
  {
   "cell_type": "markdown",
   "metadata": {
    "slideshow": {
     "slide_type": "slide"
    }
   },
   "source": [
    "Leading us to the familiar notation for the force components at node 1 and 2:\n",
    "$$f_{1x}=k(u_1-u_2)$$\n",
    "$$f_{2x}=k(u_2-u_1)$$\n",
    "Which once again can be expressed in matrix form as:\n",
    "$$\\begin{Bmatrix} f_{1x} \\\\ f_{2x} \\end{Bmatrix}=\\begin{bmatrix} k & -k \\\\ -k & k\\end{bmatrix}\\begin{Bmatrix} u_1 \\\\ u_2\\end{Bmatrix}$$"
   ]
  },
  {
   "cell_type": "markdown",
   "metadata": {
    "slideshow": {
     "slide_type": "slide"
    }
   },
   "source": [
    "## Example: Deriving stiffness matrices using the potential energy approach\n",
    "\n",
    "Consider the three spring system below \\*:   \n",
    "![spring image](springSet_3.png)   \n",
    "The system consists of 3 spring \"elements\" and 4 nodes. Node 1 and 4 are constrained from moving. A force of 25 kN is applied to node 3 in the positive x-direction. The spring stiffnesses are:    \n",
    "\n",
    "$k_1=200$, $k_2=400$, and $k_3=600$\n",
    "        \n",
    "\\*Based on example 2.5 of: Daryl Logan, _\"A First Course in the Finite Element Methods\"_ (page 64 in the 6th edition, page 63 in the 5th edition)   \n"
   ]
  },
  {
   "cell_type": "markdown",
   "metadata": {
    "slideshow": {
     "slide_type": "slide"
    }
   },
   "source": [
    "Which, expressed in matrix form become:   \n",
    "$$\\Lambda^{(1)}=\\frac{1}{2}\\begin{Bmatrix} u_1 \\\\ u_2 \\end{Bmatrix}^\\top\\begin{bmatrix} k_1 & -k_1 \\\\ -k_1 & k_1 \\end{bmatrix}\\begin{Bmatrix} u_1 \\\\ u_2 \\end{Bmatrix} \\textrm{,} \\quad \\Lambda^{(2)}=\\frac{1}{2}\\begin{Bmatrix} u_2 \\\\ u_3 \\end{Bmatrix}^\\top\\begin{bmatrix} k_2 & -k_2 \\\\ -k_2 & k_2 \\end{bmatrix}\\begin{Bmatrix} u_2 \\\\ u_3 \\end{Bmatrix} \\textrm{,} \\quad \\Lambda^{(3)}=\\frac{1}{2}\\begin{Bmatrix} u_3 \\\\ u_4 \\end{Bmatrix}^\\top\\begin{bmatrix} k_3 & -k_3 \\\\ -k_3 & k_3 \\end{bmatrix}\\begin{Bmatrix} u_3 \\\\ u_4 \\end{Bmatrix}$$\n",
    "Note that due to the use of the tranpose operation the matrix products yield scalar energy contributions.   \n"
   ]
  },
  {
   "cell_type": "markdown",
   "metadata": {
    "slideshow": {
     "slide_type": "fragment"
    }
   },
   "source": [
    "In short notation we may write: \n",
    "$$\\Lambda^{(i)}=\\frac{1}{2}\\begin{Bmatrix} u^{(i)} \\end{Bmatrix}^\\top\\begin{bmatrix} K^{(i)} \\end{bmatrix}\\begin{Bmatrix} u^{(i)} \\end{Bmatrix}$$\n",
    "Leading to the total strain energy: \n",
    "$$\\Lambda=\\sum_{i=1}^{3} \\Lambda^{(i)}=\\frac{1}{2}\\begin{Bmatrix} u \\end{Bmatrix}^\\top\\begin{bmatrix} K \\end{bmatrix}\\begin{Bmatrix} u \\end{Bmatrix}$$"
   ]
  },
  {
   "cell_type": "markdown",
   "metadata": {
    "slideshow": {
     "slide_type": "slide"
    }
   },
   "source": [
    "### External work contributions in matrix form\n",
    "$$W=\\sum_{i=1}^{4}F_{ix}u_i=\\begin{Bmatrix} u_1 \\\\ u_2 \\\\ u_3 \\\\ u_4 \\end{Bmatrix}^\\top\\begin{Bmatrix} F_{1} \\\\ F_{2} \\\\ F_{3} \\\\ F_{4} \\end{Bmatrix}=\\begin{Bmatrix} u \\end{Bmatrix}^\\top\\begin{Bmatrix} F \\end{Bmatrix}$$"
   ]
  },
  {
   "cell_type": "markdown",
   "metadata": {
    "slideshow": {
     "slide_type": "slide"
    }
   },
   "source": [
    "### Potential energy in matrix form\n",
    "$$\\Pi=\\Lambda-W$$\n",
    "Using:\n",
    "$$W=\\begin{Bmatrix} u \\end{Bmatrix}^\\top\\begin{Bmatrix} F \\end{Bmatrix}$$\n",
    "and\n",
    "$$\\Lambda=\\sum_{i=1}^{3} \\Lambda^{(i)}=\\frac{1}{2}\\begin{Bmatrix} u \\end{Bmatrix}^\\top\\begin{bmatrix} K \\end{bmatrix}\\begin{Bmatrix} u \\end{Bmatrix}$$\n",
    "we obtain:\n",
    "$$\\Pi=\\frac{1}{2}\\begin{Bmatrix} u \\end{Bmatrix}^\\top\\begin{bmatrix} K \\end{bmatrix}\\begin{Bmatrix} u \\end{Bmatrix}-\\begin{Bmatrix} u \\end{Bmatrix}^\\top\\begin{Bmatrix} F \\end{Bmatrix}$$\n",
    "Minimisation through partial derivatives with $\\begin{Bmatrix} u \\end{Bmatrix}$ gives:\n",
    "$$\\frac{\\partial\\Pi}{\\partial \\begin{Bmatrix} u \\end{Bmatrix}}=\\begin{bmatrix} K \\end{bmatrix}\\begin{Bmatrix} u \\end{Bmatrix}-\\begin{Bmatrix} F \\end{Bmatrix}=0$$\n",
    "Leading to the familiar expression:\n",
    "$$\\begin{Bmatrix} F \\end{Bmatrix}=\\begin{bmatrix} K \\end{bmatrix}\\begin{Bmatrix} u \\end{Bmatrix}$$\n"
   ]
  },
  {
   "cell_type": "markdown",
   "metadata": {
    "slideshow": {
     "slide_type": "slide"
    }
   },
   "source": [
    "### Potential energy in matrix form\n",
    "$$\\Pi=\\frac{1}{2}\\begin{Bmatrix} u \\end{Bmatrix}^\\top\\begin{bmatrix} K \\end{bmatrix}\\begin{Bmatrix} u \\end{Bmatrix}-\\begin{Bmatrix} u \\end{Bmatrix}^\\top\\begin{Bmatrix} F \\end{Bmatrix}=\\sum_{i=1}^{3} \\Pi^{(i)}$$\n",
    "\n",
    "$$\\Pi=\\overbrace{\\bigg[\\frac{1}{2}k_1(u_1^2-2u_1u_2+u_2^2)-F_{1}u_1\\bigg]}^{\\Pi^{(1)}}+\\overbrace{\\bigg[\\frac{1}{2}k_2(u_2^2-2u_2u_3+u_3^2)-F_{2}u_2\\bigg]}^{\\Pi^{(2)}}+\\overbrace{\\bigg[\\frac{1}{2}k_3(u_3^2-2u_3u_4+u_4^2)-F_{3}u_3\\bigg]}^{\\Pi^{(3)}}$$"
   ]
  },
  {
   "cell_type": "markdown",
   "metadata": {
    "slideshow": {
     "slide_type": "fragment"
    }
   },
   "source": [
    "Minimisation using the partial derivatives:\n",
    "$$\\frac{\\partial\\Pi}{\\partial u_1}=k_1u_1-k_1u_2-F_{1}=k_1(u_1-u_2)-F_{1}=0$$\n",
    "$$\\frac{\\partial\\Pi}{\\partial u_2}=-k_1u_1+k_1u_2+k_2u_2-k_2u_3-F_{2}=k_1(u_2-u_1)+k_2(u_2-u_3)-F_{2}=0$$\n",
    "$$\\frac{\\partial\\Pi}{\\partial u_3}=-k_2u_2+k_2u_3+k_3u_3-k_3u_4-F_{3}=k_2(u_3-u_2)+k_3(u_3-u_4)-F_{3}=0$$\n",
    "$$\\frac{\\partial\\Pi}{\\partial u_4}=-k_3u_3+k_3u_4-F_{4}=k_3(u_4-u_3)-F_{4}=0$$\n",
    "Which can be cast in matrix form as: \n",
    "$$\\begin{Bmatrix} F_1 \\\\ F_2 \\\\ F_3 \\\\ F_4 \\end{Bmatrix}=\\begin{bmatrix} k_1 & -k_1 & 0 & 0 \\\\ -k_1 & k_1+k_2 & -k_2 & 0  \\\\ 0 & -k_2 & k_2+k_3 & -k_3 \\\\ 0 & 0 & -k_3 & k_3 \\end{bmatrix}\\begin{Bmatrix} u_1 \\\\ u_2 \\\\ u_3 \\\\ u_4 \\end{Bmatrix}$$"
   ]
  },
  {
   "cell_type": "markdown",
   "metadata": {
    "slideshow": {
     "slide_type": "slide"
    }
   },
   "source": [
    "## Summary\n",
    "* The key finite element equation:\n",
    "$$\\begin{Bmatrix} F\\end{Bmatrix}=\\begin{bmatrix} K \\end{bmatrix}\\begin{Bmatrix} u\\end{Bmatrix}$$\n",
    "* There are three main types of methods to do so:   \n",
    "    * The **direct** (equilibrium) method   \n",
    "        * Simple, intuitive\n",
    "        * 1D problems\n",
    "        $$\\begin{Bmatrix} f_{1x} \\\\ f_{2x} \\end{Bmatrix}=\\begin{bmatrix} k & -k \\\\ -k & k\\end{bmatrix}\\begin{Bmatrix} u_1 \\\\ u_2\\end{Bmatrix}$$\n",
    "        $$K=\\sum_{i=1}^{3} K^{(i)}$$\n",
    "\n",
    "    * **Variational** methods\n",
    "        * More general\n",
    "        * Requires existance of a functional to minimize\n",
    "        $$\\Pi=\\frac{1}{2}\\begin{Bmatrix} u \\end{Bmatrix}^\\top\\begin{bmatrix} K \\end{bmatrix}\\begin{Bmatrix} u \\end{Bmatrix}-\\begin{Bmatrix} u \\end{Bmatrix}^\\top\\begin{Bmatrix} F \\end{Bmatrix}$$\n"
   ]
  },
  {
   "cell_type": "markdown",
   "metadata": {
    "slideshow": {
     "slide_type": "skip"
    }
   },
   "source": [
    "\\newpage"
   ]
  },
  {
   "cell_type": "markdown",
   "metadata": {
    "slideshow": {
     "slide_type": "skip"
    }
   },
   "source": [
    "**About this document**    \n",
    "\n",
    "This document was created using a [Jupyter notebook](https://jupyter.org/) which allows for the presentation of theory and equations, as well as live (running code) numerical implementations. \n",
    "\n",
    "This Jupyter notebook is available [open source](https://github.com/Kevin-Mattheus-Moerman/NUIG_BME_402_6101) and features the [Octave](https://www.gnu.org/software/octave/index) programming language (an open source alternative to MATLAB). If you are interested in running this Jupyter notebook yourself [download and install Octave](https://www.gnu.org/software/octave/download) and install [the Jupyter environment](https://jupyter.org/install). Once both Jupyter and Octave are installed follow [these instructions](https://github.com/calysto/octave_kernel) to configure the use of Octave with Jupyter notebooks. \n",
    "\n",
    "To run Jupyter call `jupyter notebook` from your Terminal/Command Prompt. "
   ]
  }
 ],
 "metadata": {
  "@webio": {
   "lastCommId": null,
   "lastKernelId": null
  },
  "celltoolbar": "Slideshow",
  "kernelspec": {
   "display_name": "Octave",
   "language": "octave",
   "name": "octave"
  },
  "language_info": {
   "file_extension": ".m",
   "help_links": [
    {
     "text": "GNU Octave",
     "url": "https://www.gnu.org/software/octave/support.html"
    },
    {
     "text": "Octave Kernel",
     "url": "https://github.com/Calysto/octave_kernel"
    },
    {
     "text": "MetaKernel Magics",
     "url": "https://metakernel.readthedocs.io/en/latest/source/README.html"
    }
   ],
   "mimetype": "text/x-octave",
   "name": "octave",
   "version": "5.2.0"
  },
  "rise": {
   "enable_chalkboard": true,
   "scroll": true
  }
 },
 "nbformat": 4,
 "nbformat_minor": 2
}
