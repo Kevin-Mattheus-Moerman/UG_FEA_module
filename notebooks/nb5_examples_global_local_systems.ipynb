{
 "cells": [
  {
   "cell_type": "markdown",
   "metadata": {
    "slideshow": {
     "slide_type": "slide"
    }
   },
   "source": [
    "  \n",
    "[**Dr. Kevin M. Moerman**](mailto:kevin.moerman@nuigalway.ie), _Lecturer in Biomedical Engineering_   \n",
    "\n",
    "National University of Ireland Galway.   \n",
    "\n",
    "---"
   ]
  },
  {
   "cell_type": "markdown",
   "metadata": {
    "slideshow": {
     "slide_type": "skip"
    }
   },
   "source": [
    "\\newpage"
   ]
  },
  {
   "cell_type": "markdown",
   "metadata": {
    "slideshow": {
     "slide_type": "slide"
    }
   },
   "source": [
    "# The truss element\n",
    "![spring](truss1.png)  \n",
    "\n",
    "* Behaviour Hooke's law for a bar:    \n",
    "$$\\sigma=E\\epsilon=\\frac{F}{A}$$     \n",
    "$$\\begin{Bmatrix} f_{1} \\\\ f_{2} \\end{Bmatrix}=\\frac{AE}{L}\\begin{bmatrix} 1 & -1 \\\\ -1 & 1\\end{bmatrix}\\begin{Bmatrix} u_1 \\\\ u_2\\end{Bmatrix}$$   \n",
    "\n",
    "* Truss (or bar) is a 1D element but has a **cross-sectional area** $A$    \n",
    "\n",
    "* **strain** a relative metric for deformation: \n",
    "$$\\epsilon=\\frac{(u_2-u_1)}{L_0}$$    \n",
    "  \n",
    "$\\sigma$: Stress (Pa or $N/m^2$)   \n",
    "$F$: Force (N)   \n",
    "$E$: The material Young's Modulus (Pa or $N/m^2$)   \n",
    "$\\epsilon$: The strain in the material ([])   \n",
    "$L$ truss lenght (m)"
   ]
  },
  {
   "cell_type": "markdown",
   "metadata": {
    "slideshow": {
     "slide_type": "slide"
    }
   },
   "source": [
    "## Example: A two truss system and a known force\n",
    "Consider the two truss system below. \n",
    "\n",
    "* The system consists of 2 truss elements and 3 nodes.   \n",
    "\n",
    "* Node 1 is contrained from moving.   \n",
    "\n",
    "* A force of 10 N is applied to node 2 in the positive x-direction.   \n",
    "\n",
    "$E^{(1)}=200$ $MPa$   \n",
    "$L^{(1)}=100$ $mm$   \n",
    "$A^{(1)}=20$ $mm^2$   \n",
    "   \n",
    "$E^{(2)}=200$ $MPa$   \n",
    "$L^{(2)}=100$ $mm$  \n",
    "$A^{(2)}=10$ $mm^2$   \n",
    "\n",
    "\n",
    "![](trussSet_2_force.png)   \n",
    "\n",
    "**Assignment**: Determine the nodal displacements, reaction forces and strains within each element of the bar.         \n"
   ]
  },
  {
   "cell_type": "markdown",
   "metadata": {
    "slideshow": {
     "slide_type": "slide"
    }
   },
   "source": [
    "### Boundary and compatibility conditions\n",
    "* The boundary conditions: \n",
    "$$u_1=0$$\n",
    "$$F_3=P=10$$\n",
    "  \n",
    "    \n",
    "![](trussSet_2_force.png)  "
   ]
  },
  {
   "cell_type": "markdown",
   "metadata": {
    "slideshow": {
     "slide_type": "slide"
    }
   },
   "source": [
    "### Setting up the element stiffness matrices\n",
    "* Recognize: \n",
    "$$K^{(i)}=\\frac{A^{(i)}E^{(i)}}{L^{(i)}}\\begin{bmatrix} 1 & -1 \\\\ -1 & 1\\end{bmatrix}=k^{(i)}\\begin{bmatrix} 1 & -1 \\\\ -1 & 1\\end{bmatrix}$$   \n",
    "* Derive individual stiffness values   \n",
    "$$k^{(1)}=\\frac{A^{(1)}E^{(1)}}{L^{(1)}}=\\frac{20*200\\times10^3}{100}=40$$\n",
    "$$k^{(2)}=\\frac{A^{(2)}E^{(2)}}{L^{(2)}}=\\frac{10*200\\times10^3}{100}=20$$\n",
    "* Derive individual stiffness matrices   \n",
    "$$K^{(1)}=\\begin{bmatrix} 40 & -40 \\\\ -40 & 40\\end{bmatrix}$$   \n",
    "  \n",
    "$$K^{(2)}=\\begin{bmatrix} 20 & -20 \\\\ -20 & 20\\end{bmatrix}$$\n"
   ]
  },
  {
   "cell_type": "code",
   "execution_count": 7,
   "metadata": {
    "slideshow": {
     "slide_type": "fragment"
    }
   },
   "outputs": [
    {
     "name": "stdout",
     "output_type": "stream",
     "text": [
      "K1 =\n",
      "\n",
      "   40  -40\n",
      "  -40   40\n",
      "\n",
      "K2 =\n",
      "\n",
      "   20  -20\n",
      "  -20   20\n",
      "\n"
     ]
    }
   ],
   "source": [
    "I=[1 -1; -1 1]; % Array for spawning stiffness matrices\n",
    "k1=(20*200)/100; % Stiffness 1\n",
    "k2=(10*200)/100; % Stiffness 2\n",
    "K1=k1*I % Element stiffness matrix 1\n",
    "K2=k2*I % Element stiffness matrix 2"
   ]
  },
  {
   "cell_type": "markdown",
   "metadata": {
    "slideshow": {
     "slide_type": "slide"
    }
   },
   "source": [
    "### Superposition to assemble global stiffness matrix\n",
    "Through superposition to global stiffness matrix can be assembled. The superposition is often written as:\n",
    "$$K=\\sum_{i=1}^{N} K^{(i)}$$\n",
    "However, it should be noted this is not a summation. The below numerical implementation illustrates how **the indices of the nodes involved are used as indices into matrix $K$**, leading to:\n",
    "$$\\begin{bmatrix} K \\end{bmatrix}=\\begin{bmatrix} 40 & -40 & 0 \\\\ -40 & 60 & -20 \\\\ 0 & -20 & 20\\end{bmatrix}$$\n"
   ]
  },
  {
   "cell_type": "code",
   "execution_count": 8,
   "metadata": {
    "slideshow": {
     "slide_type": "fragment"
    }
   },
   "outputs": [
    {
     "name": "stdout",
     "output_type": "stream",
     "text": [
      "K =\r\n",
      "\r\n",
      "   40  -40    0\r\n",
      "  -40   60  -20\r\n",
      "    0  -20   20\r\n",
      "\r\n"
     ]
    }
   ],
   "source": [
    "K=zeros(3,3); %Initialize stiffness aray with all zeros\n",
    "K([1,2],[1,2])= K([1,2],[1,2])+ K1; %Add element 1 contribution\n",
    "K([2,3],[2,3])= K([2,3],[2,3])+ K2; %Add element 2 contribution\n",
    "K"
   ]
  },
  {
   "cell_type": "markdown",
   "metadata": {
    "slideshow": {
     "slide_type": "slide"
    }
   },
   "source": [
    "### Solving the system using matrix algebra\n",
    "* Following derivation of the global stiffness matrix, and using $u_1=0$, $F_2=0$, $F_3=P=10$, the total system now becomes:\n",
    "$$\\begin{Bmatrix} F_1 \\\\ 0 \\\\ 10 \\end{Bmatrix}=\\begin{bmatrix} 40 & -40 & 0 \\\\ -40 & 60 & -20 \\\\ 0 & -20 & 20\\end{bmatrix}\\begin{Bmatrix} 0 \\\\ u_2 \\\\ u_3\\end{Bmatrix}$$\n",
    "* Select the 2-3 sub-system: \n",
    "$$\\begin{Bmatrix} 0 \\\\ 10 \\end{Bmatrix}=\\begin{bmatrix} 60 & -20 \\\\ -20 & 20\\end{bmatrix}\\begin{Bmatrix} u_2 \\\\ u_3\\end{Bmatrix}$$\n",
    "\n",
    "* Solve: \n",
    "$$\\begin{Bmatrix} u_2 \\\\ u_3\\end{Bmatrix}=\\begin{bmatrix} 60 & -20 \\\\ -20 & 20\\end{bmatrix}^{-1}\\begin{Bmatrix} 0 \\\\ 10 \\end{Bmatrix}$$"
   ]
  },
  {
   "cell_type": "code",
   "execution_count": 9,
   "metadata": {
    "slideshow": {
     "slide_type": "fragment"
    }
   },
   "outputs": [
    {
     "name": "stdout",
     "output_type": "stream",
     "text": [
      "K23 =\n",
      "\n",
      "   60  -20\n",
      "  -20   20\n",
      "\n",
      "u23 =\n",
      "\n",
      "   0.25000\n",
      "   0.75000\n",
      "\n"
     ]
    }
   ],
   "source": [
    "F23=[0 10]'; %Force at node 2 and 3\n",
    "K23=K([2,3],[2,3]) %Stiffness matrix for 2-3 system\n",
    "u23=K23\\F23 %Displacement array for node 2 and 3, same as: inv(K23)*F23"
   ]
  },
  {
   "cell_type": "markdown",
   "metadata": {
    "slideshow": {
     "slide_type": "slide"
    }
   },
   "source": [
    "### Solving the system by solving system of linear equations manually\n",
    "* Select the 2-3 sub-system: \n",
    "$$\\begin{Bmatrix} 0 \\\\ 10 \\end{Bmatrix}=\\begin{bmatrix} 60 & -20 \\\\ -20 & 20\\end{bmatrix}\\begin{Bmatrix} u_2 \\\\ u_3\\end{Bmatrix}$$\n",
    "* \"Take out\" two equations:\n",
    "$$0=(60 u_2)+(-20 u_3)$$\n",
    "$$10=(-20 u_2)+(20 u_3)$$\n",
    "* Express $u_2$ in terms of $u_3$ or vice-versa:\n",
    "$$0=(60 u_2)+(-20 u_3)\\rightarrow 20 u_3=60 u_2 \\rightarrow u_2=u_3/3  \\rightarrow u_3=3u_2 $$\n",
    "* Substitute into other equation e.g.:\n",
    "$$10=(-20 [u_3/3])+(20 u_3) \\rightarrow 10=(-20/3 u_3)+(20 u_3) \\rightarrow 10=(20-20/3) u_3$$\n",
    "$$\\rightarrow u_3=\\frac{10}{20-\\frac{20}{3}}=0.75$$\n",
    "$$\\rightarrow u_2=u_3/3=0.25$$"
   ]
  },
  {
   "cell_type": "markdown",
   "metadata": {
    "slideshow": {
     "slide_type": "slide"
    }
   },
   "source": [
    "### Compute force array F\n",
    "Since all nodal diplacements are now known the full force array can now be computed from:\n",
    "$$\\begin{Bmatrix} F_1 \\\\ F_2 \\\\ F_3 \\end{Bmatrix}=\\begin{bmatrix} 40 & -40 & 0 \\\\ -40 & 60 & -20 \\\\ 0 & -20 & 20\\end{bmatrix}\\begin{Bmatrix} 0 \\\\ 0.25 \\\\ 0.75\\end{Bmatrix}=\\begin{Bmatrix} -10 \\\\ 0 \\\\ 10 \\end{Bmatrix}$$"
   ]
  },
  {
   "cell_type": "code",
   "execution_count": 10,
   "metadata": {
    "slideshow": {
     "slide_type": "fragment"
    }
   },
   "outputs": [
    {
     "name": "stdout",
     "output_type": "stream",
     "text": [
      "U =\n",
      "\n",
      "   0.00000\n",
      "   0.25000\n",
      "   0.75000\n",
      "\n",
      "F =\n",
      "\n",
      "  -1.0000e+01\n",
      "  -7.1054e-15\n",
      "   1.0000e+01\n",
      "\n"
     ]
    }
   ],
   "source": [
    "U=[0; u23(1); u23(2)] %Full displacement array\n",
    "F=K*U %Compute force array"
   ]
  },
  {
   "cell_type": "markdown",
   "metadata": {
    "slideshow": {
     "slide_type": "slide"
    }
   },
   "source": [
    "### Computing element forces\n",
    "The element force data can now be computed too from:\n",
    "$$\\begin{Bmatrix} F^{(i)} \\end{Bmatrix}=\\begin{bmatrix} k^{(i)}\\end{bmatrix}\\begin{Bmatrix} u^{(i)} \\end{Bmatrix}$$   \n",
    "  \n",
    "E.g.:   \n",
    "\n",
    "$$\\begin{Bmatrix} f_{1x}^{(1)} \\\\ f_{2x}^{(1)} \\end{Bmatrix}=\\frac{A^{(1)}E^{(1)}}{L^{(1)}}\\begin{bmatrix} 1 & -1 \\\\ -1 & 1\\end{bmatrix}\\begin{Bmatrix} u_1 \\\\ u_2\\end{Bmatrix}=\\begin{bmatrix} k_1 & -k_1 \\\\ -k_1 & k_1\\end{bmatrix}\\begin{Bmatrix} u_1 \\\\ u_2\\end{Bmatrix}$$\n",
    "$$\\begin{Bmatrix} f_{2x}^{(2)} \\\\ f_{3x}^{(2)} \\end{Bmatrix}=\\frac{A^{(2)}E^{(2)}}{L^{(2)}}\\begin{bmatrix} 1 & -1 \\\\ -1 & 1\\end{bmatrix}\\begin{Bmatrix} u_2 \\\\ u_3\\end{Bmatrix}=\\begin{bmatrix} k_2 & -k_2 \\\\ -k_2 & k_2\\end{bmatrix}\\begin{Bmatrix} u_2 \\\\ u_3\\end{Bmatrix}$$"
   ]
  },
  {
   "cell_type": "code",
   "execution_count": 11,
   "metadata": {
    "slideshow": {
     "slide_type": "fragment"
    }
   },
   "outputs": [
    {
     "name": "stdout",
     "output_type": "stream",
     "text": [
      "f1 =\n",
      "\n",
      "  -10.0000\n",
      "  10.0000\n",
      "\n",
      "f2 =\n",
      "\n",
      "  -10\n",
      "   10\n",
      "\n"
     ]
    }
   ],
   "source": [
    "f1=K1*U([1,2]) %Element 1 forces\n",
    "f2=K2*U([2,3]) %Element 2 forces"
   ]
  },
  {
   "cell_type": "markdown",
   "metadata": {
    "slideshow": {
     "slide_type": "slide"
    }
   },
   "source": [
    "### Compute strains\n",
    "* Hooke's law for a truss   \n",
    "    * Stress: \n",
    "    $$\\sigma=E\\epsilon=\\frac{F}{A}$$\n",
    "    * Strain: \n",
    "    $$\\epsilon=\\frac{(u_j-u_i)}{L_0}$$    \n",
    "    \n",
    "$$\\epsilon^{(1)}=\\frac{(u_2-u_1)}{L^{(1)}}=\\frac{(0.25-0)}{100}=0.0025$$    \n",
    "$$\\epsilon^{(2)}=\\frac{(u_3-u_2)}{L^{(2)}}=\\frac{(0.75-0.25)}{100}=0.005$$ "
   ]
  },
  {
   "cell_type": "markdown",
   "metadata": {
    "slideshow": {
     "slide_type": "slide"
    }
   },
   "source": [
    "# How about tilted trusses? \n",
    "\n",
    "![](2Truss_elephant.png)"
   ]
  },
  {
   "cell_type": "markdown",
   "metadata": {
    "slideshow": {
     "slide_type": "slide"
    }
   },
   "source": [
    "# The truss element in a GLOBAL coordinate system\n",
    "The example below shows a single truss, with a force on either end, in a **global** coordinate system. Local quantities will have their usual notation, global quantities will have a superscript $0$. Next we will explore how to convert the local system to the global system. \n",
    "![truss](truss2_3D.png)  \n"
   ]
  },
  {
   "cell_type": "markdown",
   "metadata": {
    "slideshow": {
     "slide_type": "slide"
    }
   },
   "source": [
    "## Step1: Express quantities as 2D vectors\n",
    "![truss](truss2_2D_01.png)  \n",
    "\n",
    "* Expand scalar forces and displacements to vectors by adding y-components (all zero in local system) \n",
    "\n",
    "$$\\mathbf{f_{1}}=\\frac{AE}{L}(\\mathbf{u1}-\\mathbf{u2})$$  \n",
    "$$\\mathbf{f_{2}}=\\frac{AE}{L}(\\mathbf{u2}-\\mathbf{u1})$$  \n",
    "\n",
    "with: $\\mathbf{f_{1}}=\\begin{bmatrix} f_{1x} \\\\ f_{1y}\\end{bmatrix}=\\begin{bmatrix} -T_{x} \\\\ 0 \\end{bmatrix}$, $\\mathbf{f_{2}}=\\begin{bmatrix} f_{2x} \\\\ f_{2y}\\end{bmatrix}=\\begin{bmatrix} T_{x} \\\\ 0 \\end{bmatrix}$, $\\mathbf{u_{1}}=\\begin{bmatrix} u_{1x} \\\\ u_{1y}\\end{bmatrix}$, $\\mathbf{u_{2}}=\\begin{bmatrix} u_{2x} \\\\ u_{2y}\\end{bmatrix}$  \n"
   ]
  },
  {
   "cell_type": "markdown",
   "metadata": {
    "slideshow": {
     "slide_type": "slide"
    }
   },
   "source": [
    "* The 1D truss element equation\n",
    "$$\\begin{Bmatrix} f \\end{Bmatrix}=\\begin{Bmatrix} f_{1} \\\\ f_{2} \\end{Bmatrix}=\\frac{AE}{L}\\begin{bmatrix} 1 & -1 \\\\ -1 & 1\\end{bmatrix}\\begin{Bmatrix} u_1 \\\\ u_2\\end{Bmatrix}$$\n",
    "\n",
    ", can then be rewritten:\n",
    "$$\\begin{Bmatrix} f \\end{Bmatrix}=\\begin{Bmatrix} \\mathbf{f_{1}} \\\\ \\mathbf{f_{2}} \\end{Bmatrix} =\\begin{Bmatrix} f_{1x} \\\\ f_{1y} \\\\ f_{2x} \\\\ f_{2y} \\end{Bmatrix}=\\frac{AE}{L}\\begin{bmatrix} 1 & 0  & -1 & 0 \\\\ 0 & 0 & 0 & 0 \\\\ -1 & 0 & 1 & 0 \\\\ 0 & 0 & 0 & 0\\end{bmatrix}\\begin{Bmatrix} u1_{x} \\\\ u1_{y} \\\\ u2_{x} \\\\ u2_{y} \\end{Bmatrix}$$  \n",
    "\n",
    "* The added zeros stem from the fact that the local y-components are all zero for a truss (1D element)"
   ]
  },
  {
   "cell_type": "markdown",
   "metadata": {
    "slideshow": {
     "slide_type": "slide"
    }
   },
   "source": [
    "## Step2: Transformation of the 2D local equations to the 2D global system\n",
    "### Transforming vector and tensor quantities\n",
    "* Define a transformation matrix, in this case a rotation tensor ($l$ and $m$ named \"direction cosines\")\n",
    "$$\\boldsymbol{\\xi}=\\begin{bmatrix} \\cos(\\alpha) & -\\sin(\\alpha) \\\\ \\sin(\\alpha) & \\cos(\\alpha)\\end{bmatrix}=\\begin{bmatrix} l & -m \\\\ m & l\\end{bmatrix}$$ "
   ]
  },
  {
   "cell_type": "markdown",
   "metadata": {
    "slideshow": {
     "slide_type": "fragment"
    }
   },
   "source": [
    "* Allowing one to transform **vector** and **tensor** quantities in the **local** system to the **global** system \n",
    "$$\\mathbf{f_{i}^0}=\\boldsymbol{\\xi}\\mathbf{f_{i}}$$\n",
    "$$\\mathbf{u_{i}^0}=\\boldsymbol{\\xi}\\mathbf{u_{i}}$$\n",
    "$$\\boldsymbol{\\sigma^0}=\\boldsymbol{\\xi}\\boldsymbol{\\sigma}\\boldsymbol{\\xi}^\\top$$\n"
   ]
  },
  {
   "cell_type": "markdown",
   "metadata": {
    "slideshow": {
     "slide_type": "fragment"
    }
   },
   "source": [
    "* Inverse of $\\boldsymbol{\\xi}$ which is $\\boldsymbol{\\xi}^{-1}=\\boldsymbol{\\xi}^\\top$ enables inverse mapping   \n",
    "$$\\mathbf{f_{i}}=\\boldsymbol{\\xi}^\\top \\mathbf{f_{i}^0}$$\n",
    "$$\\mathbf{u_{i}}=\\boldsymbol{\\xi}^\\top \\mathbf{u_{i}^0}$$\n",
    "$$\\boldsymbol{\\sigma}=\\boldsymbol{\\xi}^\\top\\boldsymbol{\\sigma^0}\\boldsymbol{\\xi}$$\n"
   ]
  },
  {
   "cell_type": "markdown",
   "metadata": {
    "slideshow": {
     "slide_type": "fragment"
    }
   },
   "source": [
    "* Note that the rotation tensor can be chosen to define the local-to-global tranformation OR the global-to-local transformation. This is simly a choice of convention. \n",
    "    * If $\\boldsymbol{\\xi}$ is for a local-to-global tranformation then $\\boldsymbol{\\xi}^\\top$ enables the global-to-local tranformation. \n",
    "    * If $\\boldsymbol{\\xi}$ is for a global-to-local tranformation then $\\boldsymbol{\\xi}^\\top$ enables the local-to-global tranformation instead.  "
   ]
  },
  {
   "cell_type": "markdown",
   "metadata": {
    "slideshow": {
     "slide_type": "slide"
    }
   },
   "source": [
    "### Transforming array or matrix quantities\n",
    "* For the force, displacement **arrays**, and stiffness **matrix** a dedicated transformation matrix $\\begin{bmatrix} \\lambda \\end{bmatrix}$ is required:  \n",
    "$$\\begin{bmatrix} \\lambda \\end{bmatrix}=\\begin{bmatrix} \\boldsymbol{\\xi} & \\mathbf{0} \\\\ \\mathbf{0} & \\boldsymbol{\\xi} \\end{bmatrix}=\\begin{bmatrix} \\cos(\\alpha) & -\\sin(\\alpha) & 0 & 0 \\\\ \\sin(\\alpha) & \\cos(\\alpha) & 0 & 0 \\\\ 0 & 0 & \\cos(\\alpha) & -\\sin(\\alpha) \\\\ 0 & 0 & \\sin(\\alpha) & \\cos(\\alpha) \\end{bmatrix}=\\begin{bmatrix} l & -m & 0 & 0 \\\\ m & l & 0 & 0 \\\\ 0 & 0 & l & -m \\\\ 0 & 0 & m & l \\end{bmatrix}$$"
   ]
  },
  {
   "cell_type": "markdown",
   "metadata": {
    "slideshow": {
     "slide_type": "slide"
    }
   },
   "source": [
    "* Allowing one to transform **matrix** or **array** quantities from the local to the global system\n",
    "$$\\begin{Bmatrix} f^0 \\end{Bmatrix}=\\begin{bmatrix} \\lambda \\end{bmatrix} \\begin{Bmatrix} f \\end{Bmatrix}$$\n",
    "$$\\begin{Bmatrix} u^0 \\end{Bmatrix}=\\begin{bmatrix} \\lambda \\end{bmatrix} \\begin{Bmatrix} u \\end{Bmatrix}$$\n",
    "$$\\begin{bmatrix} K^0 \\end{bmatrix}=\\begin{bmatrix} \\lambda \\end{bmatrix} \\begin{bmatrix} K \\end{bmatrix}\\begin{bmatrix} \\lambda \\end{bmatrix}^\\top$$\n",
    "* The inverse of $\\begin{bmatrix} \\lambda \\end{bmatrix}$ which is $\\begin{bmatrix} \\lambda \\end{bmatrix}^{-1}=\\begin{bmatrix} \\lambda \\end{bmatrix}^\\top$ enables the inverse mapping \n",
    "$$\\begin{Bmatrix} f \\end{Bmatrix}=\\begin{bmatrix} \\lambda \\end{bmatrix}^\\top \\begin{Bmatrix} f^0 \\end{Bmatrix}$$\n",
    "$$\\begin{Bmatrix} u \\end{Bmatrix}=\\begin{bmatrix} \\lambda \\end{bmatrix}^\\top \\begin{Bmatrix} u^0 \\end{Bmatrix}$$\n",
    "$$\\begin{bmatrix} K \\end{bmatrix}=\\begin{bmatrix} \\lambda \\end{bmatrix}^\\top \\begin{bmatrix} K^0 \\end{bmatrix}\\begin{bmatrix} \\lambda \\end{bmatrix}$$"
   ]
  },
  {
   "cell_type": "markdown",
   "metadata": {
    "slideshow": {
     "slide_type": "fragment"
    }
   },
   "source": [
    "* Which means the element equations can be formulation in the local or global system\n",
    "$$ \\begin{Bmatrix} f \\end{Bmatrix} = \\begin{bmatrix} K \\end{bmatrix} \\begin{Bmatrix} u \\end{Bmatrix} \\rightarrow  \\begin{Bmatrix} f^0 \\end{Bmatrix} = \\begin{bmatrix} K^0 \\end{bmatrix} \\begin{Bmatrix} u^0 \\end{Bmatrix} $$"
   ]
  },
  {
   "cell_type": "markdown",
   "metadata": {
    "slideshow": {
     "slide_type": "slide"
    }
   },
   "source": [
    "#### Transforming the force arrays to the global coordinate system\n",
    "* The element force array in the global system is derived from multiplication with $\\begin{bmatrix} \\lambda \\end{bmatrix}$:   \n",
    "$$\\begin{Bmatrix} f^0 \\end{Bmatrix}=\\begin{Bmatrix} f^0_{1x} \\\\ f^0_{1y} \\\\ f^0_{2x} \\\\ f^0_{2y} \\end{Bmatrix}=\\begin{bmatrix} \\cos(\\alpha) & -\\sin(\\alpha) & 0 & 0 \\\\ \\sin(\\alpha) & \\cos(\\alpha) & 0 & 0 \\\\ 0 & 0 & \\cos(\\alpha) & -\\sin(\\alpha) \\\\ 0 & 0 & \\sin(\\alpha) & \\cos(\\alpha) \\end{bmatrix}\\begin{Bmatrix} -T \\\\ 0 \\\\ T \\\\ 0 \\end{Bmatrix}=\\begin{Bmatrix} -T \\cos(\\alpha) \\\\ -T \\sin(\\alpha) \\\\ T \\cos(\\alpha) \\\\ T \\sin(\\alpha) \\end{Bmatrix}$$   \n",
    "   \n",
    "   \n",
    "* If the \"direction cosines\" are given the symbols $l=\\cos(\\alpha)$ and $m=\\sin(\\alpha)$ this can be written as:   \n",
    "$$\\begin{Bmatrix} f^0 \\end{Bmatrix}=\\begin{Bmatrix} f^0_{1x} \\\\ f^0_{1y} \\\\ f^0_{2x} \\\\ f^0_{2y} \\end{Bmatrix}=\\begin{bmatrix} l & -m & 0 & 0 \\\\ m & l & 0 & 0 \\\\ 0 & 0 & l & -m \\\\ 0 & 0 & m & l \\end{bmatrix}\\begin{Bmatrix} -T \\\\ 0 \\\\ T \\\\ 0 \\end{Bmatrix}=\\begin{Bmatrix} -T l \\\\ -T m \\\\ T l \\\\ T m \\end{Bmatrix} $$   "
   ]
  },
  {
   "cell_type": "markdown",
   "metadata": {
    "slideshow": {
     "slide_type": "slide"
    }
   },
   "source": [
    "#### Transforming the displacement arrays to the global coordinate system\n",
    "* The element displacement array in the global system is derived from multiplication with $\\begin{bmatrix} \\lambda \\end{bmatrix}$:   \n",
    "$$\\begin{Bmatrix} u^0 \\end{Bmatrix}=\\begin{Bmatrix} u^0_{1x} \\\\ u^0_{1y} \\\\ u^0_{2x} \\\\ u^0_{2y} \\end{Bmatrix}=\\begin{bmatrix} \\cos(\\alpha) & -\\sin(\\alpha) & 0 & 0 \\\\ \\sin(\\alpha) & \\cos(\\alpha) & 0 & 0 \\\\ 0 & 0 & \\cos(\\alpha) & -\\sin(\\alpha) \\\\ 0 & 0 & \\sin(\\alpha) & \\cos(\\alpha) \\end{bmatrix}\\begin{Bmatrix} u_{1x} \\\\ 0 \\\\ u_{2x} \\\\ 0 \\end{Bmatrix}=\\begin{Bmatrix} u_{1x} \\cos(\\alpha) \\\\ u_{1x} \\sin(\\alpha) \\\\ u_{2x} \\cos(\\alpha) \\\\ u_{2x} \\sin(\\alpha) \\end{Bmatrix}$$   \n",
    "   \n",
    "   \n",
    "* If the \"direction cosines\" are given the symbols $l=\\cos(\\alpha)$ and $m=\\sin(\\alpha)$ this can be written as:   \n",
    "$$\\begin{Bmatrix} u^0 \\end{Bmatrix}=\\begin{Bmatrix} u^0_{1x} \\\\ u^0_{1y} \\\\ u^0_{2x} \\\\ u^0_{2y} \\end{Bmatrix}=\\begin{bmatrix} l & -m & 0 & 0 \\\\ m & l & 0 & 0 \\\\ 0 & 0 & l & -m \\\\ 0 & 0 & m & l \\end{bmatrix}\\begin{Bmatrix} u_{1x} \\\\ 0 \\\\ u_{2x} \\\\ 0 \\end{Bmatrix}=\\begin{Bmatrix} u_{1x} l \\\\ u_{1x} m \\\\ u_{2x} l \\\\ u_{2x} m \\end{Bmatrix} $$   "
   ]
  },
  {
   "cell_type": "markdown",
   "metadata": {
    "slideshow": {
     "slide_type": "slide"
    }
   },
   "source": [
    "#### Transforming the stiffness arrays to the global coordinate system\n",
    "* The element stiffness array in the global system is derived from pre- and post rotation with $\\begin{bmatrix} \\lambda \\end{bmatrix}$:   \n",
    "$$\\begin{bmatrix} K^0 \\end{bmatrix}=\\begin{bmatrix} \\cos(\\alpha) & -\\sin(\\alpha) & 0 & 0 \\\\ \\sin(\\alpha) & \\cos(\\alpha) & 0 & 0 \\\\ 0 & 0 & \\cos(\\alpha) & -\\sin(\\alpha) \\\\ 0 & 0 & \\sin(\\alpha) & \\cos(\\alpha) \\end{bmatrix} \\frac{AE}{L}\\begin{bmatrix} 1 & 0  & -1 & 0 \\\\ 0 & 0 & 0 & 0 \\\\ -1 & 0 & 1 & 0 \\\\ 0 & 0 & 0 & 0\\end{bmatrix} \\begin{bmatrix} \\cos(\\alpha) & \\sin(\\alpha) & 0 & 0 \\\\ -\\sin(\\alpha) & \\cos(\\alpha) & 0 & 0 \\\\ 0 & 0 & \\cos(\\alpha) & \\sin(\\alpha) \\\\ 0 & 0 & -\\sin(\\alpha) & \\cos(\\alpha) \\end{bmatrix}$$   \n",
    "   \n",
    "   \n",
    "* If the \"direction cosines\" are given the symbols $l=\\cos(\\alpha)$ and $m=\\sin(\\alpha)$ this can be written as:   \n",
    "$$\\begin{bmatrix} K^0 \\end{bmatrix}=\\begin{bmatrix} l & -m & 0 & 0 \\\\ m & l & 0 & 0 \\\\ 0 & 0 & l & -m \\\\ 0 & 0 & m & l \\end{bmatrix} \\frac{AE}{L}\\begin{bmatrix} 1 & 0  & -1 & 0 \\\\ 0 & 0 & 0 & 0 \\\\ -1 & 0 & 1 & 0 \\\\ 0 & 0 & 0 & 0\\end{bmatrix} \\begin{bmatrix} l & m & 0 & 0 \\\\ -m & l & 0 & 0 \\\\ 0 & 0 & l & m \\\\ 0 & 0 & -m & l \\end{bmatrix}= \\frac{AE}{L}\\begin{bmatrix}l^2 & lm & -l^2 & -lm \\\\ lm &  m^2 & -lm & -m^2 \\\\ -l^2 & -lm &  l^2 &  lm \\\\ -lm & -m^2 &  lm &  m^2 \\end{bmatrix}$$   \n",
    "\n",
    "\n",
    "*Recall the matrix multiplication rule:* $\\begin{bmatrix}C\\end{bmatrix}=\\begin{bmatrix}A\\end{bmatrix}\\begin{bmatrix}B\\end{bmatrix} \\rightarrow c_{ij}=a_{ik}b_{kj}$ \n",
    "\n"
   ]
  },
  {
   "cell_type": "markdown",
   "metadata": {
    "slideshow": {
     "slide_type": "slide"
    }
   },
   "source": [
    "## The truss in the LOCAL system\n",
    "![truss](truss2_2D_01.png)  \n",
    "\n",
    "* The 2D truss element equation in the local system\n",
    "$$\\begin{Bmatrix} f \\end{Bmatrix}=\\begin{Bmatrix} \\mathbf{f_{1}} \\\\ \\mathbf{f_{2}} \\end{Bmatrix} =\\begin{Bmatrix} f_{1x} \\\\ f_{1y} \\\\ f_{2x} \\\\ f_{2y} \\end{Bmatrix}=\\frac{AE}{L}\\begin{bmatrix} 1 & 0  & -1 & 0 \\\\ 0 & 0 & 0 & 0 \\\\ -1 & 0 & 1 & 0 \\\\ 0 & 0 & 0 & 0\\end{bmatrix}\\begin{Bmatrix} u1_{x} \\\\ u1_{y} \\\\ u2_{x} \\\\ u2_{y} \\end{Bmatrix}$$  \n"
   ]
  },
  {
   "cell_type": "markdown",
   "metadata": {
    "slideshow": {
     "slide_type": "slide"
    }
   },
   "source": [
    "# The truss element in a GLOBAL coordinate system\n",
    "The example below shows a single truss, with a force on either end, in a **global** coordinate system. Local quantities will have their usual notation, global quantities will have a superscript $0$. Next we will explore how to convert the local system to the global system. \n",
    "![truss](truss2_3D.png)  \n",
    "\n",
    "* The truss element equation in the global 2D system\n",
    "$$\\begin{Bmatrix} f^0 \\end{Bmatrix}=\\begin{Bmatrix} \\mathbf{f_{1}^0} \\\\ \\mathbf{f_{2}^0} \\end{Bmatrix} =\\begin{Bmatrix} f_{1x} l \\\\ f_{1x} m \\\\ f_{2x} l \\\\ f_{2x} m \\end{Bmatrix}= \\frac{AE}{L}\\begin{bmatrix}l^2 & lm & -l^2 & -lm \\\\ lm &  m^2 & -lm & -m^2 \\\\ -l^2 & -lm &  l^2 &  lm \\\\ -lm & -m^2 &  lm &  m^2 \\end{bmatrix}\\begin{Bmatrix} u_{1x} l \\\\ u_{1x} m \\\\ u_{2x} l \\\\ u_{2x} m \\end{Bmatrix}$$  \n"
   ]
  },
  {
   "cell_type": "markdown",
   "metadata": {
    "slideshow": {
     "slide_type": "slide"
    }
   },
   "source": [
    "# Generalisation to 3D\n",
    "## Step1: Express quantities as 2D vectors\n",
    "![truss](truss2_3D_01.png)  \n",
    "\n",
    "* Expand scalar forces and displacements to vectors by adding y-components (all zero in local system) \n",
    "\n",
    "$$\\mathbf{f_{1}}=\\frac{AE}{L}(\\mathbf{u1}-\\mathbf{u2})$$  \n",
    "$$\\mathbf{f_{2}}=\\frac{AE}{L}(\\mathbf{u2}-\\mathbf{u1})$$  \n",
    "\n",
    "with: $\\mathbf{f_{1}}=\\begin{bmatrix} f_{1x} \\\\ f_{1y} \\\\ f_{1z}\\end{bmatrix}=\\begin{bmatrix} -T_{x} \\\\ 0 \\\\ 0\\end{bmatrix}$, $\\mathbf{f_{2}}=\\begin{bmatrix} f_{2x} \\\\ f_{2y} \\\\ f_{2z} \\end{bmatrix}=\\begin{bmatrix} T_{x} \\\\ 0 \\\\ 0\\end{bmatrix}$, $\\mathbf{u_{1}}=\\begin{bmatrix} u_{1x} \\\\ u_{1y} \\\\u_{1z}\\end{bmatrix}$, $\\mathbf{u_{2}}=\\begin{bmatrix} u_{2x} \\\\ u_{2y} \\\\ u_{2z}\\end{bmatrix}$  \n"
   ]
  },
  {
   "cell_type": "markdown",
   "metadata": {
    "slideshow": {
     "slide_type": "slide"
    }
   },
   "source": [
    "## Step2: Transformation of the 3D local equations to the 3D global system\n",
    "* So far a single rotation in 2D, around the z-axis, has been shown. \n",
    "* A general rotation in 3D can be defined in multiple ways e.g. using so called [Euler angles](https://en.wikipedia.org/wiki/Euler_angles) or instead using \"yaw, pitch, and roll\" angles (see figure). \n",
    "![angles](Yaw_Axis_Corrected.png)  \n",
    "\n",
    "*See also: [https://en.wikipedia.org/wiki/Euler_angles](https://en.wikipedia.org/wiki/Euler_angles)*"
   ]
  },
  {
   "cell_type": "markdown",
   "metadata": {
    "slideshow": {
     "slide_type": "slide"
    }
   },
   "source": [
    "### Define Euler angles and rotation tensors\n",
    "* A triplet of (Euler) rotation angles ($\\alpha$, $\\beta$, and $\\gamma$) and rotation tensors ($\\boldsymbol{\\xi_x}$, $\\boldsymbol{\\xi_y}$, and $\\boldsymbol{\\xi_z}$) can be created which together define $\\boldsymbol{\\xi}$: \n",
    "\n",
    "$$\\boldsymbol{\\xi}=\\boldsymbol{\\xi_x}\\boldsymbol{\\xi_y}\\boldsymbol{\\xi_z}$$\n",
    "\n",
    "$$\\boldsymbol{\\xi_x}=\\begin{bmatrix} 1 & 0 & 0 \\\\ 0 & \\cos(\\alpha) & -\\sin(\\alpha) \\\\ 0 & \\sin(\\alpha) & \\cos(\\alpha) \\end{bmatrix}$$  \n",
    "\n",
    "$$\\boldsymbol{\\xi_y}=\\begin{bmatrix} \\cos(\\beta) & 0 & \\sin(\\beta) \\\\ 0 & 1 &  0 \\\\ -\\sin(\\beta) & 0 & \\cos(\\beta) \\end{bmatrix}$$  \n",
    "\n",
    "$$\\boldsymbol{\\xi_z}=\\begin{bmatrix} \\cos(\\gamma) & -\\sin(\\gamma) & 0 \\\\ \\sin(\\gamma) & \\cos(\\gamma) & 0 \\\\ 0 & 0 & 1\\end{bmatrix}$$\n",
    "\n",
    "*See also: [https://en.wikipedia.org/wiki/Euler_angles](https://en.wikipedia.org/wiki/Euler_angles)*"
   ]
  },
  {
   "cell_type": "markdown",
   "metadata": {
    "slideshow": {
     "slide_type": "slide"
    }
   },
   "source": [
    "## Derive global element equations\n",
    "![truss](truss2_3D_02.png)  \n",
    "\n",
    "* The truss element equation in the local 3D system\n",
    "$$\\begin{Bmatrix} f \\end{Bmatrix}=\\begin{Bmatrix} \\mathbf{f_{1}} \\\\ \\mathbf{f_{2}} \\end{Bmatrix} =\\begin{Bmatrix} f_{1x} \\\\ f_{1y} \\\\ f_{1z} \\\\ f_{2x} \\\\ f_{2y} \\\\ f_{2z} \\end{Bmatrix}=\\frac{AE}{L}\\begin{bmatrix} 1 & 0  & 0 & -1 & 0 & 0\\\\ 0 & 0 & 0 & 0 & 0 & 0 \\\\ 0 & 0 & 0 & 0 & 0 & 0 \\\\ -1 & 0 & 0 & 1 & 0 & 0 \\\\ 0 & 0 & 0 & 0 & 0 & 0 \\\\ 0 & 0 & 0 & 0 & 0 & 0 \\end{bmatrix}\\begin{Bmatrix} u1_{x} \\\\ u1_{y} \\\\ u1_{z} \\\\ u2_{x} \\\\ u2_{y} \\\\ u2_{z} \\end{Bmatrix}$$  "
   ]
  },
  {
   "cell_type": "markdown",
   "metadata": {
    "slideshow": {
     "slide_type": "slide"
    }
   },
   "source": [
    "### Transforming array or matrix quantities\n",
    "* For the force, displacement **arrays**, and stiffness **matrix** a dedicated transformation matrix $\\begin{bmatrix} \\lambda \\end{bmatrix}$ is required:  \n",
    "\n",
    "$$\\begin{bmatrix} \\lambda \\end{bmatrix}=\\begin{bmatrix} \\boldsymbol{\\xi} & \\mathbf{0} \\\\ \\mathbf{0} & \\boldsymbol{\\xi} \\end{bmatrix}$$\n",
    "\n",
    "* Note that in the above each entry is a 3x3 tensor, the whole matrix is therefore a 6x6 matrix"
   ]
  },
  {
   "cell_type": "markdown",
   "metadata": {
    "slideshow": {
     "slide_type": "slide"
    }
   },
   "source": [
    "# Example: A 2 truss structure in 2D\n",
    "Given the two truss problem below, provide (in the global system) the element equations, the global stiffness matrix, and the finite element equations. \n",
    "\n",
    "![truss_3D](example_3D_truss.png)\n",
    "\n"
   ]
  },
  {
   "cell_type": "markdown",
   "metadata": {
    "slideshow": {
     "slide_type": "slide"
    }
   },
   "source": [
    "### Summarise the known quantities and relationships\n",
    "\n",
    "$$k^{(1)}=\\frac{A^{(1)}E^{(1)}}{L^{(1)}}=\\frac{50*200*10^3}{1000}=10000$$\n",
    "$$k^{(2)}=\\frac{A^{(2)}E^{(2)}}{L^{(2)}}=\\frac{40*200*10^3}{800}=10000$$\n"
   ]
  },
  {
   "cell_type": "markdown",
   "metadata": {
    "slideshow": {
     "slide_type": "slide"
    }
   },
   "source": [
    "## Step 1: Express quantities as 2D vectors and rewrite element equations accordingly\n",
    "\n",
    "$$\\begin{Bmatrix} f^{(i)} \\end{Bmatrix}=\\begin{Bmatrix} \\mathbf{f_{1}}^{(i)} \\\\ \\mathbf{f_{2}}^{(i)} \\end{Bmatrix} =\\begin{Bmatrix} f_{1x}^{(i)} \\\\ f_{1y}^{(i)} \\\\ f_{2x}^{(i)} \\\\ f_{2y}^{(i)} \\end{Bmatrix}=k^{(i)}\\begin{bmatrix} 1 & 0  & -1 & 0 \\\\ 0 & 0 & 0 & 0 \\\\ -1 & 0 & 1 & 0 \\\\ 0 & 0 & 0 & 0\\end{bmatrix}\\begin{Bmatrix} u1_{x}^{(i)} \\\\ u1_{y}^{(i)} \\\\ u2_{x}^{(i)} \\\\ u2_{y}^{(i)} \\end{Bmatrix}$$ "
   ]
  },
  {
   "cell_type": "markdown",
   "metadata": {
    "slideshow": {
     "slide_type": "slide"
    }
   },
   "source": [
    "## Step2: Transformation of the 2D local equations to the 2D global system\n",
    "### Transforming vector and tensor quantities\n",
    "* Define a transformation matrix, in this case a rotation tensor ($l$ and $m$ named \"direction cosines\")\n",
    "$$\\boldsymbol{\\xi}=\\begin{bmatrix} \\cos(\\alpha) & -\\sin(\\alpha) \\\\ \\sin(\\alpha) & \\cos(\\alpha)\\end{bmatrix}=\\begin{bmatrix} l & -m \\\\ m & l\\end{bmatrix}$$ \n",
    "\n",
    "* With:\n",
    "$$l=\\frac{800}{1000}=0.8$$\n",
    "$$m=\\frac{-600}{1000}=-0.6$$\n",
    "\n",
    "* The transformation matrix $\\begin{bmatrix} \\lambda \\end{bmatrix}$ \n",
    "\n",
    "$$\\begin{bmatrix} \\lambda \\end{bmatrix}=\\begin{bmatrix} \\boldsymbol{\\xi} & \\mathbf{0} \\\\ \\mathbf{0} & \\boldsymbol{\\xi} \\end{bmatrix}=\\begin{bmatrix} \\cos(\\alpha) & -\\sin(\\alpha) & 0 & 0 \\\\ \\sin(\\alpha) & \\cos(\\alpha) & 0 & 0 \\\\ 0 & 0 & \\cos(\\alpha) & -\\sin(\\alpha) \\\\ 0 & 0 & \\sin(\\alpha) & \\cos(\\alpha) \\end{bmatrix}=\\begin{bmatrix} l & -m & 0 & 0 \\\\ m & l & 0 & 0 \\\\ 0 & 0 & l & -m \\\\ 0 & 0 & m & l \\end{bmatrix}$$"
   ]
  },
  {
   "cell_type": "markdown",
   "metadata": {
    "slideshow": {
     "slide_type": "slide"
    }
   },
   "source": [
    "* For element 1 we have: \n",
    "    * The force vector in the global system\n",
    "$$\\begin{Bmatrix} f^{(1)} \\end{Bmatrix}^{0}=\\begin{bmatrix} \\lambda \\end{bmatrix}\\begin{Bmatrix} f^{(1)} \\end{Bmatrix}=\\begin{bmatrix} l & -m & 0 & 0 \\\\ m & l & 0 & 0 \\\\ 0 & 0 & l & -m \\\\ 0 & 0 & m & l \\end{bmatrix}\\begin{Bmatrix} f_{1x}^{(1)} \\\\ 0 \\\\ f_{2x}^{(1)} \\\\ 0 \\end{Bmatrix}=\\begin{Bmatrix} f_{1x}^{(1)} l \\\\ f_{1x}^{(1)} m \\\\ f_{2x}^{(1)} l \\\\ f_{2x}^{(1)} m \\end{Bmatrix}$$\n",
    "    * The displacement vector in the global system\n",
    "$$\\begin{Bmatrix} u^{(1)} \\end{Bmatrix}^{0}=\\begin{bmatrix} \\lambda \\end{bmatrix}\\begin{Bmatrix} u^{(1)} \\end{Bmatrix}=\\begin{bmatrix} l & -m & 0 & 0 \\\\ m & l & 0 & 0 \\\\ 0 & 0 & l & -m \\\\ 0 & 0 & m & l \\end{bmatrix}\\begin{Bmatrix} u_{1x}^{(1)} \\\\ 0 \\\\ u_{2x}^{(1)} \\\\ 0 \\end{Bmatrix}=\\begin{Bmatrix} u_{1x}^{(1)} l \\\\ u_{1x}^{(1)} m \\\\ u_{2x}^{(1)} l \\\\ u_{2x}^{(1)} m \\end{Bmatrix}$$"
   ]
  },
  {
   "cell_type": "markdown",
   "metadata": {
    "slideshow": {
     "slide_type": "slide"
    }
   },
   "source": [
    "* For element 1 we have: \n",
    "    * The stiffness matrix in the global system    \n",
    "$$\\begin{bmatrix} K^0 \\end{bmatrix}^{1}=\\begin{bmatrix} l & -m & 0 & 0 \\\\ m & l & 0 & 0 \\\\ 0 & 0 & l & -m \\\\ 0 & 0 & m & l \\end{bmatrix} k^{(1)}\\begin{bmatrix} 1 & 0  & -1 & 0 \\\\ 0 & 0 & 0 & 0 \\\\ -1 & 0 & 1 & 0 \\\\ 0 & 0 & 0 & 0\\end{bmatrix} \\begin{bmatrix} l & -m & 0 & 0 \\\\ m & l & 0 & 0 \\\\ 0 & 0 & l & -m \\\\ 0 & 0 & m & l \\end{bmatrix}= k^{(1)}\\begin{bmatrix}l^2 & lm & -l^2 & -lm \\\\ lm &  m^2 & -lm & -m^2 \\\\ -l^2 & -lm &  l^2 &  lm \\\\ -lm & -m^2 &  lm &  m^2 \\end{bmatrix}$$   \n",
    "    * Leading to the element equations in the global sytem\n",
    "$$\\begin{Bmatrix} f_{1x}^{(1)} l \\\\ f_{1x}^{(1)} m \\\\ f_{2x}^{(1)} l \\\\ f_{2x}^{(1)} m \\end{Bmatrix}=k^{(1)}\\begin{bmatrix}l^2 & lm & -l^2 & -lm \\\\ lm &  m^2 & -lm & -m^2 \\\\ -l^2 & -lm &  l^2 &  lm \\\\ -lm & -m^2 &  lm &  m^2 \\end{bmatrix}\\begin{Bmatrix} u_{1x}^{(1)} l \\\\ u_{1x}^{(1)} m \\\\ u_{2x}^{(1)} l \\\\ u_{2x}^{(1)} m \\end{Bmatrix}$$  \n"
   ]
  },
  {
   "cell_type": "markdown",
   "metadata": {
    "slideshow": {
     "slide_type": "slide"
    }
   },
   "source": [
    "* For element 2 we have\n",
    "    * Since the local and global systems coincide: \n",
    "    $$\\begin{Bmatrix} f^{(2)} \\end{Bmatrix}^{0}=\\begin{Bmatrix} f^{(2)} \\end{Bmatrix}$$ \n",
    "    $$\\begin{Bmatrix} u^{(2)} \\end{Bmatrix}^{0}=\\begin{Bmatrix} u^{(2)} \\end{Bmatrix}$$\n",
    "    $$\\begin{bmatrix} K^{(2)} \\end{bmatrix}^{0}=\\begin{bmatrix} K^{(2)} \\end{bmatrix}$$\n",
    "    \n",
    "    * Leading to the element equations in the global sytem:\n",
    "$$\\begin{Bmatrix} f_{1x}^{(2)} \\\\ f_{1y}^{(2)} \\\\ f_{2x}^{(2)} \\\\ f_{2y}^{(2)} \\end{Bmatrix}=k^{(2)}\\begin{bmatrix} 1 & 0  & -1 & 0 \\\\ 0 & 0 & 0 & 0 \\\\ -1 & 0 & 1 & 0 \\\\ 0 & 0 & 0 & 0\\end{bmatrix}\\begin{Bmatrix} u1_{x}^{(2)} \\\\ u1_{y}^{(2)} \\\\ u2_{x}^{(2)} \\\\ u2_{y}^{(2)} \\end{Bmatrix}$$  \n"
   ]
  },
  {
   "cell_type": "markdown",
   "metadata": {
    "slideshow": {
     "slide_type": "slide"
    }
   },
   "source": [
    "## Super-position to formulate the global stiffness matrix\n",
    "Super-position still \"involves\" nodal indices. However now there are 2 components (e.g. x- and y-components) at each node. Therefore the global stiffness becomes a $(2*N)\\times(2*N)$ matrix (rather than an $N \\times N$ matrix). However you can identify an $N \\times N$ tiling of 2x2 groups which contain data for a particular node. \n",
    "\n",
    "$$\\begin{bmatrix}K^0 \\end{bmatrix}=\\begin{bmatrix}k^{(1)}l^2 & k^{(1)}lm & -k^{(1)}l^2 & -k^{(1)}lm & 0 & 0\\\\ k^{(1)}lm &  k^{(1)}m^2 & -k^{(1)}lm & -k^{(1)}m^2 & 0 & 0\\\\ -k^{(1)}l^2 & -k^{(1)}lm &  k^{(1)}l^2+k^{(2)} &  k^{(1)}lm & -k^{(2)} & 0\\\\ -k^{(1)}lm & -k^{(1)}m^2 &  k^{(1)}lm &  k^{(1)}m^2 & 0 & 0 \\\\ 0 & 0 & -k^{(2)} & 0 & k^{(2)} & 0 \\\\ 0 & 0 & 0 & 0 & 0 & 0\\end{bmatrix}$$\n",
    "$$\\begin{bmatrix}K^0 \\end{bmatrix}=\\begin{bmatrix}   6400 &   4800 &   -6400 &  -4800 &       0 &  0 & \\\\ 4800 &   3600 &   -4800 &  -3600 &       0 &  0 & \\\\ -6400 &  -4800 &   16400 &   4800 &  -10000 &  0 & \\\\ -4800 &  -3600 &    4800 &   3600 &       0 &  0 & \\\\ 0 &      0 &  -10000 &      0 &   10000 &  0 & \\\\ 0 &      0 &       0 &      0 &       0 &  0 & \\\\\\end{bmatrix}$$\n",
    "\n"
   ]
  },
  {
   "cell_type": "markdown",
   "metadata": {
    "slideshow": {
     "slide_type": "slide"
    }
   },
   "source": [
    "### Numerical example\n",
    "#### Element stiffness matrix for element 1"
   ]
  },
  {
   "cell_type": "code",
   "execution_count": 2,
   "metadata": {
    "slideshow": {
     "slide_type": "fragment"
    }
   },
   "outputs": [
    {
     "name": "stdout",
     "output_type": "stream",
     "text": [
      "K1 =\n",
      "\n",
      "   10000       0  -10000       0\n",
      "       0       0       0       0\n",
      "  -10000       0   10000       0\n",
      "       0       0       0       0\n",
      "\n",
      "K1_0 =\n",
      "\n",
      "   6400  -4800  -6400   4800\n",
      "  -4800   3600   4800  -3600\n",
      "  -6400   4800   6400  -4800\n",
      "   4800  -3600  -4800   3600\n",
      "\n"
     ]
    }
   ],
   "source": [
    "% Set up element 1 components\n",
    "E1=200000; %Youngs modulus\n",
    "L1=1000; %Length\n",
    "A1=50; %Area\n",
    "k1=(A1*E1)/L1; %k \"stiffness\" value\n",
    "\n",
    "l=800/1000; %cos(alpha)\n",
    "m=-600/1000; %sin(alpha)\n",
    "X=[l -m; m l]; %Xi rotation tensor\n",
    "L=[l -m 0 0; m l 0 0; 0 0 l -m; 0 0 m l]; # Lambda matrix\n",
    "\n",
    "Q=[1 0 -1 0;0 0 0 0; -1 0 1 0; 0 0 0 0]; %K/k\n",
    "K1=k1*Q %Element stiffness matrix in local system\n",
    "K1_0=L*K1*L' %Element stiffness matrix in global system"
   ]
  },
  {
   "cell_type": "markdown",
   "metadata": {
    "slideshow": {
     "slide_type": "slide"
    }
   },
   "source": [
    "#### Element stiffness matrix for element 2"
   ]
  },
  {
   "cell_type": "code",
   "execution_count": 3,
   "metadata": {
    "slideshow": {
     "slide_type": "fragment"
    }
   },
   "outputs": [
    {
     "name": "stdout",
     "output_type": "stream",
     "text": [
      "K2 =\n",
      "\n",
      "   10000       0  -10000       0\n",
      "       0       0       0       0\n",
      "  -10000       0   10000       0\n",
      "       0       0       0       0\n",
      "\n",
      "K2_0 =\n",
      "\n",
      "   10000       0  -10000       0\n",
      "       0       0       0       0\n",
      "  -10000       0   10000       0\n",
      "       0       0       0       0\n",
      "\n"
     ]
    }
   ],
   "source": [
    "% Set up element 2 components\n",
    "E2=200000; %Youngs modulus\n",
    "L2=800; %Length\n",
    "A2=40; %Area\n",
    "Q=[1 0 -1 0;0 0 0 0; -1 0 1 0; 0 0 0 0]; %K/k\n",
    "k2=(A2*E2)/L2; %k \"stiffness\" value\n",
    "K2=k2*Q %Element stiffness matrix in local system\n",
    "K2_0=K2 %Element stiffness matrix in global system"
   ]
  },
  {
   "cell_type": "markdown",
   "metadata": {
    "slideshow": {
     "slide_type": "slide"
    }
   },
   "source": [
    "#### Global stiffness matrix assembly"
   ]
  },
  {
   "cell_type": "code",
   "execution_count": 14,
   "metadata": {
    "slideshow": {
     "slide_type": "slide"
    }
   },
   "outputs": [
    {
     "name": "stdout",
     "output_type": "stream",
     "text": [
      "K_0 =\r\n",
      "\r\n",
      "    6400   -4800   -6400    4800       0       0\r\n",
      "   -4800    3600    4800   -3600       0       0\r\n",
      "   -6400    4800   16400   -4800  -10000       0\r\n",
      "    4800   -3600   -4800    3600       0       0\r\n",
      "       0       0  -10000       0   10000       0\r\n",
      "       0       0       0       0       0       0\r\n",
      "\r\n"
     ]
    }
   ],
   "source": [
    "% Super-position to get global stiffness matrix\n",
    "K_0=zeros(6,6); %Initialize\n",
    "K_0(1:4,1:4)=K1_0; %Add part 1\n",
    "K_0(3:6,3:6)=K_0(3:6,3:6)+K2_0 %Add part 2"
   ]
  },
  {
   "cell_type": "markdown",
   "metadata": {
    "slideshow": {
     "slide_type": "slide"
    }
   },
   "source": [
    "### The global force and displacement arrays\n",
    "* The global force and displacement arrays are:    \n",
    "$\\begin{Bmatrix} F^0 \\end{Bmatrix}=\\begin{Bmatrix} F_{1x}^0 \\\\ F_{1y}^0 \\\\ F_{2x}^0 \\\\  F_{2y}^0 \\\\  F_{3x}^0 \\\\  F_{3y}^0 \\end{Bmatrix}$, and $\\begin{Bmatrix} u^0 \\end{Bmatrix}=\\begin{Bmatrix} u_{1x}^0 \\\\ u_{1y}^0 \\\\ u_{2x}^0 \\\\  u_{2y}^0 \\\\  u_{3x}^0 \\\\  u_{3y}^0 \\end{Bmatrix}$\n",
    "\n",
    "* Considering the boundary conditions $u_{1x}=u_{1y}=u_{3x}=u_{3y}=0$, and $F_{2x}=0$, and $F_{2y}=-1000$, we get:\n",
    "$$\\begin{Bmatrix} F_{1x}^0 \\\\ F_{1y}^0 \\\\ 0 \\\\  -1000 \\\\  F_{3x}^0 \\\\  F_{3y}^0 \\end{Bmatrix}=\\begin{bmatrix} 6400 &  -4800 &   -6400 &   4800 &       0 &  0 & \\\\ -4800 &   3600 &    4800 &  -3600 &       0 &  0 & \\\\ \n",
    "  -6400 &   4800 &   16400 &  -4800 &  -10000 &  0 & \\\\ 4800 &  -3600 &   -4800 &   3600 &       0 &  0 & \\\\ \n",
    "      0 &      0 &  -10000 &      0 &   10000 &  0 & \\\\ 0 &      0 &       0 &      0 &       0 &  0 & \\\\\\end{bmatrix} \\begin{Bmatrix} 0 \\\\ 0 \\\\ u_{2x}^0 \\\\  u_{2y}^0 \\\\  0 \\\\  0 \\end{Bmatrix}$$"
   ]
  },
  {
   "cell_type": "markdown",
   "metadata": {
    "slideshow": {
     "slide_type": "slide"
    }
   },
   "source": [
    "### Solving the system \n",
    "#### Computing unknown displacements\n",
    "* Identify subset defining two equations with two unknowns: \n",
    "$$F_{2x}^0 = 16400  u_{2x}^0 - 4800 u_{2y}^0 = 0 $$\n",
    "$$F_{2y}^0 =  -4800  u_{2x}^0 + 3600 u_{2y}^0 = -1000 $$"
   ]
  },
  {
   "cell_type": "markdown",
   "metadata": {
    "slideshow": {
     "slide_type": "fragment"
    }
   },
   "source": [
    "* Express $u_{2x}^0$ in terms of $u_{2y}^0$:\n",
    "$$\\rightarrow u_{2x}^0=\\frac{4800}{16400} u_{2y}^0=\\frac{12}{41} u_{2y}^0$$\n",
    "\n",
    "* Substitute into other equation:\n",
    "$$\\rightarrow -4800\\big(\\frac{12}{41} u_{2y}^0\\big)+3600u_{2y}^0=\\frac{90000}{41} u_{2y}^0=-1000 \\rightarrow u_{2y}^0=-\\frac{41}{90} \\approx -0.4556 $$\n",
    "$$16400  u_{2x}^0 - 4800 u_{2y}^0 = 0 \\rightarrow 16400  u_{2x}^0 - 4800 (-\\frac{41}{90}) = 0 $$\n",
    "$$\\rightarrow 16400  u_{2x}^0 +\\frac{6560}{3} = 0 \\rightarrow 16400  u_{2x}^0 = -\\frac{6560}{3} \\rightarrow u_{2x}^0 = -\\frac{2}{15} \\approx -0.1333$$"
   ]
  },
  {
   "cell_type": "markdown",
   "metadata": {
    "slideshow": {
     "slide_type": "slide"
    }
   },
   "source": [
    "#### Computing unknown forces\n",
    "$$\\begin{Bmatrix} F_{1x}^0 \\\\ F_{1y}^0 \\\\ 0 \\\\  -1000 \\\\  F_{3x}^0 \\\\  F_{3y}^0 \\end{Bmatrix}=\\begin{bmatrix} 6400 &  -4800 &   -6400 &   4800 &       0 &  0 & \\\\ -4800 &   3600 &    4800 &  -3600 &       0 &  0 & \\\\ \n",
    "  -6400 &   4800 &   16400 &  -4800 &  -10000 &  0 & \\\\ 4800 &  -3600 &   -4800 &   3600 &       0 &  0 & \\\\ \n",
    "      0 &      0 &  -10000 &      0 &   10000 &  0 & \\\\ 0 &      0 &       0 &      0 &       0 &  0 & \\\\\\end{bmatrix} =\\begin{Bmatrix} 1333 \\frac{1}{3} \\\\ 1000 \\\\ 0 \\\\  -1000 \\\\  -1333 \\frac{1}{3} \\\\  0 \\end{Bmatrix}$$\n",
    "\n"
   ]
  },
  {
   "cell_type": "code",
   "execution_count": 15,
   "metadata": {
    "slideshow": {
     "slide_type": "fragment"
    }
   },
   "outputs": [
    {
     "name": "stdout",
     "output_type": "stream",
     "text": [
      "F =\r\n",
      "\r\n",
      "  -1333.33333\r\n",
      "   1000.00000\r\n",
      "      0.00000\r\n",
      "  -1000.00000\r\n",
      "   1333.33333\r\n",
      "      0.00000\r\n",
      "\r\n"
     ]
    }
   ],
   "source": [
    "u=[0 0 -2/15 -41/90 0 0]';\n",
    "F=K_0*u"
   ]
  },
  {
   "cell_type": "markdown",
   "metadata": {
    "slideshow": {
     "slide_type": "slide"
    }
   },
   "source": [
    "# Example: A 2 truss structure in 2D\n",
    "Consider the two truss system of Figure Q4. Both trusses are linear elastic. Node 1 and node 3 are constrained from moving. The $x^0$ (horizontal) and $y^0$ (vertical) axis directions define the global axis system. A brontosaurus is attached via a rope to node 2, and pulls at it with a force of $P=1.5$ MN (mega Newton) in the x-direction. The two trusses have the following properties: \n",
    "\n",
    "Areas: $A^{(1)}=A^{(2)}=0.02$ $m^2$  \n",
    "Young's moduli: $E^{(1)}=E^{(2}=2$ GPa  \n",
    "Lengths: $L^{(1)}=L^{(2}=4$ m\n",
    "\n",
    "__(a)__\tWrite down the element equations for element 1 and 2 in their local coordinate systems  __[5]__\n",
    "\n",
    "__(b)__ Transform the local stiffness matrices to the global coordinate system and derive the global stiffness matrix __[10]__\n",
    "\n",
    "__(c)__ Formulate the global finite element equations of the total system, and solve for the x-, and y-displacement components of node 2. __[15]__ \n",
    "\n",
    "\n",
    "![](2Truss_tilted_bronto.png)"
   ]
  },
  {
   "cell_type": "markdown",
   "metadata": {
    "slideshow": {
     "slide_type": "slide"
    }
   },
   "source": [
    "## Solution a)\n",
    "\n",
    "$$\\begin{Bmatrix} f \\end{Bmatrix}^{(1)}=\\begin{Bmatrix} \\mathbf{f_{1}} \\\\ \\mathbf{f_{2}} \\end{Bmatrix} =\\begin{Bmatrix} f_{1x} \\\\ f_{1y} \\\\ f_{2x} \\\\ f_{2y} \\end{Bmatrix}=\\frac{A_1E_1}{L_1}\\begin{bmatrix} 1 & 0  & -1 & 0 \\\\ 0 & 0 & 0 & 0 \\\\ -1 & 0 & 1 & 0 \\\\ 0 & 0 & 0 & 0\\end{bmatrix}\\begin{Bmatrix} u1_{x} \\\\ u1_{y} \\\\ u2_{x} \\\\ u2_{y} \\end{Bmatrix}$$  \n",
    "\n",
    "$$\\begin{Bmatrix} f \\end{Bmatrix}^{(1)}=\\begin{Bmatrix} \\mathbf{f_{1}} \\\\ \\mathbf{f_{2}} \\end{Bmatrix} =\\begin{Bmatrix} f_{1x} \\\\ f_{1y} \\\\ f_{2x} \\\\ f_{2y} \\end{Bmatrix}=10000000 \\begin{bmatrix} 1 & 0  & -1 & 0 \\\\ 0 & 0 & 0 & 0 \\\\ -1 & 0 & 1 & 0 \\\\ 0 & 0 & 0 & 0\\end{bmatrix}\\begin{Bmatrix} u1_{x} \\\\ u1_{y} \\\\ u2_{x} \\\\ u2_{y} \\end{Bmatrix}$$  \n"
   ]
  },
  {
   "cell_type": "markdown",
   "metadata": {
    "slideshow": {
     "slide_type": "slide"
    }
   },
   "source": [
    "\n",
    "$$\\begin{Bmatrix} f \\end{Bmatrix}^{(2)}=\\begin{Bmatrix} \\mathbf{f_{2}} \\\\ \\mathbf{f_{3}} \\end{Bmatrix} =\\begin{Bmatrix} f_{2x} \\\\ f_{2y} \\\\ f_{3x} \\\\ f_{3y} \\end{Bmatrix}=\\frac{A_2E_2}{L_2}\\begin{bmatrix} 1 & 0  & -1 & 0 \\\\ 0 & 0 & 0 & 0 \\\\ -1 & 0 & 1 & 0 \\\\ 0 & 0 & 0 & 0\\end{bmatrix}\\begin{Bmatrix} u2_{x} \\\\ u2_{y} \\\\ u3_{x} \\\\ u3_{y} \\end{Bmatrix}$$  \n",
    "\n",
    "$$\\begin{Bmatrix} f \\end{Bmatrix}^{(2)}=\\begin{Bmatrix} \\mathbf{f_{2}} \\\\ \\mathbf{f_{3}} \\end{Bmatrix} =\\begin{Bmatrix} f_{2x} \\\\ f_{2y} \\\\ f_{3x} \\\\ f_{3y} \\end{Bmatrix}=10000000 \\begin{bmatrix} 1 & 0  & -1 & 0 \\\\ 0 & 0 & 0 & 0 \\\\ -1 & 0 & 1 & 0 \\\\ 0 & 0 & 0 & 0\\end{bmatrix}\\begin{Bmatrix} u2_{x} \\\\ u2_{y} \\\\ u3_{x} \\\\ u3_{y} \\end{Bmatrix}$$  "
   ]
  },
  {
   "cell_type": "markdown",
   "metadata": {
    "slideshow": {
     "slide_type": "slide"
    }
   },
   "source": [
    "## Solution b)\n",
    "\n",
    "The rotation matrix $\\begin{bmatrix} \\lambda \\end{bmatrix}$ is composed as: \n",
    "\n",
    "$$\\begin{bmatrix} \\lambda \\end{bmatrix}=\\begin{bmatrix} \\boldsymbol{\\xi} & \\mathbf{0} \\\\ \\mathbf{0} & \\boldsymbol{\\xi} \\end{bmatrix}=\\begin{bmatrix} \\cos(\\alpha) & -\\sin(\\alpha) & 0 & 0 \\\\ \\sin(\\alpha) & \\cos(\\alpha) & 0 & 0 \\\\ 0 & 0 & \\cos(\\alpha) & -\\sin(\\alpha) \\\\ 0 & 0 & \\sin(\\alpha) & \\cos(\\alpha) \\end{bmatrix}=\\begin{bmatrix} l & -m & 0 & 0 \\\\ m & l & 0 & 0 \\\\ 0 & 0 & l & -m \\\\ 0 & 0 & m & l \\end{bmatrix}=\\begin{bmatrix} l & -m & 0 & 0 \\\\ m & l & 0 & 0 \\\\ 0 & 0 & l & -m \\\\ 0 & 0 & m & l \\end{bmatrix}$$\n",
    "\n",
    "\n",
    "With $l^{(1)}=m^{(1)}=\\frac{1}{\\sqrt{2}}\\approx0.70711$ and $l^{(2)}=-m^{(2)}=\\frac{1}{\\sqrt{2}}\\approx0.70711$   \n",
    "Note that $\\big(\\frac{1}{\\sqrt{2}}\\big)^2=0.5$\n"
   ]
  },
  {
   "cell_type": "markdown",
   "metadata": {
    "slideshow": {
     "slide_type": "slide"
    }
   },
   "source": [
    "\n",
    "Leading to: \n",
    "$$\\begin{bmatrix} K^0 \\end{bmatrix}=\\begin{bmatrix} \\lambda \\end{bmatrix} \\begin{bmatrix} K \\end{bmatrix}\\begin{bmatrix} \\lambda \\end{bmatrix}^\\top$$\n",
    "and \n",
    "$$\\begin{bmatrix} K^0 \\end{bmatrix}^{(i)}=\\begin{bmatrix} l & -m & 0 & 0 \\\\ m & l & 0 & 0 \\\\ 0 & 0 & l & -m \\\\ 0 & 0 & m & l \\end{bmatrix} \\frac{A^{(i)}E^{(i)}}{L^{(i)}}\\begin{bmatrix} 1 & 0  & -1 & 0 \\\\ 0 & 0 & 0 & 0 \\\\ -1 & 0 & 1 & 0 \\\\ 0 & 0 & 0 & 0\\end{bmatrix} \\begin{bmatrix} l & m & 0 & 0 \\\\ -m & l & 0 & 0 \\\\ 0 & 0 & l & m \\\\ 0 & 0 & -m & l \\end{bmatrix}= \\frac{A^{(i)}E^{(i)}}{L^{(i)}}\\begin{bmatrix}l^2 & lm & -l^2 & -lm \\\\ lm &  m^2 & -lm & -m^2 \\\\ -l^2 & -lm &  l^2 &  lm \\\\ -lm & -m^2 &  lm &  m^2 \\end{bmatrix}$$   "
   ]
  },
  {
   "cell_type": "markdown",
   "metadata": {
    "slideshow": {
     "slide_type": "slide"
    }
   },
   "source": [
    "\n",
    "$$\\begin{bmatrix} K^0 \\end{bmatrix}^{(1)}=5000000 \\begin{bmatrix}1 & 1 & -1 & -1 \\\\ 1 &  1 & -1 & -1 \\\\ -1 & -1 &  1 &  1 \\\\ -1 & -1 &  1 &  1 \\end{bmatrix}$$   \n",
    "\n",
    "$$\\begin{bmatrix} K^0 \\end{bmatrix}^{(2)}=5000000 \\begin{bmatrix}1 & -1 & -1 & 1 \\\\ -1 &  1 & 1 & -1 \\\\ -1 & 1 &  1 &  -1 \\\\ 1 & -1 &  -1 &  1 \\end{bmatrix}$$   \n",
    "\n",
    "$$\\begin{bmatrix} K^0 \\end{bmatrix}=5000000 \\begin{bmatrix}\n",
    " 1 &  1 & -1 & -1 &  0  &  0 \\\\ \n",
    " 1 &  1 & -1 & -1 &  0  &  0 \\\\\n",
    "-1 & -1 &  2 &  0 & -1  &  1 \\\\\n",
    "-1 & -1 &  0 &  2 &  1  & -1 \\\\\n",
    " 0 &  0 & -1 &  1 &  1  & -1 \\\\\n",
    " 0 &  0 &  1 & -1 & -1  &  1 \\end{bmatrix}$$   "
   ]
  },
  {
   "cell_type": "code",
   "execution_count": 16,
   "metadata": {
    "slideshow": {
     "slide_type": "slide"
    }
   },
   "outputs": [
    {
     "name": "stdout",
     "output_type": "stream",
     "text": [
      "k =  10000000\n",
      "K1 =\n",
      "\n",
      "   10000000          0  -10000000          0\n",
      "          0          0          0          0\n",
      "  -10000000          0   10000000          0\n",
      "          0          0          0          0\n",
      "\n",
      "K2 =\n",
      "\n",
      "   10000000          0  -10000000          0\n",
      "          0          0          0          0\n",
      "  -10000000          0   10000000          0\n",
      "          0          0          0          0\n",
      "\n"
     ]
    }
   ],
   "source": [
    "% Numerical check\n",
    "\n",
    "E=2e9; A=0.02; L=4; \n",
    "k=A*E/L\n",
    "P=1.5e6; \n",
    "\n",
    "Q=[1 0 -1 0;0 0 0 0; -1 0 1 0; 0 0 0 0]; %K/k\n",
    "K1=k*Q %Element stiffness matrix in local system\n",
    "K2=K1 %Element stiffness matrix in local system"
   ]
  },
  {
   "cell_type": "code",
   "execution_count": 17,
   "metadata": {
    "slideshow": {
     "slide_type": "slide"
    }
   },
   "outputs": [
    {
     "name": "stdout",
     "output_type": "stream",
     "text": [
      "K1_0 =\n",
      "\n",
      "   5000000.00000   5000000.00000  -5000000.00000  -5000000.00000\n",
      "   5000000.00000   5000000.00000  -5000000.00000  -5000000.00000\n",
      "  -5000000.00000  -5000000.00000   5000000.00000   5000000.00000\n",
      "  -5000000.00000  -5000000.00000   5000000.00000   5000000.00000\n",
      "\n",
      "K2_0 =\n",
      "\n",
      "   5000000.00000  -5000000.00000  -5000000.00000   5000000.00000\n",
      "  -5000000.00000   5000000.00000   5000000.00000  -5000000.00000\n",
      "  -5000000.00000   5000000.00000   5000000.00000  -5000000.00000\n",
      "   5000000.00000  -5000000.00000  -5000000.00000   5000000.00000\n",
      "\n",
      "K_0 =\n",
      "\n",
      " Columns 1 through 4:\n",
      "\n",
      "    5000000.00000    5000000.00000   -5000000.00000   -5000000.00000\n",
      "    5000000.00000    5000000.00000   -5000000.00000   -5000000.00000\n",
      "   -5000000.00000   -5000000.00000   10000000.00000          0.00000\n",
      "   -5000000.00000   -5000000.00000          0.00000   10000000.00000\n",
      "          0.00000          0.00000   -5000000.00000    5000000.00000\n",
      "          0.00000          0.00000    5000000.00000   -5000000.00000\n",
      "\n",
      " Columns 5 and 6:\n",
      "\n",
      "          0.00000          0.00000\n",
      "          0.00000          0.00000\n",
      "   -5000000.00000    5000000.00000\n",
      "    5000000.00000   -5000000.00000\n",
      "    5000000.00000   -5000000.00000\n",
      "   -5000000.00000    5000000.00000\n",
      "\n"
     ]
    }
   ],
   "source": [
    "% Numerical check\n",
    "\n",
    "l=1/sqrt(2); %cos(alpha)\n",
    "m=1/sqrt(2); %sin(alpha)\n",
    "X=[l -m; m l]; %Xi rotation tensor\n",
    "Lambda_rot=[l -m 0 0; m l 0 0; 0 0 l -m; 0 0 m l]; # Lambda matrix\n",
    "K1_0=Lambda_rot*K1*Lambda_rot' %Element stiffness matrix in global system\n",
    "\n",
    "l=1/sqrt(2); %cos(alpha)\n",
    "m=-1/sqrt(2); %sin(alpha)\n",
    "X=[l -m; m l]; %Xi rotation tensor\n",
    "Lambda_rot=[l -m 0 0; m l 0 0; 0 0 l -m; 0 0 m l]; # Lambda matrix\n",
    "K2_0=Lambda_rot*K2*Lambda_rot' %Element stiffness matrix in global system\n",
    "\n",
    "% Super-position to get global stiffness matrix\n",
    "K_0=zeros(6,6); %Initialize\n",
    "K_0(1:4,1:4)=K1_0; %Add part 1\n",
    "K_0(3:6,3:6)=K_0(3:6,3:6)+K2_0; %Add part 2\n",
    "\n",
    "K_0"
   ]
  },
  {
   "cell_type": "markdown",
   "metadata": {
    "slideshow": {
     "slide_type": "slide"
    }
   },
   "source": [
    "## Solution c)\n",
    "\n",
    "$$\\begin{Bmatrix} F \\end{Bmatrix}=\\begin{bmatrix} K \\end{bmatrix}\\begin{Bmatrix} u \\end{Bmatrix}$$\n",
    "\n",
    "$$\\begin{Bmatrix} F1_x \\\\ F1_y \\\\ F2_x \\\\ F2_y \\\\ F3_x \\\\ F3_y \\end{Bmatrix}=5000000 \\begin{bmatrix}\n",
    " 1 &  1 & -1 & -1 &  0  &  0 \\\\ \n",
    " 1 &  1 & -1 & -1 &  0  &  0 \\\\\n",
    "-1 & -1 &  2 &  0 & -1  &  1 \\\\\n",
    "-1 & -1 &  0 &  2 &  1  & -1 \\\\\n",
    " 0 &  0 & -1 &  1 &  1  & -1 \\\\\n",
    " 0 &  0 &  1 & -1 & -1  &  1 \\end{bmatrix}\\begin{Bmatrix} u1_x \\\\ u1_y \\\\ u2_x \\\\ u2_y \\\\ u3_x \\\\ u3_y\\end{Bmatrix}$$  "
   ]
  },
  {
   "cell_type": "markdown",
   "metadata": {
    "slideshow": {
     "slide_type": "slide"
    }
   },
   "source": [
    "$$\\begin{Bmatrix} F \\end{Bmatrix}=\\begin{bmatrix} K \\end{bmatrix}\\begin{Bmatrix} u \\end{Bmatrix}$$\n",
    "\n",
    "$$\\begin{Bmatrix} F1_x \\\\ F1_y \\\\ 1.5\\cdot10^6 \\\\ 0 \\\\ F3_x \\\\ F3_y \\end{Bmatrix}=5000000 \\begin{bmatrix}\n",
    " 1 &  1 & -1 & -1 &  0  &  0 \\\\ \n",
    " 1 &  1 & -1 & -1 &  0  &  0 \\\\\n",
    "-1 & -1 &  2 &  0 & -1  &  1 \\\\\n",
    "-1 & -1 &  0 &  2 &  1  & -1 \\\\\n",
    " 0 &  0 & -1 &  1 &  1  & -1 \\\\\n",
    " 0 &  0 &  1 & -1 & -1  &  1 \\end{bmatrix}\\begin{Bmatrix} 0 \\\\ 0 \\\\ u2_x \\\\ 0 \\\\ 0 \\\\ 0\\end{Bmatrix}$$  \n",
    " \n",
    "\n",
    "$$u2_x=\\frac{P}{K_{33}}=\\frac{1.5\\cdot10^6}{10000000}=0.15$$"
   ]
  },
  {
   "cell_type": "code",
   "execution_count": 18,
   "metadata": {
    "slideshow": {
     "slide_type": "slide"
    }
   },
   "outputs": [
    {
     "name": "stdout",
     "output_type": "stream",
     "text": [
      "u2x =  0.15000\n",
      "u =\n",
      "\n",
      "   0.00000\n",
      "   0.00000\n",
      "   0.15000\n",
      "   0.00000\n",
      "   0.00000\n",
      "   0.00000\n",
      "\n",
      "F =\n",
      "\n",
      "   -750000\n",
      "   -750000\n",
      "   1500000\n",
      "         0\n",
      "   -750000\n",
      "    750000\n",
      "\n"
     ]
    }
   ],
   "source": [
    "% Numerical check\n",
    "\n",
    "u2x=P./K_0(3,3)\n",
    "\n",
    "u=[0 0 u2x 0 0  0 ]'\n",
    "F=K_0*u"
   ]
  },
  {
   "cell_type": "markdown",
   "metadata": {
    "slideshow": {
     "slide_type": "skip"
    }
   },
   "source": [
    "\\newpage"
   ]
  },
  {
   "cell_type": "markdown",
   "metadata": {
    "slideshow": {
     "slide_type": "skip"
    }
   },
   "source": [
    "**About this document**    \n",
    "\n",
    "This document was created using a [Jupyter notebook](https://jupyter.org/) which allows for the presentation of theory and equations, as well as live (running code) numerical implementations. \n",
    "\n",
    "This Jupyter notebook is available [open source](https://github.com/Kevin-Mattheus-Moerman/NUIG_BME_402_6101) and features the [Octave](https://www.gnu.org/software/octave/index) programming language (an open source alternative to MATLAB). If you are interested in running this Jupyter notebook yourself [download and install Octave](https://www.gnu.org/software/octave/download) and install [the Jupyter environment](https://jupyter.org/install). Once both Jupyter and Octave are installed follow [these instructions](https://github.com/calysto/octave_kernel) to configure the use of Octave with Jupyter notebooks. \n",
    "\n",
    "To run Jupyter call `jupyter notebook` from your Terminal/Command Prompt. "
   ]
  }
 ],
 "metadata": {
  "@webio": {
   "lastCommId": null,
   "lastKernelId": null
  },
  "celltoolbar": "Slideshow",
  "kernelspec": {
   "display_name": "Octave",
   "language": "octave",
   "name": "octave"
  },
  "language_info": {
   "file_extension": ".m",
   "help_links": [
    {
     "text": "GNU Octave",
     "url": "https://www.gnu.org/software/octave/support.html"
    },
    {
     "text": "Octave Kernel",
     "url": "https://github.com/Calysto/octave_kernel"
    },
    {
     "text": "MetaKernel Magics",
     "url": "https://metakernel.readthedocs.io/en/latest/source/README.html"
    }
   ],
   "mimetype": "text/x-octave",
   "name": "octave",
   "version": "5.2.0"
  },
  "rise": {
   "enable_chalkboard": true
  }
 },
 "nbformat": 4,
 "nbformat_minor": 2
}
