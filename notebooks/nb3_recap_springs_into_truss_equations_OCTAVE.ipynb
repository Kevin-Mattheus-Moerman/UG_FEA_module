{
 "cells": [
  {
   "cell_type": "markdown",
   "metadata": {
    "slideshow": {
     "slide_type": "slide"
    }
   },
   "source": [
    "  \n",
    "[**Dr. Kevin M. Moerman**](mailto:kevin.moerman@nuigalway.ie), _Lecturer in Biomedical Engineering_   \n",
    "\n",
    "National University of Ireland Galway.   \n",
    "\n",
    "---"
   ]
  },
  {
   "cell_type": "markdown",
   "metadata": {
    "slideshow": {
     "slide_type": "skip"
    }
   },
   "source": [
    "\\newpage"
   ]
  },
  {
   "cell_type": "markdown",
   "metadata": {
    "slideshow": {
     "slide_type": "slide"
    }
   },
   "source": [
    "# Learning objectives\n",
    "At the end of this lecture you should be able to:   \n",
    "\n",
    "* Formulate Hooke's law in **matrix form**\n",
    "* Derive spring equations using the **direct method**\n",
    "* Derive spring equations using a **variational method**"
   ]
  },
  {
   "cell_type": "markdown",
   "metadata": {
    "slideshow": {
     "slide_type": "slide"
    }
   },
   "source": [
    "# Hooke's law and the direct (stiffness) method\n",
    "A two node spring system:   \n",
    "![spring](spring_2Node.png)  \n",
    "The force components at node 1 and 2 can be written:   \n",
    "\n",
    "$f_{1x}=k(u_1-u_2)$   \n",
    "\n",
    "$f_{2x}=k(u_2-u_1)=-k(u_1-u_2)$    "
   ]
  },
  {
   "cell_type": "markdown",
   "metadata": {
    "slideshow": {
     "slide_type": "fragment"
    }
   },
   "source": [
    "It is conventient to use matrix notation allowing one to write the above as:\n",
    "$$\\begin{Bmatrix} f_{1x} \\\\ f_{2x} \\end{Bmatrix}=\\begin{bmatrix} k & -k \\\\ -k & k\\end{bmatrix}\\begin{Bmatrix} u_1 \\\\ u_2\\end{Bmatrix}$$\n",
    "Which in short form is written:\n",
    "$$\\begin{Bmatrix} F\\end{Bmatrix}=\\begin{bmatrix} K \\end{bmatrix}\\begin{Bmatrix} u\\end{Bmatrix}$$\n",
    "This introduces the notation $\\begin{Bmatrix} \\end{Bmatrix}$ and $\\begin{bmatrix} \\end{bmatrix}$, which represent a column array and a square array respectively."
   ]
  },
  {
   "cell_type": "markdown",
   "metadata": {
    "slideshow": {
     "slide_type": "slide"
    }
   },
   "source": [
    "## Methods for derivation of the finite element equations\n",
    "\n",
    "* The key finite element equation:\n",
    "$$\\begin{Bmatrix} F\\end{Bmatrix}=\\begin{bmatrix} K \\end{bmatrix}\\begin{Bmatrix} u\\end{Bmatrix}$$\n",
    "* There are three main types of methods to do so:   \n",
    "    * The **direct** (equilibrium) method   \n",
    "        * Simple, intuitive\n",
    "        * 1D problems\n",
    "    * **Variational** methods\n",
    "        * More general\n",
    "        * Requires existance of a functional to minimize\n",
    "        * Applies to linear elastic materials\n",
    "    * **Weighted residual** methods (e.g. Galerkin)\n",
    "        * Most general \n",
    "        * No functional for minization required\n",
    "        * Applies to non-linear elastic materials\n",
    "* The direct and variational method are presented in this course"
   ]
  },
  {
   "cell_type": "markdown",
   "metadata": {
    "slideshow": {
     "slide_type": "slide"
    }
   },
   "source": [
    "## Matrix multiplication in finite element analysis (FEA)\n",
    "* Multiplication of two rectangular matrices (summation implied over repeated indices):\n",
    "$$c_{ij}=a_{ik}b_{kj}$$\n",
    "* In FEA \n",
    "$$\\begin{Bmatrix} F\\end{Bmatrix}=\\begin{bmatrix} K \\end{bmatrix}\\begin{Bmatrix} u\\end{Bmatrix}$$\n",
    "* Involves multiplication of a $n\\times p$ matrix and a $n\\times1$ array:\n",
    "$$f_{i}=k_{ip}u_{p}$$\n",
    "* Quasi-mnemonic to get $f_{i}$ \"keep up\" $\\rightarrow k_{ip}u_{p}$"
   ]
  },
  {
   "cell_type": "markdown",
   "metadata": {
    "slideshow": {
     "slide_type": "slide"
    }
   },
   "source": [
    "## Example: A three spring system and a known force \\*\n",
    "Consider the three spring system below. \n",
    "* The system consists of 3 spring elements and 4 nodes. \n",
    "* Node 1, 3, and 4 are constrained from moving. \n",
    "* Spring 2 and 3 act in parallel and both originate from node 2\n",
    "* The spring stiffnesses are: $k_1=400$, $k_2=k_3=200$\n",
    "* A force of 25 kN is applied to node 2 in the positive x-direction. \n",
    "\n",
    "**Assignment**: Use the direct stiffness method to derive the finite element equations\n",
    "\n",
    "![3 spring example](springSet_3_force2.png)   \n",
    "         \n",
    "\\*Based on example 2.3 of: Daryl Logan, _\"A First Course in the Finite Element Methods\"_ (page 51 in the 6th edition, page 52 in the 5th edition)"
   ]
  },
  {
   "cell_type": "markdown",
   "metadata": {
    "slideshow": {
     "slide_type": "fragment"
    }
   },
   "source": [
    "### Boundary and compatibility conditions\n",
    "* The boundary conditions: \n",
    "$$u_1=u_3=u_4=0$$\n",
    "* The compatibility condition:\n",
    "$$u_2^{(1)}=u_2^{(2)}=u_2^{(3)}=u_2$$\n"
   ]
  },
  {
   "cell_type": "markdown",
   "metadata": {
    "slideshow": {
     "slide_type": "slide"
    }
   },
   "source": [
    "### Setting up the element stiffness matrices\n",
    "* Using $K^{(i)}=\\begin{bmatrix} k_i & -k_i \\\\ -k_i & k_i\\end{bmatrix}$, and $k_1=400$, $k_2=k_3=200$ we come to:\n",
    "\n",
    "$K^{(1)}=\\begin{bmatrix} 400 & -400 \\\\ -400 & 400\\end{bmatrix}$, $K^{(2)}=\\begin{bmatrix} 200 & -200 \\\\ -200 & 200\\end{bmatrix}$, and $K^{(3)}=\\begin{bmatrix} 200 & -200 \\\\ -200 & 200\\end{bmatrix}$"
   ]
  },
  {
   "cell_type": "code",
   "execution_count": 1,
   "metadata": {
    "slideshow": {
     "slide_type": "fragment"
    }
   },
   "outputs": [
    {
     "name": "stdout",
     "output_type": "stream",
     "text": [
      "k1 =\n",
      "\n",
      "   400  -400\n",
      "  -400   400\n",
      "\n",
      "k2 =\n",
      "\n",
      "   200  -200\n",
      "  -200   200\n",
      "\n",
      "k3 =\n",
      "\n",
      "   200  -200\n",
      "  -200   200\n",
      "\n"
     ]
    }
   ],
   "source": [
    "kSet=[400 200 200]; % The spring stiffness value set\n",
    "I=[1 -1; -1 1]; % Array for spawning stiffness matrices\n",
    "k1=kSet(1)*I % Element stiffness matrix 1\n",
    "k2=kSet(2)*I % Element stiffness matrix 2\n",
    "k3=kSet(3)*I % Element stiffness matrix 3"
   ]
  },
  {
   "cell_type": "markdown",
   "metadata": {
    "slideshow": {
     "slide_type": "slide"
    }
   },
   "source": [
    "### Superposition to assemble global stiffness matrix\n",
    "Through superposition to global stiffness matrix can be assembled. The superposition is often written as:\n",
    "$$K=\\sum_{i=1}^{3} K^{(i)}$$\n",
    "However, it should be noted this is not a summation. The below numerical implementation illustrates how **the indices of the nodes involved are used as indices into matrix $K$**, leading to:\n",
    "$$\\begin{bmatrix} K \\end{bmatrix}=\\begin{bmatrix} 400 & -400 & 0 & 0 \\\\ -400 & 800 & -200 & -200  \\\\ 0 & -200 & 200 & 0 \\\\ 0 & -200 & 0 & 200 \\end{bmatrix}$$"
   ]
  },
  {
   "cell_type": "code",
   "execution_count": 2,
   "metadata": {
    "slideshow": {
     "slide_type": "fragment"
    }
   },
   "outputs": [
    {
     "name": "stdout",
     "output_type": "stream",
     "text": [
      "K =\r\n",
      "\r\n",
      "   400  -400     0     0\r\n",
      "  -400   800  -200  -200\r\n",
      "     0  -200   200     0\r\n",
      "     0  -200     0   200\r\n",
      "\r\n"
     ]
    }
   ],
   "source": [
    "K=zeros(4,4); %Initialize stiffness aray with all zeros\n",
    "K([1 2],[1 2]) = K([1 2],[1 2]) + k1; %Add element 1 contribution\n",
    "K([2 3],[2 3]) = K([2 3],[2 3]) + k2; %Add element 2 contribution\n",
    "K([2 4],[2 4]) = K([2 4],[2 4]) + k3; %Add element 3 contribution\n",
    "K\n"
   ]
  },
  {
   "cell_type": "markdown",
   "metadata": {
    "slideshow": {
     "slide_type": "slide"
    }
   },
   "source": [
    "### Solving for the unknown displacements\n",
    "* Following derivation of the global stiffness matrix, and using $u_1=u_3=u_4=0$, the total system now becomes:\n",
    "$$\\begin{Bmatrix} F_1 \\\\ 25000 \\\\ F_3 \\\\ F_4 \\end{Bmatrix}=\\begin{bmatrix} 400 & -400 & 0 & 0 \\\\ -400 & 800 & -200 & -200  \\\\ 0 & -200 & 200 & 0 \\\\ 0 & -200 & 0 & 200 \\end{bmatrix}\\begin{Bmatrix} 0 \\\\ u_2 \\\\ 0 \\\\ 0\\end{Bmatrix}$$\n",
    "* Leading to: \n",
    "\n",
    "$$25000=\\begin{bmatrix}-400 & 800 & -200 & -200 \\end{bmatrix} \\begin{Bmatrix} 0 \\\\ u_2 \\\\ 0 \\\\ 0\\end{Bmatrix}\\rightarrow 25000=800 u_2 \\rightarrow u_2=\\frac{25000}{800}$$"
   ]
  },
  {
   "cell_type": "code",
   "execution_count": 3,
   "metadata": {
    "slideshow": {
     "slide_type": "fragment"
    }
   },
   "outputs": [
    {
     "name": "stdout",
     "output_type": "stream",
     "text": [
      "k22 =  800\n",
      "u2 =  31.250\n"
     ]
    }
   ],
   "source": [
    "F2=25000; %Force at node 2\n",
    "k22=K(2,2) %Stiffness matrix entry\n",
    "u2=F2/k22 %Displacement array for node 2 and 3"
   ]
  },
  {
   "cell_type": "markdown",
   "metadata": {
    "slideshow": {
     "slide_type": "slide"
    }
   },
   "source": [
    "### Compute force array F\n",
    "Since all nodal diplacements are now known the full force array can now be computed from:\n",
    "$$\\begin{Bmatrix} F_1 \\\\ F_2 \\\\ F_3 \\\\ F_4 \\end{Bmatrix}=\\begin{bmatrix} 400 & -400 & 0 & 0 \\\\ -400 & 800 & -200 & -200  \\\\ 0 & -200 & 200 & 0 \\\\ 0 & -200 & 0 & 200 \\end{bmatrix}\\begin{Bmatrix} 0 \\\\ 31.25 \\\\ 0 \\\\ 0\\end{Bmatrix}=\\begin{Bmatrix} -12500 \\\\ 25000 \\\\ -6250 \\\\ -6250 \\end{Bmatrix}$$"
   ]
  },
  {
   "cell_type": "code",
   "execution_count": 4,
   "metadata": {
    "slideshow": {
     "slide_type": "fragment"
    }
   },
   "outputs": [
    {
     "name": "stdout",
     "output_type": "stream",
     "text": [
      "U =\n",
      "\n",
      "    0.00000\n",
      "   31.25000\n",
      "    0.00000\n",
      "    0.00000\n",
      "\n",
      "F =\n",
      "\n",
      "  -12500\n",
      "   25000\n",
      "   -6250\n",
      "   -6250\n",
      "\n"
     ]
    }
   ],
   "source": [
    "U=[0; u2; 0; 0] #Full displacement array\n",
    "F=K*U #Compute force array"
   ]
  },
  {
   "cell_type": "markdown",
   "metadata": {
    "slideshow": {
     "slide_type": "slide"
    }
   },
   "source": [
    "### Computing element forces\n",
    "The element force data can now be computed too from:\n",
    "$$\\begin{Bmatrix} F^{(i)} \\end{Bmatrix}=\\begin{bmatrix} k^{(i)}\\end{bmatrix}\\begin{Bmatrix} u^{(i)} \\end{Bmatrix}$$   \n",
    "  \n",
    "E.g.:   \n",
    "\n",
    "$$\\begin{Bmatrix} f_{1x}^{(1)} \\\\ f_{2x}^{(1)} \\end{Bmatrix}=\\begin{bmatrix} k_1 & -k_1 \\\\ -k_1 & k_1\\end{bmatrix}\\begin{Bmatrix} u_1 \\\\ u_2\\end{Bmatrix}$$\n",
    "$$\\begin{Bmatrix} f_{2x}^{(2)} \\\\ f_{3x}^{(2)} \\end{Bmatrix}=\\begin{bmatrix} k_2 & -k_2 \\\\ -k_2 & k_2\\end{bmatrix}\\begin{Bmatrix} u_2 \\\\ u_3\\end{Bmatrix}$$\n",
    "$$\\begin{Bmatrix} f_{2x}^{(3)} \\\\ f_{4x}^{(3)} \\end{Bmatrix}=\\begin{bmatrix} k_3 & -k_3 \\\\ -k_3 & k_3\\end{bmatrix}\\begin{Bmatrix} u_2 \\\\ u_4\\end{Bmatrix}$$"
   ]
  },
  {
   "cell_type": "code",
   "execution_count": 5,
   "metadata": {
    "slideshow": {
     "slide_type": "fragment"
    }
   },
   "outputs": [
    {
     "name": "stdout",
     "output_type": "stream",
     "text": [
      "f1 =\n",
      "\n",
      "  -12500\n",
      "   12500\n",
      "\n",
      "f2 =\n",
      "\n",
      "   6250\n",
      "  -6250\n",
      "\n",
      "f3 =\n",
      "\n",
      "   0\n",
      "   0\n",
      "\n"
     ]
    }
   ],
   "source": [
    "f1=k1*U([1 2]) %Element 1 forces\n",
    "f2=k2*U([2 3]) %Element 2 forces\n",
    "f3=k3*U([3 4]) %Element 3 forces"
   ]
  },
  {
   "cell_type": "markdown",
   "metadata": {
    "slideshow": {
     "slide_type": "slide"
    }
   },
   "source": [
    "# Mechanical applications: e.g. Hooke's law\n",
    "$$F=ku$$   \n",
    "  \n",
    "$F$: Force in Newton (N)  \n",
    "$k$: Spring stiffness constant (N/m)   \n",
    "$u$: Spring extension (displacement of end point) (m)\n",
    "\n",
    "![](HOOKE_LAW.png)\n",
    "\n",
    "$$\\begin{Bmatrix} f_{1} \\\\ f_{2} \\end{Bmatrix}=\\begin{bmatrix} k & -k \\\\ -k & k\\end{bmatrix}\\begin{Bmatrix} u_1 \\\\ u_2\\end{Bmatrix}\\rightarrow \\begin{Bmatrix} F\\end{Bmatrix}=\\begin{bmatrix} K \\end{bmatrix}\\begin{Bmatrix} u\\end{Bmatrix}$$\n"
   ]
  },
  {
   "cell_type": "markdown",
   "metadata": {
    "slideshow": {
     "slide_type": "slide"
    }
   },
   "source": [
    "# Electrical applications: e.g. Ohm's law\n",
    "$$V=RI$$   \n",
    "  \n",
    "$V$: Potential or voltage drop in volts (V)   \n",
    "$R$: Resistance in Ohms ($\\Omega$)   \n",
    "$I$: Electric current in amperes (amps)   \n",
    "\n",
    "![](OHM_LAW.png)\n",
    "\n",
    "$$\\begin{Bmatrix} V_{1} \\\\ V_{2} \\end{Bmatrix}=\\begin{bmatrix} r & -r \\\\ -r & r\\end{bmatrix}\\begin{Bmatrix} I_1 \\\\ I_2\\end{Bmatrix}\\rightarrow \\begin{Bmatrix} V\\end{Bmatrix}=\\begin{bmatrix} R \\end{bmatrix}\\begin{Bmatrix} I\\end{Bmatrix}$$"
   ]
  },
  {
   "cell_type": "markdown",
   "metadata": {
    "slideshow": {
     "slide_type": "slide"
    }
   },
   "source": [
    "# Beyond 1D springs, introducing trusses\n",
    "\n",
    "## The spring element\n",
    "![spring](spring_2Node.png)     \n",
    "* Behaviour Hooke's law for a spring: \n",
    "$$F=ku$$   \n",
    "$$\\begin{Bmatrix} f_{1} \\\\ f_{2} \\end{Bmatrix}=k\\begin{bmatrix} 1 & -1 \\\\ -1 & 1\\end{bmatrix}\\begin{Bmatrix} u_1 \\\\ u_2\\end{Bmatrix}$$\n",
    "* Spring is a 1D \"line element\"and has no thickness\n"
   ]
  },
  {
   "cell_type": "markdown",
   "metadata": {
    "slideshow": {
     "slide_type": "slide"
    }
   },
   "source": [
    "## The truss element\n",
    "![spring](truss1.png)  \n",
    "* Behaviour Hooke's law for a bar: \n",
    "$$\\sigma=E\\epsilon=\\frac{F}{A}$$   \n",
    "$$\\begin{Bmatrix} f_{1} \\\\ f_{2} \\end{Bmatrix}=\\frac{AE}{L}\\begin{bmatrix} 1 & -1 \\\\ -1 & 1\\end{bmatrix}\\begin{Bmatrix} u_1 \\\\ u_2\\end{Bmatrix}$$\n",
    "* Truss (or bar) is a 1D element but has a **cross-sectional area** $A$\n",
    "\n",
    "$\\sigma$: Stress (Pa or $N/m^2$)   \n",
    "$F$: Force (N)   \n",
    "$E$: The material Young's Modulus (Pa or $N/m^2$)   \n",
    "$\\epsilon$: The strain in the material ([])   \n",
    "$L$ truss lenght (m)"
   ]
  },
  {
   "cell_type": "markdown",
   "metadata": {
    "slideshow": {
     "slide_type": "slide"
    }
   },
   "source": [
    "# Strain\n",
    "* **strain** a relative metric for deformation: \n",
    "$$\\epsilon=\\frac{du(x)}{dx}=\\frac{(u_2-u_1)}{L_0}$$    \n",
    "* **stretch** or stretch-ratio, current ($L$) over initial length ($L_o$): \n",
    "$$\\lambda=\\frac{L}{L_0}=\\frac{L_0+(u_2-u_1)}{L_0}=\\frac{(u_2-u_1)}{L_0}+1$$      "
   ]
  },
  {
   "cell_type": "markdown",
   "metadata": {
    "slideshow": {
     "slide_type": "slide"
    }
   },
   "source": [
    "# Side notes on strain\n",
    "* Different strain metrics exist, focus in this course is linear (or Biot) strain\n",
    "* **Linear (or Biot) strain**:\n",
    "    $$\\epsilon=\\lambda-1=\\frac{(u_2-u_1)}{L_0}$$\n",
    "* **Green-Lagrange strain**:\n",
    "    $$\\epsilon_{GL}=\\frac{1}{2}(\\lambda^2-1)$$\n",
    "* **Logarithmic (or true or natural or Hencky) strain**:\n",
    "    $$\\epsilon_{log}=\\ln(\\lambda)$$\n",
    "\n",
    "* **Seth-Hill class of strains**:\n",
    "    $$E^{(m)}=\\frac{1}{m}(\\lambda^m-1)$$        \n",
    "    ![spring](strainsMoerman.jpg)  \n",
    "\n",
    "See: [Moerman et al. 2016](https://arxiv.org/pdf/1512.03654.pdf)"
   ]
  },
  {
   "cell_type": "markdown",
   "metadata": {
    "slideshow": {
     "slide_type": "slide"
    }
   },
   "source": [
    "# The truss (or bar) element \n",
    "![spring](truss2.png)  \n",
    "* Stress (force acting over area) constitutive law: \n",
    "$$\\sigma=E\\epsilon=\\frac{F}{A}$$      \n",
    "* Force in the truss: $F=AE\\epsilon$, therefore:\n",
    "$$T=AE\\frac{(u_2-u_1)}{L}=\\frac{AE}{L}(u_2-u_1)$$\n",
    "* The nodal forces:\n",
    "$$f_{1}=-T=\\frac{AE}{L}(u_1-u_2)$$\n",
    "     \n",
    "$$f_{2}=T=\\frac{AE}{L}(-u_1+u_2)$$\n",
    "* Expressed in matrix form:\n",
    "$$\\begin{Bmatrix} f_{1} \\\\ f_{2} \\end{Bmatrix}=\\frac{AE}{L}\\begin{bmatrix} 1 & -1 \\\\ -1 & 1\\end{bmatrix}\\begin{Bmatrix} u_1 \\\\ u_2\\end{Bmatrix}$$"
   ]
  },
  {
   "cell_type": "markdown",
   "metadata": {
    "slideshow": {
     "slide_type": "slide"
    }
   },
   "source": [
    "## Example: A three spring system and a known force\n",
    "Consider the three truss system below. \n",
    "* The system consists of 3 truss elements and 4 nodes. \n",
    "* Node 1, 3, and 4 are constrained from moving. \n",
    "* Truss 2 and 3 act in parallel and both originate from node 2\n",
    "* All truss lengths $L_i=1$\n",
    "* The truss Youngs Moduli are: $E_1=100$, $E_2=100$, and $E_3=200$\n",
    "* The truss cross sectional areas are: $A_1=4$, $A_2=2$, and $A_3=1$\n",
    "* A force of 25 kN is applied to node 2 in the positive x-direction. \n",
    "\n",
    "**Assignment**: \n",
    "1. Form the element stiffness matrices\n",
    "2. Use the direct stiffness method to derive the global stiffness matrix and the finite element equations\n",
    "![3 spring example](trussSet_3_force2.png)   "
   ]
  },
  {
   "cell_type": "markdown",
   "metadata": {
    "slideshow": {
     "slide_type": "slide"
    }
   },
   "source": [
    "### Boundary and compatibility conditions\n",
    "* The boundary conditions: \n",
    "$$u_1=u_3=u_4=0$$\n",
    "* The compatibility condition:\n",
    "$$u_2^{(1)}=u_2^{(2)}=u_2^{(3)}=u_2$$\n"
   ]
  },
  {
   "cell_type": "markdown",
   "metadata": {
    "slideshow": {
     "slide_type": "slide"
    }
   },
   "source": [
    "### Setting up the element stiffness matrices\n",
    "* Recognize: \n",
    "$$K^{(i)}=\\frac{A^{(i)}E^{(i)}}{L^{(i)}}\\begin{bmatrix} 1 & -1 \\\\ -1 & 1\\end{bmatrix}=k^{(i)}\\begin{bmatrix} 1 & -1 \\\\ -1 & 1\\end{bmatrix}$$   \n",
    "   \n",
    "$$k^{(1)}=\\frac{A^{(1)}E^{(1)}}{L^{(1)}}=\\frac{4*100}{1}=400$$\n",
    "$$k^{(2)}=\\frac{A^{(2)}E^{(2)}}{L^{(2)}}=\\frac{2*100}{1}=200$$\n",
    "$$k^{(3)}=\\frac{A^{(3)}E^{(3)}}{L^{(3)}}=\\frac{1*200}{1}=200$$\n",
    "\n",
    "* Using $K^{(i)}=\\begin{bmatrix} k_i & -k_i \\\\ -k_i & k_i\\end{bmatrix}$, and $k_1=400$, $k_2=k_3=200$ we come to:\n",
    "\n",
    "$K^{(1)}=\\begin{bmatrix} 400 & -400 \\\\ -400 & 400\\end{bmatrix}$, $K^{(2)}=\\begin{bmatrix} 200 & -200 \\\\ -200 & 200\\end{bmatrix}$, and $K^{(3)}=\\begin{bmatrix} 200 & -200 \\\\ -200 & 200\\end{bmatrix}$"
   ]
  },
  {
   "cell_type": "markdown",
   "metadata": {
    "slideshow": {
     "slide_type": "slide"
    }
   },
   "source": [
    "### Superposition to assemble global stiffness matrix\n",
    "Through superposition to global stiffness matrix can be assembled. The superposition is often written as:\n",
    "$$K=\\sum_{i=1}^{3} K^{(i)}$$\n",
    "However, it should be noted this is not a summation. The below numerical implementation illustrates how **the indices of the nodes involved are used as indices into matrix $K$**, leading to:\n",
    "$$\\begin{bmatrix} K \\end{bmatrix}=\\begin{bmatrix} 400 & -400 & 0 & 0 \\\\ -400 & 800 & -200 & -200  \\\\ 0 & -200 & 200 & 0 \\\\ 0 & -200 & 0 & 200 \\end{bmatrix}$$"
   ]
  },
  {
   "cell_type": "markdown",
   "metadata": {
    "slideshow": {
     "slide_type": "slide"
    }
   },
   "source": [
    "### Solving for the unknown displacements\n",
    "* Following derivation of the global stiffness matrix, and using $u_1=u_3=u_4=0$, the total system now becomes:\n",
    "$$\\begin{Bmatrix} F_1 \\\\ 25000 \\\\ F_3 \\\\ F_4 \\end{Bmatrix}=\\begin{bmatrix} 400 & -400 & 0 & 0 \\\\ -400 & 800 & -200 & -200  \\\\ 0 & -200 & 200 & 0 \\\\ 0 & -200 & 0 & 200 \\end{bmatrix}\\begin{Bmatrix} 0 \\\\ u_2 \\\\ 0 \\\\ 0\\end{Bmatrix}$$\n",
    "* Leading to: \n",
    "\n",
    "$$25000=\\begin{bmatrix}-400 & 800 & -200 & -200 \\end{bmatrix} \\begin{Bmatrix} 0 \\\\ u_2 \\\\ 0 \\\\ 0\\end{Bmatrix}\\rightarrow 25000=800 u_2 \\rightarrow u_2=\\frac{25000}{800}$$"
   ]
  },
  {
   "cell_type": "markdown",
   "metadata": {
    "slideshow": {
     "slide_type": "slide"
    }
   },
   "source": [
    "# Linear truss shape functions\n",
    "* Shape functions are convenient for interpolation of quantities between nodes. \n",
    "* Linear interpolation between two nodes simply involves a weighted average of values between two nodes. \n",
    "* Shape functions define this \"weighting\"\n",
    "* To determine the displacement for a coordinate $x$ between two nodes on a truss the interpolation is written: \n",
    "$$u(x)=N_1(x)u_1+N_2(x)u_2$$\n",
    "* Here $N_1$ and $N_2$ are the so-called shape functions and are defined as: \n",
    "$$N_1=\\frac{x_2-x}{L}$$\n",
    "  \n",
    "$$N_2=\\frac{x-x_1}{L}$$\n",
    "\n",
    "With \n",
    "$$N_1+N_2=1$$\n",
    "\n",
    "![](truss1.png)"
   ]
  },
  {
   "cell_type": "markdown",
   "metadata": {
    "slideshow": {
     "slide_type": "slide"
    }
   },
   "source": [
    "* If instead of 1, and 2, we use i and j then we obtain: \n",
    "$$N_i=\\frac{x_j-x}{L}$$\n",
    "  \n",
    "$$N_j=\\frac{x-x_i}{L}$$\n",
    "\n",
    "With \n",
    "$$N_i+N_j=1$$\n",
    "\n",
    "* If conveniently the nodal coordinates are $x_i=0$ and $x_j=L$ we obtain: \n",
    "$$N_i=1-\\frac{x}{L}$$\n",
    "  \n",
    "$$N_j=\\frac{x}{L}$$\n",
    "\n",
    "With \n",
    "$$N_i+N_j=1$$\n",
    "\n",
    "\n",
    "![](truss2_2D_02.png)"
   ]
  },
  {
   "cell_type": "markdown",
   "metadata": {
    "slideshow": {
     "slide_type": "slide"
    }
   },
   "source": [
    "## Shape functions for interpolation\n",
    "Consider a 2-noded 1D truss with: $A=2$, $E=50$, $L=10$. The truss has 2 nodes, node-i is at $x_i=2$, and node-j is at $x_j=12$. Assume the nodes undergo the following displacements $u_i=2$, $u_j=3$. \n",
    "\n",
    "**Assignment**: \n",
    "1. Derive the linear truss shape functions $N_1$ and $N_2$\n",
    "2. Show the shape functions sum to 1\n",
    "3. Use the shape functions to determine (i.e. interpolate) the displacement at $x=4.5$, $x=7$ and $x=9.5$\n",
    "\n",
    "\n",
    "![](truss2_2D_02.png)"
   ]
  },
  {
   "cell_type": "markdown",
   "metadata": {
    "slideshow": {
     "slide_type": "slide"
    }
   },
   "source": [
    "### Solution"
   ]
  },
  {
   "cell_type": "code",
   "execution_count": 6,
   "metadata": {
    "slideshow": {
     "slide_type": "slide"
    }
   },
   "outputs": [
    {
     "name": "stdout",
     "output_type": "stream",
     "text": [
      "x =\n",
      "\n",
      "    2.0000    4.5000    7.0000    9.5000   12.0000\n",
      "\n",
      "ux =\n",
      "\n",
      "   1   2   3   4   5\n",
      "\n"
     ]
    },
    {
     "data": {
      "image/png": "[encoded data removed]",
      "text/plain": [
       "<IPython.core.display.Image object>"
      ]
     },
     "metadata": {},
     "output_type": "display_data"
    }
   ],
   "source": [
    "L=10; %The length\n",
    "x1=2; %x-coordinate of node 1\n",
    "x2=12; %x-coordinate of node 2\n",
    "u1=1; %Displacement at node 1\n",
    "u2=5; %Displacement at node 2\n",
    "\n",
    "x=linspace(x1,x2,5) %test coordinates from x1 to x2\n",
    "N1 = @(x) (x2-x)/L; %Shape function 1\n",
    "N2 = @(x) (x-x1)/L; %Shape function 2\n",
    "ux=N1(x)*u1 + N2(x)*u2\n",
    "\n",
    "%Visualize\n",
    "figure; hold on; %Open figure\n",
    "xlabel('x-coordinate','FontSize',25); ylabel('u(x)','FontSize',25)%Add labels\n",
    "plot(x,ux,'b.-','LineWidth',3,'markerSize',25); %Plot graph\n",
    "set(gca,'FontSize',15); grid on; axis tight; %Axis options"
   ]
  },
  {
   "cell_type": "markdown",
   "metadata": {
    "slideshow": {
     "slide_type": "slide"
    }
   },
   "source": [
    "## Shape functions for direct computation of \"derived quantities\"\n",
    "\n",
    "Recall the definition of strain for a 1D truss element: \n",
    "$$\\varepsilon(x)=\\frac{du(x)}{dx}$$\n",
    "However since we can express $u(x)$ using the shape functions: \n",
    "$$u(x)=N_i(x)u_i+N_j(x)u_j=\\bigg(\\frac{x_j-x}{L}\\bigg)u_i+\\bigg(\\frac{x-x_i}{L}\\bigg)u_j$$\n",
    "\n",
    "\n",
    "Can we directly express strain and strain interpolation using the derivative of the shape functions? **Yes!**  \n",
    "  \n",
    "$$\\varepsilon(x)=\\frac{du(x)}{dx}=\\frac{d}{dx}\\big(N_i(x)u_i+N_j(x)u_j\\big)=\\frac{dN_i(x)}{dx}u_i+\\frac{dN_j(x)}{dx}u_j$$   \n",
    "  \n",
    "$$\\rightarrow \\varepsilon=-\\frac{1}{L}u_i+\\frac{1}{L}u_j$$"
   ]
  },
  {
   "cell_type": "markdown",
   "metadata": {
    "slideshow": {
     "slide_type": "slide"
    }
   },
   "source": [
    "## Harnessing the power of matrix algebra\n",
    "\n",
    "In matrix notation the shape functions can be written (if $x_i=0$ and $x_j=L$): \n",
    " \n",
    "$$\\begin{bmatrix} N \\end{bmatrix}=\\begin{bmatrix} 1-\\frac{x}{L} & \\frac{x}{L}\\end{bmatrix}$$\n",
    "\n",
    "Therefore rather than $u(x)=N_i(x)u_i+N_j(x)u_j=$ we can now write\n",
    "$$u(x)=\\begin{bmatrix} N(x) \\end{bmatrix}\\begin{Bmatrix} u \\end{Bmatrix}$$\n",
    "\n",
    "Furthermore, we can introduce the so-called B-matrix for strain computation:\n",
    "\n",
    "$$\\begin{bmatrix} B \\end{bmatrix}=\\begin{bmatrix} -\\frac{1}{L} & \\frac{1}{L}\\end{bmatrix}$$\n",
    "\n",
    "Allowing us use the following instead of $\\varepsilon=-\\frac{1}{L}u_i+\\frac{1}{L}u_j$: \n",
    "\n",
    "$$\\varepsilon=\\begin{bmatrix} B \\end{bmatrix}\\begin{Bmatrix} u \\end{Bmatrix}$$\n",
    "\n",
    "**Observations:** \n",
    "1. Shape functions allow for determination (interpolation) of quantities between nodes\n",
    "2. If derivatives are required these can be formulated on the shape functions directly\n",
    "3. For a linear truss the strain is constant across the element"
   ]
  },
  {
   "cell_type": "markdown",
   "metadata": {
    "slideshow": {
     "slide_type": "slide"
    }
   },
   "source": [
    "## Shape functions for interpolation\n",
    "Consider a 2-noded 1D truss with: $A=2$, $E=50$, $L=10$. The truss has 2 nodes, node-i is at $x_i=2$, and node-j is at $x_j=12$. Assume the nodes undergo the following displacements $u_i=2$, $u_j=3$. \n",
    "\n",
    "The shape functions are given by: \n",
    "$$N_i=\\frac{x_j-x}{L}$$\n",
    "  \n",
    "$$N_j=\\frac{x-x_i}{L}$$\n",
    "\n",
    "\n",
    "**Assignment**: \n",
    "1. Show these are a proper set of shape functions\n",
    "2. Componse the shape function matrix and the B-matrix\n",
    "3. Use matrices to compute the displacement at x=7 and determine the truss strain\n",
    "\n",
    "\n",
    "![](truss2_2D_02.png)"
   ]
  },
  {
   "cell_type": "markdown",
   "metadata": {
    "slideshow": {
     "slide_type": "slide"
    }
   },
   "source": [
    "### Solution"
   ]
  },
  {
   "cell_type": "code",
   "execution_count": 7,
   "metadata": {
    "slideshow": {
     "slide_type": "fragment"
    }
   },
   "outputs": [
    {
     "name": "stdout",
     "output_type": "stream",
     "text": [
      "u =\n",
      "\n",
      "   2\n",
      "   3\n",
      "\n",
      "N =\n",
      "\n",
      "@(x) [N1(x), N2(x)]\n",
      "\n",
      "ux =  2.5000\n"
     ]
    }
   ],
   "source": [
    "L=10; %The length\n",
    "x1=2; %x-coordinate of node 1\n",
    "x2=12; %x-coordinate of node 2\n",
    "u1=2; %Displacement at node 1\n",
    "u2=3; %Displacement at node 2\n",
    "u=[u1; u2] %The displacement array\n",
    "x=7; %The x-coordinate to evaluate the data at\n",
    "\n",
    "%Compose shape function matrix\n",
    "N1 = @(x) (x2-x)/L; %Shape function 1\n",
    "N2 = @(x) (x-x1)/L; %Shape function 2\n",
    "N  = @(x) [N1(x) N2(x)] %Shape function matrix\n",
    "\n",
    "%Interpolate/determine displacement\n",
    "ux=N(x)*u"
   ]
  },
  {
   "cell_type": "code",
   "execution_count": 8,
   "metadata": {
    "slideshow": {
     "slide_type": "fragment"
    }
   },
   "outputs": [
    {
     "name": "stdout",
     "output_type": "stream",
     "text": [
      "B =\n",
      "\n",
      "  -0.10000   0.10000\n",
      "\n",
      "e =  0.10000\n"
     ]
    }
   ],
   "source": [
    "B=[-1/L 1/L] %The B-matrix\n",
    "e=B*u %Strain computation"
   ]
  },
  {
   "cell_type": "markdown",
   "metadata": {
    "slideshow": {
     "slide_type": "slide"
    }
   },
   "source": [
    "# Summary \n",
    "\n",
    "* A truss or bar element is a line-like element with an associated area and initial length\n",
    "![spring](truss1.png)  \n",
    "\n",
    "* Mechanical behaviour here linear elastic as per Hooke's law: \n",
    "$$\\sigma=E\\epsilon=\\frac{F}{A}$$   \n",
    "\n",
    "* Element equations and assembly using direct method comparible to spring equations with $$k^{(i)}=\\frac{A^{(i)}E^{(i)}}{L^{(i)}}$$\n",
    "\n",
    "* Hence *effective stiffness* of a structure is due to material constants ($E$) **AND** geometry ($A$, and $L$)\n",
    "\n",
    "* For instance: \n",
    "$$\\begin{Bmatrix} f_{1} \\\\ f_{2} \\end{Bmatrix}=\\frac{AE}{L}\\begin{bmatrix} 1 & -1 \\\\ -1 & 1\\end{bmatrix}\\begin{Bmatrix} u_1 \\\\ u_2\\end{Bmatrix}$$\n",
    "    \n",
    "     \n",
    "* Shape functions can be used as nodal data interpolators e.g.: \n",
    "$N_i=\\frac{x_j-x}{L}$, and $N_j=\\frac{x-x_i}{L}$\n",
    "\n",
    "$$u(x)=\\begin{bmatrix} N(x) \\end{bmatrix}\\begin{Bmatrix} u \\end{Bmatrix}$$\n",
    "\n",
    "* Shape function derivatives can be pre-computed and enable strain computation e.g.: \n",
    "$$\\begin{bmatrix} B \\end{bmatrix}=\\begin{bmatrix} -\\frac{1}{L} & \\frac{1}{L}\\end{bmatrix}$$\n",
    "\n",
    "$$\\varepsilon=\\begin{bmatrix} B \\end{bmatrix}\\begin{Bmatrix} u \\end{Bmatrix}$$"
   ]
  },
  {
   "cell_type": "markdown",
   "metadata": {
    "slideshow": {
     "slide_type": "skip"
    }
   },
   "source": [
    "\\newpage"
   ]
  },
  {
   "cell_type": "markdown",
   "metadata": {
    "slideshow": {
     "slide_type": "skip"
    }
   },
   "source": [
    "**About this document**    \n",
    "\n",
    "This document was created using a [Jupyter notebook](https://jupyter.org/) which allows for the presentation of theory and equations, as well as live (running code) numerical implementations. \n",
    "\n",
    "This Jupyter notebook is available [open source](https://github.com/Kevin-Mattheus-Moerman/NUIG_BME_402_6101) and features the [Octave](https://www.gnu.org/software/octave/index) programming language (an open source alternative to MATLAB). If you are interested in running this Jupyter notebook yourself [download and install Octave](https://www.gnu.org/software/octave/download) and install [the Jupyter environment](https://jupyter.org/install). Once both Jupyter and Octave are installed follow [these instructions](https://github.com/calysto/octave_kernel) to configure the use of Octave with Jupyter notebooks. \n",
    "\n",
    "To run Jupyter call `jupyter notebook` from your Terminal/Command Prompt. "
   ]
  }
 ],
 "metadata": {
  "@webio": {
   "lastCommId": null,
   "lastKernelId": null
  },
  "celltoolbar": "Slideshow",
  "kernelspec": {
   "display_name": "Octave",
   "language": "octave",
   "name": "octave"
  },
  "language_info": {
   "file_extension": ".m",
   "help_links": [
    {
     "text": "GNU Octave",
     "url": "https://www.gnu.org/software/octave/support.html"
    },
    {
     "text": "Octave Kernel",
     "url": "https://github.com/Calysto/octave_kernel"
    },
    {
     "text": "MetaKernel Magics",
     "url": "https://metakernel.readthedocs.io/en/latest/source/README.html"
    }
   ],
   "mimetype": "text/x-octave",
   "name": "octave",
   "version": "5.2.0"
  },
  "rise": {
   "enable_chalkboard": true
  }
 },
 "nbformat": 4,
 "nbformat_minor": 2
}
