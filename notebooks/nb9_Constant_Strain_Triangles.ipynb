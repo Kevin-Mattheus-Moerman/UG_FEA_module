{
 "cells": [
  {
   "cell_type": "markdown",
   "metadata": {
    "slideshow": {
     "slide_type": "slide"
    }
   },
   "source": [
    "[**Dr. Kevin M. Moerman**](mailto:kevin.moerman@nuigalway.ie), _Lecturer in Biomedical Engineering_   \n",
    "\n",
    "National University of Ireland Galway.   \n",
    "\n",
    "---"
   ]
  },
  {
   "cell_type": "markdown",
   "metadata": {
    "slideshow": {
     "slide_type": "slide"
    }
   },
   "source": [
    "# Learning objectives\n",
    "After the end of this lecture you should be able to: \n",
    "* Use vector cross product to derive triangle areas\n",
    "* Derive the constant strain triangle shape functions \n",
    "* Compute the constant strain triangle shape functions \n",
    "* Use the shape functions for interpolation\n",
    "* Use the shape functions to B-matrix and strain"
   ]
  },
  {
   "cell_type": "markdown",
   "metadata": {
    "slideshow": {
     "slide_type": "slide"
    }
   },
   "source": [
    "# Recalling the truss shape functions\n",
    "![](shape_func.png)\n",
    "\n",
    "$$N_i=L_1=\\frac{l_1}{L}=\\frac{x_j-x}{L}$$   \n",
    "  \n",
    "$$N_j=L_2=\\frac{l_2}{L}=\\frac{x-x_i}{L}$$\n",
    "\n",
    "* One could refer to $L_1$ and $L_2$ as coordinates. A particular point on the truss could have the coordinates $(L_1,L_2)$, although clearly the coordinates are not independant since $L_1+L_2=1$. \n"
   ]
  },
  {
   "cell_type": "markdown",
   "metadata": {
    "slideshow": {
     "slide_type": "slide"
    }
   },
   "source": [
    "## Shape functions for interpolation\n",
    "### 1D Displacement interpolation\n",
    "\n",
    "$$u(x)=\\begin{bmatrix} N(x) \\end{bmatrix}\\begin{Bmatrix} u \\end{Bmatrix}$$\n",
    "\n",
    "$$u(x)=\\begin{bmatrix} L_1 & L_2 \\end{bmatrix}\\begin{Bmatrix} u_{1x} \\\\ u_{2x} \\end{Bmatrix}$$\n"
   ]
  },
  {
   "cell_type": "markdown",
   "metadata": {
    "slideshow": {
     "slide_type": "slide"
    }
   },
   "source": [
    "### 2D Displacement interpolation\n",
    "\n",
    "$$\\begin{bmatrix} u(x,y) \\end{bmatrix}=\\begin{bmatrix} N(x,y) \\end{bmatrix}\\begin{Bmatrix} u \\end{Bmatrix}$$\n",
    "\n",
    "$$\\begin{bmatrix} u_x(x,y) \\\\ u_y(x,y) \\end{bmatrix}=\\begin{bmatrix} L_1 & 0 & L_2 & 0 \\\\ 0 & L_1 & 0 & L_2 \\end{bmatrix}\\begin{Bmatrix} u_{1x} \\\\ u_{1y} \\\\ u_{2x} \\\\ u_{2y} \\end{Bmatrix}$$\n",
    "\n",
    "The zeros are introduced so we only interpolate x-coordinate information for the x-components and only y-coordinate information for the y-components."
   ]
  },
  {
   "cell_type": "markdown",
   "metadata": {
    "slideshow": {
     "slide_type": "slide"
    }
   },
   "source": [
    "# The Constant Strain Triangle (CST)\n",
    "## Shape functions for the CST\n",
    "\n",
    "The following behaviour is desired: \n",
    "\n",
    "![CST_shape_functions.png](CST_shape_functions.png)\n"
   ]
  },
  {
   "cell_type": "markdown",
   "metadata": {
    "slideshow": {
     "slide_type": "slide"
    }
   },
   "source": [
    "* The natural coordinates for a triangle are defined as:   \n",
    "  \n",
    "| Node $i$              | Node $j$              | Node $k$     | \n",
    "| :------------- | :----------: | -----------: |\n",
    "| $$L_1=\\frac{A_1}{A}$$  | $$L_2=\\frac{A_2}{A}$$  |  $$L_3=\\frac{A_3}{A}$$  | \n",
    "\n",
    "   \n",
    "* Deriving the shape functions for the CST requires calculation of the ratios of the areas $A_q$ with respect to the total area:\n",
    "$$A=A_1+A_2+A_3$$ \n",
    "\n",
    "![CST_shape_functions_2.png](CST_shape_functions_2.png)\n"
   ]
  },
  {
   "cell_type": "markdown",
   "metadata": {
    "slideshow": {
     "slide_type": "slide"
    }
   },
   "source": [
    "### Recall cross product definitions\n",
    "\n",
    "$$\\mathbf{c}=\\mathbf{a}\\times\\mathbf{b}=\\begin{bmatrix} a1 \\\\ a2 \\\\ a3 \\end{bmatrix} \\times \\begin{bmatrix} b1 \\\\ b2 \\\\ b3 \\end{bmatrix}=\\begin{bmatrix} a_2b_3-a_3b_2 \\\\ a_3b_1-a_1b_3 \\\\ a_1b_2-a_2b_1\\end{bmatrix}$$\n",
    "\n",
    "Where the magnitude or length of the vector $\\mathbf{c}=\\mathbf{a}\\times\\mathbf{b}$, written as $\\vert\\mathbf{a}\\times\\mathbf{b}\\vert$, is equal to the area of the paralellogram spanned by $\\mathbf{a}$ and $\\mathbf{b}$. \n",
    "\n",
    "![](wiki_cross_product.png) \n",
    "[https://en.wikipedia.org/wiki/Cross_product](https://en.wikipedia.org/wiki/Cross_product)"
   ]
  },
  {
   "cell_type": "markdown",
   "metadata": {
    "slideshow": {
     "slide_type": "slide"
    }
   },
   "source": [
    "### Computing the CST natural coordinates $L_1$, $L_2$, and $L_3$\n",
    "\n",
    "![CST_shape_functions_2.png](CST_shape_functions_2.png)\n",
    "\n",
    "With $\\mathbf{p}=\\begin{bmatrix} x \\\\ y \\end{bmatrix}$, $\\mathbf{p_1}=\\begin{bmatrix} x_i \\\\ y_i \\end{bmatrix}$, $\\mathbf{p_2}=\\begin{bmatrix} x_j \\\\ y_j \\end{bmatrix}$, and $\\mathbf{p_3}=\\begin{bmatrix} x_k \\\\ y_k \\end{bmatrix}$"
   ]
  },
  {
   "cell_type": "markdown",
   "metadata": {
    "slideshow": {
     "slide_type": "slide"
    }
   },
   "source": [
    "### Example computation of $L_1$\n",
    "#### Computing $A$\n",
    "\n",
    "Define two edge vectors from nodes 1-2 $\\mathbf{r}$ and nodes 1-3 $\\mathbf{s}$\n",
    "$$\\mathbf{r}=\\mathbf{p_2}-\\mathbf{p_1}=\\begin{bmatrix} x_2-x_1 \\\\ y2-y_1 \\\\ 0 \\end{bmatrix}$$\n",
    "\n",
    "$$\\mathbf{s}=\\mathbf{p_3}-\\mathbf{p_1}=\\begin{bmatrix} x_3-x_1 \\\\ y3-y_1 \\\\ 0 \\end{bmatrix}$$\n",
    "\n",
    "Compute magnitude of half the cross product:\n",
    "$$A=\\frac{1}{2} \\vert \\mathbf{r} \\times \\mathbf{s} \\vert=\\frac{1}{2}(r_1s_2-r_2s_1)=\\frac{1}{2}\\big( (x_2-x_1)(y3-y_1)-(y3-y_1)(x_2-x_1) \\big) $$\n",
    "\n"
   ]
  },
  {
   "cell_type": "markdown",
   "metadata": {
    "slideshow": {
     "slide_type": "slide"
    }
   },
   "source": [
    "#### Computing $A1$\n",
    "\n",
    "Define two \"edge vectors\" from nodes p-2 $\\mathbf{r}$ and nodes p-3 $\\mathbf{s}$\n",
    "$$\\mathbf{r}=\\mathbf{p_2}-\\mathbf{p}=\\begin{bmatrix} x_2-x \\\\ y2-y \\\\ 0 \\end{bmatrix}$$\n",
    "\n",
    "$$\\mathbf{s}=\\mathbf{p_3}-\\mathbf{p}=\\begin{bmatrix} x_3-x \\\\ y3-y \\\\ 0 \\end{bmatrix}$$\n",
    "\n",
    "Compute magnitude of half the cross product:\n",
    "$$A1=\\frac{1}{2} \\vert \\mathbf{r} \\times \\mathbf{s} \\vert=\\frac{1}{2}(r_1s_2-r_2s_1)=\\frac{1}{2}\\big( (x_2-x)(y3-y)-(y3-y)(x_2-x) \\big) $$\n",
    "Which can be rewritten as: \n",
    "$$A_1=\\frac{1}{2}\\big( (x_2y_3-x_3y_2) +(y_2-y_3)x + (x_3-x_2)y \\big) $$"
   ]
  },
  {
   "cell_type": "markdown",
   "metadata": {
    "slideshow": {
     "slide_type": "slide"
    }
   },
   "source": [
    "Using $$L1=\\frac{A_1}{A}$$ we obtain: \n",
    "\n",
    "$$L_1=\\frac{1}{2A} \\big(\\underbrace{ (x_j y_k - x_k y_j) }_{a} + \\underbrace{ (y_j-y_k) }_{b} x + \\underbrace{ (x_k-x_j) }_{c} y \\big)$$  \n",
    "Where we identify the useful quantifies $a$, $b$, and $c$. "
   ]
  },
  {
   "cell_type": "markdown",
   "metadata": {
    "slideshow": {
     "slide_type": "slide"
    }
   },
   "source": [
    "## General expressions for $L_1$, $L_2$, and $L_3$ \n",
    "\n",
    "$$ A_q=\\frac{1}{2}(a_q+b_qx+c_qy) $$\n",
    "$$ L_q=\\frac{1}{2A}(a_q+b_qx+c_qy) $$  \n",
    "\n",
    "![CST_table](CST_table.png)\n"
   ]
  },
  {
   "cell_type": "markdown",
   "metadata": {
    "slideshow": {
     "slide_type": "slide"
    }
   },
   "source": [
    "## CST shape functions for interpolation\n",
    "### Displacement interpolation\n",
    "\n",
    "$$u(x,y)=\\begin{bmatrix} N(x,y) \\end{bmatrix}\\begin{Bmatrix} u \\end{Bmatrix}$$ \n",
    "\n",
    "$$\\begin{bmatrix} u_x(x,y) \\\\ u_y(x,y) \\end{bmatrix}=\\begin{bmatrix} L_1 & 0 & L_2 & 0 & L_3 & 0 \\\\ 0 & L_1 & 0 & L_2 & 0 & L_3 \\end{bmatrix}\\begin{Bmatrix} u_{1x} \\\\ u_{1y} \\\\ u_{2x} \\\\ u_{2y} \\\\  u_{3x} \\\\ u_{3y} \\end{Bmatrix}$$ \n"
   ]
  },
  {
   "cell_type": "markdown",
   "metadata": {
    "slideshow": {
     "slide_type": "slide"
    }
   },
   "source": [
    "### Shape functions for strain computation\n",
    "\n",
    "$$\\begin{Bmatrix} \\varepsilon \\end{Bmatrix}=\\begin{bmatrix} B \\end{bmatrix}\\begin{Bmatrix} u \\end{Bmatrix}$$\n",
    "\n",
    "The matrix $\\begin{bmatrix} \\mathbf{B} \\end{bmatrix}$ for a constant strain triangle becomes: \n",
    "$$\\begin{bmatrix} \\mathbf{B} \\end{bmatrix}=\\frac{1}{2A}\\begin{bmatrix} b_1 & 0 & b_2 & 0 & b_3 & 0 \\\\ 0 & c_1 & 0 & c_2 & 0 & c_3 \\\\ c_1 & b_1 & c_2 & b_2 & c_3 & b_3 \\end{bmatrix}$$\n",
    "\n",
    "Leading to: \n",
    "$$\\begin{Bmatrix} \\varepsilon_{xx} \\\\ \\varepsilon_{yy} \\\\ \\gamma_{xy}\\end{Bmatrix}=\\frac{1}{2A}\\begin{bmatrix} b_1 & 0 & b_2 & 0 & b_3 & 0 \\\\ 0 & c_1 & 0 & c_2 & 0 & c_3 \\\\ c_1 & b_1 & c_2 & b_2 & c_3 & b_3 \\end{bmatrix}\\begin{Bmatrix} u_{1x} \\\\ u_{1y} \\\\ u_{2x} \\\\ u_{2y} \\\\  u_{3x} \\\\ u_{3y} \\end{Bmatrix}$$\n"
   ]
  },
  {
   "cell_type": "markdown",
   "metadata": {
    "slideshow": {
     "slide_type": "slide"
    }
   },
   "source": [
    "## Stiffness matrix derivation\n",
    "For the constrant strain triangle the stiffness matrix can be evaluated from the following integral: \n",
    "$$\\begin{bmatrix} \\mathbf{K} \\end{bmatrix}  = \\int_V \\begin{bmatrix} \\mathbf{B} \\end{bmatrix}^\\top \\begin{bmatrix} \\mathbf{D} \\end{bmatrix} \\begin{bmatrix} \\mathbf{B} \\end{bmatrix} dV =t\\int_A \\begin{bmatrix} \\mathbf{B} \\end{bmatrix}^\\top \\begin{bmatrix} \\mathbf{D} \\end{bmatrix} \\begin{bmatrix} \\mathbf{B} \\end{bmatrix} dA $$\n",
    "Leading to: \n",
    "$$\\begin{bmatrix} \\mathbf{K} \\end{bmatrix} =  At \\begin{bmatrix} \\mathbf{B} \\end{bmatrix}^\\top \\begin{bmatrix} \\mathbf{D} \\end{bmatrix} \\begin{bmatrix} \\mathbf{B} \\end{bmatrix}$$\n",
    "\n",
    "And as an example for plane stress conditions ($\\sigma_{zz}=\\sigma_{yz}=\\sigma_{xz}=0$), the matrix $\\begin{bmatrix} \\mathbf{D} \\end{bmatrix}$ can be written: \n",
    "\n",
    "$$\\begin{bmatrix} \\mathbf{D} \\end{bmatrix}=\\frac{E}{1-\\nu^2}\\begin{bmatrix} 1 & \\nu & 0 \\\\ \\nu & 1 & 0 \\\\ 0 & 0 & \\frac{1-\\nu}{2} \\end{bmatrix}$$\n",
    "\n",
    "Resulting in: \n",
    "$$\\begin{bmatrix} \\mathbf{K} \\end{bmatrix}=\\frac{Et}{4A(1-\\nu^2)} \\begin{bmatrix} b_1 & 0 & b_2 & 0 & b_3 & 0 \\\\ 0 & c_1 & 0 & c_2 & 0 & c_3 \\\\ c_1 & b_1 & c_2 & b_2 & c_3 & b_3 \\end{bmatrix}^\\top \\begin{bmatrix} 1 & \\nu & 0 \\\\ \\nu & 1 & 0 \\\\ 0 & 0 & \\frac{1-\\nu}{2} \\end{bmatrix} \\begin{bmatrix} b_1 & 0 & b_2 & 0 & b_3 & 0 \\\\ 0 & c_1 & 0 & c_2 & 0 & c_3 \\\\ c_1 & b_1 & c_2 & b_2 & c_3 & b_3 \\end{bmatrix}$$\n",
    "\n"
   ]
  },
  {
   "cell_type": "markdown",
   "metadata": {
    "slideshow": {
     "slide_type": "slide"
    }
   },
   "source": [
    "# Example numerical implementation of CST equations\n",
    "![](CST_01_disp.png)"
   ]
  },
  {
   "cell_type": "markdown",
   "metadata": {
    "slideshow": {
     "slide_type": "slide"
    }
   },
   "source": [
    "## Computing $L_1$, $L_2$, and $L_3$\n",
    "$$ L_q=\\frac{1}{2A}(a_q+b_qx+c_qy) $$  "
   ]
  },
  {
   "cell_type": "code",
   "execution_count": 29,
   "metadata": {
    "slideshow": {
     "slide_type": "fragment"
    }
   },
   "outputs": [
    {
     "name": "stdout",
     "output_type": "stream",
     "text": [
      "L_1 =  0.25000\n",
      "L_2 =  0.25000\n",
      "L_3 =  0.50000\n",
      "sum_shape_func =  1\n"
     ]
    }
   ],
   "source": [
    "% Define nodes\n",
    "p1=[0 0]; %Node 1\n",
    "p2=[2 0]; %Node 2\n",
    "p3=[0 2]; %Node 3\n",
    "\n",
    "%Define interpolation point\n",
    "p=[0.5 1];\n",
    "\n",
    "%Total area\n",
    "A=0.5*(((p1(1)-p2(1))*(p1(2)-p3(2)))-((p1(1)-p3(1))*(p1(2)-p2(2))));\n",
    "\n",
    "%Shape function 1\n",
    "a1=p2(1)*p3(2)-p3(1)*p2(2); b1=p2(2)-p3(2); c1=p3(1)-p2(1); %a,b,c\n",
    "L_1=1/(2*A)*(a1+b1*p(1)+c1*p(2)) \n",
    "\n",
    "%Shape function 2\n",
    "a2=p3(1)*p1(2)-p1(1)*p3(2); b2=p3(2)-p1(2); c2=p1(1)-p3(1); %a,b,c\n",
    "L_2=1/(2*A)*(a2+b2*p(1)+c2*p(2))\n",
    "\n",
    "%Shape function 3\n",
    "a3=p1(1)*p2(2)-p2(1)*p1(2); b3=p1(2)-p2(2); c3=p2(1)-p1(1); %a,b,c\n",
    "L_3=1/(2*A)*(a3+b3*p(1)+c3*p(2))\n",
    "\n",
    "%Check sum\n",
    "sum_shape_func=L_1+L_2+L_3"
   ]
  },
  {
   "cell_type": "code",
   "execution_count": 19,
   "metadata": {
    "slideshow": {
     "slide_type": "slide"
    }
   },
   "outputs": [
    {
     "data": {
      "image/png": "[encoded data removed]",
      "text/plain": [
       "<IPython.core.display.Image object>"
      ]
     },
     "metadata": {},
     "output_type": "display_data"
    }
   ],
   "source": [
    "% Visualize triangle\n",
    "V=[p1;p2;p3;p1]; %Node set for plotting\n",
    "Vp=[p1;p;p2;p;p3]; %Point set for plotting\n",
    "\n",
    "figure; hold on;\n",
    "xlabel('x'); ylabel('y');\n",
    "plot(V(:,1),V(:,2),'k.-','LineWidth',8,'MarkerSize',35)\n",
    "plot(Vp(:,1),Vp(:,2),'r.-','LineWidth',6,'MarkerSize',25)\n",
    "set(gca,'FontSize',25)\n",
    "axis tight; axis equal; grid on; box on;  "
   ]
  },
  {
   "cell_type": "markdown",
   "metadata": {
    "slideshow": {
     "slide_type": "slide"
    }
   },
   "source": [
    "## Shape functions for interpolation\n",
    "### Displacement interpolation\n",
    "$$u(x,y)=\\begin{bmatrix} N(x,y) \\end{bmatrix}\\begin{Bmatrix} u \\end{Bmatrix}$$ "
   ]
  },
  {
   "cell_type": "code",
   "execution_count": 20,
   "metadata": {
    "slideshow": {
     "slide_type": "fragment"
    }
   },
   "outputs": [
    {
     "name": "stdout",
     "output_type": "stream",
     "text": [
      "up =\r\n",
      "\r\n",
      "   0.00000\r\n",
      "  -0.50000\r\n",
      "\r\n"
     ]
    }
   ],
   "source": [
    "u1=[0 0]; u2=[0 -2]; u3=[0 0]; % Define displacements\n",
    "um=[u1';u2';u3']; %Create displacement column array\n",
    "N=[L_1 0 L_2 0 L_3 0; 0 L_1 0 L_2 0 L_3]; % The shape function matrix\n",
    "up=N*um %Calculate displacement at point\n"
   ]
  },
  {
   "cell_type": "code",
   "execution_count": 21,
   "metadata": {
    "slideshow": {
     "slide_type": "slide"
    }
   },
   "outputs": [
    {
     "data": {
      "image/png": "[encoded data removed]",
      "text/plain": [
       "<IPython.core.display.Image object>"
      ]
     },
     "metadata": {},
     "output_type": "display_data"
    }
   ],
   "source": [
    "\n",
    "% Visualize triangle\n",
    "pp=p+up'; #New coordinate for point p\n",
    "V2=[p1+u1;p2+u2;p3+u3;p1+u1]; #Node set for plotting\n",
    "V=[p1;p2;p3;p1]; %Node set for plotting\n",
    "Vp=[p1;p;p2;p;p3]; %Point set for plotting\n",
    "\n",
    "figure; hold on;\n",
    "xlabel('x'); ylabel('y');\n",
    "plot(V(:,1),V(:,2),'k.-','LineWidth',8,'MarkerSize',35)\n",
    "plot(p(:,1),p(:,2),'r.-','LineWidth',6,'MarkerSize',25)\n",
    "plot(V2(:,1),V2(:,2),'b.-','LineWidth',6,'MarkerSize',25)\n",
    "plot(pp(:,1),pp(:,2),'g.','LineWidth',6,'MarkerSize',25)\n",
    "\n",
    "set(gca,'FontSize',25)\n",
    "axis tight; axis equal; grid on; box on;  \n"
   ]
  },
  {
   "cell_type": "markdown",
   "metadata": {
    "slideshow": {
     "slide_type": "slide"
    }
   },
   "source": [
    "## Shape functions for strain computation\n",
    "$$\\begin{bmatrix} \\mathbf{B} \\end{bmatrix}=\\frac{1}{2A}\\begin{bmatrix} b_1 & 0 & b_2 & 0 & b_3 & 0 \\\\ 0 & c_1 & 0 & c_2 & 0 & c_3 \\\\ c_1 & b_1 & c_2 & b_2 & c_3 & b_3 \\end{bmatrix}$$  \n",
    "\n",
    "$$\\begin{Bmatrix} \\varepsilon \\end{Bmatrix}=\\begin{bmatrix} B \\end{bmatrix}\\begin{Bmatrix} u \\end{Bmatrix}$$"
   ]
  },
  {
   "cell_type": "code",
   "execution_count": 22,
   "metadata": {
    "slideshow": {
     "slide_type": "fragment"
    }
   },
   "outputs": [
    {
     "name": "stdout",
     "output_type": "stream",
     "text": [
      "B =\n",
      "\n",
      "  -0.50000   0.00000   0.50000   0.00000   0.00000   0.00000\n",
      "   0.00000  -0.50000   0.00000   0.00000   0.00000   0.50000\n",
      "  -0.50000  -0.50000   0.00000   0.50000   0.50000   0.00000\n",
      "\n",
      "E =\n",
      "\n",
      "   0\n",
      "   0\n",
      "  -1\n",
      "\n"
     ]
    }
   ],
   "source": [
    "B=(1/(2*A))*[b1 0  b2 0  b3 0; ...\n",
    "             0  c1 0  c2 0  c3; ...\n",
    "             c1 b1 c2 b2 c3 b3]\n",
    "E=[B*um]"
   ]
  },
  {
   "cell_type": "markdown",
   "metadata": {
    "slideshow": {
     "slide_type": "slide"
    }
   },
   "source": [
    "## Stiffness matrix derivation\n",
    "### Define $\\mathbf{D}$ matrix\n",
    "$$\\begin{bmatrix} \\mathbf{D} \\end{bmatrix}=\\frac{E}{1-\\nu^2}\\begin{bmatrix} 1 & \\nu & 0 \\\\ \\nu & 1 & 0 \\\\ 0 & 0 & \\frac{1-\\nu}{2} \\end{bmatrix}$$\n"
   ]
  },
  {
   "cell_type": "code",
   "execution_count": 32,
   "metadata": {
    "slideshow": {
     "slide_type": "fragment"
    }
   },
   "outputs": [
    {
     "name": "stdout",
     "output_type": "stream",
     "text": [
      "D =\n",
      "\n",
      "   1.19048   0.47619   0.00000\n",
      "   0.47619   1.19048   0.00000\n",
      "   0.00000   0.00000   0.35714\n",
      "\n",
      "S =\n",
      "\n",
      "   0.00000\n",
      "   0.00000\n",
      "  -0.35714\n",
      "\n"
     ]
    }
   ],
   "source": [
    "%Define D matrix\n",
    "Ey=1; v=0.4; t=1;\n",
    "\n",
    "D=(Ey/(1-v^2))*[1 v 0; ...\n",
    "                v 1 0; ...\n",
    "                0 0 (1-v)/2]\n",
    "S=D*B*um"
   ]
  },
  {
   "cell_type": "markdown",
   "metadata": {
    "slideshow": {
     "slide_type": "slide"
    }
   },
   "source": [
    "### Compute stiffness matrix\n",
    "$$\\begin{bmatrix} \\mathbf{K} \\end{bmatrix} =  At \\begin{bmatrix} \\mathbf{B} \\end{bmatrix}^\\top \\begin{bmatrix} \\mathbf{D} \\end{bmatrix} \\begin{bmatrix} \\mathbf{B} \\end{bmatrix}$$\n"
   ]
  },
  {
   "cell_type": "code",
   "execution_count": 24,
   "metadata": {
    "slideshow": {
     "slide_type": "fragment"
    }
   },
   "outputs": [
    {
     "name": "stdout",
     "output_type": "stream",
     "text": [
      "K =\r\n",
      "\r\n",
      "   0.77381   0.41667  -0.59524  -0.17857  -0.17857  -0.23810\r\n",
      "   0.41667   0.77381  -0.23810  -0.17857  -0.17857  -0.59524\r\n",
      "  -0.59524  -0.23810   0.59524   0.00000   0.00000   0.23810\r\n",
      "  -0.17857  -0.17857   0.00000   0.17857   0.17857   0.00000\r\n",
      "  -0.17857  -0.17857   0.00000   0.17857   0.17857   0.00000\r\n",
      "  -0.23810  -0.59524   0.23810   0.00000   0.00000   0.59524\r\n",
      "\r\n"
     ]
    }
   ],
   "source": [
    "%Compute stiffness matrix\n",
    "K=A*t*B'*D*B"
   ]
  },
  {
   "cell_type": "markdown",
   "metadata": {
    "slideshow": {
     "slide_type": "slide"
    }
   },
   "source": [
    "### Compute element forces\n",
    "$$\\begin{Bmatrix} \\mathbf{F} \\end{Bmatrix}=\\begin{bmatrix} \\mathbf{K} \\end{bmatrix} \\begin{Bmatrix} \\mathbf{u} \\end{Bmatrix}$$"
   ]
  },
  {
   "cell_type": "code",
   "execution_count": 28,
   "metadata": {
    "slideshow": {
     "slide_type": "fragment"
    }
   },
   "outputs": [
    {
     "name": "stdout",
     "output_type": "stream",
     "text": [
      "F =\r\n",
      "\r\n",
      "   0.35714\r\n",
      "   0.35714\r\n",
      "   0.00000\r\n",
      "  -0.35714\r\n",
      "  -0.35714\r\n",
      "   0.00000\r\n",
      "\r\n"
     ]
    }
   ],
   "source": [
    "F=K*um"
   ]
  },
  {
   "cell_type": "markdown",
   "metadata": {
    "slideshow": {
     "slide_type": "slide"
    }
   },
   "source": [
    "# Summary\n",
    "* The CST shape functions   \n",
    "![CST_table](CST_table.png)\n",
    "\n",
    "* Displacement computation/interpolation\n",
    "$$u(x,y)=\\begin{bmatrix} N(x,y) \\end{bmatrix}\\begin{Bmatrix} u \\end{Bmatrix}$$\n",
    "$$\\begin{bmatrix} u_x(x,y) \\\\ u_y(x,y) \\end{bmatrix}=\\begin{bmatrix} L_1 & 0 & L_2 & 0 & L_3 & 0 \\\\ 0 & L_1 & 0 & L_2 & 0 & L_3 \\end{bmatrix}\\begin{Bmatrix} u_{1x} \\\\ u_{1y} \\\\ u_{2x} \\\\ u_{2y} \\\\  u_{3x} \\\\ u_{3y} \\end{Bmatrix}$$\n",
    "\n",
    "* Strain computation\n",
    "$$\\begin{Bmatrix} \\varepsilon \\end{Bmatrix}=\\begin{bmatrix} B \\end{bmatrix}\\begin{Bmatrix} u \\end{Bmatrix}$$\n",
    "\n",
    "$$\\begin{Bmatrix} \\varepsilon_{xx} \\\\ \\varepsilon_{yy} \\\\ \\gamma_{xy}\\end{Bmatrix}=\\frac{1}{2A}\\begin{bmatrix} b_1 & 0 & b_2 & 0 & b_3 & 0 \\\\ 0 & c_1 & 0 & c_2 & 0 & c_3 \\\\ c_1 & b_1 & c_2 & b_2 & c_3 & b_3 \\end{bmatrix}\\begin{Bmatrix} u_{1x} \\\\ u_{1y} \\\\ u_{2x} \\\\ u_{2y} \\\\  u_{3x} \\\\ u_{3y} \\end{Bmatrix}$$\n",
    "\n",
    "* Element stiffness matrix derivation\n",
    "$$\\begin{bmatrix} \\mathbf{K} \\end{bmatrix} =  At \\begin{bmatrix} \\mathbf{B} \\end{bmatrix}^\\top \\begin{bmatrix} \\mathbf{D} \\end{bmatrix} \\begin{bmatrix} \\mathbf{B} \\end{bmatrix}$$"
   ]
  },
  {
   "cell_type": "markdown",
   "metadata": {
    "slideshow": {
     "slide_type": "skip"
    }
   },
   "source": [
    "/newpage"
   ]
  },
  {
   "cell_type": "markdown",
   "metadata": {
    "slideshow": {
     "slide_type": "skip"
    }
   },
   "source": [
    "**About this document**    \n",
    "\n",
    "This document was created using a [Jupyter notebook](https://jupyter.org/) which allows for the presentation of theory and equations, as well as live (running code) numerical implementations. \n",
    "\n",
    "This Jupyter notebook is available [open source](https://github.com/Kevin-Mattheus-Moerman/NUIG_BME_402_6101) and features the [Octave](https://www.gnu.org/software/octave/index) programming language (an open source alternative to MATLAB). If you are interested in running this Jupyter notebook yourself [download and install Octave](https://www.gnu.org/software/octave/download) and install [the Jupyter environment](https://jupyter.org/install). Once both Jupyter and Octave are installed follow [these instructions](https://github.com/calysto/octave_kernel) to configure the use of Octave with Jupyter notebooks. \n",
    "\n",
    "To run Jupyter call `jupyter notebook` from your Terminal/Command Prompt. "
   ]
  }
 ],
 "metadata": {
  "@webio": {
   "lastCommId": null,
   "lastKernelId": null
  },
  "celltoolbar": "Slideshow",
  "kernelspec": {
   "display_name": "Octave",
   "language": "octave",
   "name": "octave"
  },
  "language_info": {
   "file_extension": ".m",
   "help_links": [
    {
     "text": "GNU Octave",
     "url": "https://www.gnu.org/software/octave/support.html"
    },
    {
     "text": "Octave Kernel",
     "url": "https://github.com/Calysto/octave_kernel"
    },
    {
     "text": "MetaKernel Magics",
     "url": "https://metakernel.readthedocs.io/en/latest/source/README.html"
    }
   ],
   "mimetype": "text/x-octave",
   "name": "octave",
   "version": "5.2.0"
  },
  "rise": {
   "enable_chalkboard": true
  }
 },
 "nbformat": 4,
 "nbformat_minor": 2
}
