{
 "cells": [
  {
   "cell_type": "markdown",
   "metadata": {
    "slideshow": {
     "slide_type": "slide"
    }
   },
   "source": [
    "  \n",
    "[**Dr. Kevin M. Moerman**](mailto:kevin.moerman@nuigalway.ie), _Lecturer in Biomedical Engineering_   \n",
    "\n",
    "National University of Ireland Galway.   \n",
    "\n",
    "---"
   ]
  },
  {
   "cell_type": "markdown",
   "metadata": {
    "slideshow": {
     "slide_type": "skip"
    }
   },
   "source": [
    "\\newpage"
   ]
  },
  {
   "cell_type": "markdown",
   "metadata": {
    "slideshow": {
     "slide_type": "slide"
    }
   },
   "source": [
    "# Example 1\n",
    "Consider the three truss system of Figure Q3. All trusses are linear elastic. Node 1 and node 4 are constrained from moving. Node 2 is subjected to a direct nodal force of P=1000 N in the negative x-direction. Furthermore, element 2 is subjected to a constant distributed load $X(x)=5000$ N/m.\n",
    "The truss parameters for all elements are given in Table Q3.\n",
    "\n",
    "|   | Element 1 | Element 2 | Element 3 |\n",
    "| ----------- | ----------- | ----------- | ----------- |\n",
    "| Youngs modulus | 200 MPa | 400 MPa | 200 MPa |\n",
    "| Area | 0.02 $m^2$ | 0.01 $m^2$ | 0.02 $m^2$ |\n",
    "| Length | 2 m | 2 m |  2 m |\n",
    "\n",
    "__(a)__ Derive the element stiffness matrices as well as the global stiffness matrix.     \n",
    "__(b)__ Compute the distributed load related nodal forces for element 2.  \n",
    "__(c)__ Formulate the finite element equations for this system and use the finite element method to compute the nodal displacements and the direct nodal forces.  \n",
    "__(d)__ To what value should the distributed load $X(x)$ be altered such that element 1 experiences zero strain.\n",
    "\n",
    "![](trussSet_3_distributed_force.png)"
   ]
  },
  {
   "cell_type": "markdown",
   "metadata": {
    "slideshow": {
     "slide_type": "slide"
    }
   },
   "source": [
    "## (a)\n",
    "\n",
    "The individual element stiffness contributions are:  \n",
    "$$ \\begin{bmatrix} K^{(1)} \\end{bmatrix}=\\begin{bmatrix} K^{(3)} \\end{bmatrix}=\\frac{A_1 E_1}{L_1}\\begin{bmatrix} 1 & -1 \\\\ -1 & 1\\end{bmatrix}=\\frac{200\\cdot10^6 \\cdot 0.02}{2}\\begin{bmatrix} 1 & -1 \\\\ -1 & 1\\end{bmatrix}=1\\cdot10^6\\begin{bmatrix} 2 & -2 \\\\ -2 & 2\\end{bmatrix}$$ \n",
    "\n",
    "$$ \\begin{bmatrix} K^{(2)} \\end{bmatrix}=\\frac{A_2 E_2}{L_2}\\begin{bmatrix} 1 & -1 \\\\ -1 & 1\\end{bmatrix}=\\frac{400\\cdot10^6 \\cdot 0.01}{2}\\begin{bmatrix} 1 & -1 \\\\ -1 & 1\\end{bmatrix}=\\begin{bmatrix} 2 & -2 \\\\ -2 & 2\\end{bmatrix}$$ \n",
    "\n",
    "Superposition provides the global stiffness matrix:   \n",
    "$$\\begin{bmatrix} \\mathbf{K} \\end{bmatrix}=1\\cdot10^6\\begin{bmatrix} 2 & -2  &     0 &     0 \n",
    "                                                       \\\\ -2 &  4  & -2 &     0 \n",
    "                                                       \\\\    0  &  -2 &  4 & -2\n",
    "                                                       \\\\    0  &   0    & -2 &  2\n",
    "                                                       \\end{bmatrix}$$\n",
    "\n"
   ]
  },
  {
   "cell_type": "code",
   "execution_count": 1,
   "metadata": {
    "slideshow": {
     "slide_type": "fragment"
    }
   },
   "outputs": [
    {
     "name": "stdout",
     "output_type": "stream",
     "text": [
      "K1 =\n",
      "\n",
      "   2000000  -2000000\n",
      "  -2000000   2000000\n",
      "\n",
      "K2 =\n",
      "\n",
      "   2000000  -2000000\n",
      "  -2000000   2000000\n",
      "\n",
      "K3 =\n",
      "\n",
      "   2000000  -2000000\n",
      "  -2000000   2000000\n",
      "\n",
      "K =\n",
      "\n",
      "   2000000  -2000000         0         0\n",
      "  -2000000   4000000  -2000000         0\n",
      "         0  -2000000   4000000  -2000000\n",
      "         0         0  -2000000   2000000\n",
      "\n"
     ]
    }
   ],
   "source": [
    "% Numerical check\n",
    "E1=200e6; E2=2*E1; E3=E1; \n",
    "A1=0.02; A2=0.01; A3=A1;\n",
    "L1=2; L2=2; L3=2;\n",
    "P=-1000;\n",
    "\n",
    "I=[1 -1; -1 1];\n",
    "K1=(A1*E1)/L1*I\n",
    "K2=(A2*E2)/L2*I\n",
    "K3=(A3*E3)/L3*I\n",
    "K=zeros(4,4);\n",
    "K(1:2,1:2)=K(1:2,1:2)+K1;\n",
    "K(2:3,2:3)=K(2:3,2:3)+K2;\n",
    "K(3:4,3:4)=K(3:4,3:4)+K3"
   ]
  },
  {
   "cell_type": "markdown",
   "metadata": {
    "slideshow": {
     "slide_type": "slide"
    }
   },
   "source": [
    "## (b)\n",
    "\n",
    "$${F_{dist}}^{(2-3)}=\\frac{A_2 X L_2}{2} \\begin{bmatrix} 1 \\\\ 1 \\end{bmatrix}=\\frac{0.01 \\cdot 5000 \\cdot 2}{2} \\begin{bmatrix} 1 \\\\ 1 \\end{bmatrix}=\\begin{bmatrix} 50 \\\\ 50 \\end{bmatrix}$$"
   ]
  },
  {
   "cell_type": "code",
   "execution_count": 2,
   "metadata": {
    "slideshow": {
     "slide_type": "fragment"
    }
   },
   "outputs": [
    {
     "name": "stdout",
     "output_type": "stream",
     "text": [
      "F_dist23 =\r\n",
      "\r\n",
      "   50\r\n",
      "   50\r\n",
      "\r\n"
     ]
    }
   ],
   "source": [
    "% Numerical check\n",
    "X=5000;\n",
    "F_dist23=(A2*X*L2)/2*[1 1]'"
   ]
  },
  {
   "cell_type": "markdown",
   "metadata": {
    "slideshow": {
     "slide_type": "slide"
    }
   },
   "source": [
    "## (c)\n",
    "\n",
    "The total system of equations is written as: \n",
    "\n",
    "$$\\begin{Bmatrix} F \\end{Bmatrix}+\\begin{Bmatrix} F \\end{Bmatrix}^{dist}=\\begin{bmatrix} K \\end{bmatrix}\\begin{Bmatrix} u \\end{Bmatrix}$$   \n",
    "\n",
    "\n",
    "$$\\begin{Bmatrix} F_1 \\\\ -1000 \\\\ 0 \\\\ F_4 \\end{Bmatrix}+\\begin{Bmatrix} 0 \\\\ 50 \\\\ 50 \\\\ 0 \\end{Bmatrix}=1\\cdot10^6\\begin{bmatrix} 2 & -2  &     0 &     0 \\\\ -2 &  4  & -2 &     0 \\\\    0  &  -2 &  4 & -2 \\\\    0  &   0    & -2 &  2 \\end{bmatrix}\\begin{Bmatrix} 0 \\\\ u_2 \\\\ u_3 \\\\ 0\\end{Bmatrix}$$   \n",
    "\n",
    "Leading to the following equations for $u_2$ and $u_3$: \n",
    "\n",
    "$$(4\\cdot10^6) \\cdot u_2 - (2\\cdot10^6) \\cdot u_3=-950$$\n",
    "$$(-2\\cdot10^6) \\cdot u_2 + (4\\cdot10^6) \\cdot u_3=50$$\n",
    "\n",
    "Adding the bottom equation twice to the top provides: \n",
    "$$(6\\cdot10^6) \\cdot u_3=-850 \\rightarrow u_3=\\frac{-850}{6\\cdot10^6} \\approx -1.41667\\cdot10^{-4}$$\n",
    "\n",
    "Leading to:\n",
    "$$(4\\cdot10^6) \\cdot u_2 - (2\\cdot10^6) \\cdot \\bigg( \\frac{-850}{6\\cdot10^6} \\bigg)=(4\\cdot10^6) \\cdot u_2 +283\\frac{1}{3}=-950$$\n",
    "\n",
    "$$\\rightarrow (4\\cdot10^6) \\cdot u_2 =-950-283\\frac{1}{3}=-1233\\frac{1}{3}$$\n",
    "\n",
    "$$\\rightarrow  u_2 =\\frac{-1233\\frac{1}{3}}{4\\cdot10^6}  \\approx -3.0833\\cdot10^{-4}$$\n"
   ]
  },
  {
   "cell_type": "markdown",
   "metadata": {
    "slideshow": {
     "slide_type": "slide"
    }
   },
   "source": [
    "Allowing for the computational of the direct forces: \n",
    "\n",
    "$$\\begin{Bmatrix} F_1 \\\\ -1000 \\\\ 0 \\\\ F_4 \\end{Bmatrix}+\\begin{Bmatrix} 0 \\\\ 50 \\\\ 50 \\\\ 0 \\end{Bmatrix}=1\\cdot10^6\\begin{bmatrix} 2 & -2  &     0 &     0 \\\\ -2 &  4  & -2 &     0 \\\\    0  & -2 &  4 & -2 \\\\    0  &   0    & -2 &  2 \\end{bmatrix}\\begin{Bmatrix} 0 \\\\ -3.0833\\cdot10^{-4} \\\\ -1.41667\\cdot10^{-4} \\\\ 0\\end{Bmatrix}=\\begin{Bmatrix} 616\\frac{2}{3} \\\\ -950 \\\\ 50 \\\\ 283\\frac{1}{3} \\end{Bmatrix}= \\begin{Bmatrix} 616\\frac{2}{3} \\\\ -1000 \\\\ 0 \\\\ 283\\frac{1}{3} \\end{Bmatrix}+ \\begin{Bmatrix} 0 \\\\ 50 \\\\ 50 \\\\ 0 \\end{Bmatrix}$$\n"
   ]
  },
  {
   "cell_type": "code",
   "execution_count": 3,
   "metadata": {
    "slideshow": {
     "slide_type": "slide"
    }
   },
   "outputs": [
    {
     "name": "stdout",
     "output_type": "stream",
     "text": [
      "F_dist =\n",
      "\n",
      "    0\n",
      "   50\n",
      "   50\n",
      "    0\n",
      "\n",
      "F_total2 = -950\n",
      "F_total3 =  50\n",
      "u3 = -0.00014167\n",
      "u2 = -0.00030833\n",
      "u =\n",
      "\n",
      "   0.00000000\n",
      "  -0.00030833\n",
      "  -0.00014167\n",
      "   0.00000000\n",
      "\n",
      "F_total =\n",
      "\n",
      "   616.667\n",
      "  -950.000\n",
      "    50.000\n",
      "   283.333\n",
      "\n",
      "F =\n",
      "\n",
      "    616.66667\n",
      "  -1000.00000\n",
      "      0.00000\n",
      "    283.33333\n",
      "\n"
     ]
    }
   ],
   "source": [
    "% Numerical check\n",
    "F_dist=[0; F_dist23; 0] \n",
    "\n",
    "F_total2=[P+F_dist(2)]\n",
    "F_total3=[0+F_dist(3)]\n",
    "\n",
    "u3=(F_total2+2*F_total3)/((2*K(3,3))+K(2,3))\n",
    "u2=( F_total2-(u3*K(2,3)) )/K(2,2)\n",
    "\n",
    "u=[0 u2 u3 0]'\n",
    "F_total=K*u\n",
    "F=F_total-F_dist"
   ]
  },
  {
   "cell_type": "markdown",
   "metadata": {
    "slideshow": {
     "slide_type": "slide"
    }
   },
   "source": [
    "## (d) \n",
    "\n",
    "Zero strain means $u_1=u_2=0$. Next we can look at the equation for the distributed force but leave the distributed force $X$ as an unknown: \n",
    "\n",
    "$${F_{dist}}^{(2-3)}=\\frac{A_2 X L_2}{2} \\begin{bmatrix} 1 \\\\ 1 \\end{bmatrix}=\\begin{bmatrix} \\frac{X}{100} \\\\ \\frac{X}{100} \\end{bmatrix}$$\n",
    "\n",
    "Next the total forces $F^{total}_2$ and $F^{total}_3$ can be expressed:\n",
    "\n",
    "$$F^{total}_2=(4\\cdot10^6) \\cdot u_2 - (2\\cdot10^6) \\cdot u_3=\\frac{X}{100}-1000$$\n",
    "$$F^{total}_3=(-2\\cdot10^6) \\cdot u_2 + (4\\cdot10^6) \\cdot u_3=\\frac{X}{100}$$\n",
    "\n",
    "Adding the bottom equation twice to the top provides: \n",
    "$$(6\\cdot10^6) \\cdot u_3= \\frac{3X}{100}-1000 \\rightarrow u_3=\\frac{\\frac{3X}{100}-1000}{6\\cdot10^6}$$\n"
   ]
  },
  {
   "cell_type": "markdown",
   "metadata": {
    "slideshow": {
     "slide_type": "slide"
    }
   },
   "source": [
    "Next we obtain an expression for $u_2$:\n",
    "$$(4\\cdot10^6) \\cdot u_2 - (2\\cdot10^6) \\cdot \\bigg( \\frac{\\frac{3X}{100}-1000}{6\\cdot10^6} \\bigg)=\\frac{X}{100}-1000$$  \n",
    "\n",
    "Simplification: \n",
    "$$(4\\cdot10^6) \\cdot u_2 - \\frac{1}{3}\\bigg(\\frac{3X}{100}-1000 \\bigg)=\\frac{X}{100}-1000$$\n",
    "\n",
    "Work out multiplication of second term by $\\frac{1}{3}$: \n",
    "$$(4\\cdot10^6) \\cdot u_2 - \\frac{X}{100}+333\\frac{1}{3}=\\frac{X}{100}-1000$$\n",
    "\n",
    "Add $\\frac{X}{100}-333\\frac{1}{3}$: \n",
    "$$(4\\cdot10^6) \\cdot u_2 =\\frac{2X}{100}-1333\\frac{1}{3}$$"
   ]
  },
  {
   "cell_type": "markdown",
   "metadata": {
    "slideshow": {
     "slide_type": "slide"
    }
   },
   "source": [
    "Divide by $4\\cdot10^6$ to obtain expression for $u_2$ and set to zero: \n",
    "$$u_2 =10^{-6} \\cdot \\bigg( \\frac{X}{200}-333\\frac{1}{3} \\bigg)=0$$\n",
    "\n",
    "Divide by $10^{-6}$: \n",
    "$$\\frac{X}{200}-333\\frac{1}{3}=0$$\n",
    "\n",
    "Add $333\\frac{1}{3}$: \n",
    "$$\\frac{X}{200}=333\\frac{1}{3}$$\n",
    "\n",
    "Solve by multiplying by 200: \n",
    "$$\\rightarrow X=66666 \\frac{2}{3}$$\n"
   ]
  },
  {
   "cell_type": "code",
   "execution_count": 4,
   "metadata": {
    "slideshow": {
     "slide_type": "slide"
    }
   },
   "outputs": [
    {
     "name": "stdout",
     "output_type": "stream",
     "text": [
      "X =  66666.66667\n",
      "F_dist =\n",
      "\n",
      "     0.00000\n",
      "   666.66667\n",
      "   666.66667\n",
      "     0.00000\n",
      "\n",
      "u3 =  0.00016667\n",
      "u2 =    4.2633e-20\n",
      "u =\n",
      "\n",
      "   0.00000000\n",
      "   0.00000000\n",
      "   0.00016667\n",
      "   0.00000000\n",
      "\n",
      "F_total =\n",
      "\n",
      "  -8.5265e-14\n",
      "  -3.3333e+02\n",
      "   6.6667e+02\n",
      "  -3.3333e+02\n",
      "\n",
      "F =\n",
      "\n",
      "     -0.00000\n",
      "  -1000.00000\n",
      "      0.00000\n",
      "   -333.33333\n",
      "\n"
     ]
    }
   ],
   "source": [
    "% Numerical check\n",
    "X=-200/3*P\n",
    "F_dist23=[X/100 X/100]';\n",
    "F_dist=[0; F_dist23; 0]\n",
    "\n",
    "F_total2=[P+F_dist(2)];\n",
    "F_total3=[0+F_dist(3)];\n",
    "u3=(F_total2+2*F_total3)/((2*K(3,3))+K(2,3))\n",
    "u2=( F_total2-(u3*K(2,3)) )/K(2,2)\n",
    "\n",
    "u=[0 u2 u3 0]'\n",
    "F_total=K*u\n",
    "F=F_total-F_dist"
   ]
  }
 ],
 "metadata": {
  "@webio": {
   "lastCommId": null,
   "lastKernelId": null
  },
  "celltoolbar": "Slideshow",
  "kernelspec": {
   "display_name": "Octave",
   "language": "octave",
   "name": "octave"
  },
  "language_info": {
   "file_extension": ".m",
   "help_links": [
    {
     "text": "GNU Octave",
     "url": "https://www.gnu.org/software/octave/support.html"
    },
    {
     "text": "Octave Kernel",
     "url": "https://github.com/Calysto/octave_kernel"
    },
    {
     "text": "MetaKernel Magics",
     "url": "https://metakernel.readthedocs.io/en/latest/source/README.html"
    }
   ],
   "mimetype": "text/x-octave",
   "name": "octave",
   "version": "5.2.0"
  },
  "rise": {
   "enable_chalkboard": true
  }
 },
 "nbformat": 4,
 "nbformat_minor": 2
}
