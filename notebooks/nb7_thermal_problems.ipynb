{
 "cells": [
  {
   "cell_type": "markdown",
   "metadata": {
    "slideshow": {
     "slide_type": "slide"
    }
   },
   "source": [
    "  \n",
    "[**Dr. Kevin M. Moerman**](mailto:kevin.moerman@nuigalway.ie), _Lecturer in Biomedical Engineering_   \n",
    "\n",
    "National University of Ireland Galway.   \n",
    "\n",
    "---"
   ]
  },
  {
   "cell_type": "markdown",
   "metadata": {
    "slideshow": {
     "slide_type": "skip"
    }
   },
   "source": [
    "\\newpage"
   ]
  },
  {
   "cell_type": "markdown",
   "metadata": {
    "slideshow": {
     "slide_type": "slide"
    }
   },
   "source": [
    "# Learning objectives\n",
    "At the end of this lecture you should be able to:   \n",
    "\n",
    "* Derive the finite element equations for thermal problems on 1D linear elastic trusses\n",
    "* Solve basic thermal problems for linear elastic trusses\n"
   ]
  },
  {
   "cell_type": "markdown",
   "metadata": {
    "slideshow": {
     "slide_type": "slide"
    }
   },
   "source": [
    "# The truss element (mechanical loads)\n",
    "![spring](truss1.png)  \n",
    "\n",
    "* Behaviour Hooke's law for a bar:    \n",
    "$$\\begin{Bmatrix} \\sigma \\end{Bmatrix}=E \\begin{Bmatrix}\\epsilon\\end{Bmatrix}$$     \n",
    "$$\\begin{Bmatrix} f_{1} \\\\ f_{2} \\end{Bmatrix}=\\frac{AE}{L}\\begin{bmatrix} 1 & -1 \\\\ -1 & 1\\end{bmatrix}\\begin{Bmatrix} u_1 \\\\ u_2\\end{Bmatrix}$$   \n",
    "\n",
    "* Truss (or bar) is a 1D element but has a **cross-sectional area** $A$    \n",
    "\n",
    "* **strain** a relative metric for deformation: \n",
    "$$\\begin{Bmatrix} \\varepsilon \\end{Bmatrix}= \\begin{bmatrix} B \\end{bmatrix}\\begin{Bmatrix} u \\end{Bmatrix}$$  \n"
   ]
  },
  {
   "cell_type": "markdown",
   "metadata": {
    "slideshow": {
     "slide_type": "slide"
    }
   },
   "source": [
    "# The truss element (thermal loads)\n",
    "\n",
    "## Adding termal strain\n",
    "![spring](truss1.png)   \n",
    "\n",
    "Define a total strain $\\varepsilon_{tot}$  and split into a thermal $\\begin{Bmatrix}\\varepsilon_{0}\\end{Bmatrix}$ and mechanical (elastic) strain $\\begin{Bmatrix}\\varepsilon_{e}\\end{Bmatrix}$: \n",
    "$$\\begin{Bmatrix}\\varepsilon_{tot}\\end{Bmatrix}=\\begin{Bmatrix}\\varepsilon_e\\end{Bmatrix}+\\begin{Bmatrix}\\varepsilon_0\\end{Bmatrix}$$\n",
    "$$\\begin{Bmatrix}\\varepsilon_e\\end{Bmatrix}=\\begin{Bmatrix}\\varepsilon_{tot}\\end{Bmatrix}-\\begin{Bmatrix}\\varepsilon_{0}\\end{Bmatrix}$$    \n",
    "and \n",
    "$$\\begin{Bmatrix}\\varepsilon_{0}\\end{Bmatrix}=\\alpha \\Delta T \\rightarrow \\begin{Bmatrix}\\varepsilon_{tot}\\end{Bmatrix}=\\frac{\\begin{Bmatrix}\\sigma\\end{Bmatrix}}{E}+\\alpha \\Delta T=\\begin{bmatrix} B \\end{bmatrix}\\begin{Bmatrix} u \\end{Bmatrix}$$\n",
    "$\\alpha$: Thermal expansion coefficient   \n",
    "$\\Delta T$: Temperature change"
   ]
  },
  {
   "cell_type": "markdown",
   "metadata": {
    "slideshow": {
     "slide_type": "slide"
    }
   },
   "source": [
    "## Developing the finite element equations\n",
    "Using the variational principle, the potential energy of a system can be expressed as:\n",
    "$$\\Pi=\\Lambda-W$$\n",
    "$\\Pi$ : Potential energy of the system   \n",
    "$\\Lambda$ : The sum of internal strain energy   \n",
    "$W$ : Work done by external forces\n"
   ]
  },
  {
   "cell_type": "markdown",
   "metadata": {
    "slideshow": {
     "slide_type": "slide"
    }
   },
   "source": [
    "Recall that the strain energy is derived through integration over the volume but this time features $\\begin{Bmatrix}\\varepsilon_e\\end{Bmatrix}$ instead of $\\begin{Bmatrix}\\varepsilon\\end{Bmatrix}$:   \n",
    "$$\\Lambda=\\int_V \\frac{\\begin{Bmatrix}\\sigma\\end{Bmatrix} \\begin{Bmatrix}\\varepsilon_e\\end{Bmatrix}}{2} dV$$\n",
    "Which using\n",
    "$$\\begin{Bmatrix} \\sigma \\end{Bmatrix}=E \\begin{Bmatrix}\\varepsilon_e\\end{Bmatrix}$$\n",
    "Leads to\n",
    "$$\\Lambda=\\int_V \\frac{E\\begin{Bmatrix}\\varepsilon_e\\end{Bmatrix}^{\\top} \\begin{Bmatrix}\\varepsilon_e\\end{Bmatrix}}{2} dV$$"
   ]
  },
  {
   "cell_type": "markdown",
   "metadata": {
    "slideshow": {
     "slide_type": "slide"
    }
   },
   "source": [
    "$$\\Lambda=\\int_V \\frac{E\\begin{Bmatrix}\\varepsilon_e\\end{Bmatrix}^{\\top} \\begin{Bmatrix}\\varepsilon_e\\end{Bmatrix}}{2} dV$$   \n",
    "\n",
    "First we will split this equation up and use $\\begin{Bmatrix}\\varepsilon_e\\end{Bmatrix}=\\begin{Bmatrix}\\varepsilon_{tot}\\end{Bmatrix}-\\begin{Bmatrix}\\varepsilon_{0}\\end{Bmatrix}$ to note that:\n",
    "$$\\frac{\\varepsilon_{e}^2}{2}=\\frac{(\\varepsilon_{tot}-\\varepsilon_{0})^2}{2}=\\frac{\\varepsilon_{tot}^2}{2}-\\varepsilon_{0}\\varepsilon_{tot}+\\frac{\\varepsilon_{0}^2}{2}$$  \n",
    "Or for matrices: \n",
    "$$\\frac{\\begin{Bmatrix}\\varepsilon_{e}\\end{Bmatrix}^{\\top} \\begin{Bmatrix}\\varepsilon_{e}\\end{Bmatrix}}{2} =\\frac{\\begin{Bmatrix}\\varepsilon_{tot}\\end{Bmatrix}^{\\top} \\begin{Bmatrix}\\varepsilon_{tot}\\end{Bmatrix}}{2}-\\begin{Bmatrix}\\varepsilon_{tot}\\end{Bmatrix}^{\\top} \\begin{Bmatrix}\\varepsilon_{0}\\end{Bmatrix}+\\frac{\\begin{Bmatrix}\\varepsilon_{0}\\end{Bmatrix}^{\\top} \\begin{Bmatrix}\\varepsilon_{0}\\end{Bmatrix}}{2}$$\n",
    "Leading to: \n",
    "$$\\Lambda=\\int_V \\frac{E\\begin{Bmatrix}\\varepsilon_{tot}\\end{Bmatrix}^{\\top} \\begin{Bmatrix}\\varepsilon_{tot}\\end{Bmatrix}}{2} dV-\\int_V E\\begin{Bmatrix}\\varepsilon_{tot}\\end{Bmatrix}^{\\top} \\begin{Bmatrix}\\varepsilon_{0}\\end{Bmatrix} dV + \\int_V \\frac{E\\begin{Bmatrix}\\varepsilon_{0}\\end{Bmatrix}^{\\top} \\begin{Bmatrix}\\varepsilon_{0}\\end{Bmatrix}}{2} dV=a-b+c$$ \n",
    "\n"
   ]
  },
  {
   "cell_type": "markdown",
   "metadata": {
    "slideshow": {
     "slide_type": "slide"
    }
   },
   "source": [
    "Using $\\begin{Bmatrix}\\varepsilon_{tot}\\end{Bmatrix}=\\begin{bmatrix} B \\end{bmatrix}\\begin{Bmatrix} u \\end{Bmatrix}$, and $\\big(\\begin{bmatrix} B \\end{bmatrix}\\begin{Bmatrix} u \\end{Bmatrix}\\big)^{\\top}=\\begin{Bmatrix} u \\end{Bmatrix}^{\\top}\\begin{bmatrix} B \\end{bmatrix}^{\\top}$ we can write: \n",
    "\n",
    "$$a=\\int_V \\frac{E\\begin{Bmatrix}\\varepsilon_{tot}\\end{Bmatrix}^{\\top} \\begin{Bmatrix}\\varepsilon_{tot}\\end{Bmatrix}}{2} dV=\\int_V \\frac{E}{2}\\begin{Bmatrix} u \\end{Bmatrix}^{\\top}\\begin{bmatrix} B \\end{bmatrix}^{\\top} \\begin{bmatrix} B \\end{bmatrix}\\begin{Bmatrix} u \\end{Bmatrix} dV$$ \n",
    "$$ = \\frac{1}{2} \\begin{Bmatrix} u \\end{Bmatrix}^{\\top}  \\int_V E\\begin{bmatrix} B \\end{bmatrix}^{\\top} \\begin{bmatrix} B \\end{bmatrix} dV \\begin{Bmatrix} u \\end{Bmatrix} $$\n",
    "$$ = \\frac{1}{2}\\begin{Bmatrix} u \\end{Bmatrix}^{\\top} \\begin{bmatrix} K \\end{bmatrix} \\begin{Bmatrix} u \\end{Bmatrix} $$\n"
   ]
  },
  {
   "cell_type": "markdown",
   "metadata": {
    "slideshow": {
     "slide_type": "slide"
    }
   },
   "source": [
    "Using $\\begin{Bmatrix}\\varepsilon_{tot}\\end{Bmatrix}=\\begin{bmatrix} B \\end{bmatrix}\\begin{Bmatrix} u \\end{Bmatrix}$, and $\\big(\\begin{bmatrix} B \\end{bmatrix}\\begin{Bmatrix} u \\end{Bmatrix}\\big)^{\\top}=\\begin{Bmatrix} u \\end{Bmatrix}^{\\top}\\begin{bmatrix} B \\end{bmatrix}^{\\top}$ we can write: \n",
    "\n",
    "$$b=\\int_V E\\begin{Bmatrix}\\varepsilon_{tot}\\end{Bmatrix}^{\\top} \\begin{Bmatrix}\\varepsilon_{0}\\end{Bmatrix} dV=\\int_V E \\begin{Bmatrix} u \\end{Bmatrix}^{\\top}\\begin{bmatrix} B \\end{bmatrix}^{\\top} \\begin{Bmatrix}\\varepsilon_{0}\\end{Bmatrix} dV$$\n",
    "$$=\\begin{Bmatrix} u \\end{Bmatrix}^{\\top} \\int_V \\begin{bmatrix} B \\end{bmatrix}^{\\top} E \\begin{Bmatrix}\\varepsilon_{0}\\end{Bmatrix} dV$$"
   ]
  },
  {
   "cell_type": "markdown",
   "metadata": {
    "slideshow": {
     "slide_type": "slide"
    }
   },
   "source": [
    "Leading to: \n",
    "$$\\Lambda=a-b+c=\\frac{1}{2}\\begin{Bmatrix} u \\end{Bmatrix}^{\\top} \\begin{bmatrix} K \\end{bmatrix} \\begin{Bmatrix} u \\end{Bmatrix}-\\begin{Bmatrix} u \\end{Bmatrix}^{\\top}\\int_V \\begin{bmatrix} B \\end{bmatrix}^{\\top} E \\begin{Bmatrix}\\varepsilon_{0}\\end{Bmatrix} dV + \\int_V \\frac{E\\begin{Bmatrix}\\varepsilon_{0}\\end{Bmatrix}^{\\top} \\begin{Bmatrix}\\varepsilon_{0}\\end{Bmatrix}}{2} dV$$ \n",
    "  \n",
    "Next recall solving for: \n",
    "$$\\frac{\\partial\\Pi}{\\partial \\begin{Bmatrix} u \\end{Bmatrix}}=0$$\n",
    "With:\n",
    "$$\\partial\\Pi=\\Lambda-W$$\n",
    "$$W=\\begin{Bmatrix} u \\end{Bmatrix}^\\top\\begin{Bmatrix} F \\end{Bmatrix}$$"
   ]
  },
  {
   "cell_type": "markdown",
   "metadata": {
    "slideshow": {
     "slide_type": "slide"
    }
   },
   "source": [
    "Leading to: \n",
    "$$\\Lambda=a-b+c=\\frac{1}{2}\\begin{Bmatrix} u \\end{Bmatrix}^{\\top} \\begin{bmatrix} K \\end{bmatrix} \\begin{Bmatrix} u \\end{Bmatrix}-\\begin{Bmatrix} u \\end{Bmatrix}^{\\top}\\int_V \\begin{bmatrix} B \\end{bmatrix}^{\\top} E \\begin{Bmatrix}\\varepsilon_{0}\\end{Bmatrix} dV + \\int_V \\frac{E\\begin{Bmatrix}\\varepsilon_{0}\\end{Bmatrix}^{\\top} \\begin{Bmatrix}\\varepsilon_{0}\\end{Bmatrix}}{2} dV$$ \n",
    "  \n",
    "Next recall solving for: \n",
    "$$\\frac{\\partial\\Pi}{\\partial \\begin{Bmatrix} u \\end{Bmatrix}}=0=\\begin{bmatrix} K \\end{bmatrix} \\begin{Bmatrix} u \\end{Bmatrix}- \\int_V \\begin{bmatrix} B \\end{bmatrix}^{\\top} E \\begin{Bmatrix}\\varepsilon_{0}\\end{Bmatrix} dV - \\begin{Bmatrix} F \\end{Bmatrix}$$\n",
    "With:\n",
    "$$\\Pi=\\Lambda-W$$\n",
    "$$W=\\begin{Bmatrix} u \\end{Bmatrix}^\\top \\begin{Bmatrix} F \\end{Bmatrix}$$"
   ]
  },
  {
   "cell_type": "markdown",
   "metadata": {
    "slideshow": {
     "slide_type": "slide"
    }
   },
   "source": [
    "Rearranging $\\frac{\\partial\\Pi}{\\partial \\begin{Bmatrix} u \\end{Bmatrix}}$ gives: \n",
    "\n",
    "$$\\begin{bmatrix} K \\end{bmatrix} \\begin{Bmatrix} u \\end{Bmatrix} = \\int_V \\begin{bmatrix} B \\end{bmatrix}^{\\top} E \\begin{Bmatrix}\\varepsilon_{0}\\end{Bmatrix} dV + \\begin{Bmatrix} F \\end{Bmatrix}$$\n",
    "Next define $\\begin{Bmatrix} F \\end{Bmatrix}^{thermal}$: \n",
    "$$\\begin{Bmatrix} F \\end{Bmatrix}^{thermal} = \\int_V \\begin{bmatrix} B \\end{bmatrix}^{\\top} E \\begin{Bmatrix}\\varepsilon_{0}\\end{Bmatrix} dV$$\n"
   ]
  },
  {
   "cell_type": "markdown",
   "metadata": {
    "slideshow": {
     "slide_type": "slide"
    }
   },
   "source": [
    "Using $\\begin{Bmatrix}\\varepsilon_{0}\\end{Bmatrix}=\\alpha \\Delta T$, $\\begin{bmatrix} B \\end{bmatrix}^\\top =\\begin{bmatrix} -\\frac{1}{L} \\\\ \\frac{1}{L}\\end{bmatrix}$,and $dV=AdX$ we can rewrite $\\begin{Bmatrix} F \\end{Bmatrix}^{thermal}$: \n",
    "\n",
    "$$\\begin{Bmatrix} F \\end{Bmatrix}^{thermal}=\\int_0^L \\begin{bmatrix} -\\frac{1}{L} \\\\ \\frac{1}{L}\\end{bmatrix} E \\alpha \\Delta T A dx $$\n",
    "\n",
    "$$= \\begin{bmatrix} -\\frac{1}{L} \\\\ \\frac{1}{L}\\end{bmatrix} E \\alpha \\Delta T A \\int_0^L dx = \\begin{bmatrix} -\\frac{1}{L} \\\\ \\frac{1}{L}\\end{bmatrix} E \\alpha \\Delta T A L $$\n",
    "\n",
    "$$\\begin{Bmatrix} F \\end{Bmatrix}^{thermal}=E \\alpha \\Delta T A \\begin{bmatrix} -1 \\\\ 1 \\end{bmatrix}  $$\n",
    "\n"
   ]
  },
  {
   "cell_type": "markdown",
   "metadata": {
    "slideshow": {
     "slide_type": "slide"
    }
   },
   "source": [
    "# The truss element (mechanical loads)\n",
    "![spring](truss1.png)  \n",
    "\n",
    "* Behaviour Hooke's law for a bar:    \n",
    "$$\\begin{Bmatrix} \\sigma \\end{Bmatrix}=E \\begin{Bmatrix}\\epsilon\\end{Bmatrix}$$     \n",
    "$$\\begin{Bmatrix} f_{1} \\\\ f_{2} \\end{Bmatrix}=\\frac{AE}{L}\\begin{bmatrix} 1 & -1 \\\\ -1 & 1\\end{bmatrix}\\begin{Bmatrix} u_1 \\\\ u_2\\end{Bmatrix}$$   \n",
    "\n",
    "* Truss (or bar) is a 1D element but has a **cross-sectional area** $A$    \n",
    "\n",
    "* **strain** a relative metric for deformation: \n",
    "$$\\begin{Bmatrix} \\varepsilon \\end{Bmatrix}= \\begin{bmatrix} B \\end{bmatrix}\\begin{Bmatrix} u \\end{Bmatrix}$$  \n"
   ]
  },
  {
   "cell_type": "markdown",
   "metadata": {
    "slideshow": {
     "slide_type": "slide"
    }
   },
   "source": [
    "# The truss element (thermal loads)\n",
    "\n",
    "## Adding termal strain\n",
    "![spring](truss1.png)   \n",
    "\n",
    "$$\\begin{Bmatrix} f_{1} \\\\ f_{2} \\end{Bmatrix}+E \\alpha \\Delta T A \\begin{bmatrix} -1 \\\\ 1 \\end{bmatrix} =\\frac{AE}{L}\\begin{bmatrix} 1 & -1 \\\\ -1 & 1\\end{bmatrix}\\begin{Bmatrix} u_1 \\\\ u_2\\end{Bmatrix}$$  \n",
    "\n",
    "Define a total strain $\\varepsilon_{tot}$  and split into a thermal $\\begin{Bmatrix}\\varepsilon_{0}\\end{Bmatrix}$ and mechanical (elastic) strain $\\begin{Bmatrix}\\varepsilon_{e}\\end{Bmatrix}$: \n",
    "$$\\begin{Bmatrix}\\varepsilon_{tot}\\end{Bmatrix}=\\begin{Bmatrix}\\varepsilon_e\\end{Bmatrix}+\\begin{Bmatrix}\\varepsilon_0\\end{Bmatrix}$$\n",
    "\n",
    "$\\alpha$: Thermal expansion coefficient   \n",
    "$\\Delta T$: Temperature change"
   ]
  },
  {
   "cell_type": "markdown",
   "metadata": {
    "slideshow": {
     "slide_type": "slide"
    }
   },
   "source": [
    "# Example 1: Thermal loads in a contrained set of trusses\n",
    "A 2 truss structure subjected to temperature variations  \n",
    "\n",
    "![](trussSet_2_thermal_1.png)   \n",
    "\n",
    "$$\\begin{Bmatrix} f_{1} \\\\ f_{2} \\end{Bmatrix}+E \\alpha \\Delta T A \\begin{bmatrix} -1 \\\\ 1 \\end{bmatrix} =\\frac{AE}{L}\\begin{bmatrix} 1 & -1 \\\\ -1 & 1\\end{bmatrix}\\begin{Bmatrix} u_1 \\\\ u_2\\end{Bmatrix}$$  \n",
    "\n",
    "$E_1=2000 N/m^2$, $A_1=1 m^2$, $L_1=10 m$, $\\alpha_1=2\\cdot10^{-6} / ^{\\circ}C$  \n",
    "$E_2=2000 N/m^2$, $A_2=0.5 m^2$, $L_2=8 m$, $\\alpha_2=2\\cdot10^{-6} / ^{\\circ}C$   \n",
    "$\\Delta T$: Temperature change\n",
    "\n",
    "Given that the neutral (zero force) temperature is 18 °C, determine the nodal displacements and forces at night and during the day. "
   ]
  },
  {
   "cell_type": "markdown",
   "metadata": {
    "slideshow": {
     "slide_type": "slide"
    }
   },
   "source": [
    "## Compute thermal forces\n",
    "\n",
    "### Day situation\n",
    "During the day $\\Delta T=\\Delta T_{day}=25-18=7$:   \n",
    "\n",
    "$$\\begin{Bmatrix} f_1^{(1)} \\\\ f_2^{(1)}  \\end{Bmatrix}^{thermal} = E_1 \\alpha_1 \\Delta T_{day} A_1 \\begin{bmatrix} -1 \\\\ 1 \\end{bmatrix} = 2000 \\cdot (2\\cdot10^{-6}) \\cdot 7 \\cdot 1 \\begin{bmatrix} -1 \\\\ 1 \\end{bmatrix} = \\begin{Bmatrix} -0.028 \\\\ 0.028 \\end{Bmatrix}$$\n",
    "\n",
    "$$\\begin{Bmatrix} f_2^{(2)} \\\\ f_3^{(2)}  \\end{Bmatrix}^{thermal} = E_2 \\alpha_2 \\Delta T_{day} A_2 \\begin{bmatrix} -1 \\\\ 1 \\end{bmatrix} = 2000 \\cdot (2\\cdot10^{-6}) \\cdot 7 \\cdot 0.5 \\begin{bmatrix} -1 \\\\ 1 \\end{bmatrix} = \\begin{Bmatrix} -0.014 \\\\ 0.014 \\end{Bmatrix}$$\n",
    "\n",
    "Superposition: \n",
    "$$\\begin{Bmatrix} F  \\end{Bmatrix}^{thermal} = \\begin{Bmatrix} -0.028 \\\\ 0.028-0.014 \\\\ 0.014 \\end{Bmatrix}= \\begin{Bmatrix} -0.028 \\\\ 0.014 \\\\ 0.014 \\end{Bmatrix}$$\n"
   ]
  },
  {
   "cell_type": "markdown",
   "metadata": {
    "slideshow": {
     "slide_type": "slide"
    }
   },
   "source": [
    "### Night situation\n",
    "During the night $\\Delta T=\\Delta T_{night}=-2-18=-20$:   \n",
    "\n",
    "$$\\begin{Bmatrix} f_1^{(1)} \\\\ f_2^{(1)}  \\end{Bmatrix}^{thermal} = E_1 \\alpha_1 \\Delta T_{day} A_1 \\begin{bmatrix} -1 \\\\ 1 \\end{bmatrix} = 2000 \\cdot (2\\cdot10^{-6}) \\cdot -20 \\cdot 1 \\begin{bmatrix} -1 \\\\ 1 \\end{bmatrix} = \\begin{Bmatrix} 0.08 \\\\ -0.08 \\end{Bmatrix}$$\n",
    "\n",
    "$$\\begin{Bmatrix} f_2^{(2)} \\\\ f_3^{(2)}  \\end{Bmatrix}^{thermal} = E_2 \\alpha_2 \\Delta T_{day} A_2 \\begin{bmatrix} -1 \\\\ 1 \\end{bmatrix} = 2000 \\cdot (2\\cdot10^{-6}) \\cdot -20 \\cdot 0.5 \\begin{bmatrix} -1 \\\\ 1 \\end{bmatrix} = \\begin{Bmatrix} 0.04 \\\\ -0.04 \\end{Bmatrix}$$\n",
    "\n",
    "Superposition: \n",
    "$$\\begin{Bmatrix} F  \\end{Bmatrix}^{thermal} = \\begin{Bmatrix} 0.08 \\\\ -0.08+0.04 \\\\ -0.04 \\end{Bmatrix}= \\begin{Bmatrix} 0.08 \\\\ -0.04 \\\\ -0.04 \\end{Bmatrix}$$"
   ]
  },
  {
   "cell_type": "code",
   "execution_count": 64,
   "metadata": {
    "slideshow": {
     "slide_type": "skip"
    }
   },
   "outputs": [
    {
     "name": "stdout",
     "output_type": "stream",
     "text": [
      "dT_night = -20\n",
      "f12_day =\n",
      "\n",
      "  -0.028000\n",
      "   0.028000\n",
      "\n",
      "f23_day =\n",
      "\n",
      "  -0.014000\n",
      "   0.014000\n",
      "\n",
      "f12_night =\n",
      "\n",
      "   0.080000\n",
      "  -0.080000\n",
      "\n",
      "f23_night =\n",
      "\n",
      "   0.040000\n",
      "  -0.040000\n",
      "\n"
     ]
    }
   ],
   "source": [
    "E1=2000; A1=1;   L1=10; a1=2e-6;\n",
    "E2=2000; A2=0.5; L2=8;  a2=2e-6;\n",
    "T_neutral=18;\n",
    "T_day=25;\n",
    "T_night=-2;\n",
    "dT_day=T_day-T_neutral;\n",
    "dT_night=T_night-T_neutral\n",
    "f12_day   = E1*a1*dT_day*A1*[-1;1]\n",
    "f23_day   = E2*a2*dT_day*A2*[-1;1]\n",
    "f12_night = E1*a1*dT_night*A1*[-1;1]\n",
    "f23_night = E2*a2*dT_night*A2*[-1;1]"
   ]
  },
  {
   "cell_type": "markdown",
   "metadata": {
    "slideshow": {
     "slide_type": "slide"
    }
   },
   "source": [
    "## Set up element stiffness matrices\n",
    "\n",
    "$$ \\begin{bmatrix} K^{(1)} \\end{bmatrix}=\\frac{A_1 E_1}{L_1}\\begin{bmatrix} 1 & -1 \\\\ -1 & 1\\end{bmatrix}=\\frac{1 \\cdot 2000}{10}\\begin{bmatrix} 1 & -1 \\\\ -1 & 1\\end{bmatrix}=\\begin{bmatrix} 200 & -200 \\\\ -200 & 200\\end{bmatrix}$$  \n",
    "\n",
    "$$ \\begin{bmatrix} K^{(2)} \\end{bmatrix}=\\frac{A_2 E_2}{L_2}\\begin{bmatrix} 1 & -1 \\\\ -1 & 1\\end{bmatrix}=\\frac{0.5 \\cdot 2000}{8}\\begin{bmatrix} 1 & -1 \\\\ -1 & 1\\end{bmatrix}=\\begin{bmatrix} 125 & -125 \\\\ -125 & 125\\end{bmatrix}$$  \n",
    "\n"
   ]
  },
  {
   "cell_type": "code",
   "execution_count": 65,
   "metadata": {
    "slideshow": {
     "slide_type": "slide"
    }
   },
   "outputs": [
    {
     "name": "stdout",
     "output_type": "stream",
     "text": [
      "K1 =\n",
      "\n",
      "   200  -200\n",
      "  -200   200\n",
      "\n",
      "K2 =\n",
      "\n",
      "   125  -125\n",
      "  -125   125\n",
      "\n"
     ]
    }
   ],
   "source": [
    "% Numerical check\n",
    "k1=(A1*E1)./L1;\n",
    "k2=(A2*E2)./L2;\n",
    "Q=[1 -1; -1 1];\n",
    "K1=k1*Q\n",
    "K2=k2*Q"
   ]
  },
  {
   "cell_type": "markdown",
   "metadata": {
    "slideshow": {
     "slide_type": "slide"
    }
   },
   "source": [
    "## Use superposition to assemble total stiffness matrix\n",
    "$$\\begin{bmatrix} K \\end{bmatrix}=\\underbrace{\\begin{bmatrix} 200 & -200 & 0 \\\\ -200 & 200 & 0 \\\\ 0 & 0 & 0\\end{bmatrix}}_{\\begin{bmatrix} K^{(1)} \\end{bmatrix}}+\\underbrace{\\begin{bmatrix} 0 & 0 & 0 \\\\ 0 & 125 & -125 \\\\ 0 & -125 & 125\\end{bmatrix}}_{\\begin{bmatrix} K^{(2)} \\end{bmatrix}}=\\begin{bmatrix} 200 & -200 & 0 \\\\ -200 & 325 & -125 \\\\ 0 & -125 & 125\\end{bmatrix}$$  \n"
   ]
  },
  {
   "cell_type": "code",
   "execution_count": 66,
   "metadata": {
    "slideshow": {
     "slide_type": "slide"
    }
   },
   "outputs": [
    {
     "name": "stdout",
     "output_type": "stream",
     "text": [
      "K =\r\n",
      "\r\n",
      "   200  -200     0\r\n",
      "  -200   325  -125\r\n",
      "     0  -125   125\r\n",
      "\r\n"
     ]
    }
   ],
   "source": [
    "% Numerical check\n",
    "K=zeros(3,3);\n",
    "K(1:2,1:2)=K(1:2,1:2)+K1;\n",
    "K(2:3,2:3)=K(2:3,2:3)+K2"
   ]
  },
  {
   "cell_type": "markdown",
   "metadata": {
    "slideshow": {
     "slide_type": "slide"
    }
   },
   "source": [
    "## Solving for unknown forces and displacements during day\n",
    "\n",
    "$$\\begin{Bmatrix} F \\end{Bmatrix}+\\begin{Bmatrix} F \\end{Bmatrix}^{thermal}=\\begin{bmatrix} K \\end{bmatrix}\\begin{Bmatrix} u \\end{Bmatrix}$$   \n",
    "\n",
    "$$\\begin{Bmatrix} F_1 \\\\ 0 \\\\ F_3 \\end{Bmatrix}+\\begin{Bmatrix} f_1^{(1)} \\\\ f_2^{(1)}+f_2^{(2)} \\\\ f_3^{(2)} \\end{Bmatrix}^{thermal}=\\begin{bmatrix} 200 & -200 & 0 \\\\ -200 & 325 & -125 \\\\ 0 & -125 & 125\\end{bmatrix}\\begin{Bmatrix} 0 \\\\ u_2 \\\\ 0 \\end{Bmatrix}$$  \n",
    "\n",
    "$$\\begin{Bmatrix} F_1 \\\\ 0 \\\\ F_3 \\end{Bmatrix}+\\begin{Bmatrix} -0.028 \\\\ 0.014 \\\\ 0.014 \\end{Bmatrix}=\\begin{bmatrix} 200 & -200 & 0 \\\\ -200 & 325 & -125 \\\\ 0 & -125 & 125\\end{bmatrix}\\begin{Bmatrix} 0 \\\\ u_2 \\\\ 0 \\end{Bmatrix}$$   \n",
    "  \n",
    "$$\\rightarrow 0.014=325*u_2 \\rightarrow u_2=\\frac{0.014}{325}\\approx 4.308\\cdot10^{-5}$$  \n"
   ]
  },
  {
   "cell_type": "code",
   "execution_count": 69,
   "metadata": {
    "slideshow": {
     "slide_type": "slide"
    }
   },
   "outputs": [
    {
     "name": "stdout",
     "output_type": "stream",
     "text": [
      "F_thermal_day =\n",
      "\n",
      "  -0.028000\n",
      "   0.014000\n",
      "   0.014000\n",
      "\n",
      "F2 =  0.014000\n",
      "u2 =  0.000043077\n"
     ]
    }
   ],
   "source": [
    "% Numerical check\n",
    "F_thermal_day=zeros(3,1);\n",
    "F_thermal_day(1:2)=F_thermal_day(1:2)+f12_day;\n",
    "F_thermal_day(2:3)=F_thermal_day(2:3)+f23_day\n",
    "F2=0+F_thermal_day(2)\n",
    "u2=F2./K(2,2)"
   ]
  },
  {
   "cell_type": "markdown",
   "metadata": {
    "slideshow": {
     "slide_type": "slide"
    }
   },
   "source": [
    "$$\\begin{Bmatrix} F_1 \\\\ 0 \\\\ F_3 \\end{Bmatrix}+\\begin{Bmatrix} -0.028 \\\\ 0.014 \\\\ 0.014 \\end{Bmatrix}=\\begin{bmatrix} 200 & -200 & 0 \\\\ -200 & 325 & -125 \\\\ 0 & -125 & 125\\end{bmatrix}\\begin{Bmatrix} 0 \\\\ u_2 \\\\ 0 \\end{Bmatrix}$$   \n",
    "  \n",
    "$$\\rightarrow F_1-0.028=-200*u_2 \\rightarrow F_1=-200 \\cdot \\frac{0.014}{325}+0.028 \\approx 0.01939$$  \n",
    "$$\\rightarrow F_3+0.014=-125*u_2 \\rightarrow F_3=-125 \\cdot \\frac{0.014}{325}-0.014 \\approx -0.01939$$  \n"
   ]
  },
  {
   "cell_type": "code",
   "execution_count": 54,
   "metadata": {
    "slideshow": {
     "slide_type": "slide"
    }
   },
   "outputs": [
    {
     "name": "stdout",
     "output_type": "stream",
     "text": [
      "u =\n",
      "\n",
      "   0.000000000\n",
      "   0.000043077\n",
      "   0.000000000\n",
      "\n",
      "F_total =\n",
      "\n",
      "  -0.0086154\n",
      "   0.0140000\n",
      "  -0.0053846\n",
      "\n",
      "F =\n",
      "\n",
      "   0.019385\n",
      "   0.000000\n",
      "  -0.019385\n",
      "\n"
     ]
    }
   ],
   "source": [
    "u=[0 u2 0]' %Displacements\n",
    "F_total=K*u %Total forces\n",
    "F=F_total-F_thermal_day %Direct forces"
   ]
  },
  {
   "cell_type": "markdown",
   "metadata": {
    "slideshow": {
     "slide_type": "slide"
    }
   },
   "source": [
    "## Solving for unknown forces and displacements during night\n",
    "\n",
    "$$\\begin{Bmatrix} F \\end{Bmatrix}+\\begin{Bmatrix} F \\end{Bmatrix}^{thermal}=\\begin{bmatrix} K \\end{bmatrix}\\begin{Bmatrix} u \\end{Bmatrix}$$   \n",
    "\n",
    "$$\\begin{Bmatrix} F_1 \\\\ 0 \\\\ F_3 \\end{Bmatrix}+\\begin{Bmatrix} f_1^{(1)} \\\\ f_2^{(1)}+f_2^{(2)} \\\\ f_3^{(2)} \\end{Bmatrix}^{thermal}=\\begin{bmatrix} 200 & -200 & 0 \\\\ -200 & 325 & -125 \\\\ 0 & -125 & 125\\end{bmatrix}\\begin{Bmatrix} 0 \\\\ u_2 \\\\ 0 \\end{Bmatrix}$$  \n",
    "\n",
    "$$\\begin{Bmatrix} F_1 \\\\ 0 \\\\ F_3 \\end{Bmatrix}+\\begin{Bmatrix} 0.08 \\\\ -0.04 \\\\ -0.04 \\end{Bmatrix}=\\begin{bmatrix} 200 & -200 & 0 \\\\ -200 & 325 & -125 \\\\ 0 & -125 & 125\\end{bmatrix}\\begin{Bmatrix} 0 \\\\ u_2 \\\\ 0 \\end{Bmatrix}$$   \n",
    "  \n",
    "$$\\rightarrow -0.04=325*u_2 \\rightarrow u_2=\\frac{-0.04}{325}\\approx -12.31\\cdot10^{-5}$$  \n"
   ]
  },
  {
   "cell_type": "code",
   "execution_count": 55,
   "metadata": {
    "slideshow": {
     "slide_type": "slide"
    }
   },
   "outputs": [
    {
     "name": "stdout",
     "output_type": "stream",
     "text": [
      "F_thermal_night =\n",
      "\n",
      "   0.080000\n",
      "  -0.080000\n",
      "   0.000000\n",
      "\n",
      "F_thermal_night =\n",
      "\n",
      "   0.080000\n",
      "  -0.040000\n",
      "  -0.040000\n",
      "\n",
      "F2 = -0.040000\n",
      "u2 = -0.00012308\n"
     ]
    }
   ],
   "source": [
    "% Numerical check\n",
    "F_thermal_night=zeros(3,1);\n",
    "F_thermal_night(1:2)=F_thermal_night(1:2)+f12_night\n",
    "F_thermal_night(2:3)=F_thermal_night(2:3)+f23_night\n",
    "\n",
    "F2=0+F_thermal_night(2)\n",
    "u2=F2./K(2,2)"
   ]
  },
  {
   "cell_type": "markdown",
   "metadata": {
    "slideshow": {
     "slide_type": "slide"
    }
   },
   "source": [
    "$$\\begin{Bmatrix} F_1 \\\\ 0 \\\\ F_3 \\end{Bmatrix}+\\begin{Bmatrix} 0.08 \\\\ -0.04 \\\\ -0.04 \\end{Bmatrix}=\\begin{bmatrix} 200 & -200 & 0 \\\\ -200 & 325 & -125 \\\\ 0 & -125 & 125\\end{bmatrix}\\begin{Bmatrix} 0 \\\\ u_2 \\\\ 0 \\end{Bmatrix}$$   \n",
    "  \n",
    "$$\\rightarrow F_1+0.08=-200*u_2 \\rightarrow F_1=-200 \\cdot \\frac{-0.04}{325}-0.08 \\approx -0.05539$$  \n",
    "$$\\rightarrow F_3-0.04=-125*u_2 \\rightarrow F_1=-125 \\cdot \\frac{-0.04}{325}+0.04 \\approx 0.05539$$  \n"
   ]
  },
  {
   "cell_type": "code",
   "execution_count": 56,
   "metadata": {
    "slideshow": {
     "slide_type": "slide"
    }
   },
   "outputs": [
    {
     "name": "stdout",
     "output_type": "stream",
     "text": [
      "u =\n",
      "\n",
      "   0.00000000\n",
      "  -0.00012308\n",
      "   0.00000000\n",
      "\n",
      "F_total =\n",
      "\n",
      "   0.024615\n",
      "  -0.040000\n",
      "   0.015385\n",
      "\n",
      "F =\n",
      "\n",
      "  -0.055385\n",
      "   0.000000\n",
      "   0.055385\n",
      "\n"
     ]
    }
   ],
   "source": [
    "u=[0 u2 0]' %Displacements\n",
    "F_total=K*u %Total forces\n",
    "F=F_total-F_thermal_night %Direct forces"
   ]
  },
  {
   "cell_type": "markdown",
   "metadata": {
    "slideshow": {
     "slide_type": "slide"
    }
   },
   "source": [
    "# Question 2 thermal loads in a partially constrained set of trusses\n",
    "Consider the two truss system of Figure Q2. Both trusses are linear elastic. The first node is constrained from moving. Node 3 is subjected to a direct nodal force of $P=20$ N (in the x-direction).  Furthermore, the system is heated, from an initial temperature of 18° Celsius, to 100° Celsius. The truss parameters for all elements are given in Table Q2.\n",
    "\n",
    "|   | Element 1 | Element 2 |\n",
    "| ----------- | ----------- | ----------- |\n",
    "| Youngs modulus | 100 MPa | 100 MPa |\n",
    "| Area | 50 $mm^2$ | 25 $mm^2$ |\n",
    "| Length | 250 mm | 200 mm | \n",
    "| Thermal exp. coeff. | 2x$10^{-4}$/° Celsius | 2x$10^{-4}$/° Celsius | \n",
    "\n",
    "__(a)__ The increase in temperature causes thermal expansion and forces to develop in the truss system. Compute the element thermal force arrays as well as the global thermal force array. \n",
    "\n",
    "__(b)__ Derive the element stiffness matrices as well as the global stiffness matrix.\n",
    "\n",
    "__(c)__ Formulate the finite element equations for this system and use the finite element method to compute the nodal displacements and the direct nodal forces.\n",
    "\n",
    "__(d)__ Use the truss shape functions to compute the displacement in truss 1 at x=125 mm, assuming node 1 is at x=0 mm.\n",
    "\n",
    "__(e)__ Use the B-matrix to compute the element strains.\n",
    "\n",
    "![](trussSet_2_thermal_uncontrained.png)   \n"
   ]
  },
  {
   "cell_type": "markdown",
   "metadata": {
    "slideshow": {
     "slide_type": "slide"
    }
   },
   "source": [
    "## Solution (a)\n",
    "\n",
    "Compute the temperature change: \n",
    "$$\\Delta T=100-18=82$$   \n",
    "\n",
    "Compute thermal force contributions:   \n",
    "$$\\begin{Bmatrix} f_1^{(1)} \\\\ f_2^{(1)}  \\end{Bmatrix}^{thermal} = E_1 \\alpha_1 \\Delta T A_1 \\begin{bmatrix} -1 \\\\ 1 \\end{bmatrix} = 100 \\cdot (2\\cdot10^{-4}) \\cdot 82 \\cdot 50 \\begin{bmatrix} -1 \\\\ 1 \\end{bmatrix} = \\begin{Bmatrix} -82 \\\\ 82 \\end{Bmatrix}$$\n",
    "\n",
    "$$\\begin{Bmatrix} f_2^{(2)} \\\\ f_3^{(2)}  \\end{Bmatrix}^{thermal} = E_2 \\alpha_2 \\Delta T A_2 \\begin{bmatrix} -1 \\\\ 1 \\end{bmatrix} = 100 \\cdot (2\\cdot10^{-4}) \\cdot 82 \\cdot 25 \\begin{bmatrix} -1 \\\\ 1 \\end{bmatrix} = \\begin{Bmatrix} -41 \\\\ 41 \\end{Bmatrix}$$\n",
    "\n",
    "Use superposition to get total thermal force contribution: \n",
    "$$\\begin{Bmatrix} F  \\end{Bmatrix}^{thermal} = \\begin{Bmatrix} -82 \\\\ 82-41 \\\\ 41 \\end{Bmatrix}= \\begin{Bmatrix} -82 \\\\ 41 \\\\ 41 \\end{Bmatrix}$$\n"
   ]
  },
  {
   "cell_type": "code",
   "execution_count": 57,
   "metadata": {
    "slideshow": {
     "slide_type": "slide"
    }
   },
   "outputs": [
    {
     "name": "stdout",
     "output_type": "stream",
     "text": [
      "f12 =\n",
      "\n",
      "  -82\n",
      "   82\n",
      "\n",
      "f23 =\n",
      "\n",
      "  -41\n",
      "   41\n",
      "\n",
      "F_th =\n",
      "\n",
      "  -82\n",
      "   41\n",
      "   41\n",
      "\n"
     ]
    }
   ],
   "source": [
    "% Numerical check\n",
    "E1=100; A1=50; L1=250; a1=2e-4;\n",
    "E2=100; A2=25; L2=200; a2=2e-4;\n",
    "T_neutral=18; T=100; dT=T-T_neutral;\n",
    "\n",
    "f12 = E1*a1*dT*A1*[-1;1]\n",
    "f23 = E2*a2*dT*A2*[-1;1]\n",
    "\n",
    "F_th=zeros(3,1);\n",
    "F_th(1:2)=f12+F_th(1:2);\n",
    "F_th(2:3)=f23+F_th(2:3)"
   ]
  },
  {
   "cell_type": "markdown",
   "metadata": {
    "slideshow": {
     "slide_type": "slide"
    }
   },
   "source": [
    "## Solution (b)\n",
    "\n",
    "Set up element stiffness matrices\n",
    "\n",
    "$$ \\begin{bmatrix} K^{(1)} \\end{bmatrix}=\\frac{A_1 E_1}{L_1}\\begin{bmatrix} 1 & -1 \\\\ -1 & 1\\end{bmatrix}=\\frac{50 \\cdot 100}{250}\\begin{bmatrix} 1 & -1 \\\\ -1 & 1\\end{bmatrix}=\\begin{bmatrix} 20 & -20 \\\\ -20 & 20\\end{bmatrix}$$  \n",
    "\n",
    "$$ \\begin{bmatrix} K^{(2)} \\end{bmatrix}=\\frac{A_2 E_2}{L_2}\\begin{bmatrix} 1 & -1 \\\\ -1 & 1\\end{bmatrix}=\\frac{25 \\cdot 100}{200}\\begin{bmatrix} 1 & -1 \\\\ -1 & 1\\end{bmatrix}=\\begin{bmatrix} 12.5 & -12.5 \\\\ -12.5 & 12.5\\end{bmatrix}$$  \n",
    "\n",
    "Use superposition to assemble total stiffness matrix\n",
    "$$\\begin{bmatrix} K \\end{bmatrix}=\\underbrace{\\begin{bmatrix} 20 & -20 & 0 \\\\ -20 & 20 & 0 \\\\ 0 & 0 & 0\\end{bmatrix}}_{\\begin{bmatrix} K^{(1)} \\end{bmatrix}}+\\underbrace{\\begin{bmatrix} 0 & 0 & 0 \\\\ 0 & 12.5 & -12.5 \\\\ 0 & -12.5 & 12.5\\end{bmatrix}}_{\\begin{bmatrix} K^{(2)} \\end{bmatrix}}=\\begin{bmatrix} 20 & -20 & 0 \\\\ -20 & 32.5 & -12.5 \\\\ 0 & -12.5 & 12.5\\end{bmatrix}$$  "
   ]
  },
  {
   "cell_type": "code",
   "execution_count": 58,
   "metadata": {
    "slideshow": {
     "slide_type": "slide"
    }
   },
   "outputs": [
    {
     "name": "stdout",
     "output_type": "stream",
     "text": [
      "K1 =\n",
      "\n",
      "   20  -20\n",
      "  -20   20\n",
      "\n",
      "K2 =\n",
      "\n",
      "   12.500  -12.500\n",
      "  -12.500   12.500\n",
      "\n",
      "K =\n",
      "\n",
      "   20.00000  -20.00000    0.00000\n",
      "  -20.00000   32.50000  -12.50000\n",
      "    0.00000  -12.50000   12.50000\n",
      "\n"
     ]
    }
   ],
   "source": [
    "% Numerical check\n",
    "K1=(A1*E1)/L1*[1 -1; -1 1]\n",
    "K2=(A2*E2)/L2*[1 -1; -1 1]\n",
    "K=zeros(3,3);\n",
    "K(1:2,1:2)=K(1:2,1:2)+K1;\n",
    "K(2:3,2:3)=K(2:3,2:3)+K2"
   ]
  },
  {
   "cell_type": "markdown",
   "metadata": {
    "slideshow": {
     "slide_type": "slide"
    }
   },
   "source": [
    "## Solution (c)\n",
    "\n",
    "The total system of equations is written as: \n",
    "\n",
    "$$\\begin{Bmatrix} F \\end{Bmatrix}+\\begin{Bmatrix} F \\end{Bmatrix}^{thermal}=\\begin{bmatrix} K \\end{bmatrix}\\begin{Bmatrix} u \\end{Bmatrix}$$   \n",
    "\n",
    "Leading to: \n",
    "\n",
    "$$\\begin{Bmatrix} F_1 \\\\ 0 \\\\ 20 \\end{Bmatrix}+\\begin{Bmatrix} -82 \\\\ 41 \\\\ 41 \\end{Bmatrix}=\\begin{bmatrix} 20 & -20 & 0 \\\\ -20 & 32.5 & -12.5 \\\\ 0 & -12.5 & 12.5\\end{bmatrix}\\begin{Bmatrix} 0 \\\\ u_2 \\\\ u_3 \\end{Bmatrix}$$  \n",
    "\n",
    "Providing the following equations:\n",
    "$$ \\rightarrow 32.5 \\cdot u_2-12.5 \\cdot u_3 =41 $$  \n",
    "$$ \\rightarrow -12.5 \\cdot u_2+12.5 \\cdot u_3 =61 $$  \n"
   ]
  },
  {
   "cell_type": "markdown",
   "metadata": {
    "slideshow": {
     "slide_type": "slide"
    }
   },
   "source": [
    "Leading to: \n",
    "$$ \\rightarrow 20 \\cdot u_2=102 $$  \n",
    "$$ \\rightarrow u_2=\\frac{102}{20}=\\frac{51}{10}=5.1 $$ \n",
    "\n",
    "And therefore: \n",
    "$$ \\rightarrow 32.5 \\cdot u_2-12.5 \\cdot u_3 =41 $$  \n",
    "$$ \\rightarrow 32.5 \\cdot 5.1-12.5 \\cdot u_3 =41 $$  \n",
    "$$ \\rightarrow -12.5 \\cdot u_3 =41-165.75=-124.75 $$  \n",
    "$$ \\rightarrow u_3 =\\frac{-124.75}{-12.5}=9.98 $$  "
   ]
  },
  {
   "cell_type": "markdown",
   "metadata": {
    "slideshow": {
     "slide_type": "slide"
    }
   },
   "source": [
    "Leading to: \n",
    "$$\\begin{Bmatrix} F_1 \\\\ 0 \\\\ 20 \\end{Bmatrix}+\\begin{Bmatrix} -82 \\\\ 41 \\\\ 41 \\end{Bmatrix}=\\begin{bmatrix} 20 & -20 & 0 \\\\ -20 & 32.5 & -12.5 \\\\ 0 & -12.5 & 12.5\\end{bmatrix}\\begin{Bmatrix} 0 \\\\ 5.1 \\\\ 9.98 \\end{Bmatrix}=\\begin{Bmatrix} -102 \\\\ 41 \\\\ 61 \\end{Bmatrix}$$ \n",
    "\n",
    "And therefore $F_1=-20$ since: \n",
    "$$\\begin{Bmatrix} F_1 \\\\ 0 \\\\ 20 \\end{Bmatrix}+\\begin{Bmatrix} -82 \\\\ 41 \\\\ 41 \\end{Bmatrix}=\\begin{Bmatrix} -102 \\\\ 41 \\\\ 61 \\end{Bmatrix}=\\begin{Bmatrix} -20 \\\\ 0 \\\\ 20 \\end{Bmatrix}+\\begin{Bmatrix} -82 \\\\ 41 \\\\ 41 \\end{Bmatrix}$$"
   ]
  },
  {
   "cell_type": "code",
   "execution_count": 59,
   "metadata": {
    "slideshow": {
     "slide_type": "slide"
    }
   },
   "outputs": [
    {
     "name": "stdout",
     "output_type": "stream",
     "text": [
      "u2 =  5.1000\n",
      "u3 =  9.9800\n",
      "u =\n",
      "\n",
      "   0.00000\n",
      "   5.10000\n",
      "   9.98000\n",
      "\n",
      "F_tot =\n",
      "\n",
      "  -102.000\n",
      "    41.000\n",
      "    61.000\n",
      "\n",
      "F1 = -20\n"
     ]
    }
   ],
   "source": [
    "% Numerical check\n",
    "F2=0; %Force in middle node is zero\n",
    "F3=20; %The applied force to node 3\n",
    "u2=((F2+F_th(2))+(F3+F_th(3)))/(K(2,2)+K(3,2)) %Displacement u2\n",
    "u3=((F2+F_th(2))-(K(2,2).*u2))./K(2,3) %Displacement u3\n",
    "\n",
    "u=[0 u2 u3]' %Displacements\n",
    "F_tot=K*u %Compute total force\n",
    "F1=F_tot(1,1)-F_th(1,1) %get F1"
   ]
  },
  {
   "cell_type": "markdown",
   "metadata": {
    "slideshow": {
     "slide_type": "slide"
    }
   },
   "source": [
    "## Solution (d)\n",
    "\n",
    "The coordinate $x=125$ mm is in element 1 (in fact it is in the middle). The truss shape functions for this element can be expressed as: \n",
    "$$\\begin{bmatrix} \\mathbf{N}^{(1)} \\end{bmatrix}=\\begin{bmatrix} 1-\\frac{x}{L_1} & \\frac{x}{L_1}\\end{bmatrix}=\\begin{bmatrix} 1-\\frac{125}{250} & \\frac{125}{250}\\end{bmatrix}$$\n",
    "Shape function based displacement interpolation is written as: \n",
    "$$u(x)=\\begin{bmatrix} \\mathbf{N} \\end{bmatrix} \\begin{Bmatrix} \\mathbf{u} \\end{Bmatrix}=\\begin{bmatrix} 0.5 & 0.5 \\end{bmatrix} \\begin{Bmatrix} 0 \\\\ 5.1 \\end{Bmatrix}=2.55$$"
   ]
  },
  {
   "cell_type": "code",
   "execution_count": 60,
   "metadata": {
    "slideshow": {
     "slide_type": "slide"
    }
   },
   "outputs": [
    {
     "name": "stdout",
     "output_type": "stream",
     "text": [
      "N =\n",
      "\n",
      "   0.50000   0.50000\n",
      "\n",
      "u =\n",
      "\n",
      "   0.00000\n",
      "   5.10000\n",
      "   9.98000\n",
      "\n",
      "ux =  2.5500\n"
     ]
    }
   ],
   "source": [
    "% Numerical check\n",
    "x=125; %X-coordinate for interpolation\n",
    "N=[1-x/L1 x/L1] %Shape function metrics\n",
    "u %Displacement vector\n",
    "ux=N*u([1 2]) %Interpolated displacement"
   ]
  },
  {
   "cell_type": "markdown",
   "metadata": {
    "slideshow": {
     "slide_type": "slide"
    }
   },
   "source": [
    "## Solution (e)\n",
    "\n",
    "The $\\begin{bmatrix} \\mathbf{B} \\end{bmatrix}$ matrix is expressed as: \n",
    "\n",
    "$$\\begin{bmatrix} \\mathbf{B} \\end{bmatrix}=\\begin{bmatrix} -\\frac{1}{L} & \\frac{1}{L} \\end{bmatrix} $$\n",
    "\n",
    "and the strain can be computed from; \n",
    "$$\\varepsilon^{(i)}=\\begin{bmatrix} B \\end{bmatrix}^{(i)} \\begin{Bmatrix} \\mathbf{u} \\end{Bmatrix}^{(i)}$$\n",
    "\n",
    "For element 1 we have: \n",
    "$$\\varepsilon^{(1)}=\\begin{bmatrix} -\\frac{1}{250} & \\frac{1}{250} \\end{bmatrix} \\begin{Bmatrix} 0 \\\\ 5.1 \\end{Bmatrix}=0.0204$$\n",
    "\n",
    "For element 2 we have: \n",
    "$$\\varepsilon^{(2)}=\\begin{bmatrix} -\\frac{1}{200} & \\frac{1}{200} \\end{bmatrix} \\begin{Bmatrix} 5.1 \\\\ 9.98\\end{Bmatrix}=0.0244$$"
   ]
  },
  {
   "cell_type": "code",
   "execution_count": 61,
   "metadata": {
    "slideshow": {
     "slide_type": "slide"
    }
   },
   "outputs": [
    {
     "name": "stdout",
     "output_type": "stream",
     "text": [
      "eps_1 =  0.020400\n",
      "eps_2 =  0.024400\n"
     ]
    }
   ],
   "source": [
    "% Numerical check\n",
    "B1=[-1/L1 1/L1];\n",
    "u_e1=u([1 2]);\n",
    "eps_1=B1*u_e1\n",
    "\n",
    "B2=[-1/L2 1/L2];\n",
    "u_e2=u([2 3]);\n",
    "eps_2=B2*u_e2"
   ]
  },
  {
   "cell_type": "markdown",
   "metadata": {
    "slideshow": {
     "slide_type": "slide"
    }
   },
   "source": [
    "# Summary\n",
    "\n",
    "* To allow for thermal strains the total strain $\\begin{Bmatrix}\\varepsilon\\end{Bmatrix}$ is decomposed into the elastic strain $\\begin{Bmatrix}\\varepsilon_e\\end{Bmatrix}$ and the termal strain $\\begin{Bmatrix}\\varepsilon_0\\end{Bmatrix}$:\n",
    "$$\\begin{Bmatrix}\\varepsilon_{tot}\\end{Bmatrix}=\\begin{Bmatrix}\\varepsilon_e\\end{Bmatrix}+\\begin{Bmatrix}\\varepsilon_0\\end{Bmatrix}$$\n",
    "$$\\begin{Bmatrix}\\varepsilon_e\\end{Bmatrix}=\\begin{Bmatrix}\\varepsilon_{tot}\\end{Bmatrix}-\\begin{Bmatrix}\\varepsilon_{0}\\end{Bmatrix}$$    \n",
    "  \n",
    "  \n",
    "* The truss equations featuring thermal effects were developed as:  \n",
    "$$\\begin{Bmatrix} f_{1} \\\\ f_{2} \\end{Bmatrix}+E \\alpha \\Delta T A \\begin{bmatrix} -1 \\\\ 1 \\end{bmatrix} =\\frac{AE}{L}\\begin{bmatrix} 1 & -1 \\\\ -1 & 1\\end{bmatrix}\\begin{Bmatrix} u_1 \\\\ u_2\\end{Bmatrix}$$  \n",
    "\n",
    "With:  \n",
    " \n",
    "$\\alpha$: Thermal expansion coefficient   \n",
    "$\\Delta T$: Temperature change\n"
   ]
  },
  {
   "cell_type": "markdown",
   "metadata": {
    "slideshow": {
     "slide_type": "skip"
    }
   },
   "source": [
    "\\newpage"
   ]
  },
  {
   "cell_type": "markdown",
   "metadata": {
    "slideshow": {
     "slide_type": "skip"
    }
   },
   "source": [
    "**About this document**    \n",
    "\n",
    "This document was created using a [Jupyter notebook](https://jupyter.org/) which allows for the presentation of theory and equations, as well as live (running code) numerical implementations. \n",
    "\n",
    "This Jupyter notebook is available [open source](https://github.com/Kevin-Mattheus-Moerman/NUIG_BME_402_6101) and features the [Octave](https://www.gnu.org/software/octave/index) programming language (an open source alternative to MATLAB). If you are interested in running this Jupyter notebook yourself [download and install Octave](https://www.gnu.org/software/octave/download) and install [the Jupyter environment](https://jupyter.org/install). Once both Jupyter and Octave are installed follow [these instructions](https://github.com/calysto/octave_kernel) to configure the use of Octave with Jupyter notebooks. \n",
    "\n",
    "To run Jupyter call `jupyter notebook` from your Terminal/Command Prompt. "
   ]
  }
 ],
 "metadata": {
  "@webio": {
   "lastCommId": null,
   "lastKernelId": null
  },
  "celltoolbar": "Slideshow",
  "kernelspec": {
   "display_name": "Octave",
   "language": "octave",
   "name": "octave"
  },
  "language_info": {
   "file_extension": ".m",
   "help_links": [
    {
     "text": "GNU Octave",
     "url": "https://www.gnu.org/software/octave/support.html"
    },
    {
     "text": "Octave Kernel",
     "url": "https://github.com/Calysto/octave_kernel"
    },
    {
     "text": "MetaKernel Magics",
     "url": "https://metakernel.readthedocs.io/en/latest/source/README.html"
    }
   ],
   "mimetype": "text/x-octave",
   "name": "octave",
   "version": "5.2.0"
  },
  "rise": {
   "enable_chalkboard": true
  }
 },
 "nbformat": 4,
 "nbformat_minor": 2
}
